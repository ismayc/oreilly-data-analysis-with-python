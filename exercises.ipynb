{
  "cells": [
    {
      "cell_type": "raw",
      "metadata": {},
      "source": [
        "---\n",
        "title: 'Walkthroughs and Exercises for *Data Analysis in Python*'\n",
        "author: \"Dr. Chester Ismay\"\n",
        "format: html\n",
        "engine: knitr\n",
        "---"
      ]
    },
    {
      "cell_type": "code",
      "metadata": {},
      "source": [
        "import pandas as pd\n",
        "\n",
        "# Display all columns\n",
        "pd.set_option('display.max_columns', None)"
      ],
      "execution_count": null,
      "outputs": []
    },
    {
      "cell_type": "markdown",
      "metadata": {},
      "source": [
        "# Intro: Foundations of Data Analysis with Python\n",
        "\n",
        "## Walkthrough #1: Setting Up the Python Environment\n",
        "\n",
        "If you haven't already installed Python, Jupyter, and the necessary packages, there are instructions on the course repo in the README to do so [here](https://github.com/ismayc/oreilly-data-analysis-with-python/blob/main/README.md). \n",
        "\n",
        "If you aren't able to do this on your machine, you may want to check out [Google Colab](https://colab.research.google.com/). It's a free service that allows you to run Jupyter notebooks in the cloud."
      ]
    },
    {
      "cell_type": "code",
      "metadata": {},
      "source": [
        "import pandas as pd\n",
        "import matplotlib.pyplot as plt\n",
        "import seaborn as sns\n",
        "import plotly.express as px\n",
        "import plotly.graph_objects as go\n",
        "from plotly.subplots import make_subplots\n",
        "\n",
        "# For plotly to load directly in Jupyter notebook\n",
        "import plotly.offline as pyo\n",
        "pyo.init_notebook_mode(connected=True)"
      ],
      "execution_count": null,
      "outputs": []
    },
    {
      "cell_type": "markdown",
      "metadata": {},
      "source": [
        "## Exercise #1: Setting Up the Python Environment\n",
        "\n",
        "By completing this exercise, you will be able to  \n",
        "- Import necessary Python packages  \n",
        "- Check for successful package loading  \n",
        "\n",
        "\n",
        "Follow the instructions above in Walkthrough #1 to check for correct installation \n",
        "of necessary packages. We'll wait a few minutes to make sure as many of you are\n",
        "set up as possible. Please give a thumbs up in the pulse check if you are ready\n",
        "to move on."
      ]
    },
    {
      "cell_type": "markdown",
      "metadata": {},
      "source": [
        "---\n",
        "\n",
        "# Module 1: Data Wrangling with Pandas\n",
        "\n",
        "## Walkthrough #2: Loading and Inspecting Data with Pandas\n",
        "\n",
        "### Import data from a CSV or from an Excel file"
      ]
    },
    {
      "cell_type": "code",
      "metadata": {},
      "source": [
        "# Load the data from a CSV file\n",
        "\n",
        "\n",
        "# Or load the data from an Excel file"
      ],
      "execution_count": null,
      "outputs": []
    },
    {
      "cell_type": "markdown",
      "metadata": {},
      "source": [
        "### Perform an initial exploration of the data"
      ]
    },
    {
      "cell_type": "code",
      "metadata": {},
      "source": [
        "# Display the first few rows of the DataFrame"
      ],
      "execution_count": null,
      "outputs": []
    },
    {
      "cell_type": "code",
      "metadata": {},
      "source": [
        "# Display the information about the DataFrame"
      ],
      "execution_count": null,
      "outputs": []
    },
    {
      "cell_type": "code",
      "metadata": {},
      "source": [
        "# Display summary statistics of the DataFrame"
      ],
      "execution_count": null,
      "outputs": []
    },
    {
      "cell_type": "code",
      "metadata": {},
      "source": [
        "# Check for missing data"
      ],
      "execution_count": null,
      "outputs": []
    },
    {
      "cell_type": "code",
      "metadata": {},
      "source": [
        "# Check data types"
      ],
      "execution_count": null,
      "outputs": []
    },
    {
      "cell_type": "markdown",
      "metadata": {},
      "source": [
        "## Exercise #2: Loading and Inspecting Data with Pandas\n",
        "\n",
        "By completing this exercise, you will be able to use `pandas` to  \n",
        "- Import data from a CSV or from an Excel file   \n",
        "- Perform an initial exploration of the data  "
      ]
    },
    {
      "cell_type": "code",
      "metadata": {},
      "source": [
        "# Load the populations data from an Excel file\n",
        "\n",
        "\n",
        "# Inspection methods for populations DataFrame\n",
        "\n",
        "\n",
        "\n",
        "\n",
        "\n",
        "\n",
        "# Checking for missing data and data types for populations DataFrame\n"
      ],
      "execution_count": null,
      "outputs": []
    },
    {
      "cell_type": "markdown",
      "metadata": {},
      "source": [
        "## Walkthrough #3: Cleaning and Preparing Data with Pandas\n",
        "\n",
        "### Handle missing data\n",
        "\n",
        "#### Remove rows"
      ]
    },
    {
      "cell_type": "code",
      "metadata": {},
      "source": [
        "# Remove rows with any missing values\n"
      ],
      "execution_count": null,
      "outputs": []
    },
    {
      "cell_type": "code",
      "metadata": {},
      "source": [
        "# Remove rows only if all values are missing\n"
      ],
      "execution_count": null,
      "outputs": []
    },
    {
      "cell_type": "code",
      "metadata": {},
      "source": [
        "# Remove rows with missing values in specific columns\n"
      ],
      "execution_count": null,
      "outputs": []
    },
    {
      "cell_type": "markdown",
      "metadata": {},
      "source": [
        "#### Remove columns"
      ]
    },
    {
      "cell_type": "code",
      "metadata": {},
      "source": [
        "# Remove columns with any missing values\n",
        "\n",
        "\n",
        "# Display the DataFrame after removing columns with missing values"
      ],
      "execution_count": null,
      "outputs": []
    },
    {
      "cell_type": "markdown",
      "metadata": {},
      "source": [
        "#### Replace missing values with specific value"
      ]
    },
    {
      "cell_type": "code",
      "metadata": {},
      "source": [
        "# Replace missing values with a specific value (e.g., 0 for numerical columns, 'Unknown' for categorical columns)\n",
        "\n",
        "\n",
        "\n",
        "\n",
        "\n",
        "\n",
        "\n",
        "\n",
        "\n",
        "\n",
        "\n",
        "# Display the DataFrame after replacing missing values with specific values"
      ],
      "execution_count": null,
      "outputs": []
    },
    {
      "cell_type": "markdown",
      "metadata": {},
      "source": [
        "This can be extended to replace missing values with the mean, median, or mode of the column too, but that's beyond the scope of this course.\n",
        "\n",
        "### Convert a column to a different data type"
      ]
    },
    {
      "cell_type": "code",
      "metadata": {},
      "source": [
        "# Change year to be a string instead of an integer\n",
        "\n",
        "\n",
        "# Display the information on the DataFrame with year as a string"
      ],
      "execution_count": null,
      "outputs": []
    },
    {
      "cell_type": "code",
      "metadata": {},
      "source": [
        "# Change the year of string type back to integer\n",
        "\n",
        "\n",
        "# Display the information on the DataFrame with year as a string"
      ],
      "execution_count": null,
      "outputs": []
    },
    {
      "cell_type": "markdown",
      "metadata": {},
      "source": [
        "### Rename a column"
      ]
    },
    {
      "cell_type": "code",
      "metadata": {},
      "source": [
        "# Rename the 'income_group' column to 'income_category'\n"
      ],
      "execution_count": null,
      "outputs": []
    },
    {
      "cell_type": "markdown",
      "metadata": {},
      "source": [
        "### Changing a DataFrame’s index\n",
        "\n",
        "#### Set the index"
      ]
    },
    {
      "cell_type": "code",
      "metadata": {},
      "source": [
        "# Set unique combinations of 'code' and 'year' as the index\n"
      ],
      "execution_count": null,
      "outputs": []
    },
    {
      "cell_type": "markdown",
      "metadata": {},
      "source": [
        "#### Reset the index"
      ]
    },
    {
      "cell_type": "code",
      "metadata": {},
      "source": [
        "# Reset the index\n"
      ],
      "execution_count": null,
      "outputs": []
    },
    {
      "cell_type": "markdown",
      "metadata": {},
      "source": [
        "### Filtering rows based on conditions\n",
        "\n",
        "#### Conditions on a single column"
      ]
    },
    {
      "cell_type": "code",
      "metadata": {},
      "source": [
        "# Filter rows where 'gdp_percapita' is greater than 20,000\n"
      ],
      "execution_count": null,
      "outputs": []
    },
    {
      "cell_type": "code",
      "metadata": {},
      "source": [
        "# Filter rows where 'income_group' is 'High income'\n"
      ],
      "execution_count": null,
      "outputs": []
    },
    {
      "cell_type": "code",
      "metadata": {},
      "source": [
        "# Filter rows where total_investment is not NaN\n"
      ],
      "execution_count": null,
      "outputs": []
    },
    {
      "cell_type": "markdown",
      "metadata": {},
      "source": [
        "#### Conditions on multiple columns"
      ]
    },
    {
      "cell_type": "code",
      "metadata": {},
      "source": [
        "# Filter rows where inflation_rate is less than 0 and income_group is 'Low income'\n"
      ],
      "execution_count": null,
      "outputs": []
    },
    {
      "cell_type": "code",
      "metadata": {},
      "source": [
        "# Filter rows where gdp_percapita is greater than 40,000 and year is less than or equal to 2016\n"
      ],
      "execution_count": null,
      "outputs": []
    },
    {
      "cell_type": "markdown",
      "metadata": {},
      "source": [
        "## Exercise #3: Cleaning and Preparing Data with Pandas\n",
        "\n",
        "By completing this exercise, you will be able to use `pandas` to  \n",
        "- Handle missing data  \n",
        "- Convert a column to a different data type   \n",
        "- Rename a column  \n",
        "- Change a DataFrame’s index  \n",
        "- Filter a DataFrame  \n",
        "\n",
        "### Handle Missing Data\n",
        "\n",
        "#### Remove rows"
      ]
    },
    {
      "cell_type": "code",
      "metadata": {},
      "source": [
        "# Remove rows with any missing values"
      ],
      "execution_count": null,
      "outputs": []
    },
    {
      "cell_type": "code",
      "metadata": {},
      "source": [
        "# Remove rows only if all values are missing"
      ],
      "execution_count": null,
      "outputs": []
    },
    {
      "cell_type": "code",
      "metadata": {},
      "source": [
        "# Remove rows with missing values in specific columns"
      ],
      "execution_count": null,
      "outputs": []
    },
    {
      "cell_type": "markdown",
      "metadata": {},
      "source": [
        "#### Remove columns"
      ]
    },
    {
      "cell_type": "code",
      "metadata": {},
      "source": [
        "# Remove columns with any missing values"
      ],
      "execution_count": null,
      "outputs": []
    },
    {
      "cell_type": "markdown",
      "metadata": {},
      "source": [
        "#### Replace missing values with specific value"
      ]
    },
    {
      "cell_type": "code",
      "metadata": {},
      "source": [
        "# Replace missing values with a specific value (e.g., 0 for numerical columns, \n",
        "# 'Unknown' for categorical columns)\n"
      ],
      "execution_count": null,
      "outputs": []
    },
    {
      "cell_type": "markdown",
      "metadata": {},
      "source": [
        "### Convert a Column to a Different Data Type and Rename a Column\n",
        "\n",
        "#### Convert a Column to a Different Data Type"
      ]
    },
    {
      "cell_type": "code",
      "metadata": {},
      "source": [
        "# Convert the 'year' column to string type"
      ],
      "execution_count": null,
      "outputs": []
    },
    {
      "cell_type": "code",
      "metadata": {},
      "source": [
        "# Convert it back to integer"
      ],
      "execution_count": null,
      "outputs": []
    },
    {
      "cell_type": "markdown",
      "metadata": {},
      "source": [
        "#### Rename a Column"
      ]
    },
    {
      "cell_type": "code",
      "metadata": {},
      "source": [
        "# Rename the 'fertility_rate' column to 'fertility'\n"
      ],
      "execution_count": null,
      "outputs": []
    },
    {
      "cell_type": "markdown",
      "metadata": {},
      "source": [
        "### Change a DataFrame’s Index and Filter a DataFrame\n",
        "\n",
        "#### Change a DataFrame’s Index"
      ]
    },
    {
      "cell_type": "code",
      "metadata": {},
      "source": [
        "# Set the 'country_code' column as the index\n"
      ],
      "execution_count": null,
      "outputs": []
    },
    {
      "cell_type": "markdown",
      "metadata": {},
      "source": [
        "#### Filter a DataFrame"
      ]
    },
    {
      "cell_type": "code",
      "metadata": {},
      "source": [
        "# Filter the DataFrame to include only rows where the 'continent' is 'Asia'\n"
      ],
      "execution_count": null,
      "outputs": []
    },
    {
      "cell_type": "code",
      "metadata": {},
      "source": [
        "# Filter the DataFrame to include only rows where the 'year' is 2020\n"
      ],
      "execution_count": null,
      "outputs": []
    },
    {
      "cell_type": "code",
      "metadata": {},
      "source": [
        "# Filter the DataFrame to include only rows where the 'fertility_rate' is greater than 2\n"
      ],
      "execution_count": null,
      "outputs": []
    },
    {
      "cell_type": "markdown",
      "metadata": {},
      "source": [
        "## Walkthrough #4: Transforming and Aggregating Data with Pandas\n",
        "\n",
        "### Grouping data"
      ]
    },
    {
      "cell_type": "markdown",
      "metadata": {},
      "source": [
        "### Applying Functions\n",
        "\n",
        "#### Applying a function element-wise with `map()`"
      ]
    },
    {
      "cell_type": "code",
      "metadata": {},
      "source": [
        "# Convert income_group to uppercase using map()\n"
      ],
      "execution_count": null,
      "outputs": []
    },
    {
      "cell_type": "markdown",
      "metadata": {},
      "source": [
        "#### Applying a function across columns with `apply()`"
      ]
    },
    {
      "cell_type": "code",
      "metadata": {},
      "source": [
        "# Calculate percentage change in gdp_percapita across rows for 2015 to 2020\n",
        "# Filter rows for the years 2015 and 2020\n",
        "\n",
        "\n",
        "# Calculate percentage change in gdp_percapita across columns for 2015 to 2020\n",
        "\n",
        "\n",
        "\n",
        "# Reset the index of the result to align it with the original DataFrame\n",
        "\n",
        "\n",
        "# Assign the calculated percentage change back to the DataFrame"
      ],
      "execution_count": null,
      "outputs": []
    },
    {
      "cell_type": "markdown",
      "metadata": {},
      "source": [
        "#### Applying a Function to Groups with `groupby()` and `agg()`"
      ]
    },
    {
      "cell_type": "code",
      "metadata": {},
      "source": [
        "# Calculate the median gdp_percapita and inflation_rate for each income_group\n"
      ],
      "execution_count": null,
      "outputs": []
    },
    {
      "cell_type": "markdown",
      "metadata": {},
      "source": [
        "### Summary tables"
      ]
    },
    {
      "cell_type": "code",
      "metadata": {},
      "source": [
        "# Create a pivot table of gdp_percapita and inflation_rate by income_group and year\n"
      ],
      "execution_count": null,
      "outputs": []
    },
    {
      "cell_type": "markdown",
      "metadata": {},
      "source": [
        "### Analyzing categorical data \n",
        "\n",
        "#### Using cross-tabulation"
      ]
    },
    {
      "cell_type": "code",
      "metadata": {},
      "source": [
        "# Show counts of income_group by year\n"
      ],
      "execution_count": null,
      "outputs": []
    },
    {
      "cell_type": "markdown",
      "metadata": {},
      "source": [
        "#### By getting group counts"
      ]
    },
    {
      "cell_type": "code",
      "metadata": {},
      "source": [
        "# Count the occurrences of each income_group\n"
      ],
      "execution_count": null,
      "outputs": []
    },
    {
      "cell_type": "markdown",
      "metadata": {},
      "source": [
        "## Exercise #4: Transforming and Aggregating Data with Pandas\n",
        "\n",
        "By completing this exercise, you will be able to use `pandas` to\n",
        "- Aggregate data effectively by grouping it  \n",
        "- Transform data by applying functions element-wise, across rows/columns, or to groups  \n",
        "- Create summary tables  \n",
        "- Analyze categorical data using cross-tabulation and counts  \n",
        "\n",
        "\n",
        "### Grouping Data"
      ]
    },
    {
      "cell_type": "code",
      "metadata": {},
      "source": [
        "# Group data by continent and calculate the mean life expectancy\n"
      ],
      "execution_count": null,
      "outputs": []
    },
    {
      "cell_type": "markdown",
      "metadata": {},
      "source": [
        "### Applying Functions\n",
        "\n",
        "#### Applying a function element-wise with `map()`"
      ]
    },
    {
      "cell_type": "code",
      "metadata": {},
      "source": [
        "# Convert continent to uppercase using map()\n"
      ],
      "execution_count": null,
      "outputs": []
    },
    {
      "cell_type": "markdown",
      "metadata": {},
      "source": [
        "#### Applying a function across columns with `apply()`"
      ]
    },
    {
      "cell_type": "code",
      "metadata": {},
      "source": [
        "# Filter rows for the years 2015 and 2020\n",
        "\n",
        "\n",
        "# Calculate percentage change in population size across columns for 2015 to 2020\n",
        "\n",
        "\n",
        "# Reset the index of the result to align it with the original DataFrame\n",
        "\n",
        "\n",
        "# Assign the calculated percentage change back to the DataFrame\n"
      ],
      "execution_count": null,
      "outputs": []
    },
    {
      "cell_type": "markdown",
      "metadata": {},
      "source": [
        "#### Applying a function to groups with `groupby()` and `agg()`"
      ]
    },
    {
      "cell_type": "code",
      "metadata": {},
      "source": [
        "# Calculate the median fertility rate and life expectancy for each continent\n"
      ],
      "execution_count": null,
      "outputs": []
    },
    {
      "cell_type": "markdown",
      "metadata": {},
      "source": [
        "### Summary Tables"
      ]
    },
    {
      "cell_type": "code",
      "metadata": {},
      "source": [
        "# Create a pivot table of fertility rate and life expectancy by continent and year\n"
      ],
      "execution_count": null,
      "outputs": []
    },
    {
      "cell_type": "markdown",
      "metadata": {},
      "source": [
        "### Analyzing Categorical Data\n",
        "\n",
        "#### Using Cross-Tabulation"
      ]
    },
    {
      "cell_type": "code",
      "metadata": {},
      "source": [
        "# Create a cross-tabulation of continent and year\n"
      ],
      "execution_count": null,
      "outputs": []
    },
    {
      "cell_type": "markdown",
      "metadata": {},
      "source": [
        "#### By Getting Group Counts"
      ]
    },
    {
      "cell_type": "code",
      "metadata": {},
      "source": [
        "# Count the occurrences of each region\n"
      ],
      "execution_count": null,
      "outputs": []
    },
    {
      "cell_type": "raw",
      "metadata": {},
      "source": [
        "---"
      ]
    },
    {
      "cell_type": "markdown",
      "metadata": {},
      "source": [
        "# Module 2: Data Visualization Basics with Matplotlib and Seaborn\n",
        "\n",
        "## Walkthrough #5: Creating Basic Plots with Matplotlib\n",
        "\n",
        "### Line plot"
      ]
    },
    {
      "cell_type": "code",
      "metadata": {},
      "source": [
        "# Filter data for a specific country\n"
      ],
      "execution_count": null,
      "outputs": []
    },
    {
      "cell_type": "markdown",
      "metadata": {},
      "source": [
        "### Bar chart"
      ]
    },
    {
      "cell_type": "code",
      "metadata": {},
      "source": [
        "# Filter data for Caribbean countries and the year 2020\n",
        "\n",
        "\n",
        "\n",
        "\n",
        "# Bar chart of gdp_percapita for different Caribbean countries in 2020\n"
      ],
      "execution_count": null,
      "outputs": []
    },
    {
      "cell_type": "markdown",
      "metadata": {},
      "source": [
        "### Adding labels and titles"
      ]
    },
    {
      "cell_type": "code",
      "metadata": {},
      "source": [
        "# Filter data for a specific country\n",
        "\n",
        "\n",
        "# Line plot of gdp_percapita over the years with labels and titles\n"
      ],
      "execution_count": null,
      "outputs": []
    },
    {
      "cell_type": "markdown",
      "metadata": {},
      "source": [
        "### Adjusting axes and tick marks"
      ]
    },
    {
      "cell_type": "code",
      "metadata": {},
      "source": [
        "# Bar chart of gdp_percapita for different Caribbean countries in 2020 with \n",
        "# adjusted axes and tick marks\n",
        "\n",
        "\n",
        "\n",
        "\n",
        "\n",
        "\n",
        "# Adjust axes\n",
        "\n",
        "\n",
        "\n",
        "# Adjust tick marks\n"
      ],
      "execution_count": null,
      "outputs": []
    },
    {
      "cell_type": "markdown",
      "metadata": {},
      "source": [
        "## Exercise #5: Creating Basic Plots with Matplotlib\n",
        "\n",
        "By completing this exercise, you will be able to use `matplotlib` to  \n",
        "- Create line plots and bar charts  \n",
        "- Add labels and titles  \n",
        "- Adjust axes and tick marks  \n",
        "\n",
        "### Line Plot"
      ]
    },
    {
      "cell_type": "code",
      "metadata": {},
      "source": [
        "# Filter data for India\n",
        "\n",
        "\n",
        "# Line plot of fertility rate over the years\n"
      ],
      "execution_count": null,
      "outputs": []
    },
    {
      "cell_type": "markdown",
      "metadata": {},
      "source": [
        "### Bar Chart"
      ]
    },
    {
      "cell_type": "code",
      "metadata": {},
      "source": [
        "# Filter data for selected Asian countries and the year 2020\n",
        "\n",
        "\n",
        "\n",
        "\n",
        "# Bar chart of population size for selected Asian countries in 2020\n"
      ],
      "execution_count": null,
      "outputs": []
    },
    {
      "cell_type": "markdown",
      "metadata": {},
      "source": [
        "### Adding Labels and Titles"
      ]
    },
    {
      "cell_type": "code",
      "metadata": {},
      "source": [
        "# Filter data for Nigeria\n",
        "\n",
        "\n",
        "# Line plot of life expectancy over the years with labels and titles\n"
      ],
      "execution_count": null,
      "outputs": []
    },
    {
      "cell_type": "markdown",
      "metadata": {},
      "source": [
        "### Adjusting Axes and Tick Marks"
      ]
    },
    {
      "cell_type": "code",
      "metadata": {},
      "source": [
        "# Filter data for selected African countries ('NGA', 'ETH', 'EGY', 'ZAF', 'DZA')\n",
        "# and the year 2020\n",
        "\n",
        "\n",
        "# Need to convert year back to an integer?\n",
        "\n",
        "\n",
        "\n",
        "\n",
        "# Bar chart of fertility rate for selected African countries in 2020 with \n",
        "# adjusted axes and tick marks\n",
        "\n",
        "\n",
        "\n",
        "\n",
        "\n",
        "\n",
        "\n",
        "# Adjust axes\n",
        "\n",
        "\n",
        "# Adjust tick marks\n"
      ],
      "execution_count": null,
      "outputs": []
    },
    {
      "cell_type": "markdown",
      "metadata": {},
      "source": [
        "## Walkthrough #6: Data Visualization Techniques with Seaborn\n",
        "\n",
        "### Heatmap"
      ]
    },
    {
      "cell_type": "code",
      "metadata": {},
      "source": [
        "# Select only the numeric columns\n",
        "\n",
        "\n",
        "\n",
        "# Calculate correlation matrix\n",
        "\n",
        "\n",
        "# Create heatmap\n"
      ],
      "execution_count": null,
      "outputs": []
    },
    {
      "cell_type": "markdown",
      "metadata": {},
      "source": [
        "### Pair plot"
      ]
    },
    {
      "cell_type": "markdown",
      "metadata": {},
      "source": [
        "### Violin plot"
      ]
    },
    {
      "cell_type": "markdown",
      "metadata": {},
      "source": [
        "### Customizing Seaborn plots"
      ]
    },
    {
      "cell_type": "code",
      "metadata": {},
      "source": [
        "# Bar plot with customization\n",
        "\n",
        "\n",
        "\n",
        "\n",
        "\n",
        "\n",
        "# Customizing axes and tick marks\n"
      ],
      "execution_count": null,
      "outputs": []
    },
    {
      "cell_type": "markdown",
      "metadata": {},
      "source": [
        "## Exercise #6: Data Visualization Techniques with Seaborn\n",
        "\n",
        "By completing this exercise, you will be able to use `seaborn` to  \n",
        "- Create heatmaps  \n",
        "- Design pair plots and violin plots  \n",
        "- Customize Seaborn plots  \n",
        "\n",
        "### Heatmap"
      ]
    },
    {
      "cell_type": "code",
      "metadata": {},
      "source": [
        "# Select only the numeric columns\n",
        "\n",
        "\n",
        "\n",
        "# Calculate correlation matrix\n",
        "\n",
        "\n",
        "# Create heatmap\n"
      ],
      "execution_count": null,
      "outputs": []
    },
    {
      "cell_type": "markdown",
      "metadata": {},
      "source": [
        "### Pair Plot"
      ]
    },
    {
      "cell_type": "code",
      "metadata": {},
      "source": [
        "# Pair plot of fertility rate, life expectancy, and population size\n"
      ],
      "execution_count": null,
      "outputs": []
    },
    {
      "cell_type": "markdown",
      "metadata": {},
      "source": [
        "### Violin Plot"
      ]
    },
    {
      "cell_type": "code",
      "metadata": {},
      "source": [
        "# Violin plot of fertility rate by continent\n"
      ],
      "execution_count": null,
      "outputs": []
    },
    {
      "cell_type": "markdown",
      "metadata": {},
      "source": [
        "### Customizing Seaborn Plots"
      ]
    },
    {
      "cell_type": "code",
      "metadata": {},
      "source": [
        "# Filter data for selected European countries ('DEU', 'FRA', 'ITA', 'ESP', 'GBR')\n",
        "# and the year 2020\n",
        "\n",
        "\n",
        "\n",
        "# Bar plot with customization\n",
        "\n",
        "\n",
        "\n",
        "\n",
        "\n",
        "\n",
        "# Customizing axes and tick marks\n"
      ],
      "execution_count": null,
      "outputs": []
    },
    {
      "cell_type": "markdown",
      "metadata": {},
      "source": [
        "---\n",
        "\n",
        "# Module 3: Interactive Data Visualization with Plotly\n",
        "\n",
        "## Walkthrough #7: Interactive Charts and Dashboards with Plotly\n",
        "\n",
        "### Basic interactive chart"
      ]
    },
    {
      "cell_type": "code",
      "metadata": {},
      "source": [
        "# Filter data for a specific country\n",
        "\n",
        "\n",
        "# Create an interactive line chart\n"
      ],
      "execution_count": null,
      "outputs": []
    },
    {
      "cell_type": "markdown",
      "metadata": {},
      "source": [
        "### Adding interactive elements"
      ]
    },
    {
      "cell_type": "code",
      "metadata": {},
      "source": [
        "# Create an interactive scatter plot\n",
        "\n",
        "\n",
        "\n",
        "\n",
        "\n",
        "\n",
        "# Add hover, zoom, and selection tools\n"
      ],
      "execution_count": null,
      "outputs": []
    },
    {
      "cell_type": "markdown",
      "metadata": {},
      "source": [
        "### Designing a simple dashboard"
      ]
    },
    {
      "cell_type": "code",
      "metadata": {},
      "source": [
        "# Filter data for the year 2020\n",
        "\n",
        "\n",
        "# Create a subplot figure with 1 row and 2 columns\n",
        "\n",
        "\n",
        "\n",
        "\n",
        "\n",
        "# Line chart of GDP Per Capita for Afghanistan\n",
        "\n",
        "\n",
        "\n",
        "\n",
        "# Bar chart of GDP Per Capita for different countries in 2020\n",
        "\n",
        "\n",
        "\n",
        "\n",
        "# Update layout\n"
      ],
      "execution_count": null,
      "outputs": []
    },
    {
      "cell_type": "markdown",
      "metadata": {},
      "source": [
        "## Exercise #7: Interactive Charts and Dashboards with Plotly\n",
        "\n",
        "By completing this exercise, you will be able to use `plotly` to  \n",
        "- Create a basic interactive chart  \n",
        "- Add interactive elements: hover, zoom, and selection tools  \n",
        "- Design a simple dashboard with multiple charts  \n",
        "\n",
        "### Basic Interactive Chart"
      ]
    },
    {
      "cell_type": "code",
      "metadata": {},
      "source": [
        "# Filter data for a specific country (Brazil)\n",
        "\n",
        "# Create an interactive line chart (Fertility Rate Over Years)\n"
      ],
      "execution_count": null,
      "outputs": []
    },
    {
      "cell_type": "markdown",
      "metadata": {},
      "source": [
        "### Adding Interactive Elements"
      ]
    },
    {
      "cell_type": "code",
      "metadata": {},
      "source": [
        "# Create an interactive scatter plot\n",
        "\n",
        "\n",
        "\n",
        "\n",
        "# Add hover, zoom, and selection tools\n"
      ],
      "execution_count": null,
      "outputs": []
    },
    {
      "cell_type": "markdown",
      "metadata": {},
      "source": [
        "### Designing a Simple Dashboard"
      ]
    },
    {
      "cell_type": "code",
      "metadata": {},
      "source": [
        "# Filter data for the year 2020\n",
        "\n",
        "# Create a subplot figure with 1 row and 2 columns\n",
        "\n",
        "\n",
        "\n",
        "# Line chart of Life Expectancy for Brazil\n",
        "\n",
        "\n",
        "\n",
        "\n",
        "# Bar chart of Life Expectancy for South American countries in 2020\n",
        "\n",
        "\n",
        "\n",
        "\n",
        "# Update layout to add a title and hide the legend\n"
      ],
      "execution_count": null,
      "outputs": []
    },
    {
      "cell_type": "markdown",
      "metadata": {},
      "source": [
        "## Walkthrough #8: Creating a Dynamic Data Report\n",
        "\n",
        "### Selecting relevant data"
      ]
    },
    {
      "cell_type": "code",
      "metadata": {},
      "source": [
        "# Select relevant data for the year 2020 and specific columns\n",
        "selected_data = economies[economies['year'] == 2020][['code', 'gdp_percapita', 'gross_savings', 'inflation_rate', 'income_group']]\n",
        "selected_data.head()"
      ],
      "execution_count": null,
      "outputs": []
    },
    {
      "cell_type": "markdown",
      "metadata": {},
      "source": [
        "### Building a dynamic report"
      ]
    },
    {
      "cell_type": "code",
      "metadata": {},
      "source": [
        "# Create a subplot figure with 3 rows\n",
        "fig = make_subplots(rows=3, cols=1, \n",
        "                    subplot_titles=('GDP Per Capita vs. Gross Savings', \n",
        "                                    'GDP Per Capita by Country and Income Group', \n",
        "                                    'Gross Savings by Country and Income Group'))\n",
        "\n",
        "# Add scatter plot\n",
        "fig.add_trace(go.Scatter(x=selected_data['gdp_percapita'], y=selected_data['gross_savings'], \n",
        "                         mode='markers', \n",
        "                         marker=dict(color=selected_data['income_group'].astype('category').cat.codes), \n",
        "                         text=selected_data['code'], name='Scatter'), \n",
        "              row=1, col=1)\n",
        "\n",
        "# Add bar chart\n",
        "fig.add_trace(go.Bar(x=selected_data['code'], y=selected_data['gdp_percapita'], \n",
        "                     marker=dict(color=selected_data['income_group'].astype('category').cat.codes), name='Bar'), \n",
        "              row=2, col=1)\n",
        "\n",
        "# Add another scatter plot\n",
        "fig.add_trace(go.Scatter(x=selected_data['code'], y=selected_data['gross_savings'], \n",
        "                         mode='markers', \n",
        "                         marker=dict(color=selected_data['income_group'].astype('category').cat.codes), text=selected_data['code'], name='Scatter'), \n",
        "              row=3, col=1)\n",
        "\n",
        "# Update layout\n",
        "fig.update_layout(title_text='Dynamic Data Report for Economic Indicators (2020)', showlegend=False, height=900)\n",
        "\n",
        "fig.show()"
      ],
      "execution_count": null,
      "outputs": []
    },
    {
      "cell_type": "markdown",
      "metadata": {},
      "source": [
        "### Adding contextual text and summaries"
      ]
    },
    {
      "cell_type": "code",
      "metadata": {},
      "source": [
        "import plotly.io as pio\n",
        "import plotly.graph_objects as go\n",
        "\n",
        "# Create a subplot figure with 3 rows\n",
        "fig = make_subplots(rows=3, cols=1, \n",
        "                    subplot_titles=('GDP Per Capita vs. Gross Savings', \n",
        "                                    'GDP Per Capita by Country and Income Group', \n",
        "                                    'Gross Savings by Country and Income Group'))\n",
        "\n",
        "# Add scatter plot\n",
        "fig.add_trace(go.Scatter(x=selected_data['gdp_percapita'], y=selected_data['gross_savings'], \n",
        "                         mode='markers', \n",
        "                         marker=dict(color=selected_data['income_group'].astype('category').cat.codes), \n",
        "                         text=selected_data['code'], name='Scatter'), \n",
        "              row=1, col=1)\n",
        "\n",
        "# Add bar chart\n",
        "fig.add_trace(go.Bar(x=selected_data['code'], y=selected_data['gdp_percapita'], \n",
        "                     marker=dict(color=selected_data['income_group'].astype('category').cat.codes), name='Bar'), \n",
        "              row=2, col=1)\n",
        "\n",
        "# Add another scatter plot\n",
        "fig.add_trace(go.Scatter(x=selected_data['code'], y=selected_data['gross_savings'], \n",
        "                         mode='markers', \n",
        "                         marker=dict(color=selected_data['income_group'].astype('category').cat.codes), \n",
        "                         text=selected_data['code'], name='Scatter'), \n",
        "              row=3, col=1)\n",
        "\n",
        "# Update layout\n",
        "fig.update_layout(\n",
        "    title_text='Dynamic Data Report for Economic Indicators (2020)', \n",
        "    showlegend=False, \n",
        "    height=900,\n",
        "    annotations=[\n",
        "        go.layout.Annotation(\n",
        "            text='''This report presents key economic indicators for various countries in 2020, categorized by income group. ''', \n",
        "            xref='paper', yref='paper', x=0.5, y=1, showarrow=False, font=dict(size=14)\n",
        "        )\n",
        "    ]\n",
        ")\n",
        "\n",
        "# Add summaries below each subplot\n",
        "fig.add_annotation(text='The scatter plot reveals a positive correlation between GDP per Capita and Gross Savings, especially for high-income countries.', xref='paper', yref='paper', x=0, y=0.75, showarrow=False, font=dict(size=12))\n",
        "fig.add_annotation(text='The bar chart shows that high-income countries generally have higher GDP per Capita compared to low-income countries.', xref='paper', yref='paper', x=0, y=0.30, showarrow=False, font=dict(size=12))\n",
        "fig.add_annotation(text='The scatter plot indicates no clear relationship between income group and gross savings.', xref='paper', yref='paper', x=0, y=-0.1, showarrow=False, font=dict(size=12))\n",
        "\n",
        "fig.show()"
      ],
      "execution_count": null,
      "outputs": []
    },
    {
      "cell_type": "markdown",
      "metadata": {},
      "source": [
        "## Exercise #8: Creating a Dynamic Data Report\n",
        "\n",
        "By completing this exercise, you will be able to use `pandas` and `plotly` to  \n",
        "- Select relevant data  \n",
        "- Build a dynamic report  \n",
        "- Add contextual text and summaries  \n",
        "\n",
        "### Selecting Relevant Data"
      ]
    },
    {
      "cell_type": "code",
      "metadata": {},
      "source": [
        "# Select relevant data for the year 2020 and specific columns (country_code, fertility_rate, life_expectancy, continent)\n"
      ],
      "execution_count": null,
      "outputs": []
    },
    {
      "cell_type": "markdown",
      "metadata": {},
      "source": [
        "### Building a Dynamic Report"
      ]
    },
    {
      "cell_type": "code",
      "metadata": {},
      "source": [
        "import plotly.express as px\n",
        "import plotly.graph_objects as go\n",
        "from plotly.subplots import make_subplots\n",
        "\n",
        "# Create a subplot figure with 3 rows and subplot titles\n",
        "\n",
        "\n",
        "\n",
        "\n",
        "\n",
        "# Adding a scatter plot trace to the figure\n",
        "# - x-axis: 'fertility_rate' from the selected population data\n",
        "# - y-axis: 'life_expectancy' from the selected population data\n",
        "# - mode: 'markers' to display points\n",
        "# - marker color: based on the 'continent' category codes, to differentiate points by continent\n",
        "# - text: 'country_code' to show country codes on hover\n",
        "# - name: 'Scatter' to label this trace\n",
        "# The trace is added to the first row and first column of the subplot grid\n",
        "\n",
        "\n",
        "\n",
        "\n",
        "\n",
        "# Adding a bar chart trace to the figure\n",
        "# - x-axis: 'country_code' from the selected population data\n",
        "# - y-axis: 'fertility_rate' from the selected population data\n",
        "# - marker color: based on the 'continent' category codes, to differentiate bars by continent\n",
        "# - name: 'Bar' to label this trace\n",
        "# The trace is added to the second row and first column of the subplot grid\n",
        "\n",
        "\n",
        "\n",
        "\n",
        "\n",
        "# Adding a scatter plot trace to the figure\n",
        "# - x-axis: 'country_code' from the selected population data\n",
        "# - y-axis: 'life_expectancy' from the selected population data\n",
        "# - mode: 'markers' to display points\n",
        "# - marker color: based on the 'continent' category codes, to differentiate points by continent\n",
        "# - name: 'Scatter' to label this trace\n",
        "# The trace is added to the third row and first column of the subplot grid\n",
        "\n",
        "\n",
        "\n",
        "\n",
        "\n",
        "# Update layout to include title, hide legend, and set height to 900\n"
      ],
      "execution_count": null,
      "outputs": []
    },
    {
      "cell_type": "markdown",
      "metadata": {},
      "source": [
        "### Adding Contextual Text and Summaries"
      ]
    },
    {
      "cell_type": "code",
      "metadata": {},
      "source": [
        "# Copy over plot creation code from previous\n",
        "\n",
        "# Updating the layout of the figure\n",
        "# - Setting the title text of the entire figure\n",
        "# - Disabling the legend display\n",
        "# - Setting the height of the figure to 900 pixels\n",
        "# - Adding an annotation to provide additional information about the report\n",
        "#   - Annotation text: A brief description of the report content\n",
        "#   - xref and yref: Setting the reference frame to 'paper' coordinates (relative to the entire figure)\n",
        "#   - x and y: Positioning the annotation at the center top of the figure\n",
        "#   - showarrow: Disabling the arrow for the annotation\n",
        "#   - font: Setting the font size of the annotation text\n",
        "\n",
        "\n",
        "\n",
        "\n",
        "# Add summaries below each subplot\n",
        "# Add summaries below each subplot\n",
        "fig.add_annotation(text='A negative correlation between Fertility Rate and Life Expectancy.', xref='paper', yref='paper', x=0, y=0.75, showarrow=False, font=dict(size=12))\n",
        "fig.add_annotation(text='Fertility rates vary significantly across countries, with African countries generally exhibiting higher fertility rates.', xref='paper', yref='paper', x=0, y=0.30, showarrow=False, font=dict(size=12))\n",
        "fig.add_annotation(text='Life expectancy varies across countries and continents, with European tending to have higher life expectancies.', xref='paper', yref='paper', x=0, y=-0.1, showarrow=False, font=dict(size=12))\n",
        "\n",
        "fig.show()"
      ],
      "execution_count": null,
      "outputs": []
    },
    {
      "cell_type": "raw",
      "metadata": {},
      "source": [
        "---"
      ]
    },
    {
      "cell_type": "markdown",
      "metadata": {},
      "source": [
        "# Module 4: Real-World Data Analysis Project\n",
        "\n",
        "## Walkthrough #9: Interactive Charts and Dashboards with Plotly\n",
        "\n",
        "### Selecting a Dataset\n",
        "\n",
        "#### Questions to Ask:\n",
        "1. **What industry problem or area of interest does the dataset align with?**\n",
        "   - Is the dataset relevant to economic analysis, market research, policy planning, or another industry?\n",
        "2. **Does the dataset provide sufficient complexity and scope for a thorough analysis?**\n",
        "   - Does it include multiple variables and data points across different time periods and categories (e.g., income groups, countries)?\n",
        "3. **What specific questions or hypotheses do we want to explore with this dataset?**\n",
        "   - Are we interested in comparing economic indicators across countries, understanding the impact of GDP per capita on other variables, or identifying trends over time?\n",
        "\n",
        "#### Example:\n",
        "- **Dataset**: The `economies` dataset.\n",
        "- **Industry Problem**: Understanding economic disparities between countries and the impact of economic indicators on overall economic health.\n",
        "- **Specific Questions**:\n",
        "  - How do GDP per capita and gross savings vary across different income groups?\n",
        "  - How has the inflation rate changed over time for specified income groups?\n",
        "\n",
        "### Applying Cleaning, Transforming, and Analysis Techniques\n",
        "\n",
        "#### Questions to Ask:\n",
        "1. **What cleaning steps are necessary to prepare the data for analysis?**\n",
        "   - Are there any missing values that need to be handled? Are there any inconsistencies in data types?\n",
        "2. **What transformations are required to make the data analysis-ready?**\n",
        "   - Do we need to create new columns, filter specific rows, or aggregate data by certain categories?\n",
        "3. **How can we analyze the data to uncover patterns, trends, or anomalies?**\n",
        "   - What statistical methods or visualizations can we use to explore relationships between variables?\n",
        "\n",
        "#### Example:\n",
        "- **Cleaning**:"
      ]
    },
    {
      "cell_type": "code",
      "metadata": {},
      "source": [
        "  # Handle missing values\n",
        "  economies_cleaned = economies.fillna({\n",
        "      'gdp_percapita': economies['gdp_percapita'].mean(),\n",
        "      'gross_savings': economies['gross_savings'].mean(),\n",
        "      'inflation_rate': economies['inflation_rate'].mean(),\n",
        "      'total_investment': economies['total_investment'].mean(),\n",
        "      'unemployment_rate': economies['unemployment_rate'].mean(),\n",
        "      'exports': economies['exports'].mean(),\n",
        "      'imports': economies['imports'].mean()\n",
        "  })\n",
        "\n",
        "  # Convert categorical variables to category type\n",
        "  economies_cleaned['income_group'] = economies_cleaned['income_group'].astype('category')\n",
        "  economies_cleaned"
      ],
      "execution_count": null,
      "outputs": []
    },
    {
      "cell_type": "markdown",
      "metadata": {},
      "source": [
        "- **Transforming**:\n"
      ]
    },
    {
      "cell_type": "code",
      "metadata": {},
      "source": [
        "  # Create new columns for analysis\n",
        "  economies_cleaned['gdp_growth'] = economies_cleaned.groupby('code')['gdp_percapita'].pct_change()\n",
        "  economies_cleaned"
      ],
      "execution_count": null,
      "outputs": []
    },
    {
      "cell_type": "markdown",
      "metadata": {},
      "source": [
        "- **Analyzing**:"
      ]
    },
    {
      "cell_type": "code",
      "metadata": {},
      "source": [
        "  import seaborn as sns\n",
        "  import matplotlib.pyplot as plt\n",
        "\n",
        "  plt.clf()\n",
        "\n",
        "  # Analyze the relationship between GDP per capita and gross savings\n",
        "  sns.scatterplot(data=economies_cleaned, x='gdp_percapita', y='gross_savings', hue='income_group')\n",
        "  plt.title('GDP Per Capita vs. Gross Savings by Income Group')\n",
        "  plt.show()\n",
        "  plt.clf()\n",
        "\n",
        "  # Analyze the trend of inflation rate over time for all classified income groups\n",
        "  classified_data = economies_cleaned[economies_cleaned['income_group'] != 'Not classified']\n",
        "  sns.lineplot(data=classified_data, x='year', y='inflation_rate', \n",
        "               hue='income_group', errorbar=None)\n",
        "  plt.title('Inflation Rate Over Time by Specified Income Group')\n",
        "  plt.legend(title='Income Group', labels=classified_data['income_group'].unique())\n",
        "  plt.show()"
      ],
      "execution_count": null,
      "outputs": []
    },
    {
      "cell_type": "markdown",
      "metadata": {},
      "source": [
        "### Initial Findings and Interpretation\n",
        "\n",
        "#### Questions to Ask:\n",
        "1. **What do the initial findings tell us about the data?**\n",
        "   - Are there any notable patterns or trends in the data? Are there any unexpected results?\n",
        "2. **How do these insights relate to the problem defined earlier?**\n",
        "   - Do the findings help us understand economic disparities between countries? Do they provide insights into the impact of certain economic indicators?\n",
        "3. **What hypotheses can we test based on the initial results?**\n",
        "   - Can we test hypotheses about the relationship between GDP per capita and other economic indicators? Can we refine our analysis to explore these hypotheses further?\n",
        "\n",
        "#### Example:\n",
        "- **Initial Findings**:\n",
        "  - **GDP per Capita vs. Gross Savings**: The scatter plot shows that high-income countries generally have higher GDP per capita and gross savings. There seems to be a slight positive correlation between these two indicators.\n",
        "  - **Inflation Rate Over Time**: The line plot indicates that inflation rates vary significantly over time and across different income groups. Low and lower middle income countries tend to experience higher volatility in inflation rates.\n",
        "\n",
        "- **Interpretation**:\n",
        "  - These findings suggest that economic health, as measured by GDP per capita and gross savings, is strongly influenced by the income group of a country. High-income countries appear to have more stable and higher economic performance.\n",
        "  - The volatility in inflation rates among low-income countries may indicate economic instability, which could be a key area for policy intervention.\n",
        "\n",
        "- **Hypotheses**:\n",
        "  - **Hypothesis 1**: High-income countries have a higher average GDP per capita and gross savings compared to low-income countries.\n",
        "  - **Hypothesis 2**: Low-income countries experience greater volatility in inflation rates compared to high-income countries.\n",
        "\n",
        "- **Next Steps**:\n",
        "  - Conduct further analysis to test these hypotheses, using statistical methods to confirm the observed patterns.\n",
        "  - Explore other economic indicators to gain a more comprehensive understanding of economic disparities and trends.\n",
        "\n",
        "By following these steps, you can effectively select, clean, transform, and analyze the `economies` dataset to gain valuable insights and address common industry problems or research questions.\n",
        "\n",
        "\n",
        "## Walkthrough #10: Finalizing and Presenting Your Data Analysis Project\n",
        "\n",
        "### Integrate Feedback to Refine the Analysis\n",
        "\n",
        "#### Questions to Ask:\n",
        "1. **What feedback have you received from peers, stakeholders, or mentors?**\n",
        "   - Is there feedback on the clarity of the analysis, choice of visualizations, or the comprehensiveness of the analysis?\n",
        "2. **How can you incorporate this feedback into your analysis?**\n",
        "   - Are there additional variables that need to be analyzed? Do you need to clean the data further or adjust the visualizations?\n",
        "3. **What new questions or hypotheses have emerged from the feedback?**\n",
        "   - Does the feedback suggest new directions for the analysis or areas that need more focus?\n",
        "\n",
        "#### Example:\n",
        "- **Feedback**:\n",
        "  - Peers suggested that the analysis should also consider the impact of unemployment rates.\n",
        "  - Stakeholders requested more clarity on the relationship between GDP per capita and inflation rates across different income groups.\n",
        "\n",
        "- **Refining the Analysis**:\n",
        "  - Additional data needs to be found to meet the request for more clarity. Or maybe a further drilldown on specific countries would be helpful?\n",
        "  \n",
        "### Finalize the Presentation with Impactful Visuals and Narrative\n",
        "\n",
        "#### Questions to Ask:\n",
        "1. **What are the key insights from the analysis that need to be highlighted?**\n",
        "   - What are the most important findings that should be communicated to the audience?\n",
        "2. **How can you create impactful visuals that clearly convey these insights?**\n",
        "   - What types of charts or visualizations best represent the data and findings?\n",
        "3. **What narrative will you use to guide the audience through the presentation?**\n",
        "   - How will you structure the presentation to tell a compelling story with the data?\n",
        "\n",
        "#### Example:\n",
        "- **Key Insights**:\n",
        "  - High-income countries have higher GDP per capita and gross savings.\n",
        "  - There is a positive correlation between GDP per capita and gross savings.\n",
        "  - Low-income countries experience greater volatility in inflation rates.\n",
        "  - Unemployment rates vary significantly across income groups.\n",
        "\n",
        "- **Impactful Visuals**:"
      ]
    },
    {
      "cell_type": "code",
      "metadata": {},
      "source": [
        "  import plotly.express as px\n",
        "\n",
        "  # Bar chart of GDP per Capita by Country and Income Group\n",
        "  bar_fig = px.bar(economies_cleaned, x='code', y='gdp_percapita', color='income_group',\n",
        "                   title='GDP Per Capita by Country and Income Group (2020)',\n",
        "                   labels={'gdp_percapita': 'GDP Per Capita', 'code': 'Country Code'})\n",
        "  bar_fig.show()\n",
        "\n",
        "  # Scatter plot of GDP per Capita vs. Gross Savings by Income Group\n",
        "  scatter_fig = px.scatter(economies_cleaned, x='gdp_percapita', y='gross_savings', color='income_group',\n",
        "                           hover_name='code', title='GDP Per Capita vs. Gross Savings (2020)',\n",
        "                           labels={'gdp_percapita': 'GDP Per Capita', 'gross_savings': 'Gross Savings (%)'})\n",
        "  scatter_fig.show()\n",
        "\n",
        "  # Scatter plot of GDP per Capita vs. Unemployment Rate by Income Group\n",
        "  scatter_fig_2 = px.scatter(economies_cleaned, x='gdp_percapita', y='unemployment_rate', color='income_group',\n",
        "                             hover_name='code', title='GDP Per Capita vs. Unemployment Rate (2020)',\n",
        "                             labels={'gdp_percapita': 'GDP Per Capita', 'unemployment_rate': 'Unemployment Rate (%)'})\n",
        "  scatter_fig_2.show()"
      ],
      "execution_count": null,
      "outputs": []
    },
    {
      "cell_type": "markdown",
      "metadata": {},
      "source": [
        "- **Narrative**:\n",
        "  - **Introduction**: Introduce the dataset and the industry problem. Explain why understanding economic indicators across different income groups is important.\n",
        "  - **Key Findings**: Present the key findings using the visualizations created. Highlight the relationship between GDP per capita, gross savings, inflation rates, and unemployment rates.\n",
        "  - **Detailed Analysis**: Dive deeper into each key finding, providing more context and interpretation. Explain the significance of the trends and patterns observed in the data.\n",
        "  - **Conclusion**: Summarize the insights and discuss potential implications for policy or business decisions. Suggest areas for further research or analysis based on the findings.\n",
        "\n",
        "### Rehearse the Presentation\n",
        "\n",
        "#### Questions to Ask:\n",
        "1. **How will you structure your presentation to ensure a smooth flow?**\n",
        "   - What order will you present the visualizations and insights? How will you transition between different sections?\n",
        "2. **How will you engage your audience and ensure they understand the key points?**\n",
        "   - What techniques will you use to highlight important information and keep the audience's attention?\n",
        "3. **What potential questions or feedback might you receive, and how will you address them?**\n",
        "   - How will you prepare for questions about the data, analysis methods, or findings?\n",
        "\n",
        "#### Example:\n",
        "- **Structuring the Presentation**:\n",
        "  - Start with an overview of the dataset and the industry problem.\n",
        "  - Move on to the key findings, using the most impactful visualizations to illustrate each point.\n",
        "  - Provide a detailed analysis of each finding, explaining the significance and implications.\n",
        "  - Conclude with a summary of insights and suggestions for further research.\n",
        "\n",
        "- **Engaging the Audience**:\n",
        "  - Use clear and concise language to explain complex concepts.\n",
        "  - Highlight key points using annotations or callouts on the visualizations.\n",
        "  - Encourage questions and interaction to keep the audience engaged.\n",
        "\n",
        "- **Preparing for Questions**:\n",
        "  - Anticipate common questions about the data sources, cleaning methods, and analysis techniques.\n",
        "  - Prepare explanations for any limitations of the data or analysis.\n",
        "  - Be ready to discuss potential next steps and areas for further research based on the findings.\n",
        "\n",
        "By following these steps, you can effectively integrate feedback, finalize your presentation with impactful visuals and narrative, and rehearse to ensure a smooth and engaging delivery.\n"
      ]
    }
  ],
  "metadata": {
    "kernelspec": {
      "name": "python3",
      "language": "python",
      "display_name": "Python 3 (ipykernel)"
    }
  },
  "nbformat": 4,
  "nbformat_minor": 4
}
