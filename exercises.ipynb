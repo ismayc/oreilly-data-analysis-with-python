{
  "cells": [
    {
      "cell_type": "raw",
      "metadata": {},
      "source": [
        "---\n",
        "title: 'Walkthroughs and Exercises for *Data Analysis in Python*'\n",
        "author: \"Dr. Chester Ismay\"\n",
        "format: html\n",
        "engine: knitr\n",
        "---"
      ]
    },
    {
      "cell_type": "markdown",
      "metadata": {},
      "source": [
        "# Intro: Foundations of Data Analysis with Python\n",
        "\n",
        "## Walkthrough #1: Setting Up the Python Environment\n",
        "\n",
        "If you haven't already installed Python, Jupyter, and the necessary packages, there are instructions on the course repo in the README to do so [here](https://github.com/ismayc/oreilly-data-analysis-with-python/blob/main/README.md). \n",
        "\n",
        "If you aren't able to do this on your machine, you may want to check out [Google Colab](https://colab.research.google.com/). It's a free service that allows you to run Jupyter notebooks in the cloud."
      ]
    },
    {
      "cell_type": "code",
      "metadata": {},
      "source": [
        "import pandas as pd\n",
        "import matplotlib.pyplot as plt\n",
        "import seaborn as sns\n",
        "import plotly.express as px"
      ],
      "execution_count": null,
      "outputs": []
    },
    {
      "cell_type": "markdown",
      "metadata": {},
      "source": [
        "## Exercise #1: Setting Up the Python Environment\n",
        "\n",
        "Follow the instructions above to check for correct installation of necessary\n",
        "packages. We'll wait a few minutes to make sure as many of you are set up as\n",
        "possible. Please give a thumbs up in the pulse check if you are ready to move on."
      ]
    },
    {
      "cell_type": "raw",
      "metadata": {},
      "source": [
        "---\n",
        "\n",
        "# Module 1: Data Wrangling with Pandas\n",
        "\n",
        "## Walkthrough #2: Loading and Inspecting Data with Pandas\n",
        "\n",
        "## Exercise #2: Loading and Inspecting Data with Pandas\n",
        "\n",
        "## Walkthrough #3: Cleaning and Preparing Data with Pandas\n",
        "\n",
        "## Exercise #3: Cleaning and Preparing Data with Pandas\n",
        "\n",
        "## Walkthrough #4: Transforming and Aggregating Data with Pandas\n",
        "\n",
        "## Exercise #4: Transforming and Aggregating Data with Pandas\n",
        "\n",
        "---"
      ]
    },
    {
      "cell_type": "markdown",
      "metadata": {},
      "source": [
        "# Module 2: Data Visualization Basics with Matplotlib and Seaborn\n",
        "\n",
        "## Walkthrough #5: Creating Basic Plots with Matplotlib\n",
        "\n",
        "## Exercise #5: Creating Basic Plots with Matplotlib\n",
        "\n",
        "## Walkthrough #6: Data Visualization Techniques with Seaborn\n",
        "\n",
        "## Exercise #6: Data Visualization Techniques with Seaborn"
      ]
    },
    {
      "cell_type": "raw",
      "metadata": {},
      "source": [
        "---\n",
        "\n",
        "# Module 3: Interactive Data Visualization with Plotly\n",
        "\n",
        "## Walkthrough #7: Interactive Charts and Dashboards with Plotly\n",
        "\n",
        "## Exercise #7: Interactive Charts and Dashboards with Plotly\n",
        "\n",
        "## Walkthrough #8: Creating a Dynamic Data Report\n",
        "\n",
        "## Exercise #8: Creating a Dynamic Data Report\n",
        "\n",
        "---"
      ]
    },
    {
      "cell_type": "markdown",
      "metadata": {},
      "source": [
        "# Module 4: Real-World Data Analysis Project\n",
        "\n",
        "## Walkthrough #9: Interactive Charts and Dashboards with Plotly\n",
        "\n",
        "## Exercise #9: Interactive Charts and Dashboards with Plotly\n",
        "\n",
        "## Walkthrough #10: Finalizing and Presenting Your Data Analysis Project\n",
        "\n",
        "## Exercise #10: Finalizing and Presenting Your Data Analysis Project"
      ]
    }
  ],
  "metadata": {
    "kernelspec": {
      "name": "python3",
      "language": "python",
      "display_name": "Python 3 (ipykernel)"
    }
  },
  "nbformat": 4,
  "nbformat_minor": 4
}