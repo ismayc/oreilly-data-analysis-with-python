{
  "cells": [
    {
      "cell_type": "raw",
      "metadata": {},
      "source": [
        "---\n",
        "title: 'Walkthroughs and Exercises for *Data Analysis in Python*'\n",
        "author: \"Dr. Chester Ismay\"\n",
        "format: html\n",
        "engine: knitr\n",
        "---"
      ]
    },
    {
      "cell_type": "code",
      "metadata": {},
      "source": [
        "#| include: false\n",
        "import pandas as pd\n",
        "\n",
        "# Display all columns\n",
        "pd.set_option('display.max_columns', None)"
      ],
      "execution_count": null,
      "outputs": []
    },
    {
      "cell_type": "markdown",
      "metadata": {},
      "source": [
        "# Intro: Foundations of Data Analysis with Python\n",
        "\n",
        "## Walkthrough #1: Setting Up the Python Environment\n",
        "\n",
        "If you haven't already installed Python, Jupyter, and the necessary packages, there are instructions on the course repo in the README to do so [here](https://github.com/ismayc/oreilly-data-analysis-with-python/blob/main/README.md). \n",
        "\n",
        "If you aren't able to do this on your machine, you may want to check out [Google Colab](https://colab.research.google.com/). It's a free service that allows you to run Jupyter notebooks in the cloud."
      ]
    },
    {
      "cell_type": "code",
      "metadata": {},
      "source": [
        "import pandas as pd\n",
        "import matplotlib.pyplot as plt\n",
        "import seaborn as sns\n",
        "import plotly.express as px"
      ],
      "execution_count": null,
      "outputs": []
    },
    {
      "cell_type": "markdown",
      "metadata": {},
      "source": [
        "## Exercise #1: Setting Up the Python Environment\n",
        "\n",
        "By completing this exercise, you will be able to\n",
        "- Import necessary Python packages\n",
        "- Check for successful package loading\n",
        "\n",
        "\n",
        "Follow the instructions above to check for correct installation of necessary\n",
        "packages. We'll wait a few minutes to make sure as many of you are set up as\n",
        "possible. Please give a thumbs up in the pulse check if you are ready to move on."
      ]
    },
    {
      "cell_type": "markdown",
      "metadata": {},
      "source": [
        "---\n",
        "\n",
        "# Module 1: Data Wrangling with Pandas\n",
        "\n",
        "## Walkthrough #2: Loading and Inspecting Data with Pandas"
      ]
    },
    {
      "cell_type": "code",
      "metadata": {},
      "source": [
        "# Load the data from a CSV file\n",
        "economies = pd.read_csv(\"economies.csv\")\n",
        "\n",
        "# Load the data from an Excel file\n",
        "economies = pd.read_excel(\"economies.xlsx\")"
      ],
      "execution_count": null,
      "outputs": []
    },
    {
      "cell_type": "code",
      "metadata": {},
      "source": [
        "# Display the first few rows of the DataFrame\n",
        "economies.head()"
      ],
      "execution_count": null,
      "outputs": []
    },
    {
      "cell_type": "code",
      "metadata": {},
      "source": [
        "# Display the information about the DataFrame\n",
        "economies.info()"
      ],
      "execution_count": null,
      "outputs": []
    },
    {
      "cell_type": "code",
      "metadata": {},
      "source": [
        "# Display summary statistics of the DataFrame\n",
        "economies.describe()"
      ],
      "execution_count": null,
      "outputs": []
    },
    {
      "cell_type": "code",
      "metadata": {},
      "source": [
        "# Check for missing data\n",
        "economies.isnull().sum()"
      ],
      "execution_count": null,
      "outputs": []
    },
    {
      "cell_type": "code",
      "metadata": {},
      "source": [
        "# Check data types\n",
        "economies.dtypes"
      ],
      "execution_count": null,
      "outputs": []
    },
    {
      "cell_type": "markdown",
      "metadata": {},
      "source": [
        "## Exercise #2: Loading and Inspecting Data with Pandas\n",
        "\n",
        "By completing this exercise, you will be able to use `pandas` to \n",
        "- Import data from a CSV or from an Excel file\n",
        "- Perform an initial exploration of the data"
      ]
    },
    {
      "cell_type": "code",
      "metadata": {},
      "source": [
        "# Load the populations data from an Excel file\n",
        "\n",
        "# Inspection methods for populations DataFrame\n",
        "\n",
        "# Checking for missing data and data types for populations DataFrame"
      ],
      "execution_count": null,
      "outputs": []
    },
    {
      "cell_type": "code",
      "metadata": {},
      "source": [
        "#| include: false\n",
        "# SOLUTION\n",
        "\n",
        "# Load the populations data from an Excel file\n",
        "populations = pd.read_excel(\"populations.xlsx\")\n",
        "\n",
        "# Inspection methods for populations DataFrame\n",
        "populations.head()\n",
        "\n",
        "populations.info()\n",
        "\n",
        "populations.describe()\n",
        "\n",
        "# Checking for missing data and data types for populations DataFrame\n",
        "populations.isnull().sum()\n",
        "\n",
        "populations.dtypes"
      ],
      "execution_count": null,
      "outputs": []
    },
    {
      "cell_type": "raw",
      "metadata": {},
      "source": [
        "## Walkthrough #3: Cleaning and Preparing Data with Pandas\n",
        "\n",
        "## Exercise #3: Cleaning and Preparing Data with Pandas\n",
        "\n",
        "By completing this exercise, you will be able to use `pandas` to \n",
        "- Handle missing data\n",
        "- Convert a column to a different data type\n",
        "- Rename a column\n",
        "- Change a DataFrame’s index\n",
        "- Filter a DataFrame\n",
        "\n",
        "\n",
        "## Walkthrough #4: Transforming and Aggregating Data with Pandas\n",
        "\n",
        "## Exercise #4: Transforming and Aggregating Data with Pandas\n",
        "\n",
        "By completing this exercise, you will be able to use `pandas` to \n",
        "- Transform data by applying functions element-wise, across rows/columns, or to groups\n",
        "- Aggregate data effectively by grouping it\n",
        "- Create summary tables\n",
        "- Analyze categorical data using cross-tabulation\n",
        "\n",
        "\n",
        "---"
      ]
    },
    {
      "cell_type": "markdown",
      "metadata": {},
      "source": [
        "# Module 2: Data Visualization Basics with Matplotlib and Seaborn\n",
        "\n",
        "## Walkthrough #5: Creating Basic Plots with Matplotlib\n",
        "\n",
        "## Exercise #5: Creating Basic Plots with Matplotlib\n",
        "\n",
        "By completing this exercise, you will be able to use `matplotlib` to \n",
        "- Create line plots and bar charts\n",
        "- Add labels and titles\n",
        "- Adjust axes and tick marks\n",
        "\n",
        "\n",
        "## Walkthrough #6: Data Visualization Techniques with Seaborn\n",
        "\n",
        "## Exercise #6: Data Visualization Techniques with Seaborn\n",
        "\n",
        "By completing this exercise, you will be able to use `seaborn` to\n",
        "- Create heatmaps\n",
        "- Design pair plots and violin plots\n",
        "- Customize Seaborn plots\n"
      ]
    },
    {
      "cell_type": "raw",
      "metadata": {},
      "source": [
        "---\n",
        "\n",
        "# Module 3: Interactive Data Visualization with Plotly\n",
        "\n",
        "## Walkthrough #7: Interactive Charts and Dashboards with Plotly\n",
        "\n",
        "## Exercise #7: Interactive Charts and Dashboards with Plotly\n",
        "\n",
        "By completing this exercise, you will be able to use `plotly` to \n",
        "- Create a basic interactive chart\n",
        "- Add interactive elements: hover, zoom, and selection tools\n",
        "- Design a simple dashboard with multiple charts\n",
        "\n",
        "\n",
        "## Walkthrough #8: Creating a Dynamic Data Report\n",
        "\n",
        "## Exercise #8: Creating a Dynamic Data Report\n",
        "\n",
        "By completing this exercise, you will be able to use `pandas` and `plotly` to \n",
        "- Select relevant data\n",
        "- Build a dynamic report\n",
        "- Add contextual text and summaries\n",
        "\n",
        "\n",
        "---"
      ]
    },
    {
      "cell_type": "markdown",
      "metadata": {},
      "source": [
        "# Module 4: Real-World Data Analysis Project\n",
        "\n",
        "## Walkthrough #9: Interactive Charts and Dashboards with Plotly\n",
        "\n",
        "## Exercise #9: Interactive Charts and Dashboards with Plotly\n",
        "\n",
        "By completing this exercise, you will be able to identify ways to best\n",
        "- Select a dataset\n",
        "- Apply cleaning, transforming, and analysis techniques\n",
        "- Review initial findings and interpretation\n",
        "\n",
        "\n",
        "## Walkthrough #10: Finalizing and Presenting Your Data Analysis Project\n",
        "\n",
        "## Exercise #10: Finalizing and Presenting Your Data Analysis Project\n",
        "\n",
        "By completing this exercise, you will be able to identify the best strategies to\n",
        "- Integrate feedback to refine the analysis\n",
        "- Finalize the presentation with impactful visuals and narrative\n",
        "- Rehearse the presentation"
      ]
    }
  ],
  "metadata": {
    "kernelspec": {
      "name": "python3",
      "language": "python",
      "display_name": "Python 3 (ipykernel)"
    }
  },
  "nbformat": 4,
  "nbformat_minor": 4
}