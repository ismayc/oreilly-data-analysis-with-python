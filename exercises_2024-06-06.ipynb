{
 "cells": [
  {
   "cell_type": "raw",
   "metadata": {},
   "source": [
    "---\n",
    "title: 'Walkthroughs and Exercises for *Data Analysis in Python*'\n",
    "author: \"Dr. Chester Ismay\"\n",
    "format: html\n",
    "engine: knitr\n",
    "---"
   ]
  },
  {
   "cell_type": "code",
   "execution_count": 2,
   "metadata": {},
   "outputs": [],
   "source": [
    "import pandas as pd\n",
    "\n",
    "# Display all columns\n",
    "pd.set_option('display.max_columns', None)"
   ]
  },
  {
   "cell_type": "markdown",
   "metadata": {},
   "source": [
    "# Intro: Foundations of Data Analysis with Python\n",
    "\n",
    "## Walkthrough #1: Setting Up the Python Environment\n",
    "\n",
    "If you haven't already installed Python, Jupyter, and the necessary packages, there are instructions on the course repo in the README to do so [here](https://github.com/ismayc/oreilly-data-analysis-with-python/blob/main/README.md). \n",
    "\n",
    "If you aren't able to do this on your machine, you may want to check out [Google Colab](https://colab.research.google.com/). It's a free service that allows you to run Jupyter notebooks in the cloud."
   ]
  },
  {
   "cell_type": "code",
   "execution_count": 3,
   "metadata": {},
   "outputs": [
    {
     "data": {
      "text/html": [
       "        <script type=\"text/javascript\">\n",
       "        window.PlotlyConfig = {MathJaxConfig: 'local'};\n",
       "        if (window.MathJax && window.MathJax.Hub && window.MathJax.Hub.Config) {window.MathJax.Hub.Config({SVG: {font: \"STIX-Web\"}});}\n",
       "        if (typeof require !== 'undefined') {\n",
       "        require.undef(\"plotly\");\n",
       "        requirejs.config({\n",
       "            paths: {\n",
       "                'plotly': ['https://cdn.plot.ly/plotly-2.32.0.min']\n",
       "            }\n",
       "        });\n",
       "        require(['plotly'], function(Plotly) {\n",
       "            window._Plotly = Plotly;\n",
       "        });\n",
       "        }\n",
       "        </script>\n",
       "        "
      ]
     },
     "metadata": {},
     "output_type": "display_data"
    }
   ],
   "source": [
    "import pandas as pd\n",
    "import matplotlib.pyplot as plt\n",
    "import seaborn as sns\n",
    "import plotly.express as px\n",
    "import plotly.graph_objects as go\n",
    "from plotly.subplots import make_subplots\n",
    "\n",
    "# For plotly to load directly in Jupyter notebook\n",
    "import plotly.offline as pyo\n",
    "pyo.init_notebook_mode(connected=True)"
   ]
  },
  {
   "cell_type": "markdown",
   "metadata": {},
   "source": [
    "## Exercise #1: Setting Up the Python Environment\n",
    "\n",
    "By completing this exercise, you will be able to  \n",
    "- Import necessary Python packages  \n",
    "- Check for successful package loading  \n",
    "\n",
    "\n",
    "Follow the instructions above in Walkthrough #1 to check for correct installation \n",
    "of necessary packages. We'll wait a few minutes to make sure as many of you are\n",
    "set up as possible. Please give a thumbs up in the pulse check if you are ready\n",
    "to move on."
   ]
  },
  {
   "cell_type": "markdown",
   "metadata": {},
   "source": [
    "---\n",
    "\n",
    "# Module 1: Data Wrangling with Pandas\n",
    "\n",
    "## Walkthrough #2: Loading and Inspecting Data with Pandas\n",
    "\n",
    "### Import data from a CSV or from an Excel file"
   ]
  },
  {
   "cell_type": "code",
   "execution_count": 6,
   "metadata": {},
   "outputs": [
    {
     "data": {
      "text/html": [
       "<div>\n",
       "<style scoped>\n",
       "    .dataframe tbody tr th:only-of-type {\n",
       "        vertical-align: middle;\n",
       "    }\n",
       "\n",
       "    .dataframe tbody tr th {\n",
       "        vertical-align: top;\n",
       "    }\n",
       "\n",
       "    .dataframe thead th {\n",
       "        text-align: right;\n",
       "    }\n",
       "</style>\n",
       "<table border=\"1\" class=\"dataframe\">\n",
       "  <thead>\n",
       "    <tr style=\"text-align: right;\">\n",
       "      <th></th>\n",
       "      <th>code</th>\n",
       "      <th>country</th>\n",
       "      <th>year</th>\n",
       "      <th>gdp_percapita</th>\n",
       "      <th>gross_savings</th>\n",
       "      <th>inflation_rate</th>\n",
       "      <th>total_investment</th>\n",
       "      <th>unemployment_rate</th>\n",
       "      <th>exports</th>\n",
       "      <th>imports</th>\n",
       "      <th>income_group</th>\n",
       "    </tr>\n",
       "  </thead>\n",
       "  <tbody>\n",
       "    <tr>\n",
       "      <th>0</th>\n",
       "      <td>ABW</td>\n",
       "      <td>Aruba</td>\n",
       "      <td>2010</td>\n",
       "      <td>24087.950</td>\n",
       "      <td>13.255</td>\n",
       "      <td>2.078</td>\n",
       "      <td>NaN</td>\n",
       "      <td>10.600</td>\n",
       "      <td>NaN</td>\n",
       "      <td>NaN</td>\n",
       "      <td>High income</td>\n",
       "    </tr>\n",
       "    <tr>\n",
       "      <th>1</th>\n",
       "      <td>ABW</td>\n",
       "      <td>Aruba</td>\n",
       "      <td>2015</td>\n",
       "      <td>27126.620</td>\n",
       "      <td>21.411</td>\n",
       "      <td>0.475</td>\n",
       "      <td>NaN</td>\n",
       "      <td>7.298</td>\n",
       "      <td>NaN</td>\n",
       "      <td>NaN</td>\n",
       "      <td>High income</td>\n",
       "    </tr>\n",
       "    <tr>\n",
       "      <th>2</th>\n",
       "      <td>ABW</td>\n",
       "      <td>Aruba</td>\n",
       "      <td>2020</td>\n",
       "      <td>21832.920</td>\n",
       "      <td>-7.521</td>\n",
       "      <td>-1.338</td>\n",
       "      <td>NaN</td>\n",
       "      <td>13.997</td>\n",
       "      <td>NaN</td>\n",
       "      <td>NaN</td>\n",
       "      <td>High income</td>\n",
       "    </tr>\n",
       "    <tr>\n",
       "      <th>3</th>\n",
       "      <td>AFG</td>\n",
       "      <td>Afghanistan</td>\n",
       "      <td>2010</td>\n",
       "      <td>631.490</td>\n",
       "      <td>59.699</td>\n",
       "      <td>2.179</td>\n",
       "      <td>30.269</td>\n",
       "      <td>NaN</td>\n",
       "      <td>9.768</td>\n",
       "      <td>32.285</td>\n",
       "      <td>Low income</td>\n",
       "    </tr>\n",
       "    <tr>\n",
       "      <th>4</th>\n",
       "      <td>AFG</td>\n",
       "      <td>Afghanistan</td>\n",
       "      <td>2015</td>\n",
       "      <td>711.337</td>\n",
       "      <td>22.223</td>\n",
       "      <td>-0.662</td>\n",
       "      <td>18.427</td>\n",
       "      <td>NaN</td>\n",
       "      <td>-11.585</td>\n",
       "      <td>15.309</td>\n",
       "      <td>Low income</td>\n",
       "    </tr>\n",
       "    <tr>\n",
       "      <th>...</th>\n",
       "      <td>...</td>\n",
       "      <td>...</td>\n",
       "      <td>...</td>\n",
       "      <td>...</td>\n",
       "      <td>...</td>\n",
       "      <td>...</td>\n",
       "      <td>...</td>\n",
       "      <td>...</td>\n",
       "      <td>...</td>\n",
       "      <td>...</td>\n",
       "      <td>...</td>\n",
       "    </tr>\n",
       "    <tr>\n",
       "      <th>556</th>\n",
       "      <td>ZMB</td>\n",
       "      <td>Zambia</td>\n",
       "      <td>2015</td>\n",
       "      <td>1310.460</td>\n",
       "      <td>40.103</td>\n",
       "      <td>10.107</td>\n",
       "      <td>42.791</td>\n",
       "      <td>NaN</td>\n",
       "      <td>-11.407</td>\n",
       "      <td>0.696</td>\n",
       "      <td>Lower middle income</td>\n",
       "    </tr>\n",
       "    <tr>\n",
       "      <th>557</th>\n",
       "      <td>ZMB</td>\n",
       "      <td>Zambia</td>\n",
       "      <td>2020</td>\n",
       "      <td>981.311</td>\n",
       "      <td>36.030</td>\n",
       "      <td>16.350</td>\n",
       "      <td>34.514</td>\n",
       "      <td>NaN</td>\n",
       "      <td>1.143</td>\n",
       "      <td>2.635</td>\n",
       "      <td>Lower middle income</td>\n",
       "    </tr>\n",
       "    <tr>\n",
       "      <th>558</th>\n",
       "      <td>ZWE</td>\n",
       "      <td>Zimbabwe</td>\n",
       "      <td>2010</td>\n",
       "      <td>975.851</td>\n",
       "      <td>NaN</td>\n",
       "      <td>3.045</td>\n",
       "      <td>NaN</td>\n",
       "      <td>NaN</td>\n",
       "      <td>NaN</td>\n",
       "      <td>NaN</td>\n",
       "      <td>Lower middle income</td>\n",
       "    </tr>\n",
       "    <tr>\n",
       "      <th>559</th>\n",
       "      <td>ZWE</td>\n",
       "      <td>Zimbabwe</td>\n",
       "      <td>2015</td>\n",
       "      <td>1425.010</td>\n",
       "      <td>NaN</td>\n",
       "      <td>-2.410</td>\n",
       "      <td>NaN</td>\n",
       "      <td>NaN</td>\n",
       "      <td>NaN</td>\n",
       "      <td>NaN</td>\n",
       "      <td>Lower middle income</td>\n",
       "    </tr>\n",
       "    <tr>\n",
       "      <th>560</th>\n",
       "      <td>ZWE</td>\n",
       "      <td>Zimbabwe</td>\n",
       "      <td>2020</td>\n",
       "      <td>1385.040</td>\n",
       "      <td>NaN</td>\n",
       "      <td>557.210</td>\n",
       "      <td>NaN</td>\n",
       "      <td>NaN</td>\n",
       "      <td>NaN</td>\n",
       "      <td>NaN</td>\n",
       "      <td>Lower middle income</td>\n",
       "    </tr>\n",
       "  </tbody>\n",
       "</table>\n",
       "<p>561 rows × 11 columns</p>\n",
       "</div>"
      ],
      "text/plain": [
       "    code      country  year  gdp_percapita  gross_savings  inflation_rate  \\\n",
       "0    ABW        Aruba  2010      24087.950         13.255           2.078   \n",
       "1    ABW        Aruba  2015      27126.620         21.411           0.475   \n",
       "2    ABW        Aruba  2020      21832.920         -7.521          -1.338   \n",
       "3    AFG  Afghanistan  2010        631.490         59.699           2.179   \n",
       "4    AFG  Afghanistan  2015        711.337         22.223          -0.662   \n",
       "..   ...          ...   ...            ...            ...             ...   \n",
       "556  ZMB       Zambia  2015       1310.460         40.103          10.107   \n",
       "557  ZMB       Zambia  2020        981.311         36.030          16.350   \n",
       "558  ZWE     Zimbabwe  2010        975.851            NaN           3.045   \n",
       "559  ZWE     Zimbabwe  2015       1425.010            NaN          -2.410   \n",
       "560  ZWE     Zimbabwe  2020       1385.040            NaN         557.210   \n",
       "\n",
       "     total_investment  unemployment_rate  exports  imports  \\\n",
       "0                 NaN             10.600      NaN      NaN   \n",
       "1                 NaN              7.298      NaN      NaN   \n",
       "2                 NaN             13.997      NaN      NaN   \n",
       "3              30.269                NaN    9.768   32.285   \n",
       "4              18.427                NaN  -11.585   15.309   \n",
       "..                ...                ...      ...      ...   \n",
       "556            42.791                NaN  -11.407    0.696   \n",
       "557            34.514                NaN    1.143    2.635   \n",
       "558               NaN                NaN      NaN      NaN   \n",
       "559               NaN                NaN      NaN      NaN   \n",
       "560               NaN                NaN      NaN      NaN   \n",
       "\n",
       "            income_group  \n",
       "0            High income  \n",
       "1            High income  \n",
       "2            High income  \n",
       "3             Low income  \n",
       "4             Low income  \n",
       "..                   ...  \n",
       "556  Lower middle income  \n",
       "557  Lower middle income  \n",
       "558  Lower middle income  \n",
       "559  Lower middle income  \n",
       "560  Lower middle income  \n",
       "\n",
       "[561 rows x 11 columns]"
      ]
     },
     "execution_count": 6,
     "metadata": {},
     "output_type": "execute_result"
    }
   ],
   "source": [
    "# Load the data from a CSV file\n",
    "economies = pd.read_csv(\"economies.csv\")\n",
    "\n",
    "# Or load the data from an Excel file\n",
    "economies = pd.read_excel(\"economies.xlsx\")\n",
    "economies"
   ]
  },
  {
   "cell_type": "markdown",
   "metadata": {},
   "source": [
    "### Perform an initial exploration of the data"
   ]
  },
  {
   "cell_type": "code",
   "execution_count": 9,
   "metadata": {},
   "outputs": [
    {
     "data": {
      "text/html": [
       "<div>\n",
       "<style scoped>\n",
       "    .dataframe tbody tr th:only-of-type {\n",
       "        vertical-align: middle;\n",
       "    }\n",
       "\n",
       "    .dataframe tbody tr th {\n",
       "        vertical-align: top;\n",
       "    }\n",
       "\n",
       "    .dataframe thead th {\n",
       "        text-align: right;\n",
       "    }\n",
       "</style>\n",
       "<table border=\"1\" class=\"dataframe\">\n",
       "  <thead>\n",
       "    <tr style=\"text-align: right;\">\n",
       "      <th></th>\n",
       "      <th>code</th>\n",
       "      <th>country</th>\n",
       "      <th>year</th>\n",
       "      <th>gdp_percapita</th>\n",
       "      <th>gross_savings</th>\n",
       "      <th>inflation_rate</th>\n",
       "      <th>total_investment</th>\n",
       "      <th>unemployment_rate</th>\n",
       "      <th>exports</th>\n",
       "      <th>imports</th>\n",
       "      <th>income_group</th>\n",
       "    </tr>\n",
       "  </thead>\n",
       "  <tbody>\n",
       "    <tr>\n",
       "      <th>498</th>\n",
       "      <td>TKM</td>\n",
       "      <td>Turkmenistan</td>\n",
       "      <td>2010</td>\n",
       "      <td>4439.200</td>\n",
       "      <td>NaN</td>\n",
       "      <td>4.447</td>\n",
       "      <td>NaN</td>\n",
       "      <td>NaN</td>\n",
       "      <td>23.613</td>\n",
       "      <td>1.391</td>\n",
       "      <td>Upper middle income</td>\n",
       "    </tr>\n",
       "    <tr>\n",
       "      <th>110</th>\n",
       "      <td>COG</td>\n",
       "      <td>Congo</td>\n",
       "      <td>2020</td>\n",
       "      <td>2185.580</td>\n",
       "      <td>17.652</td>\n",
       "      <td>2.386</td>\n",
       "      <td>21.423</td>\n",
       "      <td>NaN</td>\n",
       "      <td>-10.785</td>\n",
       "      <td>-12.600</td>\n",
       "      <td>Lower middle income</td>\n",
       "    </tr>\n",
       "    <tr>\n",
       "      <th>352</th>\n",
       "      <td>MOZ</td>\n",
       "      <td>Mozambique</td>\n",
       "      <td>2015</td>\n",
       "      <td>570.129</td>\n",
       "      <td>3.835</td>\n",
       "      <td>3.551</td>\n",
       "      <td>41.249</td>\n",
       "      <td>NaN</td>\n",
       "      <td>-1.988</td>\n",
       "      <td>1.352</td>\n",
       "      <td>Low income</td>\n",
       "    </tr>\n",
       "    <tr>\n",
       "      <th>372</th>\n",
       "      <td>NGA</td>\n",
       "      <td>Nigeria</td>\n",
       "      <td>2010</td>\n",
       "      <td>2328.430</td>\n",
       "      <td>20.843</td>\n",
       "      <td>13.742</td>\n",
       "      <td>17.291</td>\n",
       "      <td>5.092</td>\n",
       "      <td>10.732</td>\n",
       "      <td>22.920</td>\n",
       "      <td>Lower middle income</td>\n",
       "    </tr>\n",
       "    <tr>\n",
       "      <th>512</th>\n",
       "      <td>TUR</td>\n",
       "      <td>Turkey</td>\n",
       "      <td>2020</td>\n",
       "      <td>8548.180</td>\n",
       "      <td>26.665</td>\n",
       "      <td>12.279</td>\n",
       "      <td>31.483</td>\n",
       "      <td>13.110</td>\n",
       "      <td>-17.990</td>\n",
       "      <td>5.381</td>\n",
       "      <td>Upper middle income</td>\n",
       "    </tr>\n",
       "    <tr>\n",
       "      <th>163</th>\n",
       "      <td>ETH</td>\n",
       "      <td>Ethiopia</td>\n",
       "      <td>2015</td>\n",
       "      <td>702.767</td>\n",
       "      <td>31.409</td>\n",
       "      <td>9.569</td>\n",
       "      <td>39.417</td>\n",
       "      <td>NaN</td>\n",
       "      <td>2.229</td>\n",
       "      <td>26.602</td>\n",
       "      <td>Low income</td>\n",
       "    </tr>\n",
       "    <tr>\n",
       "      <th>241</th>\n",
       "      <td>IRQ</td>\n",
       "      <td>Iraq</td>\n",
       "      <td>2015</td>\n",
       "      <td>5044.620</td>\n",
       "      <td>18.568</td>\n",
       "      <td>1.393</td>\n",
       "      <td>NaN</td>\n",
       "      <td>NaN</td>\n",
       "      <td>NaN</td>\n",
       "      <td>NaN</td>\n",
       "      <td>Upper middle income</td>\n",
       "    </tr>\n",
       "    <tr>\n",
       "      <th>77</th>\n",
       "      <td>BRN</td>\n",
       "      <td>Brunei</td>\n",
       "      <td>2020</td>\n",
       "      <td>26089.280</td>\n",
       "      <td>NaN</td>\n",
       "      <td>1.937</td>\n",
       "      <td>40.553</td>\n",
       "      <td>6.822</td>\n",
       "      <td>7.525</td>\n",
       "      <td>-2.055</td>\n",
       "      <td>High income</td>\n",
       "    </tr>\n",
       "    <tr>\n",
       "      <th>14</th>\n",
       "      <td>ARE</td>\n",
       "      <td>United Arab Emirates</td>\n",
       "      <td>2020</td>\n",
       "      <td>31982.230</td>\n",
       "      <td>28.223</td>\n",
       "      <td>-2.074</td>\n",
       "      <td>25.126</td>\n",
       "      <td>NaN</td>\n",
       "      <td>-13.652</td>\n",
       "      <td>-18.151</td>\n",
       "      <td>High income</td>\n",
       "    </tr>\n",
       "    <tr>\n",
       "      <th>526</th>\n",
       "      <td>URY</td>\n",
       "      <td>Uruguay</td>\n",
       "      <td>2015</td>\n",
       "      <td>16692.650</td>\n",
       "      <td>17.223</td>\n",
       "      <td>8.666</td>\n",
       "      <td>17.477</td>\n",
       "      <td>7.525</td>\n",
       "      <td>-7.564</td>\n",
       "      <td>-8.145</td>\n",
       "      <td>High income</td>\n",
       "    </tr>\n",
       "  </tbody>\n",
       "</table>\n",
       "</div>"
      ],
      "text/plain": [
       "    code               country  year  gdp_percapita  gross_savings  \\\n",
       "498  TKM          Turkmenistan  2010       4439.200            NaN   \n",
       "110  COG                 Congo  2020       2185.580         17.652   \n",
       "352  MOZ            Mozambique  2015        570.129          3.835   \n",
       "372  NGA               Nigeria  2010       2328.430         20.843   \n",
       "512  TUR                Turkey  2020       8548.180         26.665   \n",
       "163  ETH              Ethiopia  2015        702.767         31.409   \n",
       "241  IRQ                  Iraq  2015       5044.620         18.568   \n",
       "77   BRN                Brunei  2020      26089.280            NaN   \n",
       "14   ARE  United Arab Emirates  2020      31982.230         28.223   \n",
       "526  URY               Uruguay  2015      16692.650         17.223   \n",
       "\n",
       "     inflation_rate  total_investment  unemployment_rate  exports  imports  \\\n",
       "498           4.447               NaN                NaN   23.613    1.391   \n",
       "110           2.386            21.423                NaN  -10.785  -12.600   \n",
       "352           3.551            41.249                NaN   -1.988    1.352   \n",
       "372          13.742            17.291              5.092   10.732   22.920   \n",
       "512          12.279            31.483             13.110  -17.990    5.381   \n",
       "163           9.569            39.417                NaN    2.229   26.602   \n",
       "241           1.393               NaN                NaN      NaN      NaN   \n",
       "77            1.937            40.553              6.822    7.525   -2.055   \n",
       "14           -2.074            25.126                NaN  -13.652  -18.151   \n",
       "526           8.666            17.477              7.525   -7.564   -8.145   \n",
       "\n",
       "            income_group  \n",
       "498  Upper middle income  \n",
       "110  Lower middle income  \n",
       "352           Low income  \n",
       "372  Lower middle income  \n",
       "512  Upper middle income  \n",
       "163           Low income  \n",
       "241  Upper middle income  \n",
       "77           High income  \n",
       "14           High income  \n",
       "526          High income  "
      ]
     },
     "execution_count": 9,
     "metadata": {},
     "output_type": "execute_result"
    }
   ],
   "source": [
    "economies.sample(10)"
   ]
  },
  {
   "cell_type": "code",
   "execution_count": 7,
   "metadata": {},
   "outputs": [
    {
     "data": {
      "text/html": [
       "<div>\n",
       "<style scoped>\n",
       "    .dataframe tbody tr th:only-of-type {\n",
       "        vertical-align: middle;\n",
       "    }\n",
       "\n",
       "    .dataframe tbody tr th {\n",
       "        vertical-align: top;\n",
       "    }\n",
       "\n",
       "    .dataframe thead th {\n",
       "        text-align: right;\n",
       "    }\n",
       "</style>\n",
       "<table border=\"1\" class=\"dataframe\">\n",
       "  <thead>\n",
       "    <tr style=\"text-align: right;\">\n",
       "      <th></th>\n",
       "      <th>code</th>\n",
       "      <th>country</th>\n",
       "      <th>year</th>\n",
       "      <th>gdp_percapita</th>\n",
       "      <th>gross_savings</th>\n",
       "      <th>inflation_rate</th>\n",
       "      <th>total_investment</th>\n",
       "      <th>unemployment_rate</th>\n",
       "      <th>exports</th>\n",
       "      <th>imports</th>\n",
       "      <th>income_group</th>\n",
       "    </tr>\n",
       "  </thead>\n",
       "  <tbody>\n",
       "    <tr>\n",
       "      <th>0</th>\n",
       "      <td>ABW</td>\n",
       "      <td>Aruba</td>\n",
       "      <td>2010</td>\n",
       "      <td>24087.950</td>\n",
       "      <td>13.255</td>\n",
       "      <td>2.078</td>\n",
       "      <td>NaN</td>\n",
       "      <td>10.600</td>\n",
       "      <td>NaN</td>\n",
       "      <td>NaN</td>\n",
       "      <td>High income</td>\n",
       "    </tr>\n",
       "    <tr>\n",
       "      <th>1</th>\n",
       "      <td>ABW</td>\n",
       "      <td>Aruba</td>\n",
       "      <td>2015</td>\n",
       "      <td>27126.620</td>\n",
       "      <td>21.411</td>\n",
       "      <td>0.475</td>\n",
       "      <td>NaN</td>\n",
       "      <td>7.298</td>\n",
       "      <td>NaN</td>\n",
       "      <td>NaN</td>\n",
       "      <td>High income</td>\n",
       "    </tr>\n",
       "    <tr>\n",
       "      <th>2</th>\n",
       "      <td>ABW</td>\n",
       "      <td>Aruba</td>\n",
       "      <td>2020</td>\n",
       "      <td>21832.920</td>\n",
       "      <td>-7.521</td>\n",
       "      <td>-1.338</td>\n",
       "      <td>NaN</td>\n",
       "      <td>13.997</td>\n",
       "      <td>NaN</td>\n",
       "      <td>NaN</td>\n",
       "      <td>High income</td>\n",
       "    </tr>\n",
       "    <tr>\n",
       "      <th>3</th>\n",
       "      <td>AFG</td>\n",
       "      <td>Afghanistan</td>\n",
       "      <td>2010</td>\n",
       "      <td>631.490</td>\n",
       "      <td>59.699</td>\n",
       "      <td>2.179</td>\n",
       "      <td>30.269</td>\n",
       "      <td>NaN</td>\n",
       "      <td>9.768</td>\n",
       "      <td>32.285</td>\n",
       "      <td>Low income</td>\n",
       "    </tr>\n",
       "    <tr>\n",
       "      <th>4</th>\n",
       "      <td>AFG</td>\n",
       "      <td>Afghanistan</td>\n",
       "      <td>2015</td>\n",
       "      <td>711.337</td>\n",
       "      <td>22.223</td>\n",
       "      <td>-0.662</td>\n",
       "      <td>18.427</td>\n",
       "      <td>NaN</td>\n",
       "      <td>-11.585</td>\n",
       "      <td>15.309</td>\n",
       "      <td>Low income</td>\n",
       "    </tr>\n",
       "  </tbody>\n",
       "</table>\n",
       "</div>"
      ],
      "text/plain": [
       "  code      country  year  gdp_percapita  gross_savings  inflation_rate  \\\n",
       "0  ABW        Aruba  2010      24087.950         13.255           2.078   \n",
       "1  ABW        Aruba  2015      27126.620         21.411           0.475   \n",
       "2  ABW        Aruba  2020      21832.920         -7.521          -1.338   \n",
       "3  AFG  Afghanistan  2010        631.490         59.699           2.179   \n",
       "4  AFG  Afghanistan  2015        711.337         22.223          -0.662   \n",
       "\n",
       "   total_investment  unemployment_rate  exports  imports income_group  \n",
       "0               NaN             10.600      NaN      NaN  High income  \n",
       "1               NaN              7.298      NaN      NaN  High income  \n",
       "2               NaN             13.997      NaN      NaN  High income  \n",
       "3            30.269                NaN    9.768   32.285   Low income  \n",
       "4            18.427                NaN  -11.585   15.309   Low income  "
      ]
     },
     "execution_count": 7,
     "metadata": {},
     "output_type": "execute_result"
    }
   ],
   "source": [
    "# Display the first few rows of the DataFrame\n",
    "economies.head()"
   ]
  },
  {
   "cell_type": "code",
   "execution_count": 8,
   "metadata": {},
   "outputs": [
    {
     "name": "stdout",
     "output_type": "stream",
     "text": [
      "<class 'pandas.core.frame.DataFrame'>\n",
      "RangeIndex: 561 entries, 0 to 560\n",
      "Data columns (total 11 columns):\n",
      " #   Column             Non-Null Count  Dtype  \n",
      "---  ------             --------------  -----  \n",
      " 0   code               561 non-null    object \n",
      " 1   country            561 non-null    object \n",
      " 2   year               561 non-null    int64  \n",
      " 3   gdp_percapita      558 non-null    float64\n",
      " 4   gross_savings      490 non-null    float64\n",
      " 5   inflation_rate     555 non-null    float64\n",
      " 6   total_investment   490 non-null    float64\n",
      " 7   unemployment_rate  312 non-null    float64\n",
      " 8   exports            509 non-null    float64\n",
      " 9   imports            506 non-null    float64\n",
      " 10  income_group       561 non-null    object \n",
      "dtypes: float64(7), int64(1), object(3)\n",
      "memory usage: 48.3+ KB\n"
     ]
    }
   ],
   "source": [
    "# Display the information about the DataFrame\n",
    "economies.info()"
   ]
  },
  {
   "cell_type": "code",
   "execution_count": 10,
   "metadata": {},
   "outputs": [
    {
     "data": {
      "text/html": [
       "<div>\n",
       "<style scoped>\n",
       "    .dataframe tbody tr th:only-of-type {\n",
       "        vertical-align: middle;\n",
       "    }\n",
       "\n",
       "    .dataframe tbody tr th {\n",
       "        vertical-align: top;\n",
       "    }\n",
       "\n",
       "    .dataframe thead th {\n",
       "        text-align: right;\n",
       "    }\n",
       "</style>\n",
       "<table border=\"1\" class=\"dataframe\">\n",
       "  <thead>\n",
       "    <tr style=\"text-align: right;\">\n",
       "      <th></th>\n",
       "      <th>year</th>\n",
       "      <th>gdp_percapita</th>\n",
       "      <th>gross_savings</th>\n",
       "      <th>inflation_rate</th>\n",
       "      <th>total_investment</th>\n",
       "      <th>unemployment_rate</th>\n",
       "      <th>exports</th>\n",
       "      <th>imports</th>\n",
       "    </tr>\n",
       "  </thead>\n",
       "  <tbody>\n",
       "    <tr>\n",
       "      <th>count</th>\n",
       "      <td>561.000000</td>\n",
       "      <td>558.000000</td>\n",
       "      <td>490.000000</td>\n",
       "      <td>555.000000</td>\n",
       "      <td>490.000000</td>\n",
       "      <td>312.000000</td>\n",
       "      <td>509.000000</td>\n",
       "      <td>506.000000</td>\n",
       "    </tr>\n",
       "    <tr>\n",
       "      <th>mean</th>\n",
       "      <td>2015.000000</td>\n",
       "      <td>13447.838281</td>\n",
       "      <td>20.641665</td>\n",
       "      <td>9.762438</td>\n",
       "      <td>25.348976</td>\n",
       "      <td>8.894619</td>\n",
       "      <td>-0.844275</td>\n",
       "      <td>0.813121</td>\n",
       "    </tr>\n",
       "    <tr>\n",
       "      <th>std</th>\n",
       "      <td>4.086126</td>\n",
       "      <td>18481.107981</td>\n",
       "      <td>10.813159</td>\n",
       "      <td>103.013164</td>\n",
       "      <td>23.546022</td>\n",
       "      <td>5.605188</td>\n",
       "      <td>17.817279</td>\n",
       "      <td>15.644724</td>\n",
       "    </tr>\n",
       "    <tr>\n",
       "      <th>min</th>\n",
       "      <td>2010.000000</td>\n",
       "      <td>231.549000</td>\n",
       "      <td>-10.331000</td>\n",
       "      <td>-3.900000</td>\n",
       "      <td>0.521000</td>\n",
       "      <td>0.900000</td>\n",
       "      <td>-80.939000</td>\n",
       "      <td>-59.381000</td>\n",
       "    </tr>\n",
       "    <tr>\n",
       "      <th>25%</th>\n",
       "      <td>2010.000000</td>\n",
       "      <td>1842.815000</td>\n",
       "      <td>14.129000</td>\n",
       "      <td>0.731000</td>\n",
       "      <td>18.449250</td>\n",
       "      <td>5.252250</td>\n",
       "      <td>-8.528000</td>\n",
       "      <td>-8.253000</td>\n",
       "    </tr>\n",
       "    <tr>\n",
       "      <th>50%</th>\n",
       "      <td>2015.000000</td>\n",
       "      <td>5049.830000</td>\n",
       "      <td>20.536000</td>\n",
       "      <td>2.507000</td>\n",
       "      <td>22.808000</td>\n",
       "      <td>7.400000</td>\n",
       "      <td>1.000000</td>\n",
       "      <td>1.334000</td>\n",
       "    </tr>\n",
       "    <tr>\n",
       "      <th>75%</th>\n",
       "      <td>2020.000000</td>\n",
       "      <td>16509.697500</td>\n",
       "      <td>26.819750</td>\n",
       "      <td>5.406000</td>\n",
       "      <td>27.644750</td>\n",
       "      <td>10.772000</td>\n",
       "      <td>8.033000</td>\n",
       "      <td>9.348000</td>\n",
       "    </tr>\n",
       "    <tr>\n",
       "      <th>max</th>\n",
       "      <td>2020.000000</td>\n",
       "      <td>116921.110000</td>\n",
       "      <td>59.699000</td>\n",
       "      <td>2355.150000</td>\n",
       "      <td>363.411000</td>\n",
       "      <td>32.050000</td>\n",
       "      <td>159.103000</td>\n",
       "      <td>84.555000</td>\n",
       "    </tr>\n",
       "  </tbody>\n",
       "</table>\n",
       "</div>"
      ],
      "text/plain": [
       "              year  gdp_percapita  gross_savings  inflation_rate  \\\n",
       "count   561.000000     558.000000     490.000000      555.000000   \n",
       "mean   2015.000000   13447.838281      20.641665        9.762438   \n",
       "std       4.086126   18481.107981      10.813159      103.013164   \n",
       "min    2010.000000     231.549000     -10.331000       -3.900000   \n",
       "25%    2010.000000    1842.815000      14.129000        0.731000   \n",
       "50%    2015.000000    5049.830000      20.536000        2.507000   \n",
       "75%    2020.000000   16509.697500      26.819750        5.406000   \n",
       "max    2020.000000  116921.110000      59.699000     2355.150000   \n",
       "\n",
       "       total_investment  unemployment_rate     exports     imports  \n",
       "count        490.000000         312.000000  509.000000  506.000000  \n",
       "mean          25.348976           8.894619   -0.844275    0.813121  \n",
       "std           23.546022           5.605188   17.817279   15.644724  \n",
       "min            0.521000           0.900000  -80.939000  -59.381000  \n",
       "25%           18.449250           5.252250   -8.528000   -8.253000  \n",
       "50%           22.808000           7.400000    1.000000    1.334000  \n",
       "75%           27.644750          10.772000    8.033000    9.348000  \n",
       "max          363.411000          32.050000  159.103000   84.555000  "
      ]
     },
     "execution_count": 10,
     "metadata": {},
     "output_type": "execute_result"
    }
   ],
   "source": [
    "# Display summary statistics of the DataFrame\n",
    "economies.describe()"
   ]
  },
  {
   "cell_type": "code",
   "execution_count": 15,
   "metadata": {},
   "outputs": [
    {
     "data": {
      "text/plain": [
       "code                   0\n",
       "country                0\n",
       "year                   0\n",
       "gdp_percapita          3\n",
       "gross_savings         71\n",
       "inflation_rate         6\n",
       "total_investment      71\n",
       "unemployment_rate    249\n",
       "exports               52\n",
       "imports               55\n",
       "income_group           0\n",
       "dtype: int64"
      ]
     },
     "execution_count": 15,
     "metadata": {},
     "output_type": "execute_result"
    }
   ],
   "source": [
    "# Check for missing data\n",
    "economies.isnull().sum()"
   ]
  },
  {
   "cell_type": "code",
   "execution_count": 13,
   "metadata": {},
   "outputs": [],
   "source": [
    "??economies.describe"
   ]
  },
  {
   "cell_type": "code",
   "execution_count": 16,
   "metadata": {},
   "outputs": [
    {
     "data": {
      "text/plain": [
       "code                  object\n",
       "country               object\n",
       "year                   int64\n",
       "gdp_percapita        float64\n",
       "gross_savings        float64\n",
       "inflation_rate       float64\n",
       "total_investment     float64\n",
       "unemployment_rate    float64\n",
       "exports              float64\n",
       "imports              float64\n",
       "income_group          object\n",
       "dtype: object"
      ]
     },
     "execution_count": 16,
     "metadata": {},
     "output_type": "execute_result"
    }
   ],
   "source": [
    "# Check data types\n",
    "economies.dtypes"
   ]
  },
  {
   "cell_type": "markdown",
   "metadata": {},
   "source": [
    "## Exercise #2: Loading and Inspecting Data with Pandas\n",
    "\n",
    "By completing this exercise, you will be able to use `pandas` to  \n",
    "- Import data from a CSV or from an Excel file   \n",
    "- Perform an initial exploration of the data  "
   ]
  },
  {
   "cell_type": "code",
   "execution_count": null,
   "metadata": {},
   "outputs": [],
   "source": [
    "# Load the populations data from an Excel file\n",
    "\n",
    "\n",
    "# Inspection methods for populations DataFrame\n",
    "\n",
    "\n",
    "\n",
    "\n",
    "\n",
    "\n",
    "# Checking for missing data and data types for populations DataFrame\n"
   ]
  },
  {
   "cell_type": "markdown",
   "metadata": {},
   "source": [
    "## Walkthrough #3: Cleaning and Preparing Data with Pandas\n",
    "\n",
    "### Handle missing data\n",
    "\n",
    "#### Remove rows"
   ]
  },
  {
   "cell_type": "code",
   "execution_count": 17,
   "metadata": {},
   "outputs": [
    {
     "data": {
      "text/html": [
       "<div>\n",
       "<style scoped>\n",
       "    .dataframe tbody tr th:only-of-type {\n",
       "        vertical-align: middle;\n",
       "    }\n",
       "\n",
       "    .dataframe tbody tr th {\n",
       "        vertical-align: top;\n",
       "    }\n",
       "\n",
       "    .dataframe thead th {\n",
       "        text-align: right;\n",
       "    }\n",
       "</style>\n",
       "<table border=\"1\" class=\"dataframe\">\n",
       "  <thead>\n",
       "    <tr style=\"text-align: right;\">\n",
       "      <th></th>\n",
       "      <th>code</th>\n",
       "      <th>country</th>\n",
       "      <th>year</th>\n",
       "      <th>gdp_percapita</th>\n",
       "      <th>gross_savings</th>\n",
       "      <th>inflation_rate</th>\n",
       "      <th>total_investment</th>\n",
       "      <th>unemployment_rate</th>\n",
       "      <th>exports</th>\n",
       "      <th>imports</th>\n",
       "      <th>income_group</th>\n",
       "    </tr>\n",
       "  </thead>\n",
       "  <tbody>\n",
       "    <tr>\n",
       "      <th>9</th>\n",
       "      <td>ALB</td>\n",
       "      <td>Albania</td>\n",
       "      <td>2010</td>\n",
       "      <td>4097.83</td>\n",
       "      <td>20.023</td>\n",
       "      <td>3.615</td>\n",
       "      <td>31.318</td>\n",
       "      <td>14.000</td>\n",
       "      <td>10.473</td>\n",
       "      <td>-9.316</td>\n",
       "      <td>Upper middle income</td>\n",
       "    </tr>\n",
       "    <tr>\n",
       "      <th>10</th>\n",
       "      <td>ALB</td>\n",
       "      <td>Albania</td>\n",
       "      <td>2015</td>\n",
       "      <td>3953.61</td>\n",
       "      <td>15.804</td>\n",
       "      <td>1.868</td>\n",
       "      <td>26.237</td>\n",
       "      <td>17.100</td>\n",
       "      <td>5.272</td>\n",
       "      <td>0.076</td>\n",
       "      <td>Upper middle income</td>\n",
       "    </tr>\n",
       "    <tr>\n",
       "      <th>11</th>\n",
       "      <td>ALB</td>\n",
       "      <td>Albania</td>\n",
       "      <td>2020</td>\n",
       "      <td>5286.68</td>\n",
       "      <td>13.255</td>\n",
       "      <td>1.603</td>\n",
       "      <td>22.845</td>\n",
       "      <td>12.500</td>\n",
       "      <td>-28.951</td>\n",
       "      <td>-21.446</td>\n",
       "      <td>Upper middle income</td>\n",
       "    </tr>\n",
       "    <tr>\n",
       "      <th>15</th>\n",
       "      <td>ARG</td>\n",
       "      <td>Argentina</td>\n",
       "      <td>2010</td>\n",
       "      <td>10412.97</td>\n",
       "      <td>17.323</td>\n",
       "      <td>10.461</td>\n",
       "      <td>17.706</td>\n",
       "      <td>7.750</td>\n",
       "      <td>13.701</td>\n",
       "      <td>39.414</td>\n",
       "      <td>Upper middle income</td>\n",
       "    </tr>\n",
       "    <tr>\n",
       "      <th>17</th>\n",
       "      <td>ARG</td>\n",
       "      <td>Argentina</td>\n",
       "      <td>2020</td>\n",
       "      <td>8554.64</td>\n",
       "      <td>17.798</td>\n",
       "      <td>42.015</td>\n",
       "      <td>16.845</td>\n",
       "      <td>11.364</td>\n",
       "      <td>-13.124</td>\n",
       "      <td>-10.722</td>\n",
       "      <td>Upper middle income</td>\n",
       "    </tr>\n",
       "    <tr>\n",
       "      <th>...</th>\n",
       "      <td>...</td>\n",
       "      <td>...</td>\n",
       "      <td>...</td>\n",
       "      <td>...</td>\n",
       "      <td>...</td>\n",
       "      <td>...</td>\n",
       "      <td>...</td>\n",
       "      <td>...</td>\n",
       "      <td>...</td>\n",
       "      <td>...</td>\n",
       "      <td>...</td>\n",
       "    </tr>\n",
       "    <tr>\n",
       "      <th>541</th>\n",
       "      <td>VNM</td>\n",
       "      <td>Vietnam</td>\n",
       "      <td>2015</td>\n",
       "      <td>2582.39</td>\n",
       "      <td>26.444</td>\n",
       "      <td>0.631</td>\n",
       "      <td>27.339</td>\n",
       "      <td>2.330</td>\n",
       "      <td>9.713</td>\n",
       "      <td>15.426</td>\n",
       "      <td>Lower middle income</td>\n",
       "    </tr>\n",
       "    <tr>\n",
       "      <th>542</th>\n",
       "      <td>VNM</td>\n",
       "      <td>Vietnam</td>\n",
       "      <td>2020</td>\n",
       "      <td>3498.98</td>\n",
       "      <td>28.603</td>\n",
       "      <td>3.222</td>\n",
       "      <td>26.444</td>\n",
       "      <td>3.300</td>\n",
       "      <td>2.822</td>\n",
       "      <td>2.948</td>\n",
       "      <td>Lower middle income</td>\n",
       "    </tr>\n",
       "    <tr>\n",
       "      <th>552</th>\n",
       "      <td>ZAF</td>\n",
       "      <td>South Africa</td>\n",
       "      <td>2010</td>\n",
       "      <td>7311.74</td>\n",
       "      <td>18.012</td>\n",
       "      <td>4.264</td>\n",
       "      <td>19.513</td>\n",
       "      <td>24.875</td>\n",
       "      <td>7.718</td>\n",
       "      <td>10.794</td>\n",
       "      <td>Upper middle income</td>\n",
       "    </tr>\n",
       "    <tr>\n",
       "      <th>553</th>\n",
       "      <td>ZAF</td>\n",
       "      <td>South Africa</td>\n",
       "      <td>2015</td>\n",
       "      <td>5731.73</td>\n",
       "      <td>16.300</td>\n",
       "      <td>4.575</td>\n",
       "      <td>20.918</td>\n",
       "      <td>25.350</td>\n",
       "      <td>2.925</td>\n",
       "      <td>5.443</td>\n",
       "      <td>Upper middle income</td>\n",
       "    </tr>\n",
       "    <tr>\n",
       "      <th>554</th>\n",
       "      <td>ZAF</td>\n",
       "      <td>South Africa</td>\n",
       "      <td>2020</td>\n",
       "      <td>5067.15</td>\n",
       "      <td>14.602</td>\n",
       "      <td>3.268</td>\n",
       "      <td>12.426</td>\n",
       "      <td>29.175</td>\n",
       "      <td>-10.280</td>\n",
       "      <td>-16.615</td>\n",
       "      <td>Upper middle income</td>\n",
       "    </tr>\n",
       "  </tbody>\n",
       "</table>\n",
       "<p>282 rows × 11 columns</p>\n",
       "</div>"
      ],
      "text/plain": [
       "    code       country  year  gdp_percapita  gross_savings  inflation_rate  \\\n",
       "9    ALB       Albania  2010        4097.83         20.023           3.615   \n",
       "10   ALB       Albania  2015        3953.61         15.804           1.868   \n",
       "11   ALB       Albania  2020        5286.68         13.255           1.603   \n",
       "15   ARG     Argentina  2010       10412.97         17.323          10.461   \n",
       "17   ARG     Argentina  2020        8554.64         17.798          42.015   \n",
       "..   ...           ...   ...            ...            ...             ...   \n",
       "541  VNM       Vietnam  2015        2582.39         26.444           0.631   \n",
       "542  VNM       Vietnam  2020        3498.98         28.603           3.222   \n",
       "552  ZAF  South Africa  2010        7311.74         18.012           4.264   \n",
       "553  ZAF  South Africa  2015        5731.73         16.300           4.575   \n",
       "554  ZAF  South Africa  2020        5067.15         14.602           3.268   \n",
       "\n",
       "     total_investment  unemployment_rate  exports  imports  \\\n",
       "9              31.318             14.000   10.473   -9.316   \n",
       "10             26.237             17.100    5.272    0.076   \n",
       "11             22.845             12.500  -28.951  -21.446   \n",
       "15             17.706              7.750   13.701   39.414   \n",
       "17             16.845             11.364  -13.124  -10.722   \n",
       "..                ...                ...      ...      ...   \n",
       "541            27.339              2.330    9.713   15.426   \n",
       "542            26.444              3.300    2.822    2.948   \n",
       "552            19.513             24.875    7.718   10.794   \n",
       "553            20.918             25.350    2.925    5.443   \n",
       "554            12.426             29.175  -10.280  -16.615   \n",
       "\n",
       "            income_group  \n",
       "9    Upper middle income  \n",
       "10   Upper middle income  \n",
       "11   Upper middle income  \n",
       "15   Upper middle income  \n",
       "17   Upper middle income  \n",
       "..                   ...  \n",
       "541  Lower middle income  \n",
       "542  Lower middle income  \n",
       "552  Upper middle income  \n",
       "553  Upper middle income  \n",
       "554  Upper middle income  \n",
       "\n",
       "[282 rows x 11 columns]"
      ]
     },
     "execution_count": 17,
     "metadata": {},
     "output_type": "execute_result"
    }
   ],
   "source": [
    "# Remove rows with any missing values\n",
    "economies_cleaned_any = economies.dropna(how='any')\n",
    "economies_cleaned_any"
   ]
  },
  {
   "cell_type": "code",
   "execution_count": 18,
   "metadata": {},
   "outputs": [
    {
     "data": {
      "text/html": [
       "<div>\n",
       "<style scoped>\n",
       "    .dataframe tbody tr th:only-of-type {\n",
       "        vertical-align: middle;\n",
       "    }\n",
       "\n",
       "    .dataframe tbody tr th {\n",
       "        vertical-align: top;\n",
       "    }\n",
       "\n",
       "    .dataframe thead th {\n",
       "        text-align: right;\n",
       "    }\n",
       "</style>\n",
       "<table border=\"1\" class=\"dataframe\">\n",
       "  <thead>\n",
       "    <tr style=\"text-align: right;\">\n",
       "      <th></th>\n",
       "      <th>code</th>\n",
       "      <th>country</th>\n",
       "      <th>year</th>\n",
       "      <th>gdp_percapita</th>\n",
       "      <th>gross_savings</th>\n",
       "      <th>inflation_rate</th>\n",
       "      <th>total_investment</th>\n",
       "      <th>unemployment_rate</th>\n",
       "      <th>exports</th>\n",
       "      <th>imports</th>\n",
       "      <th>income_group</th>\n",
       "    </tr>\n",
       "  </thead>\n",
       "  <tbody>\n",
       "    <tr>\n",
       "      <th>0</th>\n",
       "      <td>ABW</td>\n",
       "      <td>Aruba</td>\n",
       "      <td>2010</td>\n",
       "      <td>24087.950</td>\n",
       "      <td>13.255</td>\n",
       "      <td>2.078</td>\n",
       "      <td>NaN</td>\n",
       "      <td>10.600</td>\n",
       "      <td>NaN</td>\n",
       "      <td>NaN</td>\n",
       "      <td>High income</td>\n",
       "    </tr>\n",
       "    <tr>\n",
       "      <th>1</th>\n",
       "      <td>ABW</td>\n",
       "      <td>Aruba</td>\n",
       "      <td>2015</td>\n",
       "      <td>27126.620</td>\n",
       "      <td>21.411</td>\n",
       "      <td>0.475</td>\n",
       "      <td>NaN</td>\n",
       "      <td>7.298</td>\n",
       "      <td>NaN</td>\n",
       "      <td>NaN</td>\n",
       "      <td>High income</td>\n",
       "    </tr>\n",
       "    <tr>\n",
       "      <th>2</th>\n",
       "      <td>ABW</td>\n",
       "      <td>Aruba</td>\n",
       "      <td>2020</td>\n",
       "      <td>21832.920</td>\n",
       "      <td>-7.521</td>\n",
       "      <td>-1.338</td>\n",
       "      <td>NaN</td>\n",
       "      <td>13.997</td>\n",
       "      <td>NaN</td>\n",
       "      <td>NaN</td>\n",
       "      <td>High income</td>\n",
       "    </tr>\n",
       "    <tr>\n",
       "      <th>3</th>\n",
       "      <td>AFG</td>\n",
       "      <td>Afghanistan</td>\n",
       "      <td>2010</td>\n",
       "      <td>631.490</td>\n",
       "      <td>59.699</td>\n",
       "      <td>2.179</td>\n",
       "      <td>30.269</td>\n",
       "      <td>NaN</td>\n",
       "      <td>9.768</td>\n",
       "      <td>32.285</td>\n",
       "      <td>Low income</td>\n",
       "    </tr>\n",
       "    <tr>\n",
       "      <th>4</th>\n",
       "      <td>AFG</td>\n",
       "      <td>Afghanistan</td>\n",
       "      <td>2015</td>\n",
       "      <td>711.337</td>\n",
       "      <td>22.223</td>\n",
       "      <td>-0.662</td>\n",
       "      <td>18.427</td>\n",
       "      <td>NaN</td>\n",
       "      <td>-11.585</td>\n",
       "      <td>15.309</td>\n",
       "      <td>Low income</td>\n",
       "    </tr>\n",
       "    <tr>\n",
       "      <th>...</th>\n",
       "      <td>...</td>\n",
       "      <td>...</td>\n",
       "      <td>...</td>\n",
       "      <td>...</td>\n",
       "      <td>...</td>\n",
       "      <td>...</td>\n",
       "      <td>...</td>\n",
       "      <td>...</td>\n",
       "      <td>...</td>\n",
       "      <td>...</td>\n",
       "      <td>...</td>\n",
       "    </tr>\n",
       "    <tr>\n",
       "      <th>556</th>\n",
       "      <td>ZMB</td>\n",
       "      <td>Zambia</td>\n",
       "      <td>2015</td>\n",
       "      <td>1310.460</td>\n",
       "      <td>40.103</td>\n",
       "      <td>10.107</td>\n",
       "      <td>42.791</td>\n",
       "      <td>NaN</td>\n",
       "      <td>-11.407</td>\n",
       "      <td>0.696</td>\n",
       "      <td>Lower middle income</td>\n",
       "    </tr>\n",
       "    <tr>\n",
       "      <th>557</th>\n",
       "      <td>ZMB</td>\n",
       "      <td>Zambia</td>\n",
       "      <td>2020</td>\n",
       "      <td>981.311</td>\n",
       "      <td>36.030</td>\n",
       "      <td>16.350</td>\n",
       "      <td>34.514</td>\n",
       "      <td>NaN</td>\n",
       "      <td>1.143</td>\n",
       "      <td>2.635</td>\n",
       "      <td>Lower middle income</td>\n",
       "    </tr>\n",
       "    <tr>\n",
       "      <th>558</th>\n",
       "      <td>ZWE</td>\n",
       "      <td>Zimbabwe</td>\n",
       "      <td>2010</td>\n",
       "      <td>975.851</td>\n",
       "      <td>NaN</td>\n",
       "      <td>3.045</td>\n",
       "      <td>NaN</td>\n",
       "      <td>NaN</td>\n",
       "      <td>NaN</td>\n",
       "      <td>NaN</td>\n",
       "      <td>Lower middle income</td>\n",
       "    </tr>\n",
       "    <tr>\n",
       "      <th>559</th>\n",
       "      <td>ZWE</td>\n",
       "      <td>Zimbabwe</td>\n",
       "      <td>2015</td>\n",
       "      <td>1425.010</td>\n",
       "      <td>NaN</td>\n",
       "      <td>-2.410</td>\n",
       "      <td>NaN</td>\n",
       "      <td>NaN</td>\n",
       "      <td>NaN</td>\n",
       "      <td>NaN</td>\n",
       "      <td>Lower middle income</td>\n",
       "    </tr>\n",
       "    <tr>\n",
       "      <th>560</th>\n",
       "      <td>ZWE</td>\n",
       "      <td>Zimbabwe</td>\n",
       "      <td>2020</td>\n",
       "      <td>1385.040</td>\n",
       "      <td>NaN</td>\n",
       "      <td>557.210</td>\n",
       "      <td>NaN</td>\n",
       "      <td>NaN</td>\n",
       "      <td>NaN</td>\n",
       "      <td>NaN</td>\n",
       "      <td>Lower middle income</td>\n",
       "    </tr>\n",
       "  </tbody>\n",
       "</table>\n",
       "<p>561 rows × 11 columns</p>\n",
       "</div>"
      ],
      "text/plain": [
       "    code      country  year  gdp_percapita  gross_savings  inflation_rate  \\\n",
       "0    ABW        Aruba  2010      24087.950         13.255           2.078   \n",
       "1    ABW        Aruba  2015      27126.620         21.411           0.475   \n",
       "2    ABW        Aruba  2020      21832.920         -7.521          -1.338   \n",
       "3    AFG  Afghanistan  2010        631.490         59.699           2.179   \n",
       "4    AFG  Afghanistan  2015        711.337         22.223          -0.662   \n",
       "..   ...          ...   ...            ...            ...             ...   \n",
       "556  ZMB       Zambia  2015       1310.460         40.103          10.107   \n",
       "557  ZMB       Zambia  2020        981.311         36.030          16.350   \n",
       "558  ZWE     Zimbabwe  2010        975.851            NaN           3.045   \n",
       "559  ZWE     Zimbabwe  2015       1425.010            NaN          -2.410   \n",
       "560  ZWE     Zimbabwe  2020       1385.040            NaN         557.210   \n",
       "\n",
       "     total_investment  unemployment_rate  exports  imports  \\\n",
       "0                 NaN             10.600      NaN      NaN   \n",
       "1                 NaN              7.298      NaN      NaN   \n",
       "2                 NaN             13.997      NaN      NaN   \n",
       "3              30.269                NaN    9.768   32.285   \n",
       "4              18.427                NaN  -11.585   15.309   \n",
       "..                ...                ...      ...      ...   \n",
       "556            42.791                NaN  -11.407    0.696   \n",
       "557            34.514                NaN    1.143    2.635   \n",
       "558               NaN                NaN      NaN      NaN   \n",
       "559               NaN                NaN      NaN      NaN   \n",
       "560               NaN                NaN      NaN      NaN   \n",
       "\n",
       "            income_group  \n",
       "0            High income  \n",
       "1            High income  \n",
       "2            High income  \n",
       "3             Low income  \n",
       "4             Low income  \n",
       "..                   ...  \n",
       "556  Lower middle income  \n",
       "557  Lower middle income  \n",
       "558  Lower middle income  \n",
       "559  Lower middle income  \n",
       "560  Lower middle income  \n",
       "\n",
       "[561 rows x 11 columns]"
      ]
     },
     "execution_count": 18,
     "metadata": {},
     "output_type": "execute_result"
    }
   ],
   "source": [
    "# Remove rows only if all values are missing\n",
    "economies_cleaned_all = economies.dropna(how='all')\n",
    "economies_cleaned_all"
   ]
  },
  {
   "cell_type": "code",
   "execution_count": 19,
   "metadata": {},
   "outputs": [
    {
     "data": {
      "text/html": [
       "<div>\n",
       "<style scoped>\n",
       "    .dataframe tbody tr th:only-of-type {\n",
       "        vertical-align: middle;\n",
       "    }\n",
       "\n",
       "    .dataframe tbody tr th {\n",
       "        vertical-align: top;\n",
       "    }\n",
       "\n",
       "    .dataframe thead th {\n",
       "        text-align: right;\n",
       "    }\n",
       "</style>\n",
       "<table border=\"1\" class=\"dataframe\">\n",
       "  <thead>\n",
       "    <tr style=\"text-align: right;\">\n",
       "      <th></th>\n",
       "      <th>code</th>\n",
       "      <th>country</th>\n",
       "      <th>year</th>\n",
       "      <th>gdp_percapita</th>\n",
       "      <th>gross_savings</th>\n",
       "      <th>inflation_rate</th>\n",
       "      <th>total_investment</th>\n",
       "      <th>unemployment_rate</th>\n",
       "      <th>exports</th>\n",
       "      <th>imports</th>\n",
       "      <th>income_group</th>\n",
       "    </tr>\n",
       "  </thead>\n",
       "  <tbody>\n",
       "    <tr>\n",
       "      <th>3</th>\n",
       "      <td>AFG</td>\n",
       "      <td>Afghanistan</td>\n",
       "      <td>2010</td>\n",
       "      <td>631.490</td>\n",
       "      <td>59.699</td>\n",
       "      <td>2.179</td>\n",
       "      <td>30.269</td>\n",
       "      <td>NaN</td>\n",
       "      <td>9.768</td>\n",
       "      <td>32.285</td>\n",
       "      <td>Low income</td>\n",
       "    </tr>\n",
       "    <tr>\n",
       "      <th>4</th>\n",
       "      <td>AFG</td>\n",
       "      <td>Afghanistan</td>\n",
       "      <td>2015</td>\n",
       "      <td>711.337</td>\n",
       "      <td>22.223</td>\n",
       "      <td>-0.662</td>\n",
       "      <td>18.427</td>\n",
       "      <td>NaN</td>\n",
       "      <td>-11.585</td>\n",
       "      <td>15.309</td>\n",
       "      <td>Low income</td>\n",
       "    </tr>\n",
       "    <tr>\n",
       "      <th>5</th>\n",
       "      <td>AFG</td>\n",
       "      <td>Afghanistan</td>\n",
       "      <td>2020</td>\n",
       "      <td>580.817</td>\n",
       "      <td>27.132</td>\n",
       "      <td>5.607</td>\n",
       "      <td>16.420</td>\n",
       "      <td>NaN</td>\n",
       "      <td>-10.424</td>\n",
       "      <td>2.892</td>\n",
       "      <td>Low income</td>\n",
       "    </tr>\n",
       "    <tr>\n",
       "      <th>6</th>\n",
       "      <td>AGO</td>\n",
       "      <td>Angola</td>\n",
       "      <td>2010</td>\n",
       "      <td>3641.440</td>\n",
       "      <td>34.833</td>\n",
       "      <td>14.480</td>\n",
       "      <td>28.197</td>\n",
       "      <td>NaN</td>\n",
       "      <td>-3.266</td>\n",
       "      <td>-21.656</td>\n",
       "      <td>Lower middle income</td>\n",
       "    </tr>\n",
       "    <tr>\n",
       "      <th>7</th>\n",
       "      <td>AGO</td>\n",
       "      <td>Angola</td>\n",
       "      <td>2015</td>\n",
       "      <td>4354.920</td>\n",
       "      <td>28.491</td>\n",
       "      <td>9.159</td>\n",
       "      <td>34.202</td>\n",
       "      <td>NaN</td>\n",
       "      <td>6.721</td>\n",
       "      <td>-19.515</td>\n",
       "      <td>Lower middle income</td>\n",
       "    </tr>\n",
       "    <tr>\n",
       "      <th>...</th>\n",
       "      <td>...</td>\n",
       "      <td>...</td>\n",
       "      <td>...</td>\n",
       "      <td>...</td>\n",
       "      <td>...</td>\n",
       "      <td>...</td>\n",
       "      <td>...</td>\n",
       "      <td>...</td>\n",
       "      <td>...</td>\n",
       "      <td>...</td>\n",
       "      <td>...</td>\n",
       "    </tr>\n",
       "    <tr>\n",
       "      <th>553</th>\n",
       "      <td>ZAF</td>\n",
       "      <td>South Africa</td>\n",
       "      <td>2015</td>\n",
       "      <td>5731.730</td>\n",
       "      <td>16.300</td>\n",
       "      <td>4.575</td>\n",
       "      <td>20.918</td>\n",
       "      <td>25.350</td>\n",
       "      <td>2.925</td>\n",
       "      <td>5.443</td>\n",
       "      <td>Upper middle income</td>\n",
       "    </tr>\n",
       "    <tr>\n",
       "      <th>554</th>\n",
       "      <td>ZAF</td>\n",
       "      <td>South Africa</td>\n",
       "      <td>2020</td>\n",
       "      <td>5067.150</td>\n",
       "      <td>14.602</td>\n",
       "      <td>3.268</td>\n",
       "      <td>12.426</td>\n",
       "      <td>29.175</td>\n",
       "      <td>-10.280</td>\n",
       "      <td>-16.615</td>\n",
       "      <td>Upper middle income</td>\n",
       "    </tr>\n",
       "    <tr>\n",
       "      <th>555</th>\n",
       "      <td>ZMB</td>\n",
       "      <td>Zambia</td>\n",
       "      <td>2010</td>\n",
       "      <td>1456.050</td>\n",
       "      <td>37.405</td>\n",
       "      <td>8.500</td>\n",
       "      <td>29.878</td>\n",
       "      <td>NaN</td>\n",
       "      <td>19.476</td>\n",
       "      <td>32.492</td>\n",
       "      <td>Lower middle income</td>\n",
       "    </tr>\n",
       "    <tr>\n",
       "      <th>556</th>\n",
       "      <td>ZMB</td>\n",
       "      <td>Zambia</td>\n",
       "      <td>2015</td>\n",
       "      <td>1310.460</td>\n",
       "      <td>40.103</td>\n",
       "      <td>10.107</td>\n",
       "      <td>42.791</td>\n",
       "      <td>NaN</td>\n",
       "      <td>-11.407</td>\n",
       "      <td>0.696</td>\n",
       "      <td>Lower middle income</td>\n",
       "    </tr>\n",
       "    <tr>\n",
       "      <th>557</th>\n",
       "      <td>ZMB</td>\n",
       "      <td>Zambia</td>\n",
       "      <td>2020</td>\n",
       "      <td>981.311</td>\n",
       "      <td>36.030</td>\n",
       "      <td>16.350</td>\n",
       "      <td>34.514</td>\n",
       "      <td>NaN</td>\n",
       "      <td>1.143</td>\n",
       "      <td>2.635</td>\n",
       "      <td>Lower middle income</td>\n",
       "    </tr>\n",
       "  </tbody>\n",
       "</table>\n",
       "<p>506 rows × 11 columns</p>\n",
       "</div>"
      ],
      "text/plain": [
       "    code       country  year  gdp_percapita  gross_savings  inflation_rate  \\\n",
       "3    AFG   Afghanistan  2010        631.490         59.699           2.179   \n",
       "4    AFG   Afghanistan  2015        711.337         22.223          -0.662   \n",
       "5    AFG   Afghanistan  2020        580.817         27.132           5.607   \n",
       "6    AGO        Angola  2010       3641.440         34.833          14.480   \n",
       "7    AGO        Angola  2015       4354.920         28.491           9.159   \n",
       "..   ...           ...   ...            ...            ...             ...   \n",
       "553  ZAF  South Africa  2015       5731.730         16.300           4.575   \n",
       "554  ZAF  South Africa  2020       5067.150         14.602           3.268   \n",
       "555  ZMB        Zambia  2010       1456.050         37.405           8.500   \n",
       "556  ZMB        Zambia  2015       1310.460         40.103          10.107   \n",
       "557  ZMB        Zambia  2020        981.311         36.030          16.350   \n",
       "\n",
       "     total_investment  unemployment_rate  exports  imports  \\\n",
       "3              30.269                NaN    9.768   32.285   \n",
       "4              18.427                NaN  -11.585   15.309   \n",
       "5              16.420                NaN  -10.424    2.892   \n",
       "6              28.197                NaN   -3.266  -21.656   \n",
       "7              34.202                NaN    6.721  -19.515   \n",
       "..                ...                ...      ...      ...   \n",
       "553            20.918             25.350    2.925    5.443   \n",
       "554            12.426             29.175  -10.280  -16.615   \n",
       "555            29.878                NaN   19.476   32.492   \n",
       "556            42.791                NaN  -11.407    0.696   \n",
       "557            34.514                NaN    1.143    2.635   \n",
       "\n",
       "            income_group  \n",
       "3             Low income  \n",
       "4             Low income  \n",
       "5             Low income  \n",
       "6    Lower middle income  \n",
       "7    Lower middle income  \n",
       "..                   ...  \n",
       "553  Upper middle income  \n",
       "554  Upper middle income  \n",
       "555  Lower middle income  \n",
       "556  Lower middle income  \n",
       "557  Lower middle income  \n",
       "\n",
       "[506 rows x 11 columns]"
      ]
     },
     "execution_count": 19,
     "metadata": {},
     "output_type": "execute_result"
    }
   ],
   "source": [
    "# Remove rows with missing values in specific columns\n",
    "economies_cleaned_subset = economies.dropna(subset=['exports', 'imports'])\n",
    "economies_cleaned_subset"
   ]
  },
  {
   "cell_type": "markdown",
   "metadata": {},
   "source": [
    "#### Remove columns"
   ]
  },
  {
   "cell_type": "code",
   "execution_count": 20,
   "metadata": {},
   "outputs": [
    {
     "data": {
      "text/html": [
       "<div>\n",
       "<style scoped>\n",
       "    .dataframe tbody tr th:only-of-type {\n",
       "        vertical-align: middle;\n",
       "    }\n",
       "\n",
       "    .dataframe tbody tr th {\n",
       "        vertical-align: top;\n",
       "    }\n",
       "\n",
       "    .dataframe thead th {\n",
       "        text-align: right;\n",
       "    }\n",
       "</style>\n",
       "<table border=\"1\" class=\"dataframe\">\n",
       "  <thead>\n",
       "    <tr style=\"text-align: right;\">\n",
       "      <th></th>\n",
       "      <th>code</th>\n",
       "      <th>country</th>\n",
       "      <th>year</th>\n",
       "      <th>income_group</th>\n",
       "    </tr>\n",
       "  </thead>\n",
       "  <tbody>\n",
       "    <tr>\n",
       "      <th>0</th>\n",
       "      <td>ABW</td>\n",
       "      <td>Aruba</td>\n",
       "      <td>2010</td>\n",
       "      <td>High income</td>\n",
       "    </tr>\n",
       "    <tr>\n",
       "      <th>1</th>\n",
       "      <td>ABW</td>\n",
       "      <td>Aruba</td>\n",
       "      <td>2015</td>\n",
       "      <td>High income</td>\n",
       "    </tr>\n",
       "    <tr>\n",
       "      <th>2</th>\n",
       "      <td>ABW</td>\n",
       "      <td>Aruba</td>\n",
       "      <td>2020</td>\n",
       "      <td>High income</td>\n",
       "    </tr>\n",
       "    <tr>\n",
       "      <th>3</th>\n",
       "      <td>AFG</td>\n",
       "      <td>Afghanistan</td>\n",
       "      <td>2010</td>\n",
       "      <td>Low income</td>\n",
       "    </tr>\n",
       "    <tr>\n",
       "      <th>4</th>\n",
       "      <td>AFG</td>\n",
       "      <td>Afghanistan</td>\n",
       "      <td>2015</td>\n",
       "      <td>Low income</td>\n",
       "    </tr>\n",
       "    <tr>\n",
       "      <th>...</th>\n",
       "      <td>...</td>\n",
       "      <td>...</td>\n",
       "      <td>...</td>\n",
       "      <td>...</td>\n",
       "    </tr>\n",
       "    <tr>\n",
       "      <th>556</th>\n",
       "      <td>ZMB</td>\n",
       "      <td>Zambia</td>\n",
       "      <td>2015</td>\n",
       "      <td>Lower middle income</td>\n",
       "    </tr>\n",
       "    <tr>\n",
       "      <th>557</th>\n",
       "      <td>ZMB</td>\n",
       "      <td>Zambia</td>\n",
       "      <td>2020</td>\n",
       "      <td>Lower middle income</td>\n",
       "    </tr>\n",
       "    <tr>\n",
       "      <th>558</th>\n",
       "      <td>ZWE</td>\n",
       "      <td>Zimbabwe</td>\n",
       "      <td>2010</td>\n",
       "      <td>Lower middle income</td>\n",
       "    </tr>\n",
       "    <tr>\n",
       "      <th>559</th>\n",
       "      <td>ZWE</td>\n",
       "      <td>Zimbabwe</td>\n",
       "      <td>2015</td>\n",
       "      <td>Lower middle income</td>\n",
       "    </tr>\n",
       "    <tr>\n",
       "      <th>560</th>\n",
       "      <td>ZWE</td>\n",
       "      <td>Zimbabwe</td>\n",
       "      <td>2020</td>\n",
       "      <td>Lower middle income</td>\n",
       "    </tr>\n",
       "  </tbody>\n",
       "</table>\n",
       "<p>561 rows × 4 columns</p>\n",
       "</div>"
      ],
      "text/plain": [
       "    code      country  year         income_group\n",
       "0    ABW        Aruba  2010          High income\n",
       "1    ABW        Aruba  2015          High income\n",
       "2    ABW        Aruba  2020          High income\n",
       "3    AFG  Afghanistan  2010           Low income\n",
       "4    AFG  Afghanistan  2015           Low income\n",
       "..   ...          ...   ...                  ...\n",
       "556  ZMB       Zambia  2015  Lower middle income\n",
       "557  ZMB       Zambia  2020  Lower middle income\n",
       "558  ZWE     Zimbabwe  2010  Lower middle income\n",
       "559  ZWE     Zimbabwe  2015  Lower middle income\n",
       "560  ZWE     Zimbabwe  2020  Lower middle income\n",
       "\n",
       "[561 rows x 4 columns]"
      ]
     },
     "execution_count": 20,
     "metadata": {},
     "output_type": "execute_result"
    }
   ],
   "source": [
    "# Remove columns with any missing values\n",
    "economies_no_missing_columns = economies.dropna(axis=1)\n",
    "\n",
    "# Display the DataFrame after removing columns with missing values\n",
    "economies_no_missing_columns"
   ]
  },
  {
   "cell_type": "markdown",
   "metadata": {},
   "source": [
    "#### Replace missing values with specific value"
   ]
  },
  {
   "cell_type": "code",
   "execution_count": 21,
   "metadata": {},
   "outputs": [
    {
     "data": {
      "text/html": [
       "<div>\n",
       "<style scoped>\n",
       "    .dataframe tbody tr th:only-of-type {\n",
       "        vertical-align: middle;\n",
       "    }\n",
       "\n",
       "    .dataframe tbody tr th {\n",
       "        vertical-align: top;\n",
       "    }\n",
       "\n",
       "    .dataframe thead th {\n",
       "        text-align: right;\n",
       "    }\n",
       "</style>\n",
       "<table border=\"1\" class=\"dataframe\">\n",
       "  <thead>\n",
       "    <tr style=\"text-align: right;\">\n",
       "      <th></th>\n",
       "      <th>code</th>\n",
       "      <th>country</th>\n",
       "      <th>year</th>\n",
       "      <th>gdp_percapita</th>\n",
       "      <th>gross_savings</th>\n",
       "      <th>inflation_rate</th>\n",
       "      <th>total_investment</th>\n",
       "      <th>unemployment_rate</th>\n",
       "      <th>exports</th>\n",
       "      <th>imports</th>\n",
       "      <th>income_group</th>\n",
       "    </tr>\n",
       "  </thead>\n",
       "  <tbody>\n",
       "    <tr>\n",
       "      <th>0</th>\n",
       "      <td>ABW</td>\n",
       "      <td>Aruba</td>\n",
       "      <td>2010</td>\n",
       "      <td>24087.950</td>\n",
       "      <td>13.255</td>\n",
       "      <td>2.078</td>\n",
       "      <td>0.000</td>\n",
       "      <td>10.600</td>\n",
       "      <td>0.000</td>\n",
       "      <td>0.000</td>\n",
       "      <td>High income</td>\n",
       "    </tr>\n",
       "    <tr>\n",
       "      <th>1</th>\n",
       "      <td>ABW</td>\n",
       "      <td>Aruba</td>\n",
       "      <td>2015</td>\n",
       "      <td>27126.620</td>\n",
       "      <td>21.411</td>\n",
       "      <td>0.475</td>\n",
       "      <td>0.000</td>\n",
       "      <td>7.298</td>\n",
       "      <td>0.000</td>\n",
       "      <td>0.000</td>\n",
       "      <td>High income</td>\n",
       "    </tr>\n",
       "    <tr>\n",
       "      <th>2</th>\n",
       "      <td>ABW</td>\n",
       "      <td>Aruba</td>\n",
       "      <td>2020</td>\n",
       "      <td>21832.920</td>\n",
       "      <td>-7.521</td>\n",
       "      <td>-1.338</td>\n",
       "      <td>0.000</td>\n",
       "      <td>13.997</td>\n",
       "      <td>0.000</td>\n",
       "      <td>0.000</td>\n",
       "      <td>High income</td>\n",
       "    </tr>\n",
       "    <tr>\n",
       "      <th>3</th>\n",
       "      <td>AFG</td>\n",
       "      <td>Afghanistan</td>\n",
       "      <td>2010</td>\n",
       "      <td>631.490</td>\n",
       "      <td>59.699</td>\n",
       "      <td>2.179</td>\n",
       "      <td>30.269</td>\n",
       "      <td>0.000</td>\n",
       "      <td>9.768</td>\n",
       "      <td>32.285</td>\n",
       "      <td>Low income</td>\n",
       "    </tr>\n",
       "    <tr>\n",
       "      <th>4</th>\n",
       "      <td>AFG</td>\n",
       "      <td>Afghanistan</td>\n",
       "      <td>2015</td>\n",
       "      <td>711.337</td>\n",
       "      <td>22.223</td>\n",
       "      <td>-0.662</td>\n",
       "      <td>18.427</td>\n",
       "      <td>0.000</td>\n",
       "      <td>-11.585</td>\n",
       "      <td>15.309</td>\n",
       "      <td>Low income</td>\n",
       "    </tr>\n",
       "    <tr>\n",
       "      <th>...</th>\n",
       "      <td>...</td>\n",
       "      <td>...</td>\n",
       "      <td>...</td>\n",
       "      <td>...</td>\n",
       "      <td>...</td>\n",
       "      <td>...</td>\n",
       "      <td>...</td>\n",
       "      <td>...</td>\n",
       "      <td>...</td>\n",
       "      <td>...</td>\n",
       "      <td>...</td>\n",
       "    </tr>\n",
       "    <tr>\n",
       "      <th>556</th>\n",
       "      <td>ZMB</td>\n",
       "      <td>Zambia</td>\n",
       "      <td>2015</td>\n",
       "      <td>1310.460</td>\n",
       "      <td>40.103</td>\n",
       "      <td>10.107</td>\n",
       "      <td>42.791</td>\n",
       "      <td>0.000</td>\n",
       "      <td>-11.407</td>\n",
       "      <td>0.696</td>\n",
       "      <td>Lower middle income</td>\n",
       "    </tr>\n",
       "    <tr>\n",
       "      <th>557</th>\n",
       "      <td>ZMB</td>\n",
       "      <td>Zambia</td>\n",
       "      <td>2020</td>\n",
       "      <td>981.311</td>\n",
       "      <td>36.030</td>\n",
       "      <td>16.350</td>\n",
       "      <td>34.514</td>\n",
       "      <td>0.000</td>\n",
       "      <td>1.143</td>\n",
       "      <td>2.635</td>\n",
       "      <td>Lower middle income</td>\n",
       "    </tr>\n",
       "    <tr>\n",
       "      <th>558</th>\n",
       "      <td>ZWE</td>\n",
       "      <td>Zimbabwe</td>\n",
       "      <td>2010</td>\n",
       "      <td>975.851</td>\n",
       "      <td>0.000</td>\n",
       "      <td>3.045</td>\n",
       "      <td>0.000</td>\n",
       "      <td>0.000</td>\n",
       "      <td>0.000</td>\n",
       "      <td>0.000</td>\n",
       "      <td>Lower middle income</td>\n",
       "    </tr>\n",
       "    <tr>\n",
       "      <th>559</th>\n",
       "      <td>ZWE</td>\n",
       "      <td>Zimbabwe</td>\n",
       "      <td>2015</td>\n",
       "      <td>1425.010</td>\n",
       "      <td>0.000</td>\n",
       "      <td>-2.410</td>\n",
       "      <td>0.000</td>\n",
       "      <td>0.000</td>\n",
       "      <td>0.000</td>\n",
       "      <td>0.000</td>\n",
       "      <td>Lower middle income</td>\n",
       "    </tr>\n",
       "    <tr>\n",
       "      <th>560</th>\n",
       "      <td>ZWE</td>\n",
       "      <td>Zimbabwe</td>\n",
       "      <td>2020</td>\n",
       "      <td>1385.040</td>\n",
       "      <td>0.000</td>\n",
       "      <td>557.210</td>\n",
       "      <td>0.000</td>\n",
       "      <td>0.000</td>\n",
       "      <td>0.000</td>\n",
       "      <td>0.000</td>\n",
       "      <td>Lower middle income</td>\n",
       "    </tr>\n",
       "  </tbody>\n",
       "</table>\n",
       "<p>561 rows × 11 columns</p>\n",
       "</div>"
      ],
      "text/plain": [
       "    code      country  year  gdp_percapita  gross_savings  inflation_rate  \\\n",
       "0    ABW        Aruba  2010      24087.950         13.255           2.078   \n",
       "1    ABW        Aruba  2015      27126.620         21.411           0.475   \n",
       "2    ABW        Aruba  2020      21832.920         -7.521          -1.338   \n",
       "3    AFG  Afghanistan  2010        631.490         59.699           2.179   \n",
       "4    AFG  Afghanistan  2015        711.337         22.223          -0.662   \n",
       "..   ...          ...   ...            ...            ...             ...   \n",
       "556  ZMB       Zambia  2015       1310.460         40.103          10.107   \n",
       "557  ZMB       Zambia  2020        981.311         36.030          16.350   \n",
       "558  ZWE     Zimbabwe  2010        975.851          0.000           3.045   \n",
       "559  ZWE     Zimbabwe  2015       1425.010          0.000          -2.410   \n",
       "560  ZWE     Zimbabwe  2020       1385.040          0.000         557.210   \n",
       "\n",
       "     total_investment  unemployment_rate  exports  imports  \\\n",
       "0               0.000             10.600    0.000    0.000   \n",
       "1               0.000              7.298    0.000    0.000   \n",
       "2               0.000             13.997    0.000    0.000   \n",
       "3              30.269              0.000    9.768   32.285   \n",
       "4              18.427              0.000  -11.585   15.309   \n",
       "..                ...                ...      ...      ...   \n",
       "556            42.791              0.000  -11.407    0.696   \n",
       "557            34.514              0.000    1.143    2.635   \n",
       "558             0.000              0.000    0.000    0.000   \n",
       "559             0.000              0.000    0.000    0.000   \n",
       "560             0.000              0.000    0.000    0.000   \n",
       "\n",
       "            income_group  \n",
       "0            High income  \n",
       "1            High income  \n",
       "2            High income  \n",
       "3             Low income  \n",
       "4             Low income  \n",
       "..                   ...  \n",
       "556  Lower middle income  \n",
       "557  Lower middle income  \n",
       "558  Lower middle income  \n",
       "559  Lower middle income  \n",
       "560  Lower middle income  \n",
       "\n",
       "[561 rows x 11 columns]"
      ]
     },
     "execution_count": 21,
     "metadata": {},
     "output_type": "execute_result"
    }
   ],
   "source": [
    "# Replace missing values with a specific value (e.g., 0 for numerical columns, 'Unknown' for categorical columns)\n",
    "economies_fill_value = economies.fillna({\n",
    "    'gdp_percapita': 0,\n",
    "    'gross_savings': 0,\n",
    "    'inflation_rate': 0,\n",
    "    'total_investment': 0,\n",
    "    'unemployment_rate': 0,\n",
    "    'exports': 0,\n",
    "    'imports': 0,\n",
    "    'income_group': 'Unknown'\n",
    "})\n",
    "\n",
    "# Display the DataFrame after replacing missing values with specific values\n",
    "economies_fill_value"
   ]
  },
  {
   "cell_type": "markdown",
   "metadata": {},
   "source": [
    "This can be extended to replace missing values with the mean, median, or mode of the column too, but that's beyond the scope of this course.\n",
    "\n",
    "### Convert a column to a different data type"
   ]
  },
  {
   "cell_type": "code",
   "execution_count": 22,
   "metadata": {},
   "outputs": [
    {
     "name": "stdout",
     "output_type": "stream",
     "text": [
      "<class 'pandas.core.frame.DataFrame'>\n",
      "RangeIndex: 561 entries, 0 to 560\n",
      "Data columns (total 11 columns):\n",
      " #   Column             Non-Null Count  Dtype  \n",
      "---  ------             --------------  -----  \n",
      " 0   code               561 non-null    object \n",
      " 1   country            561 non-null    object \n",
      " 2   year               561 non-null    object \n",
      " 3   gdp_percapita      558 non-null    float64\n",
      " 4   gross_savings      490 non-null    float64\n",
      " 5   inflation_rate     555 non-null    float64\n",
      " 6   total_investment   490 non-null    float64\n",
      " 7   unemployment_rate  312 non-null    float64\n",
      " 8   exports            509 non-null    float64\n",
      " 9   imports            506 non-null    float64\n",
      " 10  income_group       561 non-null    object \n",
      "dtypes: float64(7), object(4)\n",
      "memory usage: 48.3+ KB\n"
     ]
    }
   ],
   "source": [
    "# Change year to be a string instead of an integer\n",
    "economies_char_year = economies.astype({'year': 'str'})\n",
    "\n",
    "# Display the information on the DataFrame with year as a string\n",
    "economies_char_year.info()"
   ]
  },
  {
   "cell_type": "code",
   "execution_count": 23,
   "metadata": {},
   "outputs": [
    {
     "name": "stdout",
     "output_type": "stream",
     "text": [
      "<class 'pandas.core.frame.DataFrame'>\n",
      "RangeIndex: 561 entries, 0 to 560\n",
      "Data columns (total 11 columns):\n",
      " #   Column             Non-Null Count  Dtype  \n",
      "---  ------             --------------  -----  \n",
      " 0   code               561 non-null    object \n",
      " 1   country            561 non-null    object \n",
      " 2   year               561 non-null    int64  \n",
      " 3   gdp_percapita      558 non-null    float64\n",
      " 4   gross_savings      490 non-null    float64\n",
      " 5   inflation_rate     555 non-null    float64\n",
      " 6   total_investment   490 non-null    float64\n",
      " 7   unemployment_rate  312 non-null    float64\n",
      " 8   exports            509 non-null    float64\n",
      " 9   imports            506 non-null    float64\n",
      " 10  income_group       561 non-null    object \n",
      "dtypes: float64(7), int64(1), object(3)\n",
      "memory usage: 48.3+ KB\n"
     ]
    }
   ],
   "source": [
    "# Change the year of string type back to integer\n",
    "economies_int_year = economies_char_year.astype({'year': 'int'})\n",
    "\n",
    "# Display the information on the DataFrame with year as a string\n",
    "economies_int_year.info()"
   ]
  },
  {
   "cell_type": "markdown",
   "metadata": {},
   "source": [
    "### Rename a column"
   ]
  },
  {
   "cell_type": "code",
   "execution_count": 25,
   "metadata": {},
   "outputs": [
    {
     "data": {
      "text/html": [
       "<div>\n",
       "<style scoped>\n",
       "    .dataframe tbody tr th:only-of-type {\n",
       "        vertical-align: middle;\n",
       "    }\n",
       "\n",
       "    .dataframe tbody tr th {\n",
       "        vertical-align: top;\n",
       "    }\n",
       "\n",
       "    .dataframe thead th {\n",
       "        text-align: right;\n",
       "    }\n",
       "</style>\n",
       "<table border=\"1\" class=\"dataframe\">\n",
       "  <thead>\n",
       "    <tr style=\"text-align: right;\">\n",
       "      <th></th>\n",
       "      <th>code</th>\n",
       "      <th>country</th>\n",
       "      <th>year</th>\n",
       "      <th>gdp_percapita</th>\n",
       "      <th>gross_savings</th>\n",
       "      <th>inflation_rate</th>\n",
       "      <th>total_investment</th>\n",
       "      <th>unemployment_rate</th>\n",
       "      <th>exports</th>\n",
       "      <th>imports</th>\n",
       "      <th>income_category</th>\n",
       "    </tr>\n",
       "  </thead>\n",
       "  <tbody>\n",
       "    <tr>\n",
       "      <th>556</th>\n",
       "      <td>ZMB</td>\n",
       "      <td>Zambia</td>\n",
       "      <td>2015</td>\n",
       "      <td>1310.460</td>\n",
       "      <td>40.103</td>\n",
       "      <td>10.107</td>\n",
       "      <td>42.791</td>\n",
       "      <td>NaN</td>\n",
       "      <td>-11.407</td>\n",
       "      <td>0.696</td>\n",
       "      <td>Lower middle income</td>\n",
       "    </tr>\n",
       "    <tr>\n",
       "      <th>557</th>\n",
       "      <td>ZMB</td>\n",
       "      <td>Zambia</td>\n",
       "      <td>2020</td>\n",
       "      <td>981.311</td>\n",
       "      <td>36.030</td>\n",
       "      <td>16.350</td>\n",
       "      <td>34.514</td>\n",
       "      <td>NaN</td>\n",
       "      <td>1.143</td>\n",
       "      <td>2.635</td>\n",
       "      <td>Lower middle income</td>\n",
       "    </tr>\n",
       "    <tr>\n",
       "      <th>558</th>\n",
       "      <td>ZWE</td>\n",
       "      <td>Zimbabwe</td>\n",
       "      <td>2010</td>\n",
       "      <td>975.851</td>\n",
       "      <td>NaN</td>\n",
       "      <td>3.045</td>\n",
       "      <td>NaN</td>\n",
       "      <td>NaN</td>\n",
       "      <td>NaN</td>\n",
       "      <td>NaN</td>\n",
       "      <td>Lower middle income</td>\n",
       "    </tr>\n",
       "    <tr>\n",
       "      <th>559</th>\n",
       "      <td>ZWE</td>\n",
       "      <td>Zimbabwe</td>\n",
       "      <td>2015</td>\n",
       "      <td>1425.010</td>\n",
       "      <td>NaN</td>\n",
       "      <td>-2.410</td>\n",
       "      <td>NaN</td>\n",
       "      <td>NaN</td>\n",
       "      <td>NaN</td>\n",
       "      <td>NaN</td>\n",
       "      <td>Lower middle income</td>\n",
       "    </tr>\n",
       "    <tr>\n",
       "      <th>560</th>\n",
       "      <td>ZWE</td>\n",
       "      <td>Zimbabwe</td>\n",
       "      <td>2020</td>\n",
       "      <td>1385.040</td>\n",
       "      <td>NaN</td>\n",
       "      <td>557.210</td>\n",
       "      <td>NaN</td>\n",
       "      <td>NaN</td>\n",
       "      <td>NaN</td>\n",
       "      <td>NaN</td>\n",
       "      <td>Lower middle income</td>\n",
       "    </tr>\n",
       "  </tbody>\n",
       "</table>\n",
       "</div>"
      ],
      "text/plain": [
       "    code   country  year  gdp_percapita  gross_savings  inflation_rate  \\\n",
       "556  ZMB    Zambia  2015       1310.460         40.103          10.107   \n",
       "557  ZMB    Zambia  2020        981.311         36.030          16.350   \n",
       "558  ZWE  Zimbabwe  2010        975.851            NaN           3.045   \n",
       "559  ZWE  Zimbabwe  2015       1425.010            NaN          -2.410   \n",
       "560  ZWE  Zimbabwe  2020       1385.040            NaN         557.210   \n",
       "\n",
       "     total_investment  unemployment_rate  exports  imports  \\\n",
       "556            42.791                NaN  -11.407    0.696   \n",
       "557            34.514                NaN    1.143    2.635   \n",
       "558               NaN                NaN      NaN      NaN   \n",
       "559               NaN                NaN      NaN      NaN   \n",
       "560               NaN                NaN      NaN      NaN   \n",
       "\n",
       "         income_category  \n",
       "556  Lower middle income  \n",
       "557  Lower middle income  \n",
       "558  Lower middle income  \n",
       "559  Lower middle income  \n",
       "560  Lower middle income  "
      ]
     },
     "execution_count": 25,
     "metadata": {},
     "output_type": "execute_result"
    }
   ],
   "source": [
    "# Rename the 'income_group' column to 'income_category'\n",
    "economies_renamed = economies.rename(columns={'income_group': 'income_category'})\n",
    "economies_renamed.tail()"
   ]
  },
  {
   "cell_type": "markdown",
   "metadata": {},
   "source": [
    "### Changing a DataFrame’s index\n",
    "\n",
    "#### Set the index"
   ]
  },
  {
   "cell_type": "code",
   "execution_count": 26,
   "metadata": {},
   "outputs": [
    {
     "data": {
      "text/html": [
       "<div>\n",
       "<style scoped>\n",
       "    .dataframe tbody tr th:only-of-type {\n",
       "        vertical-align: middle;\n",
       "    }\n",
       "\n",
       "    .dataframe tbody tr th {\n",
       "        vertical-align: top;\n",
       "    }\n",
       "\n",
       "    .dataframe thead th {\n",
       "        text-align: right;\n",
       "    }\n",
       "</style>\n",
       "<table border=\"1\" class=\"dataframe\">\n",
       "  <thead>\n",
       "    <tr style=\"text-align: right;\">\n",
       "      <th></th>\n",
       "      <th></th>\n",
       "      <th>country</th>\n",
       "      <th>gdp_percapita</th>\n",
       "      <th>gross_savings</th>\n",
       "      <th>inflation_rate</th>\n",
       "      <th>total_investment</th>\n",
       "      <th>unemployment_rate</th>\n",
       "      <th>exports</th>\n",
       "      <th>imports</th>\n",
       "      <th>income_group</th>\n",
       "    </tr>\n",
       "    <tr>\n",
       "      <th>code</th>\n",
       "      <th>year</th>\n",
       "      <th></th>\n",
       "      <th></th>\n",
       "      <th></th>\n",
       "      <th></th>\n",
       "      <th></th>\n",
       "      <th></th>\n",
       "      <th></th>\n",
       "      <th></th>\n",
       "      <th></th>\n",
       "    </tr>\n",
       "  </thead>\n",
       "  <tbody>\n",
       "    <tr>\n",
       "      <th rowspan=\"3\" valign=\"top\">ABW</th>\n",
       "      <th>2010</th>\n",
       "      <td>Aruba</td>\n",
       "      <td>24087.950</td>\n",
       "      <td>13.255</td>\n",
       "      <td>2.078</td>\n",
       "      <td>NaN</td>\n",
       "      <td>10.600</td>\n",
       "      <td>NaN</td>\n",
       "      <td>NaN</td>\n",
       "      <td>High income</td>\n",
       "    </tr>\n",
       "    <tr>\n",
       "      <th>2015</th>\n",
       "      <td>Aruba</td>\n",
       "      <td>27126.620</td>\n",
       "      <td>21.411</td>\n",
       "      <td>0.475</td>\n",
       "      <td>NaN</td>\n",
       "      <td>7.298</td>\n",
       "      <td>NaN</td>\n",
       "      <td>NaN</td>\n",
       "      <td>High income</td>\n",
       "    </tr>\n",
       "    <tr>\n",
       "      <th>2020</th>\n",
       "      <td>Aruba</td>\n",
       "      <td>21832.920</td>\n",
       "      <td>-7.521</td>\n",
       "      <td>-1.338</td>\n",
       "      <td>NaN</td>\n",
       "      <td>13.997</td>\n",
       "      <td>NaN</td>\n",
       "      <td>NaN</td>\n",
       "      <td>High income</td>\n",
       "    </tr>\n",
       "    <tr>\n",
       "      <th rowspan=\"2\" valign=\"top\">AFG</th>\n",
       "      <th>2010</th>\n",
       "      <td>Afghanistan</td>\n",
       "      <td>631.490</td>\n",
       "      <td>59.699</td>\n",
       "      <td>2.179</td>\n",
       "      <td>30.269</td>\n",
       "      <td>NaN</td>\n",
       "      <td>9.768</td>\n",
       "      <td>32.285</td>\n",
       "      <td>Low income</td>\n",
       "    </tr>\n",
       "    <tr>\n",
       "      <th>2015</th>\n",
       "      <td>Afghanistan</td>\n",
       "      <td>711.337</td>\n",
       "      <td>22.223</td>\n",
       "      <td>-0.662</td>\n",
       "      <td>18.427</td>\n",
       "      <td>NaN</td>\n",
       "      <td>-11.585</td>\n",
       "      <td>15.309</td>\n",
       "      <td>Low income</td>\n",
       "    </tr>\n",
       "    <tr>\n",
       "      <th>...</th>\n",
       "      <th>...</th>\n",
       "      <td>...</td>\n",
       "      <td>...</td>\n",
       "      <td>...</td>\n",
       "      <td>...</td>\n",
       "      <td>...</td>\n",
       "      <td>...</td>\n",
       "      <td>...</td>\n",
       "      <td>...</td>\n",
       "      <td>...</td>\n",
       "    </tr>\n",
       "    <tr>\n",
       "      <th rowspan=\"2\" valign=\"top\">ZMB</th>\n",
       "      <th>2015</th>\n",
       "      <td>Zambia</td>\n",
       "      <td>1310.460</td>\n",
       "      <td>40.103</td>\n",
       "      <td>10.107</td>\n",
       "      <td>42.791</td>\n",
       "      <td>NaN</td>\n",
       "      <td>-11.407</td>\n",
       "      <td>0.696</td>\n",
       "      <td>Lower middle income</td>\n",
       "    </tr>\n",
       "    <tr>\n",
       "      <th>2020</th>\n",
       "      <td>Zambia</td>\n",
       "      <td>981.311</td>\n",
       "      <td>36.030</td>\n",
       "      <td>16.350</td>\n",
       "      <td>34.514</td>\n",
       "      <td>NaN</td>\n",
       "      <td>1.143</td>\n",
       "      <td>2.635</td>\n",
       "      <td>Lower middle income</td>\n",
       "    </tr>\n",
       "    <tr>\n",
       "      <th rowspan=\"3\" valign=\"top\">ZWE</th>\n",
       "      <th>2010</th>\n",
       "      <td>Zimbabwe</td>\n",
       "      <td>975.851</td>\n",
       "      <td>NaN</td>\n",
       "      <td>3.045</td>\n",
       "      <td>NaN</td>\n",
       "      <td>NaN</td>\n",
       "      <td>NaN</td>\n",
       "      <td>NaN</td>\n",
       "      <td>Lower middle income</td>\n",
       "    </tr>\n",
       "    <tr>\n",
       "      <th>2015</th>\n",
       "      <td>Zimbabwe</td>\n",
       "      <td>1425.010</td>\n",
       "      <td>NaN</td>\n",
       "      <td>-2.410</td>\n",
       "      <td>NaN</td>\n",
       "      <td>NaN</td>\n",
       "      <td>NaN</td>\n",
       "      <td>NaN</td>\n",
       "      <td>Lower middle income</td>\n",
       "    </tr>\n",
       "    <tr>\n",
       "      <th>2020</th>\n",
       "      <td>Zimbabwe</td>\n",
       "      <td>1385.040</td>\n",
       "      <td>NaN</td>\n",
       "      <td>557.210</td>\n",
       "      <td>NaN</td>\n",
       "      <td>NaN</td>\n",
       "      <td>NaN</td>\n",
       "      <td>NaN</td>\n",
       "      <td>Lower middle income</td>\n",
       "    </tr>\n",
       "  </tbody>\n",
       "</table>\n",
       "<p>561 rows × 9 columns</p>\n",
       "</div>"
      ],
      "text/plain": [
       "               country  gdp_percapita  gross_savings  inflation_rate  \\\n",
       "code year                                                              \n",
       "ABW  2010        Aruba      24087.950         13.255           2.078   \n",
       "     2015        Aruba      27126.620         21.411           0.475   \n",
       "     2020        Aruba      21832.920         -7.521          -1.338   \n",
       "AFG  2010  Afghanistan        631.490         59.699           2.179   \n",
       "     2015  Afghanistan        711.337         22.223          -0.662   \n",
       "...                ...            ...            ...             ...   \n",
       "ZMB  2015       Zambia       1310.460         40.103          10.107   \n",
       "     2020       Zambia        981.311         36.030          16.350   \n",
       "ZWE  2010     Zimbabwe        975.851            NaN           3.045   \n",
       "     2015     Zimbabwe       1425.010            NaN          -2.410   \n",
       "     2020     Zimbabwe       1385.040            NaN         557.210   \n",
       "\n",
       "           total_investment  unemployment_rate  exports  imports  \\\n",
       "code year                                                          \n",
       "ABW  2010               NaN             10.600      NaN      NaN   \n",
       "     2015               NaN              7.298      NaN      NaN   \n",
       "     2020               NaN             13.997      NaN      NaN   \n",
       "AFG  2010            30.269                NaN    9.768   32.285   \n",
       "     2015            18.427                NaN  -11.585   15.309   \n",
       "...                     ...                ...      ...      ...   \n",
       "ZMB  2015            42.791                NaN  -11.407    0.696   \n",
       "     2020            34.514                NaN    1.143    2.635   \n",
       "ZWE  2010               NaN                NaN      NaN      NaN   \n",
       "     2015               NaN                NaN      NaN      NaN   \n",
       "     2020               NaN                NaN      NaN      NaN   \n",
       "\n",
       "                  income_group  \n",
       "code year                       \n",
       "ABW  2010          High income  \n",
       "     2015          High income  \n",
       "     2020          High income  \n",
       "AFG  2010           Low income  \n",
       "     2015           Low income  \n",
       "...                        ...  \n",
       "ZMB  2015  Lower middle income  \n",
       "     2020  Lower middle income  \n",
       "ZWE  2010  Lower middle income  \n",
       "     2015  Lower middle income  \n",
       "     2020  Lower middle income  \n",
       "\n",
       "[561 rows x 9 columns]"
      ]
     },
     "execution_count": 26,
     "metadata": {},
     "output_type": "execute_result"
    }
   ],
   "source": [
    "# Set unique combinations of 'code' and 'year' as the index\n",
    "economies_indexed = economies.set_index(['code', 'year'])\n",
    "economies_indexed"
   ]
  },
  {
   "cell_type": "markdown",
   "metadata": {},
   "source": [
    "#### Reset the index"
   ]
  },
  {
   "cell_type": "code",
   "execution_count": 27,
   "metadata": {},
   "outputs": [
    {
     "data": {
      "text/html": [
       "<div>\n",
       "<style scoped>\n",
       "    .dataframe tbody tr th:only-of-type {\n",
       "        vertical-align: middle;\n",
       "    }\n",
       "\n",
       "    .dataframe tbody tr th {\n",
       "        vertical-align: top;\n",
       "    }\n",
       "\n",
       "    .dataframe thead th {\n",
       "        text-align: right;\n",
       "    }\n",
       "</style>\n",
       "<table border=\"1\" class=\"dataframe\">\n",
       "  <thead>\n",
       "    <tr style=\"text-align: right;\">\n",
       "      <th></th>\n",
       "      <th>code</th>\n",
       "      <th>year</th>\n",
       "      <th>country</th>\n",
       "      <th>gdp_percapita</th>\n",
       "      <th>gross_savings</th>\n",
       "      <th>inflation_rate</th>\n",
       "      <th>total_investment</th>\n",
       "      <th>unemployment_rate</th>\n",
       "      <th>exports</th>\n",
       "      <th>imports</th>\n",
       "      <th>income_group</th>\n",
       "    </tr>\n",
       "  </thead>\n",
       "  <tbody>\n",
       "    <tr>\n",
       "      <th>0</th>\n",
       "      <td>ABW</td>\n",
       "      <td>2010</td>\n",
       "      <td>Aruba</td>\n",
       "      <td>24087.950</td>\n",
       "      <td>13.255</td>\n",
       "      <td>2.078</td>\n",
       "      <td>NaN</td>\n",
       "      <td>10.600</td>\n",
       "      <td>NaN</td>\n",
       "      <td>NaN</td>\n",
       "      <td>High income</td>\n",
       "    </tr>\n",
       "    <tr>\n",
       "      <th>1</th>\n",
       "      <td>ABW</td>\n",
       "      <td>2015</td>\n",
       "      <td>Aruba</td>\n",
       "      <td>27126.620</td>\n",
       "      <td>21.411</td>\n",
       "      <td>0.475</td>\n",
       "      <td>NaN</td>\n",
       "      <td>7.298</td>\n",
       "      <td>NaN</td>\n",
       "      <td>NaN</td>\n",
       "      <td>High income</td>\n",
       "    </tr>\n",
       "    <tr>\n",
       "      <th>2</th>\n",
       "      <td>ABW</td>\n",
       "      <td>2020</td>\n",
       "      <td>Aruba</td>\n",
       "      <td>21832.920</td>\n",
       "      <td>-7.521</td>\n",
       "      <td>-1.338</td>\n",
       "      <td>NaN</td>\n",
       "      <td>13.997</td>\n",
       "      <td>NaN</td>\n",
       "      <td>NaN</td>\n",
       "      <td>High income</td>\n",
       "    </tr>\n",
       "    <tr>\n",
       "      <th>3</th>\n",
       "      <td>AFG</td>\n",
       "      <td>2010</td>\n",
       "      <td>Afghanistan</td>\n",
       "      <td>631.490</td>\n",
       "      <td>59.699</td>\n",
       "      <td>2.179</td>\n",
       "      <td>30.269</td>\n",
       "      <td>NaN</td>\n",
       "      <td>9.768</td>\n",
       "      <td>32.285</td>\n",
       "      <td>Low income</td>\n",
       "    </tr>\n",
       "    <tr>\n",
       "      <th>4</th>\n",
       "      <td>AFG</td>\n",
       "      <td>2015</td>\n",
       "      <td>Afghanistan</td>\n",
       "      <td>711.337</td>\n",
       "      <td>22.223</td>\n",
       "      <td>-0.662</td>\n",
       "      <td>18.427</td>\n",
       "      <td>NaN</td>\n",
       "      <td>-11.585</td>\n",
       "      <td>15.309</td>\n",
       "      <td>Low income</td>\n",
       "    </tr>\n",
       "    <tr>\n",
       "      <th>...</th>\n",
       "      <td>...</td>\n",
       "      <td>...</td>\n",
       "      <td>...</td>\n",
       "      <td>...</td>\n",
       "      <td>...</td>\n",
       "      <td>...</td>\n",
       "      <td>...</td>\n",
       "      <td>...</td>\n",
       "      <td>...</td>\n",
       "      <td>...</td>\n",
       "      <td>...</td>\n",
       "    </tr>\n",
       "    <tr>\n",
       "      <th>556</th>\n",
       "      <td>ZMB</td>\n",
       "      <td>2015</td>\n",
       "      <td>Zambia</td>\n",
       "      <td>1310.460</td>\n",
       "      <td>40.103</td>\n",
       "      <td>10.107</td>\n",
       "      <td>42.791</td>\n",
       "      <td>NaN</td>\n",
       "      <td>-11.407</td>\n",
       "      <td>0.696</td>\n",
       "      <td>Lower middle income</td>\n",
       "    </tr>\n",
       "    <tr>\n",
       "      <th>557</th>\n",
       "      <td>ZMB</td>\n",
       "      <td>2020</td>\n",
       "      <td>Zambia</td>\n",
       "      <td>981.311</td>\n",
       "      <td>36.030</td>\n",
       "      <td>16.350</td>\n",
       "      <td>34.514</td>\n",
       "      <td>NaN</td>\n",
       "      <td>1.143</td>\n",
       "      <td>2.635</td>\n",
       "      <td>Lower middle income</td>\n",
       "    </tr>\n",
       "    <tr>\n",
       "      <th>558</th>\n",
       "      <td>ZWE</td>\n",
       "      <td>2010</td>\n",
       "      <td>Zimbabwe</td>\n",
       "      <td>975.851</td>\n",
       "      <td>NaN</td>\n",
       "      <td>3.045</td>\n",
       "      <td>NaN</td>\n",
       "      <td>NaN</td>\n",
       "      <td>NaN</td>\n",
       "      <td>NaN</td>\n",
       "      <td>Lower middle income</td>\n",
       "    </tr>\n",
       "    <tr>\n",
       "      <th>559</th>\n",
       "      <td>ZWE</td>\n",
       "      <td>2015</td>\n",
       "      <td>Zimbabwe</td>\n",
       "      <td>1425.010</td>\n",
       "      <td>NaN</td>\n",
       "      <td>-2.410</td>\n",
       "      <td>NaN</td>\n",
       "      <td>NaN</td>\n",
       "      <td>NaN</td>\n",
       "      <td>NaN</td>\n",
       "      <td>Lower middle income</td>\n",
       "    </tr>\n",
       "    <tr>\n",
       "      <th>560</th>\n",
       "      <td>ZWE</td>\n",
       "      <td>2020</td>\n",
       "      <td>Zimbabwe</td>\n",
       "      <td>1385.040</td>\n",
       "      <td>NaN</td>\n",
       "      <td>557.210</td>\n",
       "      <td>NaN</td>\n",
       "      <td>NaN</td>\n",
       "      <td>NaN</td>\n",
       "      <td>NaN</td>\n",
       "      <td>Lower middle income</td>\n",
       "    </tr>\n",
       "  </tbody>\n",
       "</table>\n",
       "<p>561 rows × 11 columns</p>\n",
       "</div>"
      ],
      "text/plain": [
       "    code  year      country  gdp_percapita  gross_savings  inflation_rate  \\\n",
       "0    ABW  2010        Aruba      24087.950         13.255           2.078   \n",
       "1    ABW  2015        Aruba      27126.620         21.411           0.475   \n",
       "2    ABW  2020        Aruba      21832.920         -7.521          -1.338   \n",
       "3    AFG  2010  Afghanistan        631.490         59.699           2.179   \n",
       "4    AFG  2015  Afghanistan        711.337         22.223          -0.662   \n",
       "..   ...   ...          ...            ...            ...             ...   \n",
       "556  ZMB  2015       Zambia       1310.460         40.103          10.107   \n",
       "557  ZMB  2020       Zambia        981.311         36.030          16.350   \n",
       "558  ZWE  2010     Zimbabwe        975.851            NaN           3.045   \n",
       "559  ZWE  2015     Zimbabwe       1425.010            NaN          -2.410   \n",
       "560  ZWE  2020     Zimbabwe       1385.040            NaN         557.210   \n",
       "\n",
       "     total_investment  unemployment_rate  exports  imports  \\\n",
       "0                 NaN             10.600      NaN      NaN   \n",
       "1                 NaN              7.298      NaN      NaN   \n",
       "2                 NaN             13.997      NaN      NaN   \n",
       "3              30.269                NaN    9.768   32.285   \n",
       "4              18.427                NaN  -11.585   15.309   \n",
       "..                ...                ...      ...      ...   \n",
       "556            42.791                NaN  -11.407    0.696   \n",
       "557            34.514                NaN    1.143    2.635   \n",
       "558               NaN                NaN      NaN      NaN   \n",
       "559               NaN                NaN      NaN      NaN   \n",
       "560               NaN                NaN      NaN      NaN   \n",
       "\n",
       "            income_group  \n",
       "0            High income  \n",
       "1            High income  \n",
       "2            High income  \n",
       "3             Low income  \n",
       "4             Low income  \n",
       "..                   ...  \n",
       "556  Lower middle income  \n",
       "557  Lower middle income  \n",
       "558  Lower middle income  \n",
       "559  Lower middle income  \n",
       "560  Lower middle income  \n",
       "\n",
       "[561 rows x 11 columns]"
      ]
     },
     "execution_count": 27,
     "metadata": {},
     "output_type": "execute_result"
    }
   ],
   "source": [
    "# Reset the index\n",
    "economies_reset = economies_indexed.reset_index()\n",
    "economies_reset"
   ]
  },
  {
   "cell_type": "markdown",
   "metadata": {},
   "source": [
    "### Filtering rows based on conditions\n",
    "\n",
    "#### Conditions on a single column"
   ]
  },
  {
   "cell_type": "code",
   "execution_count": 28,
   "metadata": {},
   "outputs": [
    {
     "data": {
      "text/html": [
       "<div>\n",
       "<style scoped>\n",
       "    .dataframe tbody tr th:only-of-type {\n",
       "        vertical-align: middle;\n",
       "    }\n",
       "\n",
       "    .dataframe tbody tr th {\n",
       "        vertical-align: top;\n",
       "    }\n",
       "\n",
       "    .dataframe thead th {\n",
       "        text-align: right;\n",
       "    }\n",
       "</style>\n",
       "<table border=\"1\" class=\"dataframe\">\n",
       "  <thead>\n",
       "    <tr style=\"text-align: right;\">\n",
       "      <th></th>\n",
       "      <th>code</th>\n",
       "      <th>country</th>\n",
       "      <th>year</th>\n",
       "      <th>gdp_percapita</th>\n",
       "      <th>gross_savings</th>\n",
       "      <th>inflation_rate</th>\n",
       "      <th>total_investment</th>\n",
       "      <th>unemployment_rate</th>\n",
       "      <th>exports</th>\n",
       "      <th>imports</th>\n",
       "      <th>income_group</th>\n",
       "    </tr>\n",
       "  </thead>\n",
       "  <tbody>\n",
       "    <tr>\n",
       "      <th>0</th>\n",
       "      <td>ABW</td>\n",
       "      <td>Aruba</td>\n",
       "      <td>2010</td>\n",
       "      <td>24087.95</td>\n",
       "      <td>13.255</td>\n",
       "      <td>2.078</td>\n",
       "      <td>NaN</td>\n",
       "      <td>10.600</td>\n",
       "      <td>NaN</td>\n",
       "      <td>NaN</td>\n",
       "      <td>High income</td>\n",
       "    </tr>\n",
       "    <tr>\n",
       "      <th>1</th>\n",
       "      <td>ABW</td>\n",
       "      <td>Aruba</td>\n",
       "      <td>2015</td>\n",
       "      <td>27126.62</td>\n",
       "      <td>21.411</td>\n",
       "      <td>0.475</td>\n",
       "      <td>NaN</td>\n",
       "      <td>7.298</td>\n",
       "      <td>NaN</td>\n",
       "      <td>NaN</td>\n",
       "      <td>High income</td>\n",
       "    </tr>\n",
       "    <tr>\n",
       "      <th>2</th>\n",
       "      <td>ABW</td>\n",
       "      <td>Aruba</td>\n",
       "      <td>2020</td>\n",
       "      <td>21832.92</td>\n",
       "      <td>-7.521</td>\n",
       "      <td>-1.338</td>\n",
       "      <td>NaN</td>\n",
       "      <td>13.997</td>\n",
       "      <td>NaN</td>\n",
       "      <td>NaN</td>\n",
       "      <td>High income</td>\n",
       "    </tr>\n",
       "    <tr>\n",
       "      <th>12</th>\n",
       "      <td>ARE</td>\n",
       "      <td>United Arab Emirates</td>\n",
       "      <td>2010</td>\n",
       "      <td>35064.26</td>\n",
       "      <td>31.330</td>\n",
       "      <td>0.878</td>\n",
       "      <td>27.121</td>\n",
       "      <td>NaN</td>\n",
       "      <td>7.540</td>\n",
       "      <td>0.405</td>\n",
       "      <td>High income</td>\n",
       "    </tr>\n",
       "    <tr>\n",
       "      <th>13</th>\n",
       "      <td>ARE</td>\n",
       "      <td>United Arab Emirates</td>\n",
       "      <td>2015</td>\n",
       "      <td>37380.57</td>\n",
       "      <td>30.540</td>\n",
       "      <td>4.070</td>\n",
       "      <td>25.639</td>\n",
       "      <td>NaN</td>\n",
       "      <td>3.055</td>\n",
       "      <td>2.488</td>\n",
       "      <td>High income</td>\n",
       "    </tr>\n",
       "    <tr>\n",
       "      <th>...</th>\n",
       "      <td>...</td>\n",
       "      <td>...</td>\n",
       "      <td>...</td>\n",
       "      <td>...</td>\n",
       "      <td>...</td>\n",
       "      <td>...</td>\n",
       "      <td>...</td>\n",
       "      <td>...</td>\n",
       "      <td>...</td>\n",
       "      <td>...</td>\n",
       "      <td>...</td>\n",
       "    </tr>\n",
       "    <tr>\n",
       "      <th>475</th>\n",
       "      <td>SWE</td>\n",
       "      <td>Sweden</td>\n",
       "      <td>2015</td>\n",
       "      <td>51274.28</td>\n",
       "      <td>27.743</td>\n",
       "      <td>0.704</td>\n",
       "      <td>24.429</td>\n",
       "      <td>7.400</td>\n",
       "      <td>4.995</td>\n",
       "      <td>5.031</td>\n",
       "      <td>High income</td>\n",
       "    </tr>\n",
       "    <tr>\n",
       "      <th>476</th>\n",
       "      <td>SWE</td>\n",
       "      <td>Sweden</td>\n",
       "      <td>2020</td>\n",
       "      <td>51796.38</td>\n",
       "      <td>29.755</td>\n",
       "      <td>0.657</td>\n",
       "      <td>24.518</td>\n",
       "      <td>8.292</td>\n",
       "      <td>-5.191</td>\n",
       "      <td>-5.358</td>\n",
       "      <td>High income</td>\n",
       "    </tr>\n",
       "    <tr>\n",
       "      <th>528</th>\n",
       "      <td>USA</td>\n",
       "      <td>United States</td>\n",
       "      <td>2010</td>\n",
       "      <td>48403.30</td>\n",
       "      <td>15.466</td>\n",
       "      <td>1.637</td>\n",
       "      <td>18.743</td>\n",
       "      <td>9.608</td>\n",
       "      <td>12.137</td>\n",
       "      <td>13.128</td>\n",
       "      <td>High income</td>\n",
       "    </tr>\n",
       "    <tr>\n",
       "      <th>529</th>\n",
       "      <td>USA</td>\n",
       "      <td>United States</td>\n",
       "      <td>2015</td>\n",
       "      <td>56848.51</td>\n",
       "      <td>20.141</td>\n",
       "      <td>0.121</td>\n",
       "      <td>21.163</td>\n",
       "      <td>5.275</td>\n",
       "      <td>0.421</td>\n",
       "      <td>5.175</td>\n",
       "      <td>High income</td>\n",
       "    </tr>\n",
       "    <tr>\n",
       "      <th>530</th>\n",
       "      <td>USA</td>\n",
       "      <td>United States</td>\n",
       "      <td>2020</td>\n",
       "      <td>63415.99</td>\n",
       "      <td>17.802</td>\n",
       "      <td>1.248</td>\n",
       "      <td>20.988</td>\n",
       "      <td>8.108</td>\n",
       "      <td>-12.970</td>\n",
       "      <td>-9.285</td>\n",
       "      <td>High income</td>\n",
       "    </tr>\n",
       "  </tbody>\n",
       "</table>\n",
       "<p>121 rows × 11 columns</p>\n",
       "</div>"
      ],
      "text/plain": [
       "    code               country  year  gdp_percapita  gross_savings  \\\n",
       "0    ABW                 Aruba  2010       24087.95         13.255   \n",
       "1    ABW                 Aruba  2015       27126.62         21.411   \n",
       "2    ABW                 Aruba  2020       21832.92         -7.521   \n",
       "12   ARE  United Arab Emirates  2010       35064.26         31.330   \n",
       "13   ARE  United Arab Emirates  2015       37380.57         30.540   \n",
       "..   ...                   ...   ...            ...            ...   \n",
       "475  SWE                Sweden  2015       51274.28         27.743   \n",
       "476  SWE                Sweden  2020       51796.38         29.755   \n",
       "528  USA         United States  2010       48403.30         15.466   \n",
       "529  USA         United States  2015       56848.51         20.141   \n",
       "530  USA         United States  2020       63415.99         17.802   \n",
       "\n",
       "     inflation_rate  total_investment  unemployment_rate  exports  imports  \\\n",
       "0             2.078               NaN             10.600      NaN      NaN   \n",
       "1             0.475               NaN              7.298      NaN      NaN   \n",
       "2            -1.338               NaN             13.997      NaN      NaN   \n",
       "12            0.878            27.121                NaN    7.540    0.405   \n",
       "13            4.070            25.639                NaN    3.055    2.488   \n",
       "..              ...               ...                ...      ...      ...   \n",
       "475           0.704            24.429              7.400    4.995    5.031   \n",
       "476           0.657            24.518              8.292   -5.191   -5.358   \n",
       "528           1.637            18.743              9.608   12.137   13.128   \n",
       "529           0.121            21.163              5.275    0.421    5.175   \n",
       "530           1.248            20.988              8.108  -12.970   -9.285   \n",
       "\n",
       "    income_group  \n",
       "0    High income  \n",
       "1    High income  \n",
       "2    High income  \n",
       "12   High income  \n",
       "13   High income  \n",
       "..           ...  \n",
       "475  High income  \n",
       "476  High income  \n",
       "528  High income  \n",
       "529  High income  \n",
       "530  High income  \n",
       "\n",
       "[121 rows x 11 columns]"
      ]
     },
     "execution_count": 28,
     "metadata": {},
     "output_type": "execute_result"
    }
   ],
   "source": [
    "# Filter rows where 'gdp_percapita' is greater than 20,000\n",
    "economies_high_gdp = economies[economies['gdp_percapita'] > 20000]\n",
    "economies_high_gdp"
   ]
  },
  {
   "cell_type": "code",
   "execution_count": 29,
   "metadata": {},
   "outputs": [
    {
     "data": {
      "text/html": [
       "<div>\n",
       "<style scoped>\n",
       "    .dataframe tbody tr th:only-of-type {\n",
       "        vertical-align: middle;\n",
       "    }\n",
       "\n",
       "    .dataframe tbody tr th {\n",
       "        vertical-align: top;\n",
       "    }\n",
       "\n",
       "    .dataframe thead th {\n",
       "        text-align: right;\n",
       "    }\n",
       "</style>\n",
       "<table border=\"1\" class=\"dataframe\">\n",
       "  <thead>\n",
       "    <tr style=\"text-align: right;\">\n",
       "      <th></th>\n",
       "      <th>code</th>\n",
       "      <th>country</th>\n",
       "      <th>year</th>\n",
       "      <th>gdp_percapita</th>\n",
       "      <th>gross_savings</th>\n",
       "      <th>inflation_rate</th>\n",
       "      <th>total_investment</th>\n",
       "      <th>unemployment_rate</th>\n",
       "      <th>exports</th>\n",
       "      <th>imports</th>\n",
       "      <th>income_group</th>\n",
       "    </tr>\n",
       "  </thead>\n",
       "  <tbody>\n",
       "    <tr>\n",
       "      <th>0</th>\n",
       "      <td>ABW</td>\n",
       "      <td>Aruba</td>\n",
       "      <td>2010</td>\n",
       "      <td>24087.95</td>\n",
       "      <td>13.255</td>\n",
       "      <td>2.078</td>\n",
       "      <td>NaN</td>\n",
       "      <td>10.600</td>\n",
       "      <td>NaN</td>\n",
       "      <td>NaN</td>\n",
       "      <td>High income</td>\n",
       "    </tr>\n",
       "    <tr>\n",
       "      <th>1</th>\n",
       "      <td>ABW</td>\n",
       "      <td>Aruba</td>\n",
       "      <td>2015</td>\n",
       "      <td>27126.62</td>\n",
       "      <td>21.411</td>\n",
       "      <td>0.475</td>\n",
       "      <td>NaN</td>\n",
       "      <td>7.298</td>\n",
       "      <td>NaN</td>\n",
       "      <td>NaN</td>\n",
       "      <td>High income</td>\n",
       "    </tr>\n",
       "    <tr>\n",
       "      <th>2</th>\n",
       "      <td>ABW</td>\n",
       "      <td>Aruba</td>\n",
       "      <td>2020</td>\n",
       "      <td>21832.92</td>\n",
       "      <td>-7.521</td>\n",
       "      <td>-1.338</td>\n",
       "      <td>NaN</td>\n",
       "      <td>13.997</td>\n",
       "      <td>NaN</td>\n",
       "      <td>NaN</td>\n",
       "      <td>High income</td>\n",
       "    </tr>\n",
       "    <tr>\n",
       "      <th>12</th>\n",
       "      <td>ARE</td>\n",
       "      <td>United Arab Emirates</td>\n",
       "      <td>2010</td>\n",
       "      <td>35064.26</td>\n",
       "      <td>31.330</td>\n",
       "      <td>0.878</td>\n",
       "      <td>27.121</td>\n",
       "      <td>NaN</td>\n",
       "      <td>7.540</td>\n",
       "      <td>0.405</td>\n",
       "      <td>High income</td>\n",
       "    </tr>\n",
       "    <tr>\n",
       "      <th>13</th>\n",
       "      <td>ARE</td>\n",
       "      <td>United Arab Emirates</td>\n",
       "      <td>2015</td>\n",
       "      <td>37380.57</td>\n",
       "      <td>30.540</td>\n",
       "      <td>4.070</td>\n",
       "      <td>25.639</td>\n",
       "      <td>NaN</td>\n",
       "      <td>3.055</td>\n",
       "      <td>2.488</td>\n",
       "      <td>High income</td>\n",
       "    </tr>\n",
       "    <tr>\n",
       "      <th>...</th>\n",
       "      <td>...</td>\n",
       "      <td>...</td>\n",
       "      <td>...</td>\n",
       "      <td>...</td>\n",
       "      <td>...</td>\n",
       "      <td>...</td>\n",
       "      <td>...</td>\n",
       "      <td>...</td>\n",
       "      <td>...</td>\n",
       "      <td>...</td>\n",
       "      <td>...</td>\n",
       "    </tr>\n",
       "    <tr>\n",
       "      <th>526</th>\n",
       "      <td>URY</td>\n",
       "      <td>Uruguay</td>\n",
       "      <td>2015</td>\n",
       "      <td>16692.65</td>\n",
       "      <td>17.223</td>\n",
       "      <td>8.666</td>\n",
       "      <td>17.477</td>\n",
       "      <td>7.525</td>\n",
       "      <td>-7.564</td>\n",
       "      <td>-8.145</td>\n",
       "      <td>High income</td>\n",
       "    </tr>\n",
       "    <tr>\n",
       "      <th>527</th>\n",
       "      <td>URY</td>\n",
       "      <td>Uruguay</td>\n",
       "      <td>2020</td>\n",
       "      <td>15777.96</td>\n",
       "      <td>12.873</td>\n",
       "      <td>9.756</td>\n",
       "      <td>14.319</td>\n",
       "      <td>10.350</td>\n",
       "      <td>-28.231</td>\n",
       "      <td>-12.544</td>\n",
       "      <td>High income</td>\n",
       "    </tr>\n",
       "    <tr>\n",
       "      <th>528</th>\n",
       "      <td>USA</td>\n",
       "      <td>United States</td>\n",
       "      <td>2010</td>\n",
       "      <td>48403.30</td>\n",
       "      <td>15.466</td>\n",
       "      <td>1.637</td>\n",
       "      <td>18.743</td>\n",
       "      <td>9.608</td>\n",
       "      <td>12.137</td>\n",
       "      <td>13.128</td>\n",
       "      <td>High income</td>\n",
       "    </tr>\n",
       "    <tr>\n",
       "      <th>529</th>\n",
       "      <td>USA</td>\n",
       "      <td>United States</td>\n",
       "      <td>2015</td>\n",
       "      <td>56848.51</td>\n",
       "      <td>20.141</td>\n",
       "      <td>0.121</td>\n",
       "      <td>21.163</td>\n",
       "      <td>5.275</td>\n",
       "      <td>0.421</td>\n",
       "      <td>5.175</td>\n",
       "      <td>High income</td>\n",
       "    </tr>\n",
       "    <tr>\n",
       "      <th>530</th>\n",
       "      <td>USA</td>\n",
       "      <td>United States</td>\n",
       "      <td>2020</td>\n",
       "      <td>63415.99</td>\n",
       "      <td>17.802</td>\n",
       "      <td>1.248</td>\n",
       "      <td>20.988</td>\n",
       "      <td>8.108</td>\n",
       "      <td>-12.970</td>\n",
       "      <td>-9.285</td>\n",
       "      <td>High income</td>\n",
       "    </tr>\n",
       "  </tbody>\n",
       "</table>\n",
       "<p>180 rows × 11 columns</p>\n",
       "</div>"
      ],
      "text/plain": [
       "    code               country  year  gdp_percapita  gross_savings  \\\n",
       "0    ABW                 Aruba  2010       24087.95         13.255   \n",
       "1    ABW                 Aruba  2015       27126.62         21.411   \n",
       "2    ABW                 Aruba  2020       21832.92         -7.521   \n",
       "12   ARE  United Arab Emirates  2010       35064.26         31.330   \n",
       "13   ARE  United Arab Emirates  2015       37380.57         30.540   \n",
       "..   ...                   ...   ...            ...            ...   \n",
       "526  URY               Uruguay  2015       16692.65         17.223   \n",
       "527  URY               Uruguay  2020       15777.96         12.873   \n",
       "528  USA         United States  2010       48403.30         15.466   \n",
       "529  USA         United States  2015       56848.51         20.141   \n",
       "530  USA         United States  2020       63415.99         17.802   \n",
       "\n",
       "     inflation_rate  total_investment  unemployment_rate  exports  imports  \\\n",
       "0             2.078               NaN             10.600      NaN      NaN   \n",
       "1             0.475               NaN              7.298      NaN      NaN   \n",
       "2            -1.338               NaN             13.997      NaN      NaN   \n",
       "12            0.878            27.121                NaN    7.540    0.405   \n",
       "13            4.070            25.639                NaN    3.055    2.488   \n",
       "..              ...               ...                ...      ...      ...   \n",
       "526           8.666            17.477              7.525   -7.564   -8.145   \n",
       "527           9.756            14.319             10.350  -28.231  -12.544   \n",
       "528           1.637            18.743              9.608   12.137   13.128   \n",
       "529           0.121            21.163              5.275    0.421    5.175   \n",
       "530           1.248            20.988              8.108  -12.970   -9.285   \n",
       "\n",
       "    income_group  \n",
       "0    High income  \n",
       "1    High income  \n",
       "2    High income  \n",
       "12   High income  \n",
       "13   High income  \n",
       "..           ...  \n",
       "526  High income  \n",
       "527  High income  \n",
       "528  High income  \n",
       "529  High income  \n",
       "530  High income  \n",
       "\n",
       "[180 rows x 11 columns]"
      ]
     },
     "execution_count": 29,
     "metadata": {},
     "output_type": "execute_result"
    }
   ],
   "source": [
    "# Filter rows where 'income_group' is 'High income'\n",
    "economies_high_income = economies[economies['income_group'] == 'High income']\n",
    "economies_high_income"
   ]
  },
  {
   "cell_type": "code",
   "execution_count": 30,
   "metadata": {},
   "outputs": [
    {
     "data": {
      "text/html": [
       "<div>\n",
       "<style scoped>\n",
       "    .dataframe tbody tr th:only-of-type {\n",
       "        vertical-align: middle;\n",
       "    }\n",
       "\n",
       "    .dataframe tbody tr th {\n",
       "        vertical-align: top;\n",
       "    }\n",
       "\n",
       "    .dataframe thead th {\n",
       "        text-align: right;\n",
       "    }\n",
       "</style>\n",
       "<table border=\"1\" class=\"dataframe\">\n",
       "  <thead>\n",
       "    <tr style=\"text-align: right;\">\n",
       "      <th></th>\n",
       "      <th>code</th>\n",
       "      <th>country</th>\n",
       "      <th>year</th>\n",
       "      <th>gdp_percapita</th>\n",
       "      <th>gross_savings</th>\n",
       "      <th>inflation_rate</th>\n",
       "      <th>total_investment</th>\n",
       "      <th>unemployment_rate</th>\n",
       "      <th>exports</th>\n",
       "      <th>imports</th>\n",
       "      <th>income_group</th>\n",
       "    </tr>\n",
       "  </thead>\n",
       "  <tbody>\n",
       "    <tr>\n",
       "      <th>3</th>\n",
       "      <td>AFG</td>\n",
       "      <td>Afghanistan</td>\n",
       "      <td>2010</td>\n",
       "      <td>631.490</td>\n",
       "      <td>59.699</td>\n",
       "      <td>2.179</td>\n",
       "      <td>30.269</td>\n",
       "      <td>NaN</td>\n",
       "      <td>9.768</td>\n",
       "      <td>32.285</td>\n",
       "      <td>Low income</td>\n",
       "    </tr>\n",
       "    <tr>\n",
       "      <th>4</th>\n",
       "      <td>AFG</td>\n",
       "      <td>Afghanistan</td>\n",
       "      <td>2015</td>\n",
       "      <td>711.337</td>\n",
       "      <td>22.223</td>\n",
       "      <td>-0.662</td>\n",
       "      <td>18.427</td>\n",
       "      <td>NaN</td>\n",
       "      <td>-11.585</td>\n",
       "      <td>15.309</td>\n",
       "      <td>Low income</td>\n",
       "    </tr>\n",
       "    <tr>\n",
       "      <th>5</th>\n",
       "      <td>AFG</td>\n",
       "      <td>Afghanistan</td>\n",
       "      <td>2020</td>\n",
       "      <td>580.817</td>\n",
       "      <td>27.132</td>\n",
       "      <td>5.607</td>\n",
       "      <td>16.420</td>\n",
       "      <td>NaN</td>\n",
       "      <td>-10.424</td>\n",
       "      <td>2.892</td>\n",
       "      <td>Low income</td>\n",
       "    </tr>\n",
       "    <tr>\n",
       "      <th>6</th>\n",
       "      <td>AGO</td>\n",
       "      <td>Angola</td>\n",
       "      <td>2010</td>\n",
       "      <td>3641.440</td>\n",
       "      <td>34.833</td>\n",
       "      <td>14.480</td>\n",
       "      <td>28.197</td>\n",
       "      <td>NaN</td>\n",
       "      <td>-3.266</td>\n",
       "      <td>-21.656</td>\n",
       "      <td>Lower middle income</td>\n",
       "    </tr>\n",
       "    <tr>\n",
       "      <th>7</th>\n",
       "      <td>AGO</td>\n",
       "      <td>Angola</td>\n",
       "      <td>2015</td>\n",
       "      <td>4354.920</td>\n",
       "      <td>28.491</td>\n",
       "      <td>9.159</td>\n",
       "      <td>34.202</td>\n",
       "      <td>NaN</td>\n",
       "      <td>6.721</td>\n",
       "      <td>-19.515</td>\n",
       "      <td>Lower middle income</td>\n",
       "    </tr>\n",
       "    <tr>\n",
       "      <th>...</th>\n",
       "      <td>...</td>\n",
       "      <td>...</td>\n",
       "      <td>...</td>\n",
       "      <td>...</td>\n",
       "      <td>...</td>\n",
       "      <td>...</td>\n",
       "      <td>...</td>\n",
       "      <td>...</td>\n",
       "      <td>...</td>\n",
       "      <td>...</td>\n",
       "      <td>...</td>\n",
       "    </tr>\n",
       "    <tr>\n",
       "      <th>553</th>\n",
       "      <td>ZAF</td>\n",
       "      <td>South Africa</td>\n",
       "      <td>2015</td>\n",
       "      <td>5731.730</td>\n",
       "      <td>16.300</td>\n",
       "      <td>4.575</td>\n",
       "      <td>20.918</td>\n",
       "      <td>25.350</td>\n",
       "      <td>2.925</td>\n",
       "      <td>5.443</td>\n",
       "      <td>Upper middle income</td>\n",
       "    </tr>\n",
       "    <tr>\n",
       "      <th>554</th>\n",
       "      <td>ZAF</td>\n",
       "      <td>South Africa</td>\n",
       "      <td>2020</td>\n",
       "      <td>5067.150</td>\n",
       "      <td>14.602</td>\n",
       "      <td>3.268</td>\n",
       "      <td>12.426</td>\n",
       "      <td>29.175</td>\n",
       "      <td>-10.280</td>\n",
       "      <td>-16.615</td>\n",
       "      <td>Upper middle income</td>\n",
       "    </tr>\n",
       "    <tr>\n",
       "      <th>555</th>\n",
       "      <td>ZMB</td>\n",
       "      <td>Zambia</td>\n",
       "      <td>2010</td>\n",
       "      <td>1456.050</td>\n",
       "      <td>37.405</td>\n",
       "      <td>8.500</td>\n",
       "      <td>29.878</td>\n",
       "      <td>NaN</td>\n",
       "      <td>19.476</td>\n",
       "      <td>32.492</td>\n",
       "      <td>Lower middle income</td>\n",
       "    </tr>\n",
       "    <tr>\n",
       "      <th>556</th>\n",
       "      <td>ZMB</td>\n",
       "      <td>Zambia</td>\n",
       "      <td>2015</td>\n",
       "      <td>1310.460</td>\n",
       "      <td>40.103</td>\n",
       "      <td>10.107</td>\n",
       "      <td>42.791</td>\n",
       "      <td>NaN</td>\n",
       "      <td>-11.407</td>\n",
       "      <td>0.696</td>\n",
       "      <td>Lower middle income</td>\n",
       "    </tr>\n",
       "    <tr>\n",
       "      <th>557</th>\n",
       "      <td>ZMB</td>\n",
       "      <td>Zambia</td>\n",
       "      <td>2020</td>\n",
       "      <td>981.311</td>\n",
       "      <td>36.030</td>\n",
       "      <td>16.350</td>\n",
       "      <td>34.514</td>\n",
       "      <td>NaN</td>\n",
       "      <td>1.143</td>\n",
       "      <td>2.635</td>\n",
       "      <td>Lower middle income</td>\n",
       "    </tr>\n",
       "  </tbody>\n",
       "</table>\n",
       "<p>490 rows × 11 columns</p>\n",
       "</div>"
      ],
      "text/plain": [
       "    code       country  year  gdp_percapita  gross_savings  inflation_rate  \\\n",
       "3    AFG   Afghanistan  2010        631.490         59.699           2.179   \n",
       "4    AFG   Afghanistan  2015        711.337         22.223          -0.662   \n",
       "5    AFG   Afghanistan  2020        580.817         27.132           5.607   \n",
       "6    AGO        Angola  2010       3641.440         34.833          14.480   \n",
       "7    AGO        Angola  2015       4354.920         28.491           9.159   \n",
       "..   ...           ...   ...            ...            ...             ...   \n",
       "553  ZAF  South Africa  2015       5731.730         16.300           4.575   \n",
       "554  ZAF  South Africa  2020       5067.150         14.602           3.268   \n",
       "555  ZMB        Zambia  2010       1456.050         37.405           8.500   \n",
       "556  ZMB        Zambia  2015       1310.460         40.103          10.107   \n",
       "557  ZMB        Zambia  2020        981.311         36.030          16.350   \n",
       "\n",
       "     total_investment  unemployment_rate  exports  imports  \\\n",
       "3              30.269                NaN    9.768   32.285   \n",
       "4              18.427                NaN  -11.585   15.309   \n",
       "5              16.420                NaN  -10.424    2.892   \n",
       "6              28.197                NaN   -3.266  -21.656   \n",
       "7              34.202                NaN    6.721  -19.515   \n",
       "..                ...                ...      ...      ...   \n",
       "553            20.918             25.350    2.925    5.443   \n",
       "554            12.426             29.175  -10.280  -16.615   \n",
       "555            29.878                NaN   19.476   32.492   \n",
       "556            42.791                NaN  -11.407    0.696   \n",
       "557            34.514                NaN    1.143    2.635   \n",
       "\n",
       "            income_group  \n",
       "3             Low income  \n",
       "4             Low income  \n",
       "5             Low income  \n",
       "6    Lower middle income  \n",
       "7    Lower middle income  \n",
       "..                   ...  \n",
       "553  Upper middle income  \n",
       "554  Upper middle income  \n",
       "555  Lower middle income  \n",
       "556  Lower middle income  \n",
       "557  Lower middle income  \n",
       "\n",
       "[490 rows x 11 columns]"
      ]
     },
     "execution_count": 30,
     "metadata": {},
     "output_type": "execute_result"
    }
   ],
   "source": [
    "# Filter rows where total_investment is not NaN\n",
    "non_null_investment = economies[economies['total_investment'].notna()]\n",
    "non_null_investment"
   ]
  },
  {
   "cell_type": "markdown",
   "metadata": {},
   "source": [
    "#### Conditions on multiple columns"
   ]
  },
  {
   "cell_type": "code",
   "execution_count": 34,
   "metadata": {},
   "outputs": [
    {
     "data": {
      "text/html": [
       "<div>\n",
       "<style scoped>\n",
       "    .dataframe tbody tr th:only-of-type {\n",
       "        vertical-align: middle;\n",
       "    }\n",
       "\n",
       "    .dataframe tbody tr th {\n",
       "        vertical-align: top;\n",
       "    }\n",
       "\n",
       "    .dataframe thead th {\n",
       "        text-align: right;\n",
       "    }\n",
       "</style>\n",
       "<table border=\"1\" class=\"dataframe\">\n",
       "  <thead>\n",
       "    <tr style=\"text-align: right;\">\n",
       "      <th></th>\n",
       "      <th>code</th>\n",
       "      <th>country</th>\n",
       "      <th>year</th>\n",
       "      <th>gdp_percapita</th>\n",
       "      <th>gross_savings</th>\n",
       "      <th>inflation_rate</th>\n",
       "      <th>total_investment</th>\n",
       "      <th>unemployment_rate</th>\n",
       "      <th>exports</th>\n",
       "      <th>imports</th>\n",
       "      <th>income_group</th>\n",
       "    </tr>\n",
       "  </thead>\n",
       "  <tbody>\n",
       "    <tr>\n",
       "      <th>4</th>\n",
       "      <td>AFG</td>\n",
       "      <td>Afghanistan</td>\n",
       "      <td>2015</td>\n",
       "      <td>711.337</td>\n",
       "      <td>22.223</td>\n",
       "      <td>-0.662</td>\n",
       "      <td>18.427</td>\n",
       "      <td>NaN</td>\n",
       "      <td>-11.585</td>\n",
       "      <td>15.309</td>\n",
       "      <td>Low income</td>\n",
       "    </tr>\n",
       "    <tr>\n",
       "      <th>42</th>\n",
       "      <td>BFA</td>\n",
       "      <td>Burkina Faso</td>\n",
       "      <td>2010</td>\n",
       "      <td>648.365</td>\n",
       "      <td>20.194</td>\n",
       "      <td>-0.608</td>\n",
       "      <td>21.990</td>\n",
       "      <td>NaN</td>\n",
       "      <td>54.547</td>\n",
       "      <td>13.986</td>\n",
       "      <td>Low income</td>\n",
       "    </tr>\n",
       "    <tr>\n",
       "      <th>486</th>\n",
       "      <td>TCD</td>\n",
       "      <td>Chad</td>\n",
       "      <td>2010</td>\n",
       "      <td>895.354</td>\n",
       "      <td>25.871</td>\n",
       "      <td>-2.110</td>\n",
       "      <td>34.388</td>\n",
       "      <td>NaN</td>\n",
       "      <td>-5.488</td>\n",
       "      <td>17.218</td>\n",
       "      <td>Low income</td>\n",
       "    </tr>\n",
       "  </tbody>\n",
       "</table>\n",
       "</div>"
      ],
      "text/plain": [
       "    code       country  year  gdp_percapita  gross_savings  inflation_rate  \\\n",
       "4    AFG   Afghanistan  2015        711.337         22.223          -0.662   \n",
       "42   BFA  Burkina Faso  2010        648.365         20.194          -0.608   \n",
       "486  TCD          Chad  2010        895.354         25.871          -2.110   \n",
       "\n",
       "     total_investment  unemployment_rate  exports  imports income_group  \n",
       "4              18.427                NaN  -11.585   15.309   Low income  \n",
       "42             21.990                NaN   54.547   13.986   Low income  \n",
       "486            34.388                NaN   -5.488   17.218   Low income  "
      ]
     },
     "execution_count": 34,
     "metadata": {},
     "output_type": "execute_result"
    }
   ],
   "source": [
    "# Filter rows where inflation_rate is less than 0 and income_group is 'Low income'\n",
    "deflation_low_income = economies[(economies['inflation_rate'] < 0) & (economies['income_group'] == 'Low income')]\n",
    "deflation_low_income.head()"
   ]
  },
  {
   "cell_type": "code",
   "execution_count": 36,
   "metadata": {},
   "outputs": [
    {
     "data": {
      "text/html": [
       "<div>\n",
       "<style scoped>\n",
       "    .dataframe tbody tr th:only-of-type {\n",
       "        vertical-align: middle;\n",
       "    }\n",
       "\n",
       "    .dataframe tbody tr th {\n",
       "        vertical-align: top;\n",
       "    }\n",
       "\n",
       "    .dataframe thead th {\n",
       "        text-align: right;\n",
       "    }\n",
       "</style>\n",
       "<table border=\"1\" class=\"dataframe\">\n",
       "  <thead>\n",
       "    <tr style=\"text-align: right;\">\n",
       "      <th></th>\n",
       "      <th>code</th>\n",
       "      <th>country</th>\n",
       "      <th>year</th>\n",
       "      <th>gdp_percapita</th>\n",
       "      <th>gross_savings</th>\n",
       "      <th>inflation_rate</th>\n",
       "      <th>total_investment</th>\n",
       "      <th>unemployment_rate</th>\n",
       "      <th>exports</th>\n",
       "      <th>imports</th>\n",
       "      <th>income_group</th>\n",
       "    </tr>\n",
       "  </thead>\n",
       "  <tbody>\n",
       "    <tr>\n",
       "      <th>24</th>\n",
       "      <td>AUS</td>\n",
       "      <td>Australia</td>\n",
       "      <td>2010</td>\n",
       "      <td>56459.80</td>\n",
       "      <td>23.105</td>\n",
       "      <td>2.863</td>\n",
       "      <td>26.369</td>\n",
       "      <td>5.208</td>\n",
       "      <td>5.717</td>\n",
       "      <td>15.507</td>\n",
       "      <td>High income</td>\n",
       "    </tr>\n",
       "    <tr>\n",
       "      <th>25</th>\n",
       "      <td>AUS</td>\n",
       "      <td>Australia</td>\n",
       "      <td>2015</td>\n",
       "      <td>51484.05</td>\n",
       "      <td>21.608</td>\n",
       "      <td>1.485</td>\n",
       "      <td>25.880</td>\n",
       "      <td>6.050</td>\n",
       "      <td>6.533</td>\n",
       "      <td>1.962</td>\n",
       "      <td>High income</td>\n",
       "    </tr>\n",
       "    <tr>\n",
       "      <th>27</th>\n",
       "      <td>AUT</td>\n",
       "      <td>Austria</td>\n",
       "      <td>2010</td>\n",
       "      <td>46955.17</td>\n",
       "      <td>25.463</td>\n",
       "      <td>1.693</td>\n",
       "      <td>22.608</td>\n",
       "      <td>4.817</td>\n",
       "      <td>13.131</td>\n",
       "      <td>11.970</td>\n",
       "      <td>High income</td>\n",
       "    </tr>\n",
       "    <tr>\n",
       "      <th>28</th>\n",
       "      <td>AUT</td>\n",
       "      <td>Austria</td>\n",
       "      <td>2015</td>\n",
       "      <td>44267.81</td>\n",
       "      <td>25.531</td>\n",
       "      <td>0.808</td>\n",
       "      <td>23.806</td>\n",
       "      <td>5.742</td>\n",
       "      <td>3.049</td>\n",
       "      <td>3.630</td>\n",
       "      <td>High income</td>\n",
       "    </tr>\n",
       "    <tr>\n",
       "      <th>36</th>\n",
       "      <td>BEL</td>\n",
       "      <td>Belgium</td>\n",
       "      <td>2010</td>\n",
       "      <td>44448.17</td>\n",
       "      <td>24.751</td>\n",
       "      <td>2.334</td>\n",
       "      <td>23.127</td>\n",
       "      <td>8.308</td>\n",
       "      <td>8.484</td>\n",
       "      <td>7.171</td>\n",
       "      <td>High income</td>\n",
       "    </tr>\n",
       "    <tr>\n",
       "      <th>37</th>\n",
       "      <td>BEL</td>\n",
       "      <td>Belgium</td>\n",
       "      <td>2015</td>\n",
       "      <td>41147.26</td>\n",
       "      <td>25.011</td>\n",
       "      <td>0.620</td>\n",
       "      <td>23.628</td>\n",
       "      <td>8.483</td>\n",
       "      <td>1.368</td>\n",
       "      <td>1.053</td>\n",
       "      <td>High income</td>\n",
       "    </tr>\n",
       "    <tr>\n",
       "      <th>87</th>\n",
       "      <td>CAN</td>\n",
       "      <td>Canada</td>\n",
       "      <td>2010</td>\n",
       "      <td>47627.35</td>\n",
       "      <td>19.918</td>\n",
       "      <td>1.777</td>\n",
       "      <td>23.482</td>\n",
       "      <td>8.075</td>\n",
       "      <td>6.678</td>\n",
       "      <td>13.788</td>\n",
       "      <td>High income</td>\n",
       "    </tr>\n",
       "    <tr>\n",
       "      <th>88</th>\n",
       "      <td>CAN</td>\n",
       "      <td>Canada</td>\n",
       "      <td>2015</td>\n",
       "      <td>43626.47</td>\n",
       "      <td>20.326</td>\n",
       "      <td>1.125</td>\n",
       "      <td>23.822</td>\n",
       "      <td>6.942</td>\n",
       "      <td>3.419</td>\n",
       "      <td>0.751</td>\n",
       "      <td>High income</td>\n",
       "    </tr>\n",
       "    <tr>\n",
       "      <th>90</th>\n",
       "      <td>CHE</td>\n",
       "      <td>Switzerland</td>\n",
       "      <td>2010</td>\n",
       "      <td>77433.67</td>\n",
       "      <td>39.762</td>\n",
       "      <td>0.688</td>\n",
       "      <td>25.178</td>\n",
       "      <td>3.516</td>\n",
       "      <td>12.184</td>\n",
       "      <td>8.003</td>\n",
       "      <td>High income</td>\n",
       "    </tr>\n",
       "    <tr>\n",
       "      <th>91</th>\n",
       "      <td>CHE</td>\n",
       "      <td>Switzerland</td>\n",
       "      <td>2015</td>\n",
       "      <td>85240.79</td>\n",
       "      <td>35.012</td>\n",
       "      <td>-1.142</td>\n",
       "      <td>24.747</td>\n",
       "      <td>3.178</td>\n",
       "      <td>3.972</td>\n",
       "      <td>4.561</td>\n",
       "      <td>High income</td>\n",
       "    </tr>\n",
       "    <tr>\n",
       "      <th>129</th>\n",
       "      <td>DEU</td>\n",
       "      <td>Germany</td>\n",
       "      <td>2010</td>\n",
       "      <td>42379.84</td>\n",
       "      <td>25.810</td>\n",
       "      <td>1.119</td>\n",
       "      <td>20.066</td>\n",
       "      <td>6.967</td>\n",
       "      <td>14.047</td>\n",
       "      <td>12.648</td>\n",
       "      <td>High income</td>\n",
       "    </tr>\n",
       "    <tr>\n",
       "      <th>130</th>\n",
       "      <td>DEU</td>\n",
       "      <td>Germany</td>\n",
       "      <td>2015</td>\n",
       "      <td>41107.22</td>\n",
       "      <td>28.344</td>\n",
       "      <td>0.680</td>\n",
       "      <td>19.743</td>\n",
       "      <td>4.633</td>\n",
       "      <td>4.878</td>\n",
       "      <td>5.361</td>\n",
       "      <td>High income</td>\n",
       "    </tr>\n",
       "    <tr>\n",
       "      <th>138</th>\n",
       "      <td>DNK</td>\n",
       "      <td>Denmark</td>\n",
       "      <td>2010</td>\n",
       "      <td>58177.16</td>\n",
       "      <td>24.639</td>\n",
       "      <td>2.198</td>\n",
       "      <td>18.076</td>\n",
       "      <td>7.733</td>\n",
       "      <td>2.940</td>\n",
       "      <td>0.541</td>\n",
       "      <td>High income</td>\n",
       "    </tr>\n",
       "    <tr>\n",
       "      <th>139</th>\n",
       "      <td>DNK</td>\n",
       "      <td>Denmark</td>\n",
       "      <td>2015</td>\n",
       "      <td>53478.50</td>\n",
       "      <td>28.876</td>\n",
       "      <td>0.226</td>\n",
       "      <td>20.631</td>\n",
       "      <td>6.283</td>\n",
       "      <td>3.577</td>\n",
       "      <td>4.561</td>\n",
       "      <td>High income</td>\n",
       "    </tr>\n",
       "    <tr>\n",
       "      <th>165</th>\n",
       "      <td>FIN</td>\n",
       "      <td>Finland</td>\n",
       "      <td>2010</td>\n",
       "      <td>46647.00</td>\n",
       "      <td>23.536</td>\n",
       "      <td>1.686</td>\n",
       "      <td>22.048</td>\n",
       "      <td>8.500</td>\n",
       "      <td>6.182</td>\n",
       "      <td>6.304</td>\n",
       "      <td>High income</td>\n",
       "    </tr>\n",
       "    <tr>\n",
       "      <th>166</th>\n",
       "      <td>FIN</td>\n",
       "      <td>Finland</td>\n",
       "      <td>2015</td>\n",
       "      <td>42867.09</td>\n",
       "      <td>20.748</td>\n",
       "      <td>-0.156</td>\n",
       "      <td>21.686</td>\n",
       "      <td>9.575</td>\n",
       "      <td>0.392</td>\n",
       "      <td>1.963</td>\n",
       "      <td>High income</td>\n",
       "    </tr>\n",
       "    <tr>\n",
       "      <th>171</th>\n",
       "      <td>FRA</td>\n",
       "      <td>France</td>\n",
       "      <td>2010</td>\n",
       "      <td>42178.58</td>\n",
       "      <td>21.317</td>\n",
       "      <td>1.737</td>\n",
       "      <td>21.946</td>\n",
       "      <td>9.250</td>\n",
       "      <td>8.695</td>\n",
       "      <td>8.893</td>\n",
       "      <td>High income</td>\n",
       "    </tr>\n",
       "    <tr>\n",
       "      <th>181</th>\n",
       "      <td>GBR</td>\n",
       "      <td>United Kingdom</td>\n",
       "      <td>2015</td>\n",
       "      <td>45053.49</td>\n",
       "      <td>12.697</td>\n",
       "      <td>0.040</td>\n",
       "      <td>17.720</td>\n",
       "      <td>5.375</td>\n",
       "      <td>2.799</td>\n",
       "      <td>5.412</td>\n",
       "      <td>High income</td>\n",
       "    </tr>\n",
       "    <tr>\n",
       "      <th>214</th>\n",
       "      <td>HKG</td>\n",
       "      <td>Hong Kong</td>\n",
       "      <td>2015</td>\n",
       "      <td>42325.35</td>\n",
       "      <td>24.859</td>\n",
       "      <td>2.995</td>\n",
       "      <td>21.541</td>\n",
       "      <td>3.307</td>\n",
       "      <td>-1.368</td>\n",
       "      <td>-1.776</td>\n",
       "      <td>High income</td>\n",
       "    </tr>\n",
       "    <tr>\n",
       "      <th>234</th>\n",
       "      <td>IRL</td>\n",
       "      <td>Ireland</td>\n",
       "      <td>2010</td>\n",
       "      <td>48758.01</td>\n",
       "      <td>16.023</td>\n",
       "      <td>-1.619</td>\n",
       "      <td>17.217</td>\n",
       "      <td>14.583</td>\n",
       "      <td>6.289</td>\n",
       "      <td>0.678</td>\n",
       "      <td>High income</td>\n",
       "    </tr>\n",
       "    <tr>\n",
       "      <th>235</th>\n",
       "      <td>IRL</td>\n",
       "      <td>Ireland</td>\n",
       "      <td>2015</td>\n",
       "      <td>61951.73</td>\n",
       "      <td>29.966</td>\n",
       "      <td>-0.050</td>\n",
       "      <td>25.576</td>\n",
       "      <td>9.950</td>\n",
       "      <td>38.212</td>\n",
       "      <td>32.303</td>\n",
       "      <td>High income</td>\n",
       "    </tr>\n",
       "    <tr>\n",
       "      <th>243</th>\n",
       "      <td>ISL</td>\n",
       "      <td>Iceland</td>\n",
       "      <td>2010</td>\n",
       "      <td>43293.02</td>\n",
       "      <td>7.814</td>\n",
       "      <td>5.400</td>\n",
       "      <td>13.909</td>\n",
       "      <td>8.317</td>\n",
       "      <td>0.954</td>\n",
       "      <td>2.319</td>\n",
       "      <td>High income</td>\n",
       "    </tr>\n",
       "    <tr>\n",
       "      <th>244</th>\n",
       "      <td>ISL</td>\n",
       "      <td>Iceland</td>\n",
       "      <td>2015</td>\n",
       "      <td>53227.63</td>\n",
       "      <td>25.034</td>\n",
       "      <td>1.634</td>\n",
       "      <td>19.404</td>\n",
       "      <td>4.500</td>\n",
       "      <td>8.948</td>\n",
       "      <td>13.542</td>\n",
       "      <td>High income</td>\n",
       "    </tr>\n",
       "    <tr>\n",
       "      <th>258</th>\n",
       "      <td>JPN</td>\n",
       "      <td>Japan</td>\n",
       "      <td>2010</td>\n",
       "      <td>45135.80</td>\n",
       "      <td>26.427</td>\n",
       "      <td>-0.721</td>\n",
       "      <td>22.590</td>\n",
       "      <td>5.058</td>\n",
       "      <td>24.861</td>\n",
       "      <td>11.285</td>\n",
       "      <td>High income</td>\n",
       "    </tr>\n",
       "    <tr>\n",
       "      <th>309</th>\n",
       "      <td>LUX</td>\n",
       "      <td>Luxembourg</td>\n",
       "      <td>2010</td>\n",
       "      <td>106177.04</td>\n",
       "      <td>23.984</td>\n",
       "      <td>2.795</td>\n",
       "      <td>17.885</td>\n",
       "      <td>5.808</td>\n",
       "      <td>10.373</td>\n",
       "      <td>12.172</td>\n",
       "      <td>High income</td>\n",
       "    </tr>\n",
       "    <tr>\n",
       "      <th>310</th>\n",
       "      <td>LUX</td>\n",
       "      <td>Luxembourg</td>\n",
       "      <td>2015</td>\n",
       "      <td>102625.13</td>\n",
       "      <td>24.394</td>\n",
       "      <td>0.060</td>\n",
       "      <td>19.324</td>\n",
       "      <td>6.626</td>\n",
       "      <td>4.701</td>\n",
       "      <td>3.399</td>\n",
       "      <td>High income</td>\n",
       "    </tr>\n",
       "    <tr>\n",
       "      <th>315</th>\n",
       "      <td>MAC</td>\n",
       "      <td>Macao</td>\n",
       "      <td>2010</td>\n",
       "      <td>51135.16</td>\n",
       "      <td>NaN</td>\n",
       "      <td>2.809</td>\n",
       "      <td>13.247</td>\n",
       "      <td>2.825</td>\n",
       "      <td>NaN</td>\n",
       "      <td>NaN</td>\n",
       "      <td>High income</td>\n",
       "    </tr>\n",
       "    <tr>\n",
       "      <th>316</th>\n",
       "      <td>MAC</td>\n",
       "      <td>Macao</td>\n",
       "      <td>2015</td>\n",
       "      <td>69666.75</td>\n",
       "      <td>NaN</td>\n",
       "      <td>4.561</td>\n",
       "      <td>25.330</td>\n",
       "      <td>1.825</td>\n",
       "      <td>NaN</td>\n",
       "      <td>NaN</td>\n",
       "      <td>High income</td>\n",
       "    </tr>\n",
       "    <tr>\n",
       "      <th>378</th>\n",
       "      <td>NLD</td>\n",
       "      <td>Netherlands</td>\n",
       "      <td>2010</td>\n",
       "      <td>51165.82</td>\n",
       "      <td>27.156</td>\n",
       "      <td>0.929</td>\n",
       "      <td>20.222</td>\n",
       "      <td>4.995</td>\n",
       "      <td>9.764</td>\n",
       "      <td>8.552</td>\n",
       "      <td>High income</td>\n",
       "    </tr>\n",
       "    <tr>\n",
       "      <th>379</th>\n",
       "      <td>NLD</td>\n",
       "      <td>Netherlands</td>\n",
       "      <td>2015</td>\n",
       "      <td>45302.80</td>\n",
       "      <td>28.774</td>\n",
       "      <td>0.216</td>\n",
       "      <td>22.475</td>\n",
       "      <td>6.891</td>\n",
       "      <td>7.444</td>\n",
       "      <td>14.883</td>\n",
       "      <td>High income</td>\n",
       "    </tr>\n",
       "    <tr>\n",
       "      <th>381</th>\n",
       "      <td>NOR</td>\n",
       "      <td>Norway</td>\n",
       "      <td>2010</td>\n",
       "      <td>87356.19</td>\n",
       "      <td>36.282</td>\n",
       "      <td>2.419</td>\n",
       "      <td>25.425</td>\n",
       "      <td>3.794</td>\n",
       "      <td>0.556</td>\n",
       "      <td>8.416</td>\n",
       "      <td>High income</td>\n",
       "    </tr>\n",
       "    <tr>\n",
       "      <th>382</th>\n",
       "      <td>NOR</td>\n",
       "      <td>Norway</td>\n",
       "      <td>2015</td>\n",
       "      <td>74115.16</td>\n",
       "      <td>35.521</td>\n",
       "      <td>2.171</td>\n",
       "      <td>27.476</td>\n",
       "      <td>4.531</td>\n",
       "      <td>4.342</td>\n",
       "      <td>1.935</td>\n",
       "      <td>High income</td>\n",
       "    </tr>\n",
       "    <tr>\n",
       "      <th>426</th>\n",
       "      <td>QAT</td>\n",
       "      <td>Qatar</td>\n",
       "      <td>2010</td>\n",
       "      <td>69796.14</td>\n",
       "      <td>48.177</td>\n",
       "      <td>-2.389</td>\n",
       "      <td>NaN</td>\n",
       "      <td>NaN</td>\n",
       "      <td>31.090</td>\n",
       "      <td>-1.425</td>\n",
       "      <td>High income</td>\n",
       "    </tr>\n",
       "    <tr>\n",
       "      <th>427</th>\n",
       "      <td>QAT</td>\n",
       "      <td>Qatar</td>\n",
       "      <td>2015</td>\n",
       "      <td>66346.96</td>\n",
       "      <td>45.569</td>\n",
       "      <td>0.939</td>\n",
       "      <td>NaN</td>\n",
       "      <td>NaN</td>\n",
       "      <td>-1.827</td>\n",
       "      <td>-9.173</td>\n",
       "      <td>High income</td>\n",
       "    </tr>\n",
       "    <tr>\n",
       "      <th>444</th>\n",
       "      <td>SGP</td>\n",
       "      <td>Singapore</td>\n",
       "      <td>2010</td>\n",
       "      <td>47236.67</td>\n",
       "      <td>50.592</td>\n",
       "      <td>2.824</td>\n",
       "      <td>27.658</td>\n",
       "      <td>2.175</td>\n",
       "      <td>17.788</td>\n",
       "      <td>16.307</td>\n",
       "      <td>High income</td>\n",
       "    </tr>\n",
       "    <tr>\n",
       "      <th>445</th>\n",
       "      <td>SGP</td>\n",
       "      <td>Singapore</td>\n",
       "      <td>2015</td>\n",
       "      <td>55645.61</td>\n",
       "      <td>44.046</td>\n",
       "      <td>-0.523</td>\n",
       "      <td>25.353</td>\n",
       "      <td>1.900</td>\n",
       "      <td>4.968</td>\n",
       "      <td>3.381</td>\n",
       "      <td>High income</td>\n",
       "    </tr>\n",
       "    <tr>\n",
       "      <th>456</th>\n",
       "      <td>SMR</td>\n",
       "      <td>San Marino</td>\n",
       "      <td>2010</td>\n",
       "      <td>60426.24</td>\n",
       "      <td>NaN</td>\n",
       "      <td>2.413</td>\n",
       "      <td>19.613</td>\n",
       "      <td>4.945</td>\n",
       "      <td>NaN</td>\n",
       "      <td>NaN</td>\n",
       "      <td>High income</td>\n",
       "    </tr>\n",
       "    <tr>\n",
       "      <th>457</th>\n",
       "      <td>SMR</td>\n",
       "      <td>San Marino</td>\n",
       "      <td>2015</td>\n",
       "      <td>43068.69</td>\n",
       "      <td>NaN</td>\n",
       "      <td>0.146</td>\n",
       "      <td>12.086</td>\n",
       "      <td>9.183</td>\n",
       "      <td>NaN</td>\n",
       "      <td>NaN</td>\n",
       "      <td>High income</td>\n",
       "    </tr>\n",
       "    <tr>\n",
       "      <th>474</th>\n",
       "      <td>SWE</td>\n",
       "      <td>Sweden</td>\n",
       "      <td>2010</td>\n",
       "      <td>52658.79</td>\n",
       "      <td>28.799</td>\n",
       "      <td>1.901</td>\n",
       "      <td>22.962</td>\n",
       "      <td>8.575</td>\n",
       "      <td>11.107</td>\n",
       "      <td>11.816</td>\n",
       "      <td>High income</td>\n",
       "    </tr>\n",
       "    <tr>\n",
       "      <th>475</th>\n",
       "      <td>SWE</td>\n",
       "      <td>Sweden</td>\n",
       "      <td>2015</td>\n",
       "      <td>51274.28</td>\n",
       "      <td>27.743</td>\n",
       "      <td>0.704</td>\n",
       "      <td>24.429</td>\n",
       "      <td>7.400</td>\n",
       "      <td>4.995</td>\n",
       "      <td>5.031</td>\n",
       "      <td>High income</td>\n",
       "    </tr>\n",
       "    <tr>\n",
       "      <th>528</th>\n",
       "      <td>USA</td>\n",
       "      <td>United States</td>\n",
       "      <td>2010</td>\n",
       "      <td>48403.30</td>\n",
       "      <td>15.466</td>\n",
       "      <td>1.637</td>\n",
       "      <td>18.743</td>\n",
       "      <td>9.608</td>\n",
       "      <td>12.137</td>\n",
       "      <td>13.128</td>\n",
       "      <td>High income</td>\n",
       "    </tr>\n",
       "    <tr>\n",
       "      <th>529</th>\n",
       "      <td>USA</td>\n",
       "      <td>United States</td>\n",
       "      <td>2015</td>\n",
       "      <td>56848.51</td>\n",
       "      <td>20.141</td>\n",
       "      <td>0.121</td>\n",
       "      <td>21.163</td>\n",
       "      <td>5.275</td>\n",
       "      <td>0.421</td>\n",
       "      <td>5.175</td>\n",
       "      <td>High income</td>\n",
       "    </tr>\n",
       "  </tbody>\n",
       "</table>\n",
       "</div>"
      ],
      "text/plain": [
       "    code         country  year  gdp_percapita  gross_savings  inflation_rate  \\\n",
       "24   AUS       Australia  2010       56459.80         23.105           2.863   \n",
       "25   AUS       Australia  2015       51484.05         21.608           1.485   \n",
       "27   AUT         Austria  2010       46955.17         25.463           1.693   \n",
       "28   AUT         Austria  2015       44267.81         25.531           0.808   \n",
       "36   BEL         Belgium  2010       44448.17         24.751           2.334   \n",
       "37   BEL         Belgium  2015       41147.26         25.011           0.620   \n",
       "87   CAN          Canada  2010       47627.35         19.918           1.777   \n",
       "88   CAN          Canada  2015       43626.47         20.326           1.125   \n",
       "90   CHE     Switzerland  2010       77433.67         39.762           0.688   \n",
       "91   CHE     Switzerland  2015       85240.79         35.012          -1.142   \n",
       "129  DEU         Germany  2010       42379.84         25.810           1.119   \n",
       "130  DEU         Germany  2015       41107.22         28.344           0.680   \n",
       "138  DNK         Denmark  2010       58177.16         24.639           2.198   \n",
       "139  DNK         Denmark  2015       53478.50         28.876           0.226   \n",
       "165  FIN         Finland  2010       46647.00         23.536           1.686   \n",
       "166  FIN         Finland  2015       42867.09         20.748          -0.156   \n",
       "171  FRA          France  2010       42178.58         21.317           1.737   \n",
       "181  GBR  United Kingdom  2015       45053.49         12.697           0.040   \n",
       "214  HKG       Hong Kong  2015       42325.35         24.859           2.995   \n",
       "234  IRL         Ireland  2010       48758.01         16.023          -1.619   \n",
       "235  IRL         Ireland  2015       61951.73         29.966          -0.050   \n",
       "243  ISL         Iceland  2010       43293.02          7.814           5.400   \n",
       "244  ISL         Iceland  2015       53227.63         25.034           1.634   \n",
       "258  JPN           Japan  2010       45135.80         26.427          -0.721   \n",
       "309  LUX      Luxembourg  2010      106177.04         23.984           2.795   \n",
       "310  LUX      Luxembourg  2015      102625.13         24.394           0.060   \n",
       "315  MAC           Macao  2010       51135.16            NaN           2.809   \n",
       "316  MAC           Macao  2015       69666.75            NaN           4.561   \n",
       "378  NLD     Netherlands  2010       51165.82         27.156           0.929   \n",
       "379  NLD     Netherlands  2015       45302.80         28.774           0.216   \n",
       "381  NOR          Norway  2010       87356.19         36.282           2.419   \n",
       "382  NOR          Norway  2015       74115.16         35.521           2.171   \n",
       "426  QAT           Qatar  2010       69796.14         48.177          -2.389   \n",
       "427  QAT           Qatar  2015       66346.96         45.569           0.939   \n",
       "444  SGP       Singapore  2010       47236.67         50.592           2.824   \n",
       "445  SGP       Singapore  2015       55645.61         44.046          -0.523   \n",
       "456  SMR      San Marino  2010       60426.24            NaN           2.413   \n",
       "457  SMR      San Marino  2015       43068.69            NaN           0.146   \n",
       "474  SWE          Sweden  2010       52658.79         28.799           1.901   \n",
       "475  SWE          Sweden  2015       51274.28         27.743           0.704   \n",
       "528  USA   United States  2010       48403.30         15.466           1.637   \n",
       "529  USA   United States  2015       56848.51         20.141           0.121   \n",
       "\n",
       "     total_investment  unemployment_rate  exports  imports income_group  \n",
       "24             26.369              5.208    5.717   15.507  High income  \n",
       "25             25.880              6.050    6.533    1.962  High income  \n",
       "27             22.608              4.817   13.131   11.970  High income  \n",
       "28             23.806              5.742    3.049    3.630  High income  \n",
       "36             23.127              8.308    8.484    7.171  High income  \n",
       "37             23.628              8.483    1.368    1.053  High income  \n",
       "87             23.482              8.075    6.678   13.788  High income  \n",
       "88             23.822              6.942    3.419    0.751  High income  \n",
       "90             25.178              3.516   12.184    8.003  High income  \n",
       "91             24.747              3.178    3.972    4.561  High income  \n",
       "129            20.066              6.967   14.047   12.648  High income  \n",
       "130            19.743              4.633    4.878    5.361  High income  \n",
       "138            18.076              7.733    2.940    0.541  High income  \n",
       "139            20.631              6.283    3.577    4.561  High income  \n",
       "165            22.048              8.500    6.182    6.304  High income  \n",
       "166            21.686              9.575    0.392    1.963  High income  \n",
       "171            21.946              9.250    8.695    8.893  High income  \n",
       "181            17.720              5.375    2.799    5.412  High income  \n",
       "214            21.541              3.307   -1.368   -1.776  High income  \n",
       "234            17.217             14.583    6.289    0.678  High income  \n",
       "235            25.576              9.950   38.212   32.303  High income  \n",
       "243            13.909              8.317    0.954    2.319  High income  \n",
       "244            19.404              4.500    8.948   13.542  High income  \n",
       "258            22.590              5.058   24.861   11.285  High income  \n",
       "309            17.885              5.808   10.373   12.172  High income  \n",
       "310            19.324              6.626    4.701    3.399  High income  \n",
       "315            13.247              2.825      NaN      NaN  High income  \n",
       "316            25.330              1.825      NaN      NaN  High income  \n",
       "378            20.222              4.995    9.764    8.552  High income  \n",
       "379            22.475              6.891    7.444   14.883  High income  \n",
       "381            25.425              3.794    0.556    8.416  High income  \n",
       "382            27.476              4.531    4.342    1.935  High income  \n",
       "426               NaN                NaN   31.090   -1.425  High income  \n",
       "427               NaN                NaN   -1.827   -9.173  High income  \n",
       "444            27.658              2.175   17.788   16.307  High income  \n",
       "445            25.353              1.900    4.968    3.381  High income  \n",
       "456            19.613              4.945      NaN      NaN  High income  \n",
       "457            12.086              9.183      NaN      NaN  High income  \n",
       "474            22.962              8.575   11.107   11.816  High income  \n",
       "475            24.429              7.400    4.995    5.031  High income  \n",
       "528            18.743              9.608   12.137   13.128  High income  \n",
       "529            21.163              5.275    0.421    5.175  High income  "
      ]
     },
     "execution_count": 36,
     "metadata": {},
     "output_type": "execute_result"
    }
   ],
   "source": [
    "# Filter rows where gdp_percapita is greater than 40,000 and year is less than or equal to 2016\n",
    "top_gdp_2010_2015 = economies[(economies['gdp_percapita'] > 40000) & (economies['year'] <= 2016)]\n",
    "top_gdp_2010_2015"
   ]
  },
  {
   "cell_type": "markdown",
   "metadata": {},
   "source": [
    "## Exercise #3: Cleaning and Preparing Data with Pandas\n",
    "\n",
    "By completing this exercise, you will be able to use `pandas` to  \n",
    "- Handle missing data  \n",
    "- Convert a column to a different data type   \n",
    "- Rename a column  \n",
    "- Change a DataFrame’s index  \n",
    "- Filter a DataFrame  \n",
    "\n",
    "### Handle Missing Data\n",
    "\n",
    "#### Remove rows"
   ]
  },
  {
   "cell_type": "code",
   "execution_count": null,
   "metadata": {},
   "outputs": [],
   "source": [
    "# Remove rows with any missing values"
   ]
  },
  {
   "cell_type": "code",
   "execution_count": null,
   "metadata": {},
   "outputs": [],
   "source": [
    "# Remove rows only if all values are missing"
   ]
  },
  {
   "cell_type": "code",
   "execution_count": null,
   "metadata": {},
   "outputs": [],
   "source": [
    "# Remove rows with missing values in specific columns"
   ]
  },
  {
   "cell_type": "markdown",
   "metadata": {},
   "source": [
    "#### Remove columns"
   ]
  },
  {
   "cell_type": "code",
   "execution_count": null,
   "metadata": {},
   "outputs": [],
   "source": [
    "# Remove columns with any missing values"
   ]
  },
  {
   "cell_type": "markdown",
   "metadata": {},
   "source": [
    "#### Replace missing values with specific value"
   ]
  },
  {
   "cell_type": "code",
   "execution_count": null,
   "metadata": {},
   "outputs": [],
   "source": [
    "# Replace missing values with a specific value (e.g., 0 for numerical columns, \n",
    "# 'Unknown' for categorical columns)\n"
   ]
  },
  {
   "cell_type": "markdown",
   "metadata": {},
   "source": [
    "### Convert a Column to a Different Data Type and Rename a Column\n",
    "\n",
    "#### Convert a Column to a Different Data Type"
   ]
  },
  {
   "cell_type": "code",
   "execution_count": null,
   "metadata": {},
   "outputs": [],
   "source": [
    "# Convert the 'year' column to string type"
   ]
  },
  {
   "cell_type": "code",
   "execution_count": null,
   "metadata": {},
   "outputs": [],
   "source": [
    "# Convert it back to integer"
   ]
  },
  {
   "cell_type": "markdown",
   "metadata": {},
   "source": [
    "#### Rename a Column"
   ]
  },
  {
   "cell_type": "code",
   "execution_count": null,
   "metadata": {},
   "outputs": [],
   "source": [
    "# Rename the 'fertility_rate' column to 'fertility'\n"
   ]
  },
  {
   "cell_type": "markdown",
   "metadata": {},
   "source": [
    "### Change a DataFrame’s Index and Filter a DataFrame\n",
    "\n",
    "#### Change a DataFrame’s Index"
   ]
  },
  {
   "cell_type": "code",
   "execution_count": null,
   "metadata": {},
   "outputs": [],
   "source": [
    "# Set the 'country_code' column as the index\n"
   ]
  },
  {
   "cell_type": "markdown",
   "metadata": {},
   "source": [
    "#### Filter a DataFrame"
   ]
  },
  {
   "cell_type": "code",
   "execution_count": null,
   "metadata": {},
   "outputs": [],
   "source": [
    "# Filter the DataFrame to include only rows where the 'continent' is 'Asia'\n"
   ]
  },
  {
   "cell_type": "code",
   "execution_count": null,
   "metadata": {},
   "outputs": [],
   "source": [
    "# Filter the DataFrame to include only rows where the 'year' is 2020\n"
   ]
  },
  {
   "cell_type": "code",
   "execution_count": null,
   "metadata": {},
   "outputs": [],
   "source": [
    "# Filter the DataFrame to include only rows where the 'fertility_rate' is greater than 2\n"
   ]
  },
  {
   "cell_type": "markdown",
   "metadata": {},
   "source": [
    "## Walkthrough #4: Transforming and Aggregating Data with Pandas\n",
    "\n",
    "### Grouping data"
   ]
  },
  {
   "cell_type": "markdown",
   "metadata": {},
   "source": [
    "### Applying Functions\n",
    "\n",
    "#### Applying a function element-wise with `map()`"
   ]
  },
  {
   "cell_type": "code",
   "execution_count": 37,
   "metadata": {},
   "outputs": [
    {
     "data": {
      "text/plain": [
       "income_group\n",
       "High income            33781.737556\n",
       "Low income               688.904493\n",
       "Lower middle income     2329.609629\n",
       "Not classified          7805.646667\n",
       "Upper middle income     6679.059320\n",
       "Name: gdp_percapita, dtype: float64"
      ]
     },
     "execution_count": 37,
     "metadata": {},
     "output_type": "execute_result"
    }
   ],
   "source": [
    "# Convert income_group to uppercase using map()\n",
    "economies.groupby('income_group')['gdp_percapita'].mean()"
   ]
  },
  {
   "cell_type": "markdown",
   "metadata": {},
   "source": [
    "#### Applying a function across columns with `apply()`"
   ]
  },
  {
   "cell_type": "code",
   "execution_count": 44,
   "metadata": {},
   "outputs": [
    {
     "data": {
      "text/html": [
       "<div>\n",
       "<style scoped>\n",
       "    .dataframe tbody tr th:only-of-type {\n",
       "        vertical-align: middle;\n",
       "    }\n",
       "\n",
       "    .dataframe tbody tr th {\n",
       "        vertical-align: top;\n",
       "    }\n",
       "\n",
       "    .dataframe thead th {\n",
       "        text-align: right;\n",
       "    }\n",
       "</style>\n",
       "<table border=\"1\" class=\"dataframe\">\n",
       "  <thead>\n",
       "    <tr style=\"text-align: right;\">\n",
       "      <th></th>\n",
       "      <th>code</th>\n",
       "      <th>country</th>\n",
       "      <th>year</th>\n",
       "      <th>gdp_percapita</th>\n",
       "      <th>gross_savings</th>\n",
       "      <th>inflation_rate</th>\n",
       "      <th>total_investment</th>\n",
       "      <th>unemployment_rate</th>\n",
       "      <th>exports</th>\n",
       "      <th>imports</th>\n",
       "      <th>income_group</th>\n",
       "      <th>gdp_percapita_change</th>\n",
       "    </tr>\n",
       "  </thead>\n",
       "  <tbody>\n",
       "    <tr>\n",
       "      <th>1</th>\n",
       "      <td>ABW</td>\n",
       "      <td>Aruba</td>\n",
       "      <td>2015</td>\n",
       "      <td>27126.620</td>\n",
       "      <td>21.411</td>\n",
       "      <td>0.475</td>\n",
       "      <td>NaN</td>\n",
       "      <td>7.298</td>\n",
       "      <td>NaN</td>\n",
       "      <td>NaN</td>\n",
       "      <td>High income</td>\n",
       "      <td>NaN</td>\n",
       "    </tr>\n",
       "    <tr>\n",
       "      <th>2</th>\n",
       "      <td>ABW</td>\n",
       "      <td>Aruba</td>\n",
       "      <td>2020</td>\n",
       "      <td>21832.920</td>\n",
       "      <td>-7.521</td>\n",
       "      <td>-1.338</td>\n",
       "      <td>NaN</td>\n",
       "      <td>13.997</td>\n",
       "      <td>NaN</td>\n",
       "      <td>NaN</td>\n",
       "      <td>High income</td>\n",
       "      <td>-0.195148</td>\n",
       "    </tr>\n",
       "    <tr>\n",
       "      <th>4</th>\n",
       "      <td>AFG</td>\n",
       "      <td>Afghanistan</td>\n",
       "      <td>2015</td>\n",
       "      <td>711.337</td>\n",
       "      <td>22.223</td>\n",
       "      <td>-0.662</td>\n",
       "      <td>18.427</td>\n",
       "      <td>NaN</td>\n",
       "      <td>-11.585</td>\n",
       "      <td>15.309</td>\n",
       "      <td>Low income</td>\n",
       "      <td>NaN</td>\n",
       "    </tr>\n",
       "    <tr>\n",
       "      <th>5</th>\n",
       "      <td>AFG</td>\n",
       "      <td>Afghanistan</td>\n",
       "      <td>2020</td>\n",
       "      <td>580.817</td>\n",
       "      <td>27.132</td>\n",
       "      <td>5.607</td>\n",
       "      <td>16.420</td>\n",
       "      <td>NaN</td>\n",
       "      <td>-10.424</td>\n",
       "      <td>2.892</td>\n",
       "      <td>Low income</td>\n",
       "      <td>-0.183485</td>\n",
       "    </tr>\n",
       "    <tr>\n",
       "      <th>7</th>\n",
       "      <td>AGO</td>\n",
       "      <td>Angola</td>\n",
       "      <td>2015</td>\n",
       "      <td>4354.920</td>\n",
       "      <td>28.491</td>\n",
       "      <td>9.159</td>\n",
       "      <td>34.202</td>\n",
       "      <td>NaN</td>\n",
       "      <td>6.721</td>\n",
       "      <td>-19.515</td>\n",
       "      <td>Lower middle income</td>\n",
       "      <td>NaN</td>\n",
       "    </tr>\n",
       "    <tr>\n",
       "      <th>...</th>\n",
       "      <td>...</td>\n",
       "      <td>...</td>\n",
       "      <td>...</td>\n",
       "      <td>...</td>\n",
       "      <td>...</td>\n",
       "      <td>...</td>\n",
       "      <td>...</td>\n",
       "      <td>...</td>\n",
       "      <td>...</td>\n",
       "      <td>...</td>\n",
       "      <td>...</td>\n",
       "      <td>...</td>\n",
       "    </tr>\n",
       "    <tr>\n",
       "      <th>554</th>\n",
       "      <td>ZAF</td>\n",
       "      <td>South Africa</td>\n",
       "      <td>2020</td>\n",
       "      <td>5067.150</td>\n",
       "      <td>14.602</td>\n",
       "      <td>3.268</td>\n",
       "      <td>12.426</td>\n",
       "      <td>29.175</td>\n",
       "      <td>-10.280</td>\n",
       "      <td>-16.615</td>\n",
       "      <td>Upper middle income</td>\n",
       "      <td>-0.115948</td>\n",
       "    </tr>\n",
       "    <tr>\n",
       "      <th>556</th>\n",
       "      <td>ZMB</td>\n",
       "      <td>Zambia</td>\n",
       "      <td>2015</td>\n",
       "      <td>1310.460</td>\n",
       "      <td>40.103</td>\n",
       "      <td>10.107</td>\n",
       "      <td>42.791</td>\n",
       "      <td>NaN</td>\n",
       "      <td>-11.407</td>\n",
       "      <td>0.696</td>\n",
       "      <td>Lower middle income</td>\n",
       "      <td>NaN</td>\n",
       "    </tr>\n",
       "    <tr>\n",
       "      <th>557</th>\n",
       "      <td>ZMB</td>\n",
       "      <td>Zambia</td>\n",
       "      <td>2020</td>\n",
       "      <td>981.311</td>\n",
       "      <td>36.030</td>\n",
       "      <td>16.350</td>\n",
       "      <td>34.514</td>\n",
       "      <td>NaN</td>\n",
       "      <td>1.143</td>\n",
       "      <td>2.635</td>\n",
       "      <td>Lower middle income</td>\n",
       "      <td>-0.251171</td>\n",
       "    </tr>\n",
       "    <tr>\n",
       "      <th>559</th>\n",
       "      <td>ZWE</td>\n",
       "      <td>Zimbabwe</td>\n",
       "      <td>2015</td>\n",
       "      <td>1425.010</td>\n",
       "      <td>NaN</td>\n",
       "      <td>-2.410</td>\n",
       "      <td>NaN</td>\n",
       "      <td>NaN</td>\n",
       "      <td>NaN</td>\n",
       "      <td>NaN</td>\n",
       "      <td>Lower middle income</td>\n",
       "      <td>NaN</td>\n",
       "    </tr>\n",
       "    <tr>\n",
       "      <th>560</th>\n",
       "      <td>ZWE</td>\n",
       "      <td>Zimbabwe</td>\n",
       "      <td>2020</td>\n",
       "      <td>1385.040</td>\n",
       "      <td>NaN</td>\n",
       "      <td>557.210</td>\n",
       "      <td>NaN</td>\n",
       "      <td>NaN</td>\n",
       "      <td>NaN</td>\n",
       "      <td>NaN</td>\n",
       "      <td>Lower middle income</td>\n",
       "      <td>-0.028049</td>\n",
       "    </tr>\n",
       "  </tbody>\n",
       "</table>\n",
       "<p>374 rows × 12 columns</p>\n",
       "</div>"
      ],
      "text/plain": [
       "    code       country  year  gdp_percapita  gross_savings  inflation_rate  \\\n",
       "1    ABW         Aruba  2015      27126.620         21.411           0.475   \n",
       "2    ABW         Aruba  2020      21832.920         -7.521          -1.338   \n",
       "4    AFG   Afghanistan  2015        711.337         22.223          -0.662   \n",
       "5    AFG   Afghanistan  2020        580.817         27.132           5.607   \n",
       "7    AGO        Angola  2015       4354.920         28.491           9.159   \n",
       "..   ...           ...   ...            ...            ...             ...   \n",
       "554  ZAF  South Africa  2020       5067.150         14.602           3.268   \n",
       "556  ZMB        Zambia  2015       1310.460         40.103          10.107   \n",
       "557  ZMB        Zambia  2020        981.311         36.030          16.350   \n",
       "559  ZWE      Zimbabwe  2015       1425.010            NaN          -2.410   \n",
       "560  ZWE      Zimbabwe  2020       1385.040            NaN         557.210   \n",
       "\n",
       "     total_investment  unemployment_rate  exports  imports  \\\n",
       "1                 NaN              7.298      NaN      NaN   \n",
       "2                 NaN             13.997      NaN      NaN   \n",
       "4              18.427                NaN  -11.585   15.309   \n",
       "5              16.420                NaN  -10.424    2.892   \n",
       "7              34.202                NaN    6.721  -19.515   \n",
       "..                ...                ...      ...      ...   \n",
       "554            12.426             29.175  -10.280  -16.615   \n",
       "556            42.791                NaN  -11.407    0.696   \n",
       "557            34.514                NaN    1.143    2.635   \n",
       "559               NaN                NaN      NaN      NaN   \n",
       "560               NaN                NaN      NaN      NaN   \n",
       "\n",
       "            income_group  gdp_percapita_change  \n",
       "1            High income                   NaN  \n",
       "2            High income             -0.195148  \n",
       "4             Low income                   NaN  \n",
       "5             Low income             -0.183485  \n",
       "7    Lower middle income                   NaN  \n",
       "..                   ...                   ...  \n",
       "554  Upper middle income             -0.115948  \n",
       "556  Lower middle income                   NaN  \n",
       "557  Lower middle income             -0.251171  \n",
       "559  Lower middle income                   NaN  \n",
       "560  Lower middle income             -0.028049  \n",
       "\n",
       "[374 rows x 12 columns]"
      ]
     },
     "execution_count": 44,
     "metadata": {},
     "output_type": "execute_result"
    }
   ],
   "source": [
    "# Calculate percentage change in gdp_percapita across rows for 2015 to 2020\n",
    "# Filter rows for the years 2015 and 2020\n",
    "economies_focused = economies[economies['year'].isin([2015, 2020])].copy()\n",
    "\n",
    "# Calculate percentage change in gdp_percapita across columns for 2015 to 2020\n",
    "gdp_pct_change = economies_focused.groupby('code')['gdp_percapita'].apply(lambda x: x.pct_change(fill_method=None))\n",
    "\n",
    "# Reset the index of the result to align it with the original DataFrame\n",
    "gdp_pct_change = gdp_pct_change.reset_index(level=0, drop=True)\n",
    "\n",
    "# Assign the calculated percentage change back to the DataFrame\n",
    "economies_focused['gdp_percapita_change'] = gdp_pct_change\n",
    "economies_focused"
   ]
  },
  {
   "cell_type": "code",
   "execution_count": 45,
   "metadata": {},
   "outputs": [
    {
     "name": "stderr",
     "output_type": "stream",
     "text": [
      "/var/folders/t9/1zhtjchs09z7bj7wn8gkbwt40000gp/T/ipykernel_80470/3616364814.py:6: FutureWarning:\n",
      "\n",
      "The default fill_method='ffill' in SeriesGroupBy.pct_change is deprecated and will be removed in a future version. Either fill in any non-leading NA values prior to calling pct_change or specify 'fill_method=None' to not fill NA values.\n",
      "\n"
     ]
    },
    {
     "data": {
      "text/html": [
       "<div>\n",
       "<style scoped>\n",
       "    .dataframe tbody tr th:only-of-type {\n",
       "        vertical-align: middle;\n",
       "    }\n",
       "\n",
       "    .dataframe tbody tr th {\n",
       "        vertical-align: top;\n",
       "    }\n",
       "\n",
       "    .dataframe thead th {\n",
       "        text-align: right;\n",
       "    }\n",
       "</style>\n",
       "<table border=\"1\" class=\"dataframe\">\n",
       "  <thead>\n",
       "    <tr style=\"text-align: right;\">\n",
       "      <th></th>\n",
       "      <th>code</th>\n",
       "      <th>country</th>\n",
       "      <th>year</th>\n",
       "      <th>gdp_percapita</th>\n",
       "      <th>gross_savings</th>\n",
       "      <th>inflation_rate</th>\n",
       "      <th>total_investment</th>\n",
       "      <th>unemployment_rate</th>\n",
       "      <th>exports</th>\n",
       "      <th>imports</th>\n",
       "      <th>income_group</th>\n",
       "      <th>gdp_percapita_change</th>\n",
       "    </tr>\n",
       "  </thead>\n",
       "  <tbody>\n",
       "    <tr>\n",
       "      <th>1</th>\n",
       "      <td>ABW</td>\n",
       "      <td>Aruba</td>\n",
       "      <td>2015</td>\n",
       "      <td>27126.620</td>\n",
       "      <td>21.411</td>\n",
       "      <td>0.475</td>\n",
       "      <td>NaN</td>\n",
       "      <td>7.298</td>\n",
       "      <td>NaN</td>\n",
       "      <td>NaN</td>\n",
       "      <td>High income</td>\n",
       "      <td>NaN</td>\n",
       "    </tr>\n",
       "    <tr>\n",
       "      <th>2</th>\n",
       "      <td>ABW</td>\n",
       "      <td>Aruba</td>\n",
       "      <td>2020</td>\n",
       "      <td>21832.920</td>\n",
       "      <td>-7.521</td>\n",
       "      <td>-1.338</td>\n",
       "      <td>NaN</td>\n",
       "      <td>13.997</td>\n",
       "      <td>NaN</td>\n",
       "      <td>NaN</td>\n",
       "      <td>High income</td>\n",
       "      <td>-0.195148</td>\n",
       "    </tr>\n",
       "    <tr>\n",
       "      <th>4</th>\n",
       "      <td>AFG</td>\n",
       "      <td>Afghanistan</td>\n",
       "      <td>2015</td>\n",
       "      <td>711.337</td>\n",
       "      <td>22.223</td>\n",
       "      <td>-0.662</td>\n",
       "      <td>18.427</td>\n",
       "      <td>NaN</td>\n",
       "      <td>-11.585</td>\n",
       "      <td>15.309</td>\n",
       "      <td>Low income</td>\n",
       "      <td>NaN</td>\n",
       "    </tr>\n",
       "    <tr>\n",
       "      <th>5</th>\n",
       "      <td>AFG</td>\n",
       "      <td>Afghanistan</td>\n",
       "      <td>2020</td>\n",
       "      <td>580.817</td>\n",
       "      <td>27.132</td>\n",
       "      <td>5.607</td>\n",
       "      <td>16.420</td>\n",
       "      <td>NaN</td>\n",
       "      <td>-10.424</td>\n",
       "      <td>2.892</td>\n",
       "      <td>Low income</td>\n",
       "      <td>-0.183485</td>\n",
       "    </tr>\n",
       "    <tr>\n",
       "      <th>7</th>\n",
       "      <td>AGO</td>\n",
       "      <td>Angola</td>\n",
       "      <td>2015</td>\n",
       "      <td>4354.920</td>\n",
       "      <td>28.491</td>\n",
       "      <td>9.159</td>\n",
       "      <td>34.202</td>\n",
       "      <td>NaN</td>\n",
       "      <td>6.721</td>\n",
       "      <td>-19.515</td>\n",
       "      <td>Lower middle income</td>\n",
       "      <td>NaN</td>\n",
       "    </tr>\n",
       "    <tr>\n",
       "      <th>...</th>\n",
       "      <td>...</td>\n",
       "      <td>...</td>\n",
       "      <td>...</td>\n",
       "      <td>...</td>\n",
       "      <td>...</td>\n",
       "      <td>...</td>\n",
       "      <td>...</td>\n",
       "      <td>...</td>\n",
       "      <td>...</td>\n",
       "      <td>...</td>\n",
       "      <td>...</td>\n",
       "      <td>...</td>\n",
       "    </tr>\n",
       "    <tr>\n",
       "      <th>554</th>\n",
       "      <td>ZAF</td>\n",
       "      <td>South Africa</td>\n",
       "      <td>2020</td>\n",
       "      <td>5067.150</td>\n",
       "      <td>14.602</td>\n",
       "      <td>3.268</td>\n",
       "      <td>12.426</td>\n",
       "      <td>29.175</td>\n",
       "      <td>-10.280</td>\n",
       "      <td>-16.615</td>\n",
       "      <td>Upper middle income</td>\n",
       "      <td>-0.115948</td>\n",
       "    </tr>\n",
       "    <tr>\n",
       "      <th>556</th>\n",
       "      <td>ZMB</td>\n",
       "      <td>Zambia</td>\n",
       "      <td>2015</td>\n",
       "      <td>1310.460</td>\n",
       "      <td>40.103</td>\n",
       "      <td>10.107</td>\n",
       "      <td>42.791</td>\n",
       "      <td>NaN</td>\n",
       "      <td>-11.407</td>\n",
       "      <td>0.696</td>\n",
       "      <td>Lower middle income</td>\n",
       "      <td>NaN</td>\n",
       "    </tr>\n",
       "    <tr>\n",
       "      <th>557</th>\n",
       "      <td>ZMB</td>\n",
       "      <td>Zambia</td>\n",
       "      <td>2020</td>\n",
       "      <td>981.311</td>\n",
       "      <td>36.030</td>\n",
       "      <td>16.350</td>\n",
       "      <td>34.514</td>\n",
       "      <td>NaN</td>\n",
       "      <td>1.143</td>\n",
       "      <td>2.635</td>\n",
       "      <td>Lower middle income</td>\n",
       "      <td>-0.251171</td>\n",
       "    </tr>\n",
       "    <tr>\n",
       "      <th>559</th>\n",
       "      <td>ZWE</td>\n",
       "      <td>Zimbabwe</td>\n",
       "      <td>2015</td>\n",
       "      <td>1425.010</td>\n",
       "      <td>NaN</td>\n",
       "      <td>-2.410</td>\n",
       "      <td>NaN</td>\n",
       "      <td>NaN</td>\n",
       "      <td>NaN</td>\n",
       "      <td>NaN</td>\n",
       "      <td>Lower middle income</td>\n",
       "      <td>NaN</td>\n",
       "    </tr>\n",
       "    <tr>\n",
       "      <th>560</th>\n",
       "      <td>ZWE</td>\n",
       "      <td>Zimbabwe</td>\n",
       "      <td>2020</td>\n",
       "      <td>1385.040</td>\n",
       "      <td>NaN</td>\n",
       "      <td>557.210</td>\n",
       "      <td>NaN</td>\n",
       "      <td>NaN</td>\n",
       "      <td>NaN</td>\n",
       "      <td>NaN</td>\n",
       "      <td>Lower middle income</td>\n",
       "      <td>-0.028049</td>\n",
       "    </tr>\n",
       "  </tbody>\n",
       "</table>\n",
       "<p>374 rows × 12 columns</p>\n",
       "</div>"
      ],
      "text/plain": [
       "    code       country  year  gdp_percapita  gross_savings  inflation_rate  \\\n",
       "1    ABW         Aruba  2015      27126.620         21.411           0.475   \n",
       "2    ABW         Aruba  2020      21832.920         -7.521          -1.338   \n",
       "4    AFG   Afghanistan  2015        711.337         22.223          -0.662   \n",
       "5    AFG   Afghanistan  2020        580.817         27.132           5.607   \n",
       "7    AGO        Angola  2015       4354.920         28.491           9.159   \n",
       "..   ...           ...   ...            ...            ...             ...   \n",
       "554  ZAF  South Africa  2020       5067.150         14.602           3.268   \n",
       "556  ZMB        Zambia  2015       1310.460         40.103          10.107   \n",
       "557  ZMB        Zambia  2020        981.311         36.030          16.350   \n",
       "559  ZWE      Zimbabwe  2015       1425.010            NaN          -2.410   \n",
       "560  ZWE      Zimbabwe  2020       1385.040            NaN         557.210   \n",
       "\n",
       "     total_investment  unemployment_rate  exports  imports  \\\n",
       "1                 NaN              7.298      NaN      NaN   \n",
       "2                 NaN             13.997      NaN      NaN   \n",
       "4              18.427                NaN  -11.585   15.309   \n",
       "5              16.420                NaN  -10.424    2.892   \n",
       "7              34.202                NaN    6.721  -19.515   \n",
       "..                ...                ...      ...      ...   \n",
       "554            12.426             29.175  -10.280  -16.615   \n",
       "556            42.791                NaN  -11.407    0.696   \n",
       "557            34.514                NaN    1.143    2.635   \n",
       "559               NaN                NaN      NaN      NaN   \n",
       "560               NaN                NaN      NaN      NaN   \n",
       "\n",
       "            income_group  gdp_percapita_change  \n",
       "1            High income                   NaN  \n",
       "2            High income             -0.195148  \n",
       "4             Low income                   NaN  \n",
       "5             Low income             -0.183485  \n",
       "7    Lower middle income                   NaN  \n",
       "..                   ...                   ...  \n",
       "554  Upper middle income             -0.115948  \n",
       "556  Lower middle income                   NaN  \n",
       "557  Lower middle income             -0.251171  \n",
       "559  Lower middle income                   NaN  \n",
       "560  Lower middle income             -0.028049  \n",
       "\n",
       "[374 rows x 12 columns]"
      ]
     },
     "execution_count": 45,
     "metadata": {},
     "output_type": "execute_result"
    }
   ],
   "source": [
    "# Another way?\n",
    "# Filter rows for the years 2015 and 2020\n",
    "economies_focused2 = economies[economies['year'].isin([2015, 2020])].copy()\n",
    "\n",
    "# Calculate percentage change in gdp_percapita across rows for each country\n",
    "economies_focused2['gdp_percapita_change'] = economies_focused2.groupby('code')['gdp_percapita'].pct_change()\n",
    "\n",
    "economies_focused2\n"
   ]
  },
  {
   "cell_type": "markdown",
   "metadata": {},
   "source": [
    "#### Applying a Function to Groups with `groupby()` and `agg()`"
   ]
  },
  {
   "cell_type": "code",
   "execution_count": 40,
   "metadata": {},
   "outputs": [
    {
     "data": {
      "text/html": [
       "<div>\n",
       "<style scoped>\n",
       "    .dataframe tbody tr th:only-of-type {\n",
       "        vertical-align: middle;\n",
       "    }\n",
       "\n",
       "    .dataframe tbody tr th {\n",
       "        vertical-align: top;\n",
       "    }\n",
       "\n",
       "    .dataframe thead th {\n",
       "        text-align: right;\n",
       "    }\n",
       "</style>\n",
       "<table border=\"1\" class=\"dataframe\">\n",
       "  <thead>\n",
       "    <tr style=\"text-align: right;\">\n",
       "      <th></th>\n",
       "      <th>gdp_percapita</th>\n",
       "      <th>inflation_rate</th>\n",
       "    </tr>\n",
       "    <tr>\n",
       "      <th>income_group</th>\n",
       "      <th></th>\n",
       "      <th></th>\n",
       "    </tr>\n",
       "  </thead>\n",
       "  <tbody>\n",
       "    <tr>\n",
       "      <th>High income</th>\n",
       "      <td>29529.305</td>\n",
       "      <td>0.8595</td>\n",
       "    </tr>\n",
       "    <tr>\n",
       "      <th>Low income</th>\n",
       "      <td>631.490</td>\n",
       "      <td>5.0490</td>\n",
       "    </tr>\n",
       "    <tr>\n",
       "      <th>Lower middle income</th>\n",
       "      <td>2012.150</td>\n",
       "      <td>4.4370</td>\n",
       "    </tr>\n",
       "    <tr>\n",
       "      <th>Not classified</th>\n",
       "      <td>10568.100</td>\n",
       "      <td>121.7380</td>\n",
       "    </tr>\n",
       "    <tr>\n",
       "      <th>Upper middle income</th>\n",
       "      <td>6083.870</td>\n",
       "      <td>2.7645</td>\n",
       "    </tr>\n",
       "  </tbody>\n",
       "</table>\n",
       "</div>"
      ],
      "text/plain": [
       "                     gdp_percapita  inflation_rate\n",
       "income_group                                      \n",
       "High income              29529.305          0.8595\n",
       "Low income                 631.490          5.0490\n",
       "Lower middle income       2012.150          4.4370\n",
       "Not classified           10568.100        121.7380\n",
       "Upper middle income       6083.870          2.7645"
      ]
     },
     "execution_count": 40,
     "metadata": {},
     "output_type": "execute_result"
    }
   ],
   "source": [
    "# Calculate the median gdp_percapita and inflation_rate for each income_group\n",
    "median_values = economies.groupby('income_group').agg({\n",
    "    'gdp_percapita': 'median',\n",
    "    'inflation_rate': 'median'\n",
    "})\n",
    "median_values"
   ]
  },
  {
   "cell_type": "markdown",
   "metadata": {},
   "source": [
    "### Summary tables"
   ]
  },
  {
   "cell_type": "code",
   "execution_count": 41,
   "metadata": {},
   "outputs": [
    {
     "data": {
      "text/html": [
       "<div>\n",
       "<style scoped>\n",
       "    .dataframe tbody tr th:only-of-type {\n",
       "        vertical-align: middle;\n",
       "    }\n",
       "\n",
       "    .dataframe tbody tr th {\n",
       "        vertical-align: top;\n",
       "    }\n",
       "\n",
       "    .dataframe thead tr th {\n",
       "        text-align: left;\n",
       "    }\n",
       "\n",
       "    .dataframe thead tr:last-of-type th {\n",
       "        text-align: right;\n",
       "    }\n",
       "</style>\n",
       "<table border=\"1\" class=\"dataframe\">\n",
       "  <thead>\n",
       "    <tr>\n",
       "      <th></th>\n",
       "      <th colspan=\"3\" halign=\"left\">gdp_percapita</th>\n",
       "      <th colspan=\"3\" halign=\"left\">inflation_rate</th>\n",
       "    </tr>\n",
       "    <tr>\n",
       "      <th>year</th>\n",
       "      <th>2010</th>\n",
       "      <th>2015</th>\n",
       "      <th>2020</th>\n",
       "      <th>2010</th>\n",
       "      <th>2015</th>\n",
       "      <th>2020</th>\n",
       "    </tr>\n",
       "    <tr>\n",
       "      <th>income_group</th>\n",
       "      <th></th>\n",
       "      <th></th>\n",
       "      <th></th>\n",
       "      <th></th>\n",
       "      <th></th>\n",
       "      <th></th>\n",
       "    </tr>\n",
       "  </thead>\n",
       "  <tbody>\n",
       "    <tr>\n",
       "      <th>High income</th>\n",
       "      <td>33265.256167</td>\n",
       "      <td>33484.692333</td>\n",
       "      <td>34595.264167</td>\n",
       "      <td>2.168550</td>\n",
       "      <td>0.910950</td>\n",
       "      <td>0.666333</td>\n",
       "    </tr>\n",
       "    <tr>\n",
       "      <th>Low income</th>\n",
       "      <td>736.990261</td>\n",
       "      <td>685.146565</td>\n",
       "      <td>644.576652</td>\n",
       "      <td>5.915000</td>\n",
       "      <td>7.187591</td>\n",
       "      <td>14.530182</td>\n",
       "    </tr>\n",
       "    <tr>\n",
       "      <th>Lower middle income</th>\n",
       "      <td>2151.058283</td>\n",
       "      <td>2399.781453</td>\n",
       "      <td>2437.989151</td>\n",
       "      <td>5.778264</td>\n",
       "      <td>4.951170</td>\n",
       "      <td>18.002566</td>\n",
       "    </tr>\n",
       "    <tr>\n",
       "      <th>Not classified</th>\n",
       "      <td>11158.180000</td>\n",
       "      <td>10568.100000</td>\n",
       "      <td>1690.660000</td>\n",
       "      <td>28.187000</td>\n",
       "      <td>121.738000</td>\n",
       "      <td>2355.150000</td>\n",
       "    </tr>\n",
       "    <tr>\n",
       "      <th>Upper middle income</th>\n",
       "      <td>6463.234694</td>\n",
       "      <td>6919.517551</td>\n",
       "      <td>6654.425714</td>\n",
       "      <td>4.251592</td>\n",
       "      <td>3.186125</td>\n",
       "      <td>3.886408</td>\n",
       "    </tr>\n",
       "  </tbody>\n",
       "</table>\n",
       "</div>"
      ],
      "text/plain": [
       "                    gdp_percapita                             inflation_rate  \\\n",
       "year                         2010          2015          2020           2010   \n",
       "income_group                                                                   \n",
       "High income          33265.256167  33484.692333  34595.264167       2.168550   \n",
       "Low income             736.990261    685.146565    644.576652       5.915000   \n",
       "Lower middle income   2151.058283   2399.781453   2437.989151       5.778264   \n",
       "Not classified       11158.180000  10568.100000   1690.660000      28.187000   \n",
       "Upper middle income   6463.234694   6919.517551   6654.425714       4.251592   \n",
       "\n",
       "                                              \n",
       "year                       2015         2020  \n",
       "income_group                                  \n",
       "High income            0.910950     0.666333  \n",
       "Low income             7.187591    14.530182  \n",
       "Lower middle income    4.951170    18.002566  \n",
       "Not classified       121.738000  2355.150000  \n",
       "Upper middle income    3.186125     3.886408  "
      ]
     },
     "execution_count": 41,
     "metadata": {},
     "output_type": "execute_result"
    }
   ],
   "source": [
    "# Create a pivot table of gdp_percapita and inflation_rate by income_group and year\n",
    "pd.pivot_table(\n",
    "    economies,\n",
    "    values=['gdp_percapita', 'inflation_rate'],\n",
    "    index=['income_group'],\n",
    "    columns=['year'],\n",
    "    aggfunc='mean'\n",
    ")"
   ]
  },
  {
   "cell_type": "markdown",
   "metadata": {},
   "source": [
    "### Analyzing categorical data \n",
    "\n",
    "#### Using cross-tabulation"
   ]
  },
  {
   "cell_type": "code",
   "execution_count": 42,
   "metadata": {},
   "outputs": [
    {
     "data": {
      "text/html": [
       "<div>\n",
       "<style scoped>\n",
       "    .dataframe tbody tr th:only-of-type {\n",
       "        vertical-align: middle;\n",
       "    }\n",
       "\n",
       "    .dataframe tbody tr th {\n",
       "        vertical-align: top;\n",
       "    }\n",
       "\n",
       "    .dataframe thead th {\n",
       "        text-align: right;\n",
       "    }\n",
       "</style>\n",
       "<table border=\"1\" class=\"dataframe\">\n",
       "  <thead>\n",
       "    <tr style=\"text-align: right;\">\n",
       "      <th>year</th>\n",
       "      <th>2010</th>\n",
       "      <th>2015</th>\n",
       "      <th>2020</th>\n",
       "    </tr>\n",
       "    <tr>\n",
       "      <th>income_group</th>\n",
       "      <th></th>\n",
       "      <th></th>\n",
       "      <th></th>\n",
       "    </tr>\n",
       "  </thead>\n",
       "  <tbody>\n",
       "    <tr>\n",
       "      <th>High income</th>\n",
       "      <td>60</td>\n",
       "      <td>60</td>\n",
       "      <td>60</td>\n",
       "    </tr>\n",
       "    <tr>\n",
       "      <th>Low income</th>\n",
       "      <td>24</td>\n",
       "      <td>24</td>\n",
       "      <td>24</td>\n",
       "    </tr>\n",
       "    <tr>\n",
       "      <th>Lower middle income</th>\n",
       "      <td>53</td>\n",
       "      <td>53</td>\n",
       "      <td>53</td>\n",
       "    </tr>\n",
       "    <tr>\n",
       "      <th>Not classified</th>\n",
       "      <td>1</td>\n",
       "      <td>1</td>\n",
       "      <td>1</td>\n",
       "    </tr>\n",
       "    <tr>\n",
       "      <th>Upper middle income</th>\n",
       "      <td>49</td>\n",
       "      <td>49</td>\n",
       "      <td>49</td>\n",
       "    </tr>\n",
       "  </tbody>\n",
       "</table>\n",
       "</div>"
      ],
      "text/plain": [
       "year                 2010  2015  2020\n",
       "income_group                         \n",
       "High income            60    60    60\n",
       "Low income             24    24    24\n",
       "Lower middle income    53    53    53\n",
       "Not classified          1     1     1\n",
       "Upper middle income    49    49    49"
      ]
     },
     "execution_count": 42,
     "metadata": {},
     "output_type": "execute_result"
    }
   ],
   "source": [
    "# Show counts of income_group by year\n",
    "pd.crosstab(economies['income_group'], economies['year'])"
   ]
  },
  {
   "cell_type": "markdown",
   "metadata": {},
   "source": [
    "#### By getting group counts"
   ]
  },
  {
   "cell_type": "code",
   "execution_count": 43,
   "metadata": {},
   "outputs": [
    {
     "data": {
      "text/plain": [
       "income_group\n",
       "High income            180\n",
       "Lower middle income    159\n",
       "Upper middle income    147\n",
       "Low income              72\n",
       "Not classified           3\n",
       "Name: count, dtype: int64"
      ]
     },
     "execution_count": 43,
     "metadata": {},
     "output_type": "execute_result"
    }
   ],
   "source": [
    "# Count the occurrences of each income_group\n",
    "economies['income_group'].value_counts()"
   ]
  },
  {
   "cell_type": "markdown",
   "metadata": {},
   "source": [
    "## Exercise #4: Transforming and Aggregating Data with Pandas\n",
    "\n",
    "By completing this exercise, you will be able to use `pandas` to\n",
    "- Aggregate data effectively by grouping it  \n",
    "- Transform data by applying functions element-wise, across rows/columns, or to groups  \n",
    "- Create summary tables  \n",
    "- Analyze categorical data using cross-tabulation and counts  \n",
    "\n",
    "\n",
    "### Grouping Data"
   ]
  },
  {
   "cell_type": "code",
   "execution_count": null,
   "metadata": {},
   "outputs": [],
   "source": [
    "# Group data by continent and calculate the mean life expectancy\n"
   ]
  },
  {
   "cell_type": "markdown",
   "metadata": {},
   "source": [
    "### Applying Functions\n",
    "\n",
    "#### Applying a function element-wise with `map()`"
   ]
  },
  {
   "cell_type": "code",
   "execution_count": null,
   "metadata": {},
   "outputs": [],
   "source": [
    "# Convert continent to uppercase using map()\n"
   ]
  },
  {
   "cell_type": "markdown",
   "metadata": {},
   "source": [
    "#### Applying a function across columns with `apply()`"
   ]
  },
  {
   "cell_type": "code",
   "execution_count": null,
   "metadata": {},
   "outputs": [],
   "source": [
    "# Filter rows for the years 2015 and 2020\n",
    "\n",
    "\n",
    "# Calculate percentage change in population size across columns for 2015 to 2020\n",
    "\n",
    "\n",
    "# Reset the index of the result to align it with the original DataFrame\n",
    "\n",
    "\n",
    "# Assign the calculated percentage change back to the DataFrame\n"
   ]
  },
  {
   "cell_type": "markdown",
   "metadata": {},
   "source": [
    "#### Applying a function to groups with `groupby()` and `agg()`"
   ]
  },
  {
   "cell_type": "code",
   "execution_count": null,
   "metadata": {},
   "outputs": [],
   "source": [
    "# Calculate the median fertility rate and life expectancy for each continent\n"
   ]
  },
  {
   "cell_type": "markdown",
   "metadata": {},
   "source": [
    "### Summary Tables"
   ]
  },
  {
   "cell_type": "code",
   "execution_count": null,
   "metadata": {},
   "outputs": [],
   "source": [
    "# Create a pivot table of fertility rate and life expectancy by continent and year\n"
   ]
  },
  {
   "cell_type": "markdown",
   "metadata": {},
   "source": [
    "### Analyzing Categorical Data\n",
    "\n",
    "#### Using Cross-Tabulation"
   ]
  },
  {
   "cell_type": "code",
   "execution_count": null,
   "metadata": {},
   "outputs": [],
   "source": [
    "# Create a cross-tabulation of continent and year\n"
   ]
  },
  {
   "cell_type": "markdown",
   "metadata": {},
   "source": [
    "#### By Getting Group Counts"
   ]
  },
  {
   "cell_type": "code",
   "execution_count": null,
   "metadata": {},
   "outputs": [],
   "source": [
    "# Count the occurrences of each region\n"
   ]
  },
  {
   "cell_type": "raw",
   "metadata": {},
   "source": [
    "---"
   ]
  },
  {
   "cell_type": "markdown",
   "metadata": {},
   "source": [
    "# Module 2: Data Visualization Basics with Matplotlib and Seaborn\n",
    "\n",
    "## Walkthrough #5: Creating Basic Plots with Matplotlib\n",
    "\n",
    "### Line plot"
   ]
  },
  {
   "cell_type": "code",
   "execution_count": 46,
   "metadata": {},
   "outputs": [
    {
     "data": {
      "image/png": "[encoded data removed]",
      "text/plain": [
       "<Figure size 1000x600 with 1 Axes>"
      ]
     },
     "metadata": {},
     "output_type": "display_data"
    }
   ],
   "source": [
    "# Filter data for a specific country\n",
    "afg_data = economies[economies['code'] == 'AFG']\n",
    "\n",
    "# Line plot of gdp_percapita over the years\n",
    "plt.figure(figsize=(10, 6))\n",
    "plt.plot(afg_data['year'], afg_data['gdp_percapita'],\n",
    "        marker='o', linestyle='-', color='b')\n",
    "plt.show()"
   ]
  },
  {
   "cell_type": "markdown",
   "metadata": {},
   "source": [
    "### Bar chart"
   ]
  },
  {
   "cell_type": "code",
   "execution_count": 47,
   "metadata": {},
   "outputs": [
    {
     "data": {
      "image/png": "[encoded data removed]",
      "text/plain": [
       "<Figure size 640x480 with 1 Axes>"
      ]
     },
     "metadata": {},
     "output_type": "display_data"
    }
   ],
   "source": [
    "# Filter data for Caribbean countries and the year 2020\n",
    "caribbean_countries = ['ABW', 'BHS', 'BRB', 'DOM']\n",
    "data_2020_caribbean = economies[(economies['year'] == 2020) & (economies['code'].isin(caribbean_countries))]\n",
    "\n",
    "# Bar chart of gdp_percapita for different Caribbean countries in 2020\n",
    "plt.bar(data_2020_caribbean['code'], \n",
    "        data_2020_caribbean['gdp_percapita'], \n",
    "        color='g')\n",
    "plt.xticks(rotation=45)\n",
    "plt.show()"
   ]
  },
  {
   "cell_type": "markdown",
   "metadata": {},
   "source": [
    "### Adding labels and titles"
   ]
  },
  {
   "cell_type": "code",
   "execution_count": 48,
   "metadata": {},
   "outputs": [
    {
     "data": {
      "image/png": "[encoded data removed]",
      "text/plain": [
       "<Figure size 640x480 with 1 Axes>"
      ]
     },
     "metadata": {},
     "output_type": "display_data"
    }
   ],
   "source": [
    "# Filter data for a specific country\n",
    "liberia_data = economies[economies['code'] == 'LBR']\n",
    "\n",
    "# Line plot of gdp_percapita over the years with labels and titles\n",
    "plt.plot(liberia_data['year'], liberia_data['gdp_percapita'],\n",
    "        marker='o', linestyle='-', color='r')\n",
    "plt.xlabel('Year')\n",
    "plt.ylabel('GDP Per Capita')\n",
    "plt.title('GDP Per Capita Over Years for Liberia (LBR)')\n",
    "plt.grid(True)\n",
    "plt.show()"
   ]
  },
  {
   "cell_type": "markdown",
   "metadata": {},
   "source": [
    "### Adjusting axes and tick marks"
   ]
  },
  {
   "cell_type": "code",
   "execution_count": 49,
   "metadata": {},
   "outputs": [
    {
     "data": {
      "image/png": "[encoded data removed]",
      "text/plain": [
       "<Figure size 640x480 with 1 Axes>"
      ]
     },
     "metadata": {},
     "output_type": "display_data"
    }
   ],
   "source": [
    "# Bar chart of gdp_percapita for different Caribbean countries in 2020 with \n",
    "# adjusted axes and tick marks\n",
    "\n",
    "# Bar chart of gdp_percapita for different Caribbean countries in 2020\n",
    "plt.bar(data_2020_caribbean['code'], \n",
    "        data_2020_caribbean['gdp_percapita'], \n",
    "        color='g')\n",
    "plt.xlabel('Country Code')\n",
    "plt.ylabel('GDP Per Capita')\n",
    "plt.title('GDP Per Capita for Different Caribbean Countries in 2020')\n",
    "\n",
    "\n",
    "# Adjust axes\n",
    "plt.ylim(0, max(data_2020_caribbean['gdp_percapita']) + 5000)\n",
    "\n",
    "\n",
    "# Adjust tick marks\n",
    "plt.xticks(rotation=45)\n",
    "plt.yticks(range(0, int(max(data_2020_caribbean['gdp_percapita']) + 5000), 5000))\n",
    "\n",
    "plt.grid(axis='y')\n",
    "\n",
    "plt.show()\n"
   ]
  },
  {
   "cell_type": "markdown",
   "metadata": {},
   "source": [
    "## Exercise #5: Creating Basic Plots with Matplotlib\n",
    "\n",
    "By completing this exercise, you will be able to use `matplotlib` to  \n",
    "- Create line plots and bar charts  \n",
    "- Add labels and titles  \n",
    "- Adjust axes and tick marks  \n",
    "\n",
    "### Line Plot"
   ]
  },
  {
   "cell_type": "code",
   "execution_count": null,
   "metadata": {},
   "outputs": [],
   "source": [
    "# Filter data for India\n",
    "\n",
    "\n",
    "# Line plot of fertility rate over the years\n"
   ]
  },
  {
   "cell_type": "markdown",
   "metadata": {},
   "source": [
    "### Bar Chart"
   ]
  },
  {
   "cell_type": "code",
   "execution_count": null,
   "metadata": {},
   "outputs": [],
   "source": [
    "# Filter data for selected Asian countries and the year 2020\n",
    "# ['CHN', 'IND', 'IDN', 'PAK', 'BGD']\n",
    "\n",
    "\n",
    "\n",
    "# Bar chart of population size for selected Asian countries in 2020\n"
   ]
  },
  {
   "cell_type": "markdown",
   "metadata": {},
   "source": [
    "### Adding Labels and Titles"
   ]
  },
  {
   "cell_type": "code",
   "execution_count": null,
   "metadata": {},
   "outputs": [],
   "source": [
    "# Filter data for Nigeria\n",
    "\n",
    "\n",
    "# Line plot of life expectancy over the years with labels and titles\n"
   ]
  },
  {
   "cell_type": "markdown",
   "metadata": {},
   "source": [
    "### Adjusting Axes and Tick Marks"
   ]
  },
  {
   "cell_type": "code",
   "execution_count": null,
   "metadata": {},
   "outputs": [],
   "source": [
    "# Filter data for selected African countries ('NGA', 'ETH', 'EGY', 'ZAF', 'DZA')\n",
    "# and the year 2020\n",
    "\n",
    "\n",
    "\n",
    "\n",
    "# Bar chart of fertility rate for selected African countries in 2020 with \n",
    "# adjusted axes and tick marks\n",
    "\n",
    "\n",
    "\n",
    "\n",
    "\n",
    "\n",
    "\n",
    "# Adjust axes\n",
    "\n",
    "\n",
    "# Adjust tick marks\n"
   ]
  },
  {
   "cell_type": "markdown",
   "metadata": {},
   "source": [
    "## Walkthrough #6: Data Visualization Techniques with Seaborn\n",
    "\n",
    "### Heatmap"
   ]
  },
  {
   "cell_type": "code",
   "execution_count": 50,
   "metadata": {},
   "outputs": [
    {
     "data": {
      "image/png": "[encoded data removed]",
      "text/plain": [
       "<Figure size 640x480 with 2 Axes>"
      ]
     },
     "metadata": {},
     "output_type": "display_data"
    }
   ],
   "source": [
    "# Select only the numeric columns\n",
    "numeric_cols = economies.select_dtypes(include=['float64', 'int64']).columns\n",
    "numeric_economies = economies[numeric_cols]\n",
    "\n",
    "# Calculate correlation matrix\n",
    "corr_matrix = numeric_economies.corr()\n",
    "\n",
    "# Create heatmap\n",
    "sns.heatmap(corr_matrix, annot=True, cmap='coolwarm', fmt='.2f')\n",
    "plt.title('Correlation Heatmap')\n",
    "plt.show()"
   ]
  },
  {
   "cell_type": "markdown",
   "metadata": {},
   "source": [
    "### Pair plot"
   ]
  },
  {
   "cell_type": "code",
   "execution_count": 53,
   "metadata": {
    "scrolled": true
   },
   "outputs": [
    {
     "data": {
      "image/png": "[encoded data removed]",
      "text/plain": [
       "<Figure size 1000x1000 with 20 Axes>"
      ]
     },
     "metadata": {},
     "output_type": "display_data"
    }
   ],
   "source": [
    "# Pair plot of some numeric columns\n",
    "sns.pairplot(economies, vars=['gdp_percapita', 'gross_savings', 'inflation_rate', 'total_investment'])\n",
    "plt.suptitle('Pair Plot of Numerical Columns', y=1) # at the top of the plot\n",
    "plt.show()"
   ]
  },
  {
   "cell_type": "markdown",
   "metadata": {},
   "source": [
    "### Violin plot"
   ]
  },
  {
   "cell_type": "code",
   "execution_count": 55,
   "metadata": {},
   "outputs": [
    {
     "data": {
      "image/png": "[encoded data removed]",
      "text/plain": [
       "<Figure size 1000x600 with 1 Axes>"
      ]
     },
     "metadata": {},
     "output_type": "display_data"
    }
   ],
   "source": [
    "# Violin plot of income_group against gdp_percapita\n",
    "plt.figure(figsize=(10, 6))\n",
    "sns.violinplot(x='income_group', y='gdp_percapita', data=economies)\n",
    "plt.show()"
   ]
  },
  {
   "cell_type": "markdown",
   "metadata": {},
   "source": [
    "### Customizing Seaborn plots"
   ]
  },
  {
   "cell_type": "code",
   "execution_count": 57,
   "metadata": {},
   "outputs": [
    {
     "data": {
      "image/png": "[encoded data removed]",
      "text/plain": [
       "<Figure size 1000x600 with 1 Axes>"
      ]
     },
     "metadata": {},
     "output_type": "display_data"
    }
   ],
   "source": [
    "# Bar plot with customization\n",
    "plt.figure(figsize=(10, 6))\n",
    "sns.barplot(x='code', y='gdp_percapita', hue='code', \n",
    "            data=data_2020_caribbean, palette='viridis')\n",
    "plt.xlabel('Country Code')\n",
    "plt.ylabel('GDP Per Capita')\n",
    "plt.title('GDP Per Capita for Different Caribbean Countries in 2020')\n",
    "\n",
    "# Customizing axes and tick marks\n",
    "plt.ylim(0, max(data_2020_caribbean['gdp_percapita']) + 5000)\n",
    "plt.xticks(rotation=60)\n",
    "plt.yticks(range(0, int(max(data_2020_caribbean['gdp_percapita']) + 5000), 5000))\n",
    "\n",
    "plt.grid(axis='y')\n",
    "plt.show()"
   ]
  },
  {
   "cell_type": "markdown",
   "metadata": {},
   "source": [
    "## Exercise #6: Data Visualization Techniques with Seaborn\n",
    "\n",
    "By completing this exercise, you will be able to use `seaborn` to  \n",
    "- Create heatmaps  \n",
    "- Design pair plots and violin plots  \n",
    "- Customize Seaborn plots  \n",
    "\n",
    "### Heatmap"
   ]
  },
  {
   "cell_type": "code",
   "execution_count": null,
   "metadata": {},
   "outputs": [],
   "source": [
    "# Select only the numeric columns\n",
    "\n",
    "\n",
    "\n",
    "# Calculate correlation matrix\n",
    "\n",
    "\n",
    "# Create heatmap\n"
   ]
  },
  {
   "cell_type": "markdown",
   "metadata": {},
   "source": [
    "### Pair Plot"
   ]
  },
  {
   "cell_type": "code",
   "execution_count": null,
   "metadata": {},
   "outputs": [],
   "source": [
    "# Pair plot of fertility rate, life expectancy, and population size\n"
   ]
  },
  {
   "cell_type": "markdown",
   "metadata": {},
   "source": [
    "### Violin Plot"
   ]
  },
  {
   "cell_type": "code",
   "execution_count": null,
   "metadata": {},
   "outputs": [],
   "source": [
    "# Violin plot of fertility rate by continent\n"
   ]
  },
  {
   "cell_type": "markdown",
   "metadata": {},
   "source": [
    "### Customizing Seaborn Plots"
   ]
  },
  {
   "cell_type": "code",
   "execution_count": null,
   "metadata": {},
   "outputs": [],
   "source": [
    "# Filter data for selected European countries ('DEU', 'FRA', 'ITA', 'ESP', 'GBR')\n",
    "# and the year 2020\n",
    "\n",
    "\n",
    "\n",
    "# Bar plot with customization\n",
    "\n",
    "\n",
    "\n",
    "\n",
    "\n",
    "\n",
    "# Customizing axes and tick marks\n"
   ]
  },
  {
   "cell_type": "markdown",
   "metadata": {},
   "source": [
    "---\n",
    "\n",
    "# Module 3: Interactive Data Visualization with Plotly\n",
    "\n",
    "## Walkthrough #7: Interactive Charts and Dashboards with Plotly\n",
    "\n",
    "### Basic interactive chart"
   ]
  },
  {
   "cell_type": "code",
   "execution_count": 59,
   "metadata": {},
   "outputs": [
    {
     "data": {
      "application/vnd.plotly.v1+json": {
       "config": {
        "plotlyServerURL": "https://plot.ly"
       },
       "data": [
        {
         "hovertemplate": "year=%{x}<br>gdp_percapita=%{y}<extra></extra>",
         "legendgroup": "",
         "line": {
          "color": "#636efa",
          "dash": "solid"
         },
         "marker": {
          "symbol": "circle"
         },
         "mode": "lines",
         "name": "",
         "orientation": "v",
         "showlegend": false,
         "type": "scatter",
         "x": [
          2010,
          2015,
          2020
         ],
         "xaxis": "x",
         "y": [
          4894.37,
          5204.83,
          5095.64
         ],
         "yaxis": "y"
        }
       ],
       "layout": {
        "legend": {
         "tracegroupgap": 0
        },
        "template": {
         "data": {
          "bar": [
           {
            "error_x": {
             "color": "#2a3f5f"
            },
            "error_y": {
             "color": "#2a3f5f"
            },
            "marker": {
             "line": {
              "color": "#E5ECF6",
              "width": 0.5
             },
             "pattern": {
              "fillmode": "overlay",
              "size": 10,
              "solidity": 0.2
             }
            },
            "type": "bar"
           }
          ],
          "barpolar": [
           {
            "marker": {
             "line": {
              "color": "#E5ECF6",
              "width": 0.5
             },
             "pattern": {
              "fillmode": "overlay",
              "size": 10,
              "solidity": 0.2
             }
            },
            "type": "barpolar"
           }
          ],
          "carpet": [
           {
            "aaxis": {
             "endlinecolor": "#2a3f5f",
             "gridcolor": "white",
             "linecolor": "white",
             "minorgridcolor": "white",
             "startlinecolor": "#2a3f5f"
            },
            "baxis": {
             "endlinecolor": "#2a3f5f",
             "gridcolor": "white",
             "linecolor": "white",
             "minorgridcolor": "white",
             "startlinecolor": "#2a3f5f"
            },
            "type": "carpet"
           }
          ],
          "choropleth": [
           {
            "colorbar": {
             "outlinewidth": 0,
             "ticks": ""
            },
            "type": "choropleth"
           }
          ],
          "contour": [
           {
            "colorbar": {
             "outlinewidth": 0,
             "ticks": ""
            },
            "colorscale": [
             [
              0,
              "#0d0887"
             ],
             [
              0.1111111111111111,
              "#46039f"
             ],
             [
              0.2222222222222222,
              "#7201a8"
             ],
             [
              0.3333333333333333,
              "#9c179e"
             ],
             [
              0.4444444444444444,
              "#bd3786"
             ],
             [
              0.5555555555555556,
              "#d8576b"
             ],
             [
              0.6666666666666666,
              "#ed7953"
             ],
             [
              0.7777777777777778,
              "#fb9f3a"
             ],
             [
              0.8888888888888888,
              "#fdca26"
             ],
             [
              1,
              "#f0f921"
             ]
            ],
            "type": "contour"
           }
          ],
          "contourcarpet": [
           {
            "colorbar": {
             "outlinewidth": 0,
             "ticks": ""
            },
            "type": "contourcarpet"
           }
          ],
          "heatmap": [
           {
            "colorbar": {
             "outlinewidth": 0,
             "ticks": ""
            },
            "colorscale": [
             [
              0,
              "#0d0887"
             ],
             [
              0.1111111111111111,
              "#46039f"
             ],
             [
              0.2222222222222222,
              "#7201a8"
             ],
             [
              0.3333333333333333,
              "#9c179e"
             ],
             [
              0.4444444444444444,
              "#bd3786"
             ],
             [
              0.5555555555555556,
              "#d8576b"
             ],
             [
              0.6666666666666666,
              "#ed7953"
             ],
             [
              0.7777777777777778,
              "#fb9f3a"
             ],
             [
              0.8888888888888888,
              "#fdca26"
             ],
             [
              1,
              "#f0f921"
             ]
            ],
            "type": "heatmap"
           }
          ],
          "heatmapgl": [
           {
            "colorbar": {
             "outlinewidth": 0,
             "ticks": ""
            },
            "colorscale": [
             [
              0,
              "#0d0887"
             ],
             [
              0.1111111111111111,
              "#46039f"
             ],
             [
              0.2222222222222222,
              "#7201a8"
             ],
             [
              0.3333333333333333,
              "#9c179e"
             ],
             [
              0.4444444444444444,
              "#bd3786"
             ],
             [
              0.5555555555555556,
              "#d8576b"
             ],
             [
              0.6666666666666666,
              "#ed7953"
             ],
             [
              0.7777777777777778,
              "#fb9f3a"
             ],
             [
              0.8888888888888888,
              "#fdca26"
             ],
             [
              1,
              "#f0f921"
             ]
            ],
            "type": "heatmapgl"
           }
          ],
          "histogram": [
           {
            "marker": {
             "pattern": {
              "fillmode": "overlay",
              "size": 10,
              "solidity": 0.2
             }
            },
            "type": "histogram"
           }
          ],
          "histogram2d": [
           {
            "colorbar": {
             "outlinewidth": 0,
             "ticks": ""
            },
            "colorscale": [
             [
              0,
              "#0d0887"
             ],
             [
              0.1111111111111111,
              "#46039f"
             ],
             [
              0.2222222222222222,
              "#7201a8"
             ],
             [
              0.3333333333333333,
              "#9c179e"
             ],
             [
              0.4444444444444444,
              "#bd3786"
             ],
             [
              0.5555555555555556,
              "#d8576b"
             ],
             [
              0.6666666666666666,
              "#ed7953"
             ],
             [
              0.7777777777777778,
              "#fb9f3a"
             ],
             [
              0.8888888888888888,
              "#fdca26"
             ],
             [
              1,
              "#f0f921"
             ]
            ],
            "type": "histogram2d"
           }
          ],
          "histogram2dcontour": [
           {
            "colorbar": {
             "outlinewidth": 0,
             "ticks": ""
            },
            "colorscale": [
             [
              0,
              "#0d0887"
             ],
             [
              0.1111111111111111,
              "#46039f"
             ],
             [
              0.2222222222222222,
              "#7201a8"
             ],
             [
              0.3333333333333333,
              "#9c179e"
             ],
             [
              0.4444444444444444,
              "#bd3786"
             ],
             [
              0.5555555555555556,
              "#d8576b"
             ],
             [
              0.6666666666666666,
              "#ed7953"
             ],
             [
              0.7777777777777778,
              "#fb9f3a"
             ],
             [
              0.8888888888888888,
              "#fdca26"
             ],
             [
              1,
              "#f0f921"
             ]
            ],
            "type": "histogram2dcontour"
           }
          ],
          "mesh3d": [
           {
            "colorbar": {
             "outlinewidth": 0,
             "ticks": ""
            },
            "type": "mesh3d"
           }
          ],
          "parcoords": [
           {
            "line": {
             "colorbar": {
              "outlinewidth": 0,
              "ticks": ""
             }
            },
            "type": "parcoords"
           }
          ],
          "pie": [
           {
            "automargin": true,
            "type": "pie"
           }
          ],
          "scatter": [
           {
            "fillpattern": {
             "fillmode": "overlay",
             "size": 10,
             "solidity": 0.2
            },
            "type": "scatter"
           }
          ],
          "scatter3d": [
           {
            "line": {
             "colorbar": {
              "outlinewidth": 0,
              "ticks": ""
             }
            },
            "marker": {
             "colorbar": {
              "outlinewidth": 0,
              "ticks": ""
             }
            },
            "type": "scatter3d"
           }
          ],
          "scattercarpet": [
           {
            "marker": {
             "colorbar": {
              "outlinewidth": 0,
              "ticks": ""
             }
            },
            "type": "scattercarpet"
           }
          ],
          "scattergeo": [
           {
            "marker": {
             "colorbar": {
              "outlinewidth": 0,
              "ticks": ""
             }
            },
            "type": "scattergeo"
           }
          ],
          "scattergl": [
           {
            "marker": {
             "colorbar": {
              "outlinewidth": 0,
              "ticks": ""
             }
            },
            "type": "scattergl"
           }
          ],
          "scattermapbox": [
           {
            "marker": {
             "colorbar": {
              "outlinewidth": 0,
              "ticks": ""
             }
            },
            "type": "scattermapbox"
           }
          ],
          "scatterpolar": [
           {
            "marker": {
             "colorbar": {
              "outlinewidth": 0,
              "ticks": ""
             }
            },
            "type": "scatterpolar"
           }
          ],
          "scatterpolargl": [
           {
            "marker": {
             "colorbar": {
              "outlinewidth": 0,
              "ticks": ""
             }
            },
            "type": "scatterpolargl"
           }
          ],
          "scatterternary": [
           {
            "marker": {
             "colorbar": {
              "outlinewidth": 0,
              "ticks": ""
             }
            },
            "type": "scatterternary"
           }
          ],
          "surface": [
           {
            "colorbar": {
             "outlinewidth": 0,
             "ticks": ""
            },
            "colorscale": [
             [
              0,
              "#0d0887"
             ],
             [
              0.1111111111111111,
              "#46039f"
             ],
             [
              0.2222222222222222,
              "#7201a8"
             ],
             [
              0.3333333333333333,
              "#9c179e"
             ],
             [
              0.4444444444444444,
              "#bd3786"
             ],
             [
              0.5555555555555556,
              "#d8576b"
             ],
             [
              0.6666666666666666,
              "#ed7953"
             ],
             [
              0.7777777777777778,
              "#fb9f3a"
             ],
             [
              0.8888888888888888,
              "#fdca26"
             ],
             [
              1,
              "#f0f921"
             ]
            ],
            "type": "surface"
           }
          ],
          "table": [
           {
            "cells": {
             "fill": {
              "color": "#EBF0F8"
             },
             "line": {
              "color": "white"
             }
            },
            "header": {
             "fill": {
              "color": "#C8D4E3"
             },
             "line": {
              "color": "white"
             }
            },
            "type": "table"
           }
          ]
         },
         "layout": {
          "annotationdefaults": {
           "arrowcolor": "#2a3f5f",
           "arrowhead": 0,
           "arrowwidth": 1
          },
          "autotypenumbers": "strict",
          "coloraxis": {
           "colorbar": {
            "outlinewidth": 0,
            "ticks": ""
           }
          },
          "colorscale": {
           "diverging": [
            [
             0,
             "#8e0152"
            ],
            [
             0.1,
             "#c51b7d"
            ],
            [
             0.2,
             "#de77ae"
            ],
            [
             0.3,
             "#f1b6da"
            ],
            [
             0.4,
             "#fde0ef"
            ],
            [
             0.5,
             "#f7f7f7"
            ],
            [
             0.6,
             "#e6f5d0"
            ],
            [
             0.7,
             "#b8e186"
            ],
            [
             0.8,
             "#7fbc41"
            ],
            [
             0.9,
             "#4d9221"
            ],
            [
             1,
             "#276419"
            ]
           ],
           "sequential": [
            [
             0,
             "#0d0887"
            ],
            [
             0.1111111111111111,
             "#46039f"
            ],
            [
             0.2222222222222222,
             "#7201a8"
            ],
            [
             0.3333333333333333,
             "#9c179e"
            ],
            [
             0.4444444444444444,
             "#bd3786"
            ],
            [
             0.5555555555555556,
             "#d8576b"
            ],
            [
             0.6666666666666666,
             "#ed7953"
            ],
            [
             0.7777777777777778,
             "#fb9f3a"
            ],
            [
             0.8888888888888888,
             "#fdca26"
            ],
            [
             1,
             "#f0f921"
            ]
           ],
           "sequentialminus": [
            [
             0,
             "#0d0887"
            ],
            [
             0.1111111111111111,
             "#46039f"
            ],
            [
             0.2222222222222222,
             "#7201a8"
            ],
            [
             0.3333333333333333,
             "#9c179e"
            ],
            [
             0.4444444444444444,
             "#bd3786"
            ],
            [
             0.5555555555555556,
             "#d8576b"
            ],
            [
             0.6666666666666666,
             "#ed7953"
            ],
            [
             0.7777777777777778,
             "#fb9f3a"
            ],
            [
             0.8888888888888888,
             "#fdca26"
            ],
            [
             1,
             "#f0f921"
            ]
           ]
          },
          "colorway": [
           "#636efa",
           "#EF553B",
           "#00cc96",
           "#ab63fa",
           "#FFA15A",
           "#19d3f3",
           "#FF6692",
           "#B6E880",
           "#FF97FF",
           "#FECB52"
          ],
          "font": {
           "color": "#2a3f5f"
          },
          "geo": {
           "bgcolor": "white",
           "lakecolor": "white",
           "landcolor": "#E5ECF6",
           "showlakes": true,
           "showland": true,
           "subunitcolor": "white"
          },
          "hoverlabel": {
           "align": "left"
          },
          "hovermode": "closest",
          "mapbox": {
           "style": "light"
          },
          "paper_bgcolor": "white",
          "plot_bgcolor": "#E5ECF6",
          "polar": {
           "angularaxis": {
            "gridcolor": "white",
            "linecolor": "white",
            "ticks": ""
           },
           "bgcolor": "#E5ECF6",
           "radialaxis": {
            "gridcolor": "white",
            "linecolor": "white",
            "ticks": ""
           }
          },
          "scene": {
           "xaxis": {
            "backgroundcolor": "#E5ECF6",
            "gridcolor": "white",
            "gridwidth": 2,
            "linecolor": "white",
            "showbackground": true,
            "ticks": "",
            "zerolinecolor": "white"
           },
           "yaxis": {
            "backgroundcolor": "#E5ECF6",
            "gridcolor": "white",
            "gridwidth": 2,
            "linecolor": "white",
            "showbackground": true,
            "ticks": "",
            "zerolinecolor": "white"
           },
           "zaxis": {
            "backgroundcolor": "#E5ECF6",
            "gridcolor": "white",
            "gridwidth": 2,
            "linecolor": "white",
            "showbackground": true,
            "ticks": "",
            "zerolinecolor": "white"
           }
          },
          "shapedefaults": {
           "line": {
            "color": "#2a3f5f"
           }
          },
          "ternary": {
           "aaxis": {
            "gridcolor": "white",
            "linecolor": "white",
            "ticks": ""
           },
           "baxis": {
            "gridcolor": "white",
            "linecolor": "white",
            "ticks": ""
           },
           "bgcolor": "#E5ECF6",
           "caxis": {
            "gridcolor": "white",
            "linecolor": "white",
            "ticks": ""
           }
          },
          "title": {
           "x": 0.05
          },
          "xaxis": {
           "automargin": true,
           "gridcolor": "white",
           "linecolor": "white",
           "ticks": "",
           "title": {
            "standoff": 15
           },
           "zerolinecolor": "white",
           "zerolinewidth": 2
          },
          "yaxis": {
           "automargin": true,
           "gridcolor": "white",
           "linecolor": "white",
           "ticks": "",
           "title": {
            "standoff": 15
           },
           "zerolinecolor": "white",
           "zerolinewidth": 2
          }
         }
        },
        "title": {
         "text": "GDP Per Capita Over Years for Jamaica (JAM)"
        },
        "xaxis": {
         "anchor": "y",
         "domain": [
          0,
          1
         ],
         "title": {
          "text": "year"
         }
        },
        "yaxis": {
         "anchor": "x",
         "domain": [
          0,
          1
         ],
         "title": {
          "text": "gdp_percapita"
         }
        }
       }
      },
      "text/html": [
       "<div>                            <div id=\"c6b2848f-5349-4d56-b914-6d320efbb3ff\" class=\"plotly-graph-div\" style=\"height:525px; width:100%;\"></div>            <script type=\"text/javascript\">                require([\"plotly\"], function(Plotly) {                    window.PLOTLYENV=window.PLOTLYENV || {};                                    if (document.getElementById(\"c6b2848f-5349-4d56-b914-6d320efbb3ff\")) {                    Plotly.newPlot(                        \"c6b2848f-5349-4d56-b914-6d320efbb3ff\",                        [{\"hovertemplate\":\"year=%{x}\\u003cbr\\u003egdp_percapita=%{y}\\u003cextra\\u003e\\u003c\\u002fextra\\u003e\",\"legendgroup\":\"\",\"line\":{\"color\":\"#636efa\",\"dash\":\"solid\"},\"marker\":{\"symbol\":\"circle\"},\"mode\":\"lines\",\"name\":\"\",\"orientation\":\"v\",\"showlegend\":false,\"x\":[2010,2015,2020],\"xaxis\":\"x\",\"y\":[4894.37,5204.83,5095.64],\"yaxis\":\"y\",\"type\":\"scatter\"}],                        {\"template\":{\"data\":{\"histogram2dcontour\":[{\"type\":\"histogram2dcontour\",\"colorbar\":{\"outlinewidth\":0,\"ticks\":\"\"},\"colorscale\":[[0.0,\"#0d0887\"],[0.1111111111111111,\"#46039f\"],[0.2222222222222222,\"#7201a8\"],[0.3333333333333333,\"#9c179e\"],[0.4444444444444444,\"#bd3786\"],[0.5555555555555556,\"#d8576b\"],[0.6666666666666666,\"#ed7953\"],[0.7777777777777778,\"#fb9f3a\"],[0.8888888888888888,\"#fdca26\"],[1.0,\"#f0f921\"]]}],\"choropleth\":[{\"type\":\"choropleth\",\"colorbar\":{\"outlinewidth\":0,\"ticks\":\"\"}}],\"histogram2d\":[{\"type\":\"histogram2d\",\"colorbar\":{\"outlinewidth\":0,\"ticks\":\"\"},\"colorscale\":[[0.0,\"#0d0887\"],[0.1111111111111111,\"#46039f\"],[0.2222222222222222,\"#7201a8\"],[0.3333333333333333,\"#9c179e\"],[0.4444444444444444,\"#bd3786\"],[0.5555555555555556,\"#d8576b\"],[0.6666666666666666,\"#ed7953\"],[0.7777777777777778,\"#fb9f3a\"],[0.8888888888888888,\"#fdca26\"],[1.0,\"#f0f921\"]]}],\"heatmap\":[{\"type\":\"heatmap\",\"colorbar\":{\"outlinewidth\":0,\"ticks\":\"\"},\"colorscale\":[[0.0,\"#0d0887\"],[0.1111111111111111,\"#46039f\"],[0.2222222222222222,\"#7201a8\"],[0.3333333333333333,\"#9c179e\"],[0.4444444444444444,\"#bd3786\"],[0.5555555555555556,\"#d8576b\"],[0.6666666666666666,\"#ed7953\"],[0.7777777777777778,\"#fb9f3a\"],[0.8888888888888888,\"#fdca26\"],[1.0,\"#f0f921\"]]}],\"heatmapgl\":[{\"type\":\"heatmapgl\",\"colorbar\":{\"outlinewidth\":0,\"ticks\":\"\"},\"colorscale\":[[0.0,\"#0d0887\"],[0.1111111111111111,\"#46039f\"],[0.2222222222222222,\"#7201a8\"],[0.3333333333333333,\"#9c179e\"],[0.4444444444444444,\"#bd3786\"],[0.5555555555555556,\"#d8576b\"],[0.6666666666666666,\"#ed7953\"],[0.7777777777777778,\"#fb9f3a\"],[0.8888888888888888,\"#fdca26\"],[1.0,\"#f0f921\"]]}],\"contourcarpet\":[{\"type\":\"contourcarpet\",\"colorbar\":{\"outlinewidth\":0,\"ticks\":\"\"}}],\"contour\":[{\"type\":\"contour\",\"colorbar\":{\"outlinewidth\":0,\"ticks\":\"\"},\"colorscale\":[[0.0,\"#0d0887\"],[0.1111111111111111,\"#46039f\"],[0.2222222222222222,\"#7201a8\"],[0.3333333333333333,\"#9c179e\"],[0.4444444444444444,\"#bd3786\"],[0.5555555555555556,\"#d8576b\"],[0.6666666666666666,\"#ed7953\"],[0.7777777777777778,\"#fb9f3a\"],[0.8888888888888888,\"#fdca26\"],[1.0,\"#f0f921\"]]}],\"surface\":[{\"type\":\"surface\",\"colorbar\":{\"outlinewidth\":0,\"ticks\":\"\"},\"colorscale\":[[0.0,\"#0d0887\"],[0.1111111111111111,\"#46039f\"],[0.2222222222222222,\"#7201a8\"],[0.3333333333333333,\"#9c179e\"],[0.4444444444444444,\"#bd3786\"],[0.5555555555555556,\"#d8576b\"],[0.6666666666666666,\"#ed7953\"],[0.7777777777777778,\"#fb9f3a\"],[0.8888888888888888,\"#fdca26\"],[1.0,\"#f0f921\"]]}],\"mesh3d\":[{\"type\":\"mesh3d\",\"colorbar\":{\"outlinewidth\":0,\"ticks\":\"\"}}],\"scatter\":[{\"fillpattern\":{\"fillmode\":\"overlay\",\"size\":10,\"solidity\":0.2},\"type\":\"scatter\"}],\"parcoords\":[{\"type\":\"parcoords\",\"line\":{\"colorbar\":{\"outlinewidth\":0,\"ticks\":\"\"}}}],\"scatterpolargl\":[{\"type\":\"scatterpolargl\",\"marker\":{\"colorbar\":{\"outlinewidth\":0,\"ticks\":\"\"}}}],\"bar\":[{\"error_x\":{\"color\":\"#2a3f5f\"},\"error_y\":{\"color\":\"#2a3f5f\"},\"marker\":{\"line\":{\"color\":\"#E5ECF6\",\"width\":0.5},\"pattern\":{\"fillmode\":\"overlay\",\"size\":10,\"solidity\":0.2}},\"type\":\"bar\"}],\"scattergeo\":[{\"type\":\"scattergeo\",\"marker\":{\"colorbar\":{\"outlinewidth\":0,\"ticks\":\"\"}}}],\"scatterpolar\":[{\"type\":\"scatterpolar\",\"marker\":{\"colorbar\":{\"outlinewidth\":0,\"ticks\":\"\"}}}],\"histogram\":[{\"marker\":{\"pattern\":{\"fillmode\":\"overlay\",\"size\":10,\"solidity\":0.2}},\"type\":\"histogram\"}],\"scattergl\":[{\"type\":\"scattergl\",\"marker\":{\"colorbar\":{\"outlinewidth\":0,\"ticks\":\"\"}}}],\"scatter3d\":[{\"type\":\"scatter3d\",\"line\":{\"colorbar\":{\"outlinewidth\":0,\"ticks\":\"\"}},\"marker\":{\"colorbar\":{\"outlinewidth\":0,\"ticks\":\"\"}}}],\"scattermapbox\":[{\"type\":\"scattermapbox\",\"marker\":{\"colorbar\":{\"outlinewidth\":0,\"ticks\":\"\"}}}],\"scatterternary\":[{\"type\":\"scatterternary\",\"marker\":{\"colorbar\":{\"outlinewidth\":0,\"ticks\":\"\"}}}],\"scattercarpet\":[{\"type\":\"scattercarpet\",\"marker\":{\"colorbar\":{\"outlinewidth\":0,\"ticks\":\"\"}}}],\"carpet\":[{\"aaxis\":{\"endlinecolor\":\"#2a3f5f\",\"gridcolor\":\"white\",\"linecolor\":\"white\",\"minorgridcolor\":\"white\",\"startlinecolor\":\"#2a3f5f\"},\"baxis\":{\"endlinecolor\":\"#2a3f5f\",\"gridcolor\":\"white\",\"linecolor\":\"white\",\"minorgridcolor\":\"white\",\"startlinecolor\":\"#2a3f5f\"},\"type\":\"carpet\"}],\"table\":[{\"cells\":{\"fill\":{\"color\":\"#EBF0F8\"},\"line\":{\"color\":\"white\"}},\"header\":{\"fill\":{\"color\":\"#C8D4E3\"},\"line\":{\"color\":\"white\"}},\"type\":\"table\"}],\"barpolar\":[{\"marker\":{\"line\":{\"color\":\"#E5ECF6\",\"width\":0.5},\"pattern\":{\"fillmode\":\"overlay\",\"size\":10,\"solidity\":0.2}},\"type\":\"barpolar\"}],\"pie\":[{\"automargin\":true,\"type\":\"pie\"}]},\"layout\":{\"autotypenumbers\":\"strict\",\"colorway\":[\"#636efa\",\"#EF553B\",\"#00cc96\",\"#ab63fa\",\"#FFA15A\",\"#19d3f3\",\"#FF6692\",\"#B6E880\",\"#FF97FF\",\"#FECB52\"],\"font\":{\"color\":\"#2a3f5f\"},\"hovermode\":\"closest\",\"hoverlabel\":{\"align\":\"left\"},\"paper_bgcolor\":\"white\",\"plot_bgcolor\":\"#E5ECF6\",\"polar\":{\"bgcolor\":\"#E5ECF6\",\"angularaxis\":{\"gridcolor\":\"white\",\"linecolor\":\"white\",\"ticks\":\"\"},\"radialaxis\":{\"gridcolor\":\"white\",\"linecolor\":\"white\",\"ticks\":\"\"}},\"ternary\":{\"bgcolor\":\"#E5ECF6\",\"aaxis\":{\"gridcolor\":\"white\",\"linecolor\":\"white\",\"ticks\":\"\"},\"baxis\":{\"gridcolor\":\"white\",\"linecolor\":\"white\",\"ticks\":\"\"},\"caxis\":{\"gridcolor\":\"white\",\"linecolor\":\"white\",\"ticks\":\"\"}},\"coloraxis\":{\"colorbar\":{\"outlinewidth\":0,\"ticks\":\"\"}},\"colorscale\":{\"sequential\":[[0.0,\"#0d0887\"],[0.1111111111111111,\"#46039f\"],[0.2222222222222222,\"#7201a8\"],[0.3333333333333333,\"#9c179e\"],[0.4444444444444444,\"#bd3786\"],[0.5555555555555556,\"#d8576b\"],[0.6666666666666666,\"#ed7953\"],[0.7777777777777778,\"#fb9f3a\"],[0.8888888888888888,\"#fdca26\"],[1.0,\"#f0f921\"]],\"sequentialminus\":[[0.0,\"#0d0887\"],[0.1111111111111111,\"#46039f\"],[0.2222222222222222,\"#7201a8\"],[0.3333333333333333,\"#9c179e\"],[0.4444444444444444,\"#bd3786\"],[0.5555555555555556,\"#d8576b\"],[0.6666666666666666,\"#ed7953\"],[0.7777777777777778,\"#fb9f3a\"],[0.8888888888888888,\"#fdca26\"],[1.0,\"#f0f921\"]],\"diverging\":[[0,\"#8e0152\"],[0.1,\"#c51b7d\"],[0.2,\"#de77ae\"],[0.3,\"#f1b6da\"],[0.4,\"#fde0ef\"],[0.5,\"#f7f7f7\"],[0.6,\"#e6f5d0\"],[0.7,\"#b8e186\"],[0.8,\"#7fbc41\"],[0.9,\"#4d9221\"],[1,\"#276419\"]]},\"xaxis\":{\"gridcolor\":\"white\",\"linecolor\":\"white\",\"ticks\":\"\",\"title\":{\"standoff\":15},\"zerolinecolor\":\"white\",\"automargin\":true,\"zerolinewidth\":2},\"yaxis\":{\"gridcolor\":\"white\",\"linecolor\":\"white\",\"ticks\":\"\",\"title\":{\"standoff\":15},\"zerolinecolor\":\"white\",\"automargin\":true,\"zerolinewidth\":2},\"scene\":{\"xaxis\":{\"backgroundcolor\":\"#E5ECF6\",\"gridcolor\":\"white\",\"linecolor\":\"white\",\"showbackground\":true,\"ticks\":\"\",\"zerolinecolor\":\"white\",\"gridwidth\":2},\"yaxis\":{\"backgroundcolor\":\"#E5ECF6\",\"gridcolor\":\"white\",\"linecolor\":\"white\",\"showbackground\":true,\"ticks\":\"\",\"zerolinecolor\":\"white\",\"gridwidth\":2},\"zaxis\":{\"backgroundcolor\":\"#E5ECF6\",\"gridcolor\":\"white\",\"linecolor\":\"white\",\"showbackground\":true,\"ticks\":\"\",\"zerolinecolor\":\"white\",\"gridwidth\":2}},\"shapedefaults\":{\"line\":{\"color\":\"#2a3f5f\"}},\"annotationdefaults\":{\"arrowcolor\":\"#2a3f5f\",\"arrowhead\":0,\"arrowwidth\":1},\"geo\":{\"bgcolor\":\"white\",\"landcolor\":\"#E5ECF6\",\"subunitcolor\":\"white\",\"showland\":true,\"showlakes\":true,\"lakecolor\":\"white\"},\"title\":{\"x\":0.05},\"mapbox\":{\"style\":\"light\"}}},\"xaxis\":{\"anchor\":\"y\",\"domain\":[0.0,1.0],\"title\":{\"text\":\"year\"}},\"yaxis\":{\"anchor\":\"x\",\"domain\":[0.0,1.0],\"title\":{\"text\":\"gdp_percapita\"}},\"legend\":{\"tracegroupgap\":0},\"title\":{\"text\":\"GDP Per Capita Over Years for Jamaica (JAM)\"}},                        {\"responsive\": true}                    ).then(function(){\n",
       "                            \n",
       "var gd = document.getElementById('c6b2848f-5349-4d56-b914-6d320efbb3ff');\n",
       "var x = new MutationObserver(function (mutations, observer) {{\n",
       "        var display = window.getComputedStyle(gd).display;\n",
       "        if (!display || display === 'none') {{\n",
       "            console.log([gd, 'removed!']);\n",
       "            Plotly.purge(gd);\n",
       "            observer.disconnect();\n",
       "        }}\n",
       "}});\n",
       "\n",
       "// Listen for the removal of the full notebook cells\n",
       "var notebookContainer = gd.closest('#notebook-container');\n",
       "if (notebookContainer) {{\n",
       "    x.observe(notebookContainer, {childList: true});\n",
       "}}\n",
       "\n",
       "// Listen for the clearing of the current output cell\n",
       "var outputEl = gd.closest('.output');\n",
       "if (outputEl) {{\n",
       "    x.observe(outputEl, {childList: true});\n",
       "}}\n",
       "\n",
       "                        })                };                });            </script>        </div>"
      ]
     },
     "metadata": {},
     "output_type": "display_data"
    }
   ],
   "source": [
    "# Filter data for a specific country\n",
    "jam_data = economies[economies['code'] == 'JAM']\n",
    "\n",
    "# Create an interactive line chart\n",
    "fig = px.line(jam_data,\n",
    "              x='year',\n",
    "              y='gdp_percapita',\n",
    "              title='GDP Per Capita Over Years for Jamaica (JAM)')\n",
    "fig.show()"
   ]
  },
  {
   "cell_type": "markdown",
   "metadata": {},
   "source": [
    "### Adding interactive elements"
   ]
  },
  {
   "cell_type": "code",
   "execution_count": 63,
   "metadata": {},
   "outputs": [
    {
     "data": {
      "application/vnd.plotly.v1+json": {
       "config": {
        "plotlyServerURL": "https://plot.ly"
       },
       "data": [
        {
         "hovertemplate": "<b>%{hovertext}</b><br><br>income_group=High income<br>GDP Per Capita=%{x}<br>Gross Savings (%)=%{y}<extra></extra>",
         "hovertext": [
          "ABW",
          "ABW",
          "ABW",
          "ARE",
          "ARE",
          "ARE",
          "ATG",
          "ATG",
          "ATG",
          "AUS",
          "AUS",
          "AUS",
          "AUT",
          "AUT",
          "AUT",
          "BEL",
          "BEL",
          "BEL",
          "BHR",
          "BHR",
          "BHR",
          "BHS",
          "BHS",
          "BHS",
          "BRB",
          "BRB",
          "BRB",
          "BRN",
          "BRN",
          "BRN",
          "CAN",
          "CAN",
          "CAN",
          "CHE",
          "CHE",
          "CHE",
          "CHL",
          "CHL",
          "CHL",
          "CYP",
          "CYP",
          "CYP",
          "CZE",
          "CZE",
          "CZE",
          "DEU",
          "DEU",
          "DEU",
          "DNK",
          "DNK",
          "DNK",
          "ESP",
          "ESP",
          "ESP",
          "EST",
          "EST",
          "EST",
          "FIN",
          "FIN",
          "FIN",
          "FRA",
          "FRA",
          "FRA",
          "GBR",
          "GBR",
          "GBR",
          "GRC",
          "GRC",
          "GRC",
          "GUY",
          "GUY",
          "GUY",
          "HKG",
          "HKG",
          "HKG",
          "HRV",
          "HRV",
          "HRV",
          "HUN",
          "HUN",
          "HUN",
          "IRL",
          "IRL",
          "IRL",
          "ISL",
          "ISL",
          "ISL",
          "ISR",
          "ISR",
          "ISR",
          "ITA",
          "ITA",
          "ITA",
          "JPN",
          "JPN",
          "JPN",
          "KNA",
          "KNA",
          "KNA",
          "KOR",
          "KOR",
          "KOR",
          "KWT",
          "KWT",
          "KWT",
          "LTU",
          "LTU",
          "LTU",
          "LUX",
          "LUX",
          "LUX",
          "LVA",
          "LVA",
          "LVA",
          "MAC",
          "MAC",
          "MAC",
          "MLT",
          "MLT",
          "MLT",
          "NLD",
          "NLD",
          "NLD",
          "NOR",
          "NOR",
          "NOR",
          "NRU",
          "NRU",
          "NRU",
          "NZL",
          "NZL",
          "NZL",
          "OMN",
          "OMN",
          "OMN",
          "PAN",
          "PAN",
          "PAN",
          "POL",
          "POL",
          "POL",
          "PRI",
          "PRI",
          "PRI",
          "PRT",
          "PRT",
          "PRT",
          "QAT",
          "QAT",
          "QAT",
          "SAU",
          "SAU",
          "SAU",
          "SGP",
          "SGP",
          "SGP",
          "SMR",
          "SMR",
          "SMR",
          "SVK",
          "SVK",
          "SVK",
          "SVN",
          "SVN",
          "SVN",
          "SWE",
          "SWE",
          "SWE",
          "SYC",
          "SYC",
          "SYC",
          "TTO",
          "TTO",
          "TTO",
          "URY",
          "URY",
          "URY",
          "USA",
          "USA",
          "USA"
         ],
         "legendgroup": "High income",
         "marker": {
          "color": "#636efa",
          "size": 10,
          "symbol": "circle"
         },
         "mode": "markers",
         "name": "High income",
         "orientation": "v",
         "showlegend": true,
         "type": "scatter",
         "x": [
          24087.95,
          27126.62,
          21832.92,
          35064.26,
          37380.57,
          31982.23,
          13564.68,
          14696.89,
          14168.26,
          56459.8,
          51484.05,
          52824.82,
          46955.17,
          44267.81,
          48154.38,
          44448.17,
          41147.26,
          44529.39,
          20827.72,
          22659.37,
          22402,
          29303.26,
          32154.95,
          29220.54,
          16203.26,
          16589.45,
          15162.57,
          35437.22,
          31355.74,
          26089.28,
          47627.35,
          43626.47,
          43278.22,
          77433.67,
          85240.79,
          86849.47,
          12794.28,
          13570.89,
          12989.6,
          31439.12,
          23428.72,
          27053.8,
          19983.58,
          17842.87,
          22578.83,
          42379.84,
          41107.22,
          45732.8,
          58177.16,
          53478.5,
          60494.2,
          30566.88,
          25764.22,
          27132.32,
          14818.44,
          17531.06,
          23330.09,
          46647,
          42867.09,
          48981.44,
          42178.58,
          37937.86,
          39907.14,
          39579.62,
          45053.49,
          40406.28,
          26743.4,
          17997.4,
          17670.29,
          3837.3,
          5579.97,
          7327.17,
          32421.36,
          42325.35,
          46753.46,
          13562.42,
          11780.6,
          14072.08,
          13173.21,
          12690.17,
          15820.1,
          48758.01,
          61951.73,
          83849.81,
          43293.02,
          53227.63,
          59633.72,
          30705.4,
          35828.17,
          43688.58,
          35805.44,
          30213.1,
          31288.02,
          45135.8,
          35005.66,
          40146.07,
          14776.44,
          17004.85,
          14918.75,
          23077.16,
          28737.44,
          31496.77,
          32216.41,
          27398.08,
          22105.09,
          12009.03,
          14265.41,
          19916.5,
          106177.04,
          102625.13,
          116921.11,
          11276.11,
          13722.08,
          17559.86,
          51135.16,
          69666.75,
          36350.16,
          21842.07,
          25228.18,
          28293.63,
          51165.82,
          45302.8,
          52247.54,
          87356.19,
          74115.16,
          67176.43,
          4748.08,
          6994.05,
          8866.87,
          33376.46,
          38195.64,
          41127.16,
          19027.78,
          16570.74,
          14215.58,
          8039.76,
          13606.6,
          12373.05,
          12619.62,
          12563.61,
          15653.56,
          26435.74,
          29755.35,
          30317.39,
          22539.04,
          19252.02,
          22488.62,
          69796.14,
          66346.96,
          52144.16,
          19163.34,
          21063.31,
          20178.23,
          47236.67,
          55645.61,
          58902.22,
          60426.24,
          43068.69,
          44818.19,
          16784.02,
          16326.57,
          19071.2,
          23570.18,
          20898.91,
          25210.72,
          52658.79,
          51274.28,
          51796.38,
          10805.1,
          14786.12,
          11638.72,
          16957.43,
          18214.37,
          15384.13,
          12883.88,
          16692.65,
          15777.96,
          48403.3,
          56848.51,
          63415.99
         ],
         "xaxis": "x",
         "y": [
          13.255,
          21.411,
          -7.521,
          31.33,
          30.54,
          28.223,
          null,
          7.052,
          14.314,
          23.105,
          21.608,
          24.571,
          25.463,
          25.531,
          27.536,
          24.751,
          25.011,
          24.53,
          30.275,
          24.17,
          24.87,
          19.579,
          11.728,
          10.365,
          11.277,
          10.804,
          9.791,
          null,
          null,
          null,
          19.918,
          20.326,
          20.164,
          39.762,
          35.012,
          30.662,
          24.855,
          21.338,
          21.203,
          13.292,
          13.229,
          13.043,
          23.809,
          28.432,
          28.129,
          25.81,
          28.344,
          27.439,
          24.639,
          28.876,
          31.374,
          18.648,
          21.022,
          20.855,
          23.283,
          26.58,
          29.625,
          23.536,
          20.748,
          24.892,
          21.317,
          22.344,
          21.39,
          13.088,
          12.697,
          13.07,
          7.944,
          10.591,
          6.016,
          6.545,
          6.907,
          -0.533,
          30.892,
          24.859,
          26.253,
          18.954,
          23.879,
          20.852,
          20.754,
          25.557,
          27.458,
          16.023,
          29.966,
          36.262,
          7.814,
          25.034,
          22.717,
          22.223,
          25.284,
          26.78,
          17.285,
          18.529,
          21.126,
          26.427,
          28.235,
          28.831,
          null,
          16.226,
          21.944,
          34.996,
          36.7,
          36.258,
          50.831,
          37.116,
          27.38,
          16.851,
          18.459,
          20.698,
          23.984,
          24.394,
          20.024,
          22.388,
          23.246,
          25.555,
          null,
          null,
          null,
          17.767,
          26.839,
          22.994,
          27.156,
          28.774,
          31.375,
          36.282,
          35.521,
          32.841,
          null,
          null,
          null,
          25.358,
          20.314,
          20.879,
          34.686,
          14.312,
          9.007,
          27.639,
          33.793,
          27.968,
          15.95,
          19.685,
          20.805,
          null,
          null,
          null,
          10.738,
          15.125,
          17.135,
          48.177,
          45.569,
          38.637,
          43.564,
          26.458,
          25.535,
          50.592,
          44.046,
          40.204,
          null,
          null,
          null,
          19.172,
          22.161,
          16.422,
          21.594,
          22.98,
          27.891,
          28.799,
          27.743,
          29.755,
          17.241,
          15.187,
          -6.72,
          36.892,
          28.964,
          7,
          16.195,
          17.223,
          12.873,
          15.466,
          20.141,
          17.802
         ],
         "yaxis": "y"
        },
        {
         "hovertemplate": "<b>%{hovertext}</b><br><br>income_group=Low income<br>GDP Per Capita=%{x}<br>Gross Savings (%)=%{y}<extra></extra>",
         "hovertext": [
          "AFG",
          "AFG",
          "AFG",
          "BDI",
          "BDI",
          "BDI",
          "BFA",
          "BFA",
          "BFA",
          "CAF",
          "CAF",
          "CAF",
          "COD",
          "COD",
          "COD",
          "ERI",
          "ERI",
          "ERI",
          "ETH",
          "ETH",
          "ETH",
          "GMB",
          "GMB",
          "GMB",
          "GNB",
          "GNB",
          "GNB",
          "LBR",
          "LBR",
          "LBR",
          "MDG",
          "MDG",
          "MDG",
          "MLI",
          "MLI",
          "MLI",
          "MOZ",
          "MOZ",
          "MOZ",
          "MWI",
          "MWI",
          "MWI",
          "NER",
          "NER",
          "NER",
          "RWA",
          "RWA",
          "RWA",
          "SDN",
          "SDN",
          "SDN",
          "SLE",
          "SLE",
          "SLE",
          "SOM",
          "SOM",
          "SOM",
          "SYR",
          "SYR",
          "SYR",
          "TCD",
          "TCD",
          "TCD",
          "TGO",
          "TGO",
          "TGO",
          "UGA",
          "UGA",
          "UGA",
          "YEM",
          "YEM",
          "YEM"
         ],
         "legendgroup": "Low income",
         "marker": {
          "color": "#EF553B",
          "size": 10,
          "symbol": "circle"
         },
         "mode": "markers",
         "name": "Low income",
         "orientation": "v",
         "showlegend": true,
         "type": "scatter",
         "x": [
          631.49,
          711.337,
          580.817,
          231.549,
          304.243,
          253.593,
          648.365,
          653.393,
          790.968,
          492.078,
          377.476,
          489.869,
          326.681,
          490.698,
          540.534,
          501.424,
          603.193,
          588.253,
          324.285,
          702.767,
          994.197,
          860.639,
          649.511,
          790.829,
          644.344,
          707.897,
          789.877,
          543.365,
          746.238,
          646.27,
          471.959,
          467.235,
          501.756,
          733.666,
          773.945,
          897.287,
          469.47,
          570.129,
          449.63,
          442.765,
          353.507,
          406.65,
          476.062,
          484.171,
          565.867,
          614.796,
          759.764,
          818.99,
          1637.42,
          1679.07,
          775.043,
          401.835,
          592.903,
          526.514,
          null,
          310.457,
          326.982,
          2806.69,
          null,
          null,
          895.354,
          776.105,
          653.98,
          721.036,
          770.358,
          904.675,
          808.713,
          773.284,
          912.442,
          1266.79,
          1500.69,
          620.24
         ],
         "xaxis": "x",
         "y": [
          59.699,
          22.223,
          27.132,
          3.688,
          5.768,
          6.593,
          20.194,
          11.863,
          20.033,
          4.218,
          4.508,
          10.665,
          23.572,
          14.1,
          6.852,
          7.167,
          31.046,
          17.61,
          24.415,
          31.409,
          26.552,
          3.757,
          3.65,
          12.332,
          11.965,
          16.798,
          14.446,
          null,
          null,
          null,
          18.079,
          14.366,
          8.546,
          13.306,
          15.437,
          16.317,
          7.111,
          3.835,
          5.92,
          26.25,
          -3.248,
          -8.412,
          18.233,
          17.019,
          17.515,
          6.677,
          6.175,
          3.768,
          17.729,
          4.491,
          -7.469,
          9.548,
          -10.331,
          0.815,
          null,
          null,
          null,
          23.845,
          null,
          null,
          25.871,
          13.125,
          16.605,
          11.998,
          15.603,
          17.115,
          16.245,
          18.148,
          18.203,
          8.25,
          -4.439,
          2.362
         ],
         "yaxis": "y"
        },
        {
         "hovertemplate": "<b>%{hovertext}</b><br><br>income_group=Lower middle income<br>GDP Per Capita=%{x}<br>Gross Savings (%)=%{y}<extra></extra>",
         "hovertext": [
          "AGO",
          "AGO",
          "AGO",
          "BEN",
          "BEN",
          "BEN",
          "BGD",
          "BGD",
          "BGD",
          "BOL",
          "BOL",
          "BOL",
          "BTN",
          "BTN",
          "BTN",
          "CIV",
          "CIV",
          "CIV",
          "CMR",
          "CMR",
          "CMR",
          "COG",
          "COG",
          "COG",
          "COM",
          "COM",
          "COM",
          "CPV",
          "CPV",
          "CPV",
          "DJI",
          "DJI",
          "DJI",
          "DZA",
          "DZA",
          "DZA",
          "EGY",
          "EGY",
          "EGY",
          "FSM",
          "FSM",
          "FSM",
          "GHA",
          "GHA",
          "GHA",
          "GIN",
          "GIN",
          "GIN",
          "HND",
          "HND",
          "HND",
          "HTI",
          "HTI",
          "HTI",
          "IND",
          "IND",
          "IND",
          "IRN",
          "IRN",
          "IRN",
          "JOR",
          "JOR",
          "JOR",
          "KEN",
          "KEN",
          "KEN",
          "KGZ",
          "KGZ",
          "KGZ",
          "KHM",
          "KHM",
          "KHM",
          "KIR",
          "KIR",
          "KIR",
          "LAO",
          "LAO",
          "LAO",
          "LBN",
          "LBN",
          "LBN",
          "LKA",
          "LKA",
          "LKA",
          "LSO",
          "LSO",
          "LSO",
          "MAR",
          "MAR",
          "MAR",
          "MMR",
          "MMR",
          "MMR",
          "MNG",
          "MNG",
          "MNG",
          "MRT",
          "MRT",
          "MRT",
          "NGA",
          "NGA",
          "NGA",
          "NIC",
          "NIC",
          "NIC",
          "NPL",
          "NPL",
          "NPL",
          "PAK",
          "PAK",
          "PAK",
          "PHL",
          "PHL",
          "PHL",
          "PNG",
          "PNG",
          "PNG",
          "SEN",
          "SEN",
          "SEN",
          "SLB",
          "SLB",
          "SLB",
          "STP",
          "STP",
          "STP",
          "SWZ",
          "SWZ",
          "SWZ",
          "TJK",
          "TJK",
          "TJK",
          "TUN",
          "TUN",
          "TUN",
          "TZA",
          "TZA",
          "TZA",
          "UKR",
          "UKR",
          "UKR",
          "UZB",
          "UZB",
          "UZB",
          "VNM",
          "VNM",
          "VNM",
          "VUT",
          "VUT",
          "VUT",
          "WSM",
          "WSM",
          "WSM",
          "ZMB",
          "ZMB",
          "ZMB",
          "ZWE",
          "ZWE",
          "ZWE"
         ],
         "legendgroup": "Lower middle income",
         "marker": {
          "color": "#00cc96",
          "size": 10,
          "symbol": "circle"
         },
         "mode": "markers",
         "name": "Lower middle income",
         "orientation": "v",
         "showlegend": true,
         "type": "scatter",
         "x": [
          3641.44,
          4354.92,
          2012.15,
          1037.38,
          1076.91,
          1250.87,
          781.154,
          1248.89,
          1998.43,
          1994.91,
          3050.65,
          3359.73,
          2097.66,
          2693.63,
          3358.96,
          1650.96,
          1932.22,
          2277.72,
          1287.57,
          1327.64,
          1469.91,
          3597.96,
          2873.72,
          2185.58,
          1322.64,
          1231.14,
          1361.86,
          3312.04,
          2996.36,
          3147.69,
          1833.85,
          2532.6,
          3074.39,
          4480.72,
          4153.32,
          3262.58,
          2922.8,
          3731.18,
          3586.97,
          2887.35,
          3050.72,
          3899.48,
          1745.56,
          1753.85,
          2222.91,
          630.549,
          712.047,
          1106.47,
          1891.16,
          2302.04,
          2382.88,
          1171.39,
          1388.96,
          1252.87,
          1384.17,
          1605.61,
          1964.88,
          6564.06,
          4844.5,
          7554.77,
          3777.82,
          4218.83,
          4259.26,
          1036.26,
          1483.48,
          2039.05,
          884.846,
          1132.84,
          1146.39,
          788.19,
          1203.48,
          1655.39,
          1518.57,
          1556.5,
          1687.51,
          1200.87,
          2130.63,
          2625.53,
          7761.64,
          7644.55,
          2802.14,
          2799.96,
          3841.52,
          3678.73,
          1222.2,
          1106.83,
          1002.98,
          2896.56,
          2964.96,
          3158.32,
          774.72,
          1223.74,
          1527.44,
          2602.37,
          3842.54,
          3916.09,
          1715.92,
          1668.07,
          1971.45,
          2328.43,
          2718.59,
          2083.16,
          1506.07,
          2036.93,
          1869.71,
          677.187,
          901.75,
          1195.59,
          1029.17,
          1422.92,
          1260.01,
          2237.16,
          3039.23,
          3330.36,
          2132.19,
          2742.92,
          2684.77,
          1272.62,
          1219.37,
          1459.51,
          1608.46,
          2231.83,
          2392.24,
          1128.31,
          1623.81,
          1918.01,
          4263.91,
          3765.92,
          3504.45,
          738.287,
          919.073,
          843.974,
          4140.47,
          3829.5,
          3322.93,
          732.315,
          947.897,
          1090.39,
          2982.81,
          2124.62,
          3653.11,
          1667.27,
          2621.98,
          1701.94,
          1628.52,
          2582.39,
          3498.98,
          2719.25,
          2771.66,
          2875.95,
          3566.51,
          4073.68,
          3960.61,
          1456.05,
          1310.46,
          981.311,
          975.851,
          1425.01,
          1385.04
         ],
         "xaxis": "x",
         "y": [
          34.833,
          28.491,
          22.399,
          10.041,
          14.768,
          23.638,
          29.443,
          29.02,
          26.256,
          24.969,
          14.216,
          11.733,
          33.899,
          25.815,
          14.445,
          11.072,
          22.53,
          18.185,
          25.514,
          23.888,
          21.894,
          54.044,
          39.315,
          17.652,
          17.919,
          13.501,
          17.599,
          35.22,
          35.386,
          22.721,
          17.162,
          29.727,
          32.394,
          48.936,
          34.326,
          35.203,
          19.421,
          10.632,
          10.735,
          null,
          null,
          null,
          44.693,
          21.34,
          19.928,
          -0.936,
          -5.693,
          4.133,
          16.768,
          20.447,
          17.29,
          24.538,
          12.406,
          21.218,
          33.701,
          31.067,
          29.427,
          45.625,
          36.89,
          41.963,
          22.575,
          11.8,
          10.727,
          14.809,
          14.568,
          8.017,
          20.439,
          18.433,
          11.072,
          8.616,
          13.714,
          9.495,
          null,
          null,
          null,
          null,
          null,
          null,
          2.303,
          -0.315,
          -6.08,
          28.458,
          28.845,
          24.589,
          20.145,
          25.993,
          9.283,
          29.7,
          28.661,
          26.854,
          25.773,
          30.079,
          28.831,
          29.763,
          18.34,
          20.169,
          32.01,
          21.73,
          30.69,
          20.843,
          12.355,
          21.45,
          15.965,
          23.603,
          24.299,
          31.411,
          35.659,
          30.383,
          13.572,
          14.665,
          14.276,
          23.887,
          23.712,
          20.625,
          null,
          null,
          null,
          16.565,
          20.118,
          20.044,
          -5.783,
          13.068,
          6.802,
          33.101,
          20.101,
          -0.352,
          5.734,
          25.485,
          19.897,
          7.664,
          12.105,
          17.189,
          20.029,
          10.3,
          0.971,
          24.066,
          25.457,
          33.185,
          18.654,
          17.663,
          10.936,
          28.083,
          25.376,
          31.561,
          32.352,
          26.444,
          28.603,
          null,
          null,
          null,
          null,
          null,
          null,
          37.405,
          40.103,
          36.03,
          null,
          null,
          null
         ],
         "yaxis": "y"
        },
        {
         "hovertemplate": "<b>%{hovertext}</b><br><br>income_group=Upper middle income<br>GDP Per Capita=%{x}<br>Gross Savings (%)=%{y}<extra></extra>",
         "hovertext": [
          "ALB",
          "ALB",
          "ALB",
          "ARG",
          "ARG",
          "ARG",
          "ARM",
          "ARM",
          "ARM",
          "AZE",
          "AZE",
          "AZE",
          "BGR",
          "BGR",
          "BGR",
          "BIH",
          "BIH",
          "BIH",
          "BLR",
          "BLR",
          "BLR",
          "BLZ",
          "BLZ",
          "BLZ",
          "BRA",
          "BRA",
          "BRA",
          "BWA",
          "BWA",
          "BWA",
          "CHN",
          "CHN",
          "CHN",
          "COL",
          "COL",
          "COL",
          "CRI",
          "CRI",
          "CRI",
          "DMA",
          "DMA",
          "DMA",
          "DOM",
          "DOM",
          "DOM",
          "ECU",
          "ECU",
          "ECU",
          "FJI",
          "FJI",
          "FJI",
          "GAB",
          "GAB",
          "GAB",
          "GEO",
          "GEO",
          "GEO",
          "GNQ",
          "GNQ",
          "GNQ",
          "GRD",
          "GRD",
          "GRD",
          "GTM",
          "GTM",
          "GTM",
          "IDN",
          "IDN",
          "IDN",
          "IRQ",
          "IRQ",
          "IRQ",
          "JAM",
          "JAM",
          "JAM",
          "KAZ",
          "KAZ",
          "KAZ",
          "LBY",
          "LBY",
          "LBY",
          "LCA",
          "LCA",
          "LCA",
          "MDA",
          "MDA",
          "MDA",
          "MDV",
          "MDV",
          "MDV",
          "MEX",
          "MEX",
          "MEX",
          "MHL",
          "MHL",
          "MHL",
          "MKD",
          "MKD",
          "MKD",
          "MUS",
          "MUS",
          "MUS",
          "MYS",
          "MYS",
          "MYS",
          "NAM",
          "NAM",
          "NAM",
          "PER",
          "PER",
          "PER",
          "PLW",
          "PLW",
          "PLW",
          "PRY",
          "PRY",
          "PRY",
          "RUS",
          "RUS",
          "RUS",
          "SLV",
          "SLV",
          "SLV",
          "SUR",
          "SUR",
          "SUR",
          "THA",
          "THA",
          "THA",
          "TKM",
          "TKM",
          "TKM",
          "TON",
          "TON",
          "TON",
          "TUR",
          "TUR",
          "TUR",
          "TUV",
          "TUV",
          "TUV",
          "VCT",
          "VCT",
          "VCT",
          "ZAF",
          "ZAF",
          "ZAF"
         ],
         "legendgroup": "Upper middle income",
         "marker": {
          "color": "#ab63fa",
          "size": 10,
          "symbol": "circle"
         },
         "mode": "markers",
         "name": "Upper middle income",
         "orientation": "v",
         "showlegend": true,
         "type": "scatter",
         "x": [
          4097.83,
          3953.61,
          5286.68,
          10412.97,
          14895.32,
          8554.64,
          3121.78,
          3529.03,
          4155.27,
          5880.81,
          5300.14,
          4218,
          6713.33,
          7079.78,
          9919.3,
          4633.86,
          4727.26,
          5912.98,
          6023.15,
          5941.24,
          6398.87,
          4265.62,
          4681.77,
          3944.94,
          11333.02,
          8846.48,
          6783.05,
          6374.99,
          6811.43,
          6780.72,
          4499.79,
          8084.8,
          10483.88,
          6295.29,
          6088.67,
          5335.59,
          8268.86,
          11635.2,
          11982.28,
          6980.94,
          7666.36,
          6903.76,
          5688.75,
          7139.51,
          7530.19,
          4633.25,
          6099.35,
          5520.36,
          4004.67,
          5385.52,
          4797.32,
          8933.31,
          7453.11,
          7421.18,
          3222.07,
          4017.62,
          4247.94,
          17153.17,
          11217.99,
          6772.73,
          7258.18,
          9096.54,
          9185.56,
          2836.01,
          3825.88,
          4288.75,
          3178.13,
          3367.69,
          3921.62,
          4473.71,
          5044.62,
          4288.77,
          4894.37,
          5204.83,
          5095.64,
          9005.04,
          10435.17,
          8732.64,
          11417.42,
          2723.37,
          3280.83,
          8968.8,
          10375.92,
          9351.36,
          2428.11,
          2715.78,
          4365.85,
          8086.7,
          11781.03,
          9934.09,
          9299.46,
          9657.12,
          8421.19,
          3030.39,
          3406.48,
          4240.1,
          4576.23,
          4860.42,
          5918.11,
          8000.38,
          9258.56,
          8993.48,
          9046.99,
          9663.11,
          10269.86,
          5410.98,
          5020.47,
          4175.18,
          5055.04,
          6141.43,
          6083.87,
          10044.33,
          15787.6,
          14411.66,
          4326.22,
          5353.06,
          4946.46,
          11431.15,
          9257.94,
          10037.24,
          2983.23,
          3705.58,
          3794.31,
          8224.07,
          8439.04,
          3988.45,
          5073.71,
          5837.81,
          7190.37,
          4439.2,
          6432.67,
          7967.3,
          3569.1,
          4298.22,
          5125.12,
          10533.45,
          10973.59,
          8548.18,
          3034.68,
          3238.99,
          4372.4,
          6224.22,
          6867.52,
          7121.64,
          7311.74,
          5731.73,
          5067.15
         ],
         "xaxis": "x",
         "y": [
          20.023,
          15.804,
          13.255,
          17.323,
          14.328,
          17.798,
          15.797,
          18.506,
          12.661,
          44.139,
          27.348,
          15.845,
          20.925,
          21.169,
          19.52,
          9.914,
          12.844,
          18.449,
          26.186,
          25.784,
          27.61,
          9.617,
          11.873,
          6.83,
          18.224,
          14.385,
          14.536,
          37.536,
          39.538,
          25.775,
          50.909,
          45.77,
          45.669,
          18.81,
          17.197,
          15.488,
          16.61,
          15.45,
          13.257,
          2.462,
          11.451,
          -6.668,
          18.918,
          21.645,
          22.376,
          25.762,
          24.633,
          21.278,
          null,
          null,
          null,
          41.009,
          29.246,
          24.591,
          10.758,
          14.502,
          14.923,
          17.812,
          8.266,
          5.382,
          null,
          5.226,
          6.335,
          12.632,
          13.584,
          17.63,
          33.582,
          32.028,
          31.92,
          23.736,
          18.568,
          1.899,
          13.418,
          18.112,
          18.64,
          26.309,
          24.648,
          26.833,
          null,
          null,
          null,
          null,
          18.136,
          7.589,
          16.7,
          17.604,
          20.301,
          12.678,
          12.513,
          -4.42,
          22.336,
          20.663,
          21.799,
          null,
          null,
          null,
          22.443,
          28.45,
          26.164,
          14.723,
          16.807,
          12.571,
          33.597,
          28.411,
          24.068,
          20.691,
          17.087,
          16.428,
          22.028,
          18.704,
          19.292,
          null,
          null,
          null,
          23.982,
          20.447,
          24.038,
          24.79,
          27.144,
          25.625,
          13.783,
          12.801,
          15.661,
          52.436,
          54.004,
          32.116,
          28.724,
          29.274,
          27.151,
          null,
          null,
          null,
          null,
          null,
          null,
          21.771,
          25.218,
          26.665,
          null,
          null,
          null,
          null,
          9.997,
          12.724,
          18.012,
          16.3,
          14.602
         ],
         "yaxis": "y"
        },
        {
         "hovertemplate": "<b>%{hovertext}</b><br><br>income_group=Not classified<br>GDP Per Capita=%{x}<br>Gross Savings (%)=%{y}<extra></extra>",
         "hovertext": [
          "VEN",
          "VEN",
          "VEN"
         ],
         "legendgroup": "Not classified",
         "marker": {
          "color": "#FFA15A",
          "size": 10,
          "symbol": "circle"
         },
         "mode": "markers",
         "name": "Not classified",
         "orientation": "v",
         "showlegend": true,
         "type": "scatter",
         "x": [
          11158.18,
          10568.1,
          1690.66
         ],
         "xaxis": "x",
         "y": [
          31.591,
          2.352,
          null
         ],
         "yaxis": "y"
        }
       ],
       "layout": {
        "hovermode": "closest",
        "legend": {
         "title": {
          "text": "income_group"
         },
         "tracegroupgap": 0
        },
        "template": {
         "data": {
          "bar": [
           {
            "error_x": {
             "color": "#2a3f5f"
            },
            "error_y": {
             "color": "#2a3f5f"
            },
            "marker": {
             "line": {
              "color": "#E5ECF6",
              "width": 0.5
             },
             "pattern": {
              "fillmode": "overlay",
              "size": 10,
              "solidity": 0.2
             }
            },
            "type": "bar"
           }
          ],
          "barpolar": [
           {
            "marker": {
             "line": {
              "color": "#E5ECF6",
              "width": 0.5
             },
             "pattern": {
              "fillmode": "overlay",
              "size": 10,
              "solidity": 0.2
             }
            },
            "type": "barpolar"
           }
          ],
          "carpet": [
           {
            "aaxis": {
             "endlinecolor": "#2a3f5f",
             "gridcolor": "white",
             "linecolor": "white",
             "minorgridcolor": "white",
             "startlinecolor": "#2a3f5f"
            },
            "baxis": {
             "endlinecolor": "#2a3f5f",
             "gridcolor": "white",
             "linecolor": "white",
             "minorgridcolor": "white",
             "startlinecolor": "#2a3f5f"
            },
            "type": "carpet"
           }
          ],
          "choropleth": [
           {
            "colorbar": {
             "outlinewidth": 0,
             "ticks": ""
            },
            "type": "choropleth"
           }
          ],
          "contour": [
           {
            "colorbar": {
             "outlinewidth": 0,
             "ticks": ""
            },
            "colorscale": [
             [
              0,
              "#0d0887"
             ],
             [
              0.1111111111111111,
              "#46039f"
             ],
             [
              0.2222222222222222,
              "#7201a8"
             ],
             [
              0.3333333333333333,
              "#9c179e"
             ],
             [
              0.4444444444444444,
              "#bd3786"
             ],
             [
              0.5555555555555556,
              "#d8576b"
             ],
             [
              0.6666666666666666,
              "#ed7953"
             ],
             [
              0.7777777777777778,
              "#fb9f3a"
             ],
             [
              0.8888888888888888,
              "#fdca26"
             ],
             [
              1,
              "#f0f921"
             ]
            ],
            "type": "contour"
           }
          ],
          "contourcarpet": [
           {
            "colorbar": {
             "outlinewidth": 0,
             "ticks": ""
            },
            "type": "contourcarpet"
           }
          ],
          "heatmap": [
           {
            "colorbar": {
             "outlinewidth": 0,
             "ticks": ""
            },
            "colorscale": [
             [
              0,
              "#0d0887"
             ],
             [
              0.1111111111111111,
              "#46039f"
             ],
             [
              0.2222222222222222,
              "#7201a8"
             ],
             [
              0.3333333333333333,
              "#9c179e"
             ],
             [
              0.4444444444444444,
              "#bd3786"
             ],
             [
              0.5555555555555556,
              "#d8576b"
             ],
             [
              0.6666666666666666,
              "#ed7953"
             ],
             [
              0.7777777777777778,
              "#fb9f3a"
             ],
             [
              0.8888888888888888,
              "#fdca26"
             ],
             [
              1,
              "#f0f921"
             ]
            ],
            "type": "heatmap"
           }
          ],
          "heatmapgl": [
           {
            "colorbar": {
             "outlinewidth": 0,
             "ticks": ""
            },
            "colorscale": [
             [
              0,
              "#0d0887"
             ],
             [
              0.1111111111111111,
              "#46039f"
             ],
             [
              0.2222222222222222,
              "#7201a8"
             ],
             [
              0.3333333333333333,
              "#9c179e"
             ],
             [
              0.4444444444444444,
              "#bd3786"
             ],
             [
              0.5555555555555556,
              "#d8576b"
             ],
             [
              0.6666666666666666,
              "#ed7953"
             ],
             [
              0.7777777777777778,
              "#fb9f3a"
             ],
             [
              0.8888888888888888,
              "#fdca26"
             ],
             [
              1,
              "#f0f921"
             ]
            ],
            "type": "heatmapgl"
           }
          ],
          "histogram": [
           {
            "marker": {
             "pattern": {
              "fillmode": "overlay",
              "size": 10,
              "solidity": 0.2
             }
            },
            "type": "histogram"
           }
          ],
          "histogram2d": [
           {
            "colorbar": {
             "outlinewidth": 0,
             "ticks": ""
            },
            "colorscale": [
             [
              0,
              "#0d0887"
             ],
             [
              0.1111111111111111,
              "#46039f"
             ],
             [
              0.2222222222222222,
              "#7201a8"
             ],
             [
              0.3333333333333333,
              "#9c179e"
             ],
             [
              0.4444444444444444,
              "#bd3786"
             ],
             [
              0.5555555555555556,
              "#d8576b"
             ],
             [
              0.6666666666666666,
              "#ed7953"
             ],
             [
              0.7777777777777778,
              "#fb9f3a"
             ],
             [
              0.8888888888888888,
              "#fdca26"
             ],
             [
              1,
              "#f0f921"
             ]
            ],
            "type": "histogram2d"
           }
          ],
          "histogram2dcontour": [
           {
            "colorbar": {
             "outlinewidth": 0,
             "ticks": ""
            },
            "colorscale": [
             [
              0,
              "#0d0887"
             ],
             [
              0.1111111111111111,
              "#46039f"
             ],
             [
              0.2222222222222222,
              "#7201a8"
             ],
             [
              0.3333333333333333,
              "#9c179e"
             ],
             [
              0.4444444444444444,
              "#bd3786"
             ],
             [
              0.5555555555555556,
              "#d8576b"
             ],
             [
              0.6666666666666666,
              "#ed7953"
             ],
             [
              0.7777777777777778,
              "#fb9f3a"
             ],
             [
              0.8888888888888888,
              "#fdca26"
             ],
             [
              1,
              "#f0f921"
             ]
            ],
            "type": "histogram2dcontour"
           }
          ],
          "mesh3d": [
           {
            "colorbar": {
             "outlinewidth": 0,
             "ticks": ""
            },
            "type": "mesh3d"
           }
          ],
          "parcoords": [
           {
            "line": {
             "colorbar": {
              "outlinewidth": 0,
              "ticks": ""
             }
            },
            "type": "parcoords"
           }
          ],
          "pie": [
           {
            "automargin": true,
            "type": "pie"
           }
          ],
          "scatter": [
           {
            "fillpattern": {
             "fillmode": "overlay",
             "size": 10,
             "solidity": 0.2
            },
            "type": "scatter"
           }
          ],
          "scatter3d": [
           {
            "line": {
             "colorbar": {
              "outlinewidth": 0,
              "ticks": ""
             }
            },
            "marker": {
             "colorbar": {
              "outlinewidth": 0,
              "ticks": ""
             }
            },
            "type": "scatter3d"
           }
          ],
          "scattercarpet": [
           {
            "marker": {
             "colorbar": {
              "outlinewidth": 0,
              "ticks": ""
             }
            },
            "type": "scattercarpet"
           }
          ],
          "scattergeo": [
           {
            "marker": {
             "colorbar": {
              "outlinewidth": 0,
              "ticks": ""
             }
            },
            "type": "scattergeo"
           }
          ],
          "scattergl": [
           {
            "marker": {
             "colorbar": {
              "outlinewidth": 0,
              "ticks": ""
             }
            },
            "type": "scattergl"
           }
          ],
          "scattermapbox": [
           {
            "marker": {
             "colorbar": {
              "outlinewidth": 0,
              "ticks": ""
             }
            },
            "type": "scattermapbox"
           }
          ],
          "scatterpolar": [
           {
            "marker": {
             "colorbar": {
              "outlinewidth": 0,
              "ticks": ""
             }
            },
            "type": "scatterpolar"
           }
          ],
          "scatterpolargl": [
           {
            "marker": {
             "colorbar": {
              "outlinewidth": 0,
              "ticks": ""
             }
            },
            "type": "scatterpolargl"
           }
          ],
          "scatterternary": [
           {
            "marker": {
             "colorbar": {
              "outlinewidth": 0,
              "ticks": ""
             }
            },
            "type": "scatterternary"
           }
          ],
          "surface": [
           {
            "colorbar": {
             "outlinewidth": 0,
             "ticks": ""
            },
            "colorscale": [
             [
              0,
              "#0d0887"
             ],
             [
              0.1111111111111111,
              "#46039f"
             ],
             [
              0.2222222222222222,
              "#7201a8"
             ],
             [
              0.3333333333333333,
              "#9c179e"
             ],
             [
              0.4444444444444444,
              "#bd3786"
             ],
             [
              0.5555555555555556,
              "#d8576b"
             ],
             [
              0.6666666666666666,
              "#ed7953"
             ],
             [
              0.7777777777777778,
              "#fb9f3a"
             ],
             [
              0.8888888888888888,
              "#fdca26"
             ],
             [
              1,
              "#f0f921"
             ]
            ],
            "type": "surface"
           }
          ],
          "table": [
           {
            "cells": {
             "fill": {
              "color": "#EBF0F8"
             },
             "line": {
              "color": "white"
             }
            },
            "header": {
             "fill": {
              "color": "#C8D4E3"
             },
             "line": {
              "color": "white"
             }
            },
            "type": "table"
           }
          ]
         },
         "layout": {
          "annotationdefaults": {
           "arrowcolor": "#2a3f5f",
           "arrowhead": 0,
           "arrowwidth": 1
          },
          "autotypenumbers": "strict",
          "coloraxis": {
           "colorbar": {
            "outlinewidth": 0,
            "ticks": ""
           }
          },
          "colorscale": {
           "diverging": [
            [
             0,
             "#8e0152"
            ],
            [
             0.1,
             "#c51b7d"
            ],
            [
             0.2,
             "#de77ae"
            ],
            [
             0.3,
             "#f1b6da"
            ],
            [
             0.4,
             "#fde0ef"
            ],
            [
             0.5,
             "#f7f7f7"
            ],
            [
             0.6,
             "#e6f5d0"
            ],
            [
             0.7,
             "#b8e186"
            ],
            [
             0.8,
             "#7fbc41"
            ],
            [
             0.9,
             "#4d9221"
            ],
            [
             1,
             "#276419"
            ]
           ],
           "sequential": [
            [
             0,
             "#0d0887"
            ],
            [
             0.1111111111111111,
             "#46039f"
            ],
            [
             0.2222222222222222,
             "#7201a8"
            ],
            [
             0.3333333333333333,
             "#9c179e"
            ],
            [
             0.4444444444444444,
             "#bd3786"
            ],
            [
             0.5555555555555556,
             "#d8576b"
            ],
            [
             0.6666666666666666,
             "#ed7953"
            ],
            [
             0.7777777777777778,
             "#fb9f3a"
            ],
            [
             0.8888888888888888,
             "#fdca26"
            ],
            [
             1,
             "#f0f921"
            ]
           ],
           "sequentialminus": [
            [
             0,
             "#0d0887"
            ],
            [
             0.1111111111111111,
             "#46039f"
            ],
            [
             0.2222222222222222,
             "#7201a8"
            ],
            [
             0.3333333333333333,
             "#9c179e"
            ],
            [
             0.4444444444444444,
             "#bd3786"
            ],
            [
             0.5555555555555556,
             "#d8576b"
            ],
            [
             0.6666666666666666,
             "#ed7953"
            ],
            [
             0.7777777777777778,
             "#fb9f3a"
            ],
            [
             0.8888888888888888,
             "#fdca26"
            ],
            [
             1,
             "#f0f921"
            ]
           ]
          },
          "colorway": [
           "#636efa",
           "#EF553B",
           "#00cc96",
           "#ab63fa",
           "#FFA15A",
           "#19d3f3",
           "#FF6692",
           "#B6E880",
           "#FF97FF",
           "#FECB52"
          ],
          "font": {
           "color": "#2a3f5f"
          },
          "geo": {
           "bgcolor": "white",
           "lakecolor": "white",
           "landcolor": "#E5ECF6",
           "showlakes": true,
           "showland": true,
           "subunitcolor": "white"
          },
          "hoverlabel": {
           "align": "left"
          },
          "hovermode": "closest",
          "mapbox": {
           "style": "light"
          },
          "paper_bgcolor": "white",
          "plot_bgcolor": "#E5ECF6",
          "polar": {
           "angularaxis": {
            "gridcolor": "white",
            "linecolor": "white",
            "ticks": ""
           },
           "bgcolor": "#E5ECF6",
           "radialaxis": {
            "gridcolor": "white",
            "linecolor": "white",
            "ticks": ""
           }
          },
          "scene": {
           "xaxis": {
            "backgroundcolor": "#E5ECF6",
            "gridcolor": "white",
            "gridwidth": 2,
            "linecolor": "white",
            "showbackground": true,
            "ticks": "",
            "zerolinecolor": "white"
           },
           "yaxis": {
            "backgroundcolor": "#E5ECF6",
            "gridcolor": "white",
            "gridwidth": 2,
            "linecolor": "white",
            "showbackground": true,
            "ticks": "",
            "zerolinecolor": "white"
           },
           "zaxis": {
            "backgroundcolor": "#E5ECF6",
            "gridcolor": "white",
            "gridwidth": 2,
            "linecolor": "white",
            "showbackground": true,
            "ticks": "",
            "zerolinecolor": "white"
           }
          },
          "shapedefaults": {
           "line": {
            "color": "#2a3f5f"
           }
          },
          "ternary": {
           "aaxis": {
            "gridcolor": "white",
            "linecolor": "white",
            "ticks": ""
           },
           "baxis": {
            "gridcolor": "white",
            "linecolor": "white",
            "ticks": ""
           },
           "bgcolor": "#E5ECF6",
           "caxis": {
            "gridcolor": "white",
            "linecolor": "white",
            "ticks": ""
           }
          },
          "title": {
           "x": 0.05
          },
          "xaxis": {
           "automargin": true,
           "gridcolor": "white",
           "linecolor": "white",
           "ticks": "",
           "title": {
            "standoff": 15
           },
           "zerolinecolor": "white",
           "zerolinewidth": 2
          },
          "yaxis": {
           "automargin": true,
           "gridcolor": "white",
           "linecolor": "white",
           "ticks": "",
           "title": {
            "standoff": 15
           },
           "zerolinecolor": "white",
           "zerolinewidth": 2
          }
         }
        },
        "title": {
         "text": "GDP Per Capita vs. Gross Savings"
        },
        "xaxis": {
         "anchor": "y",
         "domain": [
          0,
          1
         ],
         "title": {
          "text": "GDP Per Capita"
         }
        },
        "yaxis": {
         "anchor": "x",
         "domain": [
          0,
          1
         ],
         "title": {
          "text": "Gross Savings (%)"
         }
        }
       }
      },
      "text/html": [
       "<div>                            <div id=\"2e36f71b-e3fb-4b17-860f-28ff8ef81511\" class=\"plotly-graph-div\" style=\"height:525px; width:100%;\"></div>            <script type=\"text/javascript\">                require([\"plotly\"], function(Plotly) {                    window.PLOTLYENV=window.PLOTLYENV || {};                                    if (document.getElementById(\"2e36f71b-e3fb-4b17-860f-28ff8ef81511\")) {                    Plotly.newPlot(                        \"2e36f71b-e3fb-4b17-860f-28ff8ef81511\",                        [{\"hovertemplate\":\"\\u003cb\\u003e%{hovertext}\\u003c\\u002fb\\u003e\\u003cbr\\u003e\\u003cbr\\u003eincome_group=High income\\u003cbr\\u003eGDP Per Capita=%{x}\\u003cbr\\u003eGross Savings (%)=%{y}\\u003cextra\\u003e\\u003c\\u002fextra\\u003e\",\"hovertext\":[\"ABW\",\"ABW\",\"ABW\",\"ARE\",\"ARE\",\"ARE\",\"ATG\",\"ATG\",\"ATG\",\"AUS\",\"AUS\",\"AUS\",\"AUT\",\"AUT\",\"AUT\",\"BEL\",\"BEL\",\"BEL\",\"BHR\",\"BHR\",\"BHR\",\"BHS\",\"BHS\",\"BHS\",\"BRB\",\"BRB\",\"BRB\",\"BRN\",\"BRN\",\"BRN\",\"CAN\",\"CAN\",\"CAN\",\"CHE\",\"CHE\",\"CHE\",\"CHL\",\"CHL\",\"CHL\",\"CYP\",\"CYP\",\"CYP\",\"CZE\",\"CZE\",\"CZE\",\"DEU\",\"DEU\",\"DEU\",\"DNK\",\"DNK\",\"DNK\",\"ESP\",\"ESP\",\"ESP\",\"EST\",\"EST\",\"EST\",\"FIN\",\"FIN\",\"FIN\",\"FRA\",\"FRA\",\"FRA\",\"GBR\",\"GBR\",\"GBR\",\"GRC\",\"GRC\",\"GRC\",\"GUY\",\"GUY\",\"GUY\",\"HKG\",\"HKG\",\"HKG\",\"HRV\",\"HRV\",\"HRV\",\"HUN\",\"HUN\",\"HUN\",\"IRL\",\"IRL\",\"IRL\",\"ISL\",\"ISL\",\"ISL\",\"ISR\",\"ISR\",\"ISR\",\"ITA\",\"ITA\",\"ITA\",\"JPN\",\"JPN\",\"JPN\",\"KNA\",\"KNA\",\"KNA\",\"KOR\",\"KOR\",\"KOR\",\"KWT\",\"KWT\",\"KWT\",\"LTU\",\"LTU\",\"LTU\",\"LUX\",\"LUX\",\"LUX\",\"LVA\",\"LVA\",\"LVA\",\"MAC\",\"MAC\",\"MAC\",\"MLT\",\"MLT\",\"MLT\",\"NLD\",\"NLD\",\"NLD\",\"NOR\",\"NOR\",\"NOR\",\"NRU\",\"NRU\",\"NRU\",\"NZL\",\"NZL\",\"NZL\",\"OMN\",\"OMN\",\"OMN\",\"PAN\",\"PAN\",\"PAN\",\"POL\",\"POL\",\"POL\",\"PRI\",\"PRI\",\"PRI\",\"PRT\",\"PRT\",\"PRT\",\"QAT\",\"QAT\",\"QAT\",\"SAU\",\"SAU\",\"SAU\",\"SGP\",\"SGP\",\"SGP\",\"SMR\",\"SMR\",\"SMR\",\"SVK\",\"SVK\",\"SVK\",\"SVN\",\"SVN\",\"SVN\",\"SWE\",\"SWE\",\"SWE\",\"SYC\",\"SYC\",\"SYC\",\"TTO\",\"TTO\",\"TTO\",\"URY\",\"URY\",\"URY\",\"USA\",\"USA\",\"USA\"],\"legendgroup\":\"High income\",\"marker\":{\"color\":\"#636efa\",\"symbol\":\"circle\",\"size\":10},\"mode\":\"markers\",\"name\":\"High income\",\"orientation\":\"v\",\"showlegend\":true,\"x\":[24087.95,27126.62,21832.92,35064.26,37380.57,31982.23,13564.68,14696.89,14168.26,56459.8,51484.05,52824.82,46955.17,44267.81,48154.38,44448.17,41147.26,44529.39,20827.72,22659.37,22402.0,29303.26,32154.95,29220.54,16203.26,16589.45,15162.57,35437.22,31355.74,26089.28,47627.35,43626.47,43278.22,77433.67,85240.79,86849.47,12794.28,13570.89,12989.6,31439.12,23428.72,27053.8,19983.58,17842.87,22578.83,42379.84,41107.22,45732.8,58177.16,53478.5,60494.2,30566.88,25764.22,27132.32,14818.44,17531.06,23330.09,46647.0,42867.09,48981.44,42178.58,37937.86,39907.14,39579.62,45053.49,40406.28,26743.4,17997.4,17670.29,3837.3,5579.97,7327.17,32421.36,42325.35,46753.46,13562.42,11780.6,14072.08,13173.21,12690.17,15820.1,48758.01,61951.73,83849.81,43293.02,53227.63,59633.72,30705.4,35828.17,43688.58,35805.44,30213.1,31288.02,45135.8,35005.66,40146.07,14776.44,17004.85,14918.75,23077.16,28737.44,31496.77,32216.41,27398.08,22105.09,12009.03,14265.41,19916.5,106177.04,102625.13,116921.11,11276.11,13722.08,17559.86,51135.16,69666.75,36350.16,21842.07,25228.18,28293.63,51165.82,45302.8,52247.54,87356.19,74115.16,67176.43,4748.08,6994.05,8866.87,33376.46,38195.64,41127.16,19027.78,16570.74,14215.58,8039.76,13606.6,12373.05,12619.62,12563.61,15653.56,26435.74,29755.35,30317.39,22539.04,19252.02,22488.62,69796.14,66346.96,52144.16,19163.34,21063.31,20178.23,47236.67,55645.61,58902.22,60426.24,43068.69,44818.19,16784.02,16326.57,19071.2,23570.18,20898.91,25210.72,52658.79,51274.28,51796.38,10805.1,14786.12,11638.72,16957.43,18214.37,15384.13,12883.88,16692.65,15777.96,48403.3,56848.51,63415.99],\"xaxis\":\"x\",\"y\":[13.255,21.411,-7.521,31.33,30.54,28.223,null,7.052,14.314,23.105,21.608,24.571,25.463,25.531,27.536,24.751,25.011,24.53,30.275,24.17,24.87,19.579,11.728,10.365,11.277,10.804,9.791,null,null,null,19.918,20.326,20.164,39.762,35.012,30.662,24.855,21.338,21.203,13.292,13.229,13.043,23.809,28.432,28.129,25.81,28.344,27.439,24.639,28.876,31.374,18.648,21.022,20.855,23.283,26.58,29.625,23.536,20.748,24.892,21.317,22.344,21.39,13.088,12.697,13.07,7.944,10.591,6.016,6.545,6.907,-0.533,30.892,24.859,26.253,18.954,23.879,20.852,20.754,25.557,27.458,16.023,29.966,36.262,7.814,25.034,22.717,22.223,25.284,26.78,17.285,18.529,21.126,26.427,28.235,28.831,null,16.226,21.944,34.996,36.7,36.258,50.831,37.116,27.38,16.851,18.459,20.698,23.984,24.394,20.024,22.388,23.246,25.555,null,null,null,17.767,26.839,22.994,27.156,28.774,31.375,36.282,35.521,32.841,null,null,null,25.358,20.314,20.879,34.686,14.312,9.007,27.639,33.793,27.968,15.95,19.685,20.805,null,null,null,10.738,15.125,17.135,48.177,45.569,38.637,43.564,26.458,25.535,50.592,44.046,40.204,null,null,null,19.172,22.161,16.422,21.594,22.98,27.891,28.799,27.743,29.755,17.241,15.187,-6.72,36.892,28.964,7.0,16.195,17.223,12.873,15.466,20.141,17.802],\"yaxis\":\"y\",\"type\":\"scatter\"},{\"hovertemplate\":\"\\u003cb\\u003e%{hovertext}\\u003c\\u002fb\\u003e\\u003cbr\\u003e\\u003cbr\\u003eincome_group=Low income\\u003cbr\\u003eGDP Per Capita=%{x}\\u003cbr\\u003eGross Savings (%)=%{y}\\u003cextra\\u003e\\u003c\\u002fextra\\u003e\",\"hovertext\":[\"AFG\",\"AFG\",\"AFG\",\"BDI\",\"BDI\",\"BDI\",\"BFA\",\"BFA\",\"BFA\",\"CAF\",\"CAF\",\"CAF\",\"COD\",\"COD\",\"COD\",\"ERI\",\"ERI\",\"ERI\",\"ETH\",\"ETH\",\"ETH\",\"GMB\",\"GMB\",\"GMB\",\"GNB\",\"GNB\",\"GNB\",\"LBR\",\"LBR\",\"LBR\",\"MDG\",\"MDG\",\"MDG\",\"MLI\",\"MLI\",\"MLI\",\"MOZ\",\"MOZ\",\"MOZ\",\"MWI\",\"MWI\",\"MWI\",\"NER\",\"NER\",\"NER\",\"RWA\",\"RWA\",\"RWA\",\"SDN\",\"SDN\",\"SDN\",\"SLE\",\"SLE\",\"SLE\",\"SOM\",\"SOM\",\"SOM\",\"SYR\",\"SYR\",\"SYR\",\"TCD\",\"TCD\",\"TCD\",\"TGO\",\"TGO\",\"TGO\",\"UGA\",\"UGA\",\"UGA\",\"YEM\",\"YEM\",\"YEM\"],\"legendgroup\":\"Low income\",\"marker\":{\"color\":\"#EF553B\",\"symbol\":\"circle\",\"size\":10},\"mode\":\"markers\",\"name\":\"Low income\",\"orientation\":\"v\",\"showlegend\":true,\"x\":[631.49,711.337,580.817,231.549,304.243,253.593,648.365,653.393,790.968,492.078,377.476,489.869,326.681,490.698,540.534,501.424,603.193,588.253,324.285,702.767,994.197,860.639,649.511,790.829,644.344,707.897,789.877,543.365,746.238,646.27,471.959,467.235,501.756,733.666,773.945,897.287,469.47,570.129,449.63,442.765,353.507,406.65,476.062,484.171,565.867,614.796,759.764,818.99,1637.42,1679.07,775.043,401.835,592.903,526.514,null,310.457,326.982,2806.69,null,null,895.354,776.105,653.98,721.036,770.358,904.675,808.713,773.284,912.442,1266.79,1500.69,620.24],\"xaxis\":\"x\",\"y\":[59.699,22.223,27.132,3.688,5.768,6.593,20.194,11.863,20.033,4.218,4.508,10.665,23.572,14.1,6.852,7.167,31.046,17.61,24.415,31.409,26.552,3.757,3.65,12.332,11.965,16.798,14.446,null,null,null,18.079,14.366,8.546,13.306,15.437,16.317,7.111,3.835,5.92,26.25,-3.248,-8.412,18.233,17.019,17.515,6.677,6.175,3.768,17.729,4.491,-7.469,9.548,-10.331,0.815,null,null,null,23.845,null,null,25.871,13.125,16.605,11.998,15.603,17.115,16.245,18.148,18.203,8.25,-4.439,2.362],\"yaxis\":\"y\",\"type\":\"scatter\"},{\"hovertemplate\":\"\\u003cb\\u003e%{hovertext}\\u003c\\u002fb\\u003e\\u003cbr\\u003e\\u003cbr\\u003eincome_group=Lower middle income\\u003cbr\\u003eGDP Per Capita=%{x}\\u003cbr\\u003eGross Savings (%)=%{y}\\u003cextra\\u003e\\u003c\\u002fextra\\u003e\",\"hovertext\":[\"AGO\",\"AGO\",\"AGO\",\"BEN\",\"BEN\",\"BEN\",\"BGD\",\"BGD\",\"BGD\",\"BOL\",\"BOL\",\"BOL\",\"BTN\",\"BTN\",\"BTN\",\"CIV\",\"CIV\",\"CIV\",\"CMR\",\"CMR\",\"CMR\",\"COG\",\"COG\",\"COG\",\"COM\",\"COM\",\"COM\",\"CPV\",\"CPV\",\"CPV\",\"DJI\",\"DJI\",\"DJI\",\"DZA\",\"DZA\",\"DZA\",\"EGY\",\"EGY\",\"EGY\",\"FSM\",\"FSM\",\"FSM\",\"GHA\",\"GHA\",\"GHA\",\"GIN\",\"GIN\",\"GIN\",\"HND\",\"HND\",\"HND\",\"HTI\",\"HTI\",\"HTI\",\"IND\",\"IND\",\"IND\",\"IRN\",\"IRN\",\"IRN\",\"JOR\",\"JOR\",\"JOR\",\"KEN\",\"KEN\",\"KEN\",\"KGZ\",\"KGZ\",\"KGZ\",\"KHM\",\"KHM\",\"KHM\",\"KIR\",\"KIR\",\"KIR\",\"LAO\",\"LAO\",\"LAO\",\"LBN\",\"LBN\",\"LBN\",\"LKA\",\"LKA\",\"LKA\",\"LSO\",\"LSO\",\"LSO\",\"MAR\",\"MAR\",\"MAR\",\"MMR\",\"MMR\",\"MMR\",\"MNG\",\"MNG\",\"MNG\",\"MRT\",\"MRT\",\"MRT\",\"NGA\",\"NGA\",\"NGA\",\"NIC\",\"NIC\",\"NIC\",\"NPL\",\"NPL\",\"NPL\",\"PAK\",\"PAK\",\"PAK\",\"PHL\",\"PHL\",\"PHL\",\"PNG\",\"PNG\",\"PNG\",\"SEN\",\"SEN\",\"SEN\",\"SLB\",\"SLB\",\"SLB\",\"STP\",\"STP\",\"STP\",\"SWZ\",\"SWZ\",\"SWZ\",\"TJK\",\"TJK\",\"TJK\",\"TUN\",\"TUN\",\"TUN\",\"TZA\",\"TZA\",\"TZA\",\"UKR\",\"UKR\",\"UKR\",\"UZB\",\"UZB\",\"UZB\",\"VNM\",\"VNM\",\"VNM\",\"VUT\",\"VUT\",\"VUT\",\"WSM\",\"WSM\",\"WSM\",\"ZMB\",\"ZMB\",\"ZMB\",\"ZWE\",\"ZWE\",\"ZWE\"],\"legendgroup\":\"Lower middle income\",\"marker\":{\"color\":\"#00cc96\",\"symbol\":\"circle\",\"size\":10},\"mode\":\"markers\",\"name\":\"Lower middle income\",\"orientation\":\"v\",\"showlegend\":true,\"x\":[3641.44,4354.92,2012.15,1037.38,1076.91,1250.87,781.154,1248.89,1998.43,1994.91,3050.65,3359.73,2097.66,2693.63,3358.96,1650.96,1932.22,2277.72,1287.57,1327.64,1469.91,3597.96,2873.72,2185.58,1322.64,1231.14,1361.86,3312.04,2996.36,3147.69,1833.85,2532.6,3074.39,4480.72,4153.32,3262.58,2922.8,3731.18,3586.97,2887.35,3050.72,3899.48,1745.56,1753.85,2222.91,630.549,712.047,1106.47,1891.16,2302.04,2382.88,1171.39,1388.96,1252.87,1384.17,1605.61,1964.88,6564.06,4844.5,7554.77,3777.82,4218.83,4259.26,1036.26,1483.48,2039.05,884.846,1132.84,1146.39,788.19,1203.48,1655.39,1518.57,1556.5,1687.51,1200.87,2130.63,2625.53,7761.64,7644.55,2802.14,2799.96,3841.52,3678.73,1222.2,1106.83,1002.98,2896.56,2964.96,3158.32,774.72,1223.74,1527.44,2602.37,3842.54,3916.09,1715.92,1668.07,1971.45,2328.43,2718.59,2083.16,1506.07,2036.93,1869.71,677.187,901.75,1195.59,1029.17,1422.92,1260.01,2237.16,3039.23,3330.36,2132.19,2742.92,2684.77,1272.62,1219.37,1459.51,1608.46,2231.83,2392.24,1128.31,1623.81,1918.01,4263.91,3765.92,3504.45,738.287,919.073,843.974,4140.47,3829.5,3322.93,732.315,947.897,1090.39,2982.81,2124.62,3653.11,1667.27,2621.98,1701.94,1628.52,2582.39,3498.98,2719.25,2771.66,2875.95,3566.51,4073.68,3960.61,1456.05,1310.46,981.311,975.851,1425.01,1385.04],\"xaxis\":\"x\",\"y\":[34.833,28.491,22.399,10.041,14.768,23.638,29.443,29.02,26.256,24.969,14.216,11.733,33.899,25.815,14.445,11.072,22.53,18.185,25.514,23.888,21.894,54.044,39.315,17.652,17.919,13.501,17.599,35.22,35.386,22.721,17.162,29.727,32.394,48.936,34.326,35.203,19.421,10.632,10.735,null,null,null,44.693,21.34,19.928,-0.936,-5.693,4.133,16.768,20.447,17.29,24.538,12.406,21.218,33.701,31.067,29.427,45.625,36.89,41.963,22.575,11.8,10.727,14.809,14.568,8.017,20.439,18.433,11.072,8.616,13.714,9.495,null,null,null,null,null,null,2.303,-0.315,-6.08,28.458,28.845,24.589,20.145,25.993,9.283,29.7,28.661,26.854,25.773,30.079,28.831,29.763,18.34,20.169,32.01,21.73,30.69,20.843,12.355,21.45,15.965,23.603,24.299,31.411,35.659,30.383,13.572,14.665,14.276,23.887,23.712,20.625,null,null,null,16.565,20.118,20.044,-5.783,13.068,6.802,33.101,20.101,-0.352,5.734,25.485,19.897,7.664,12.105,17.189,20.029,10.3,0.971,24.066,25.457,33.185,18.654,17.663,10.936,28.083,25.376,31.561,32.352,26.444,28.603,null,null,null,null,null,null,37.405,40.103,36.03,null,null,null],\"yaxis\":\"y\",\"type\":\"scatter\"},{\"hovertemplate\":\"\\u003cb\\u003e%{hovertext}\\u003c\\u002fb\\u003e\\u003cbr\\u003e\\u003cbr\\u003eincome_group=Upper middle income\\u003cbr\\u003eGDP Per Capita=%{x}\\u003cbr\\u003eGross Savings (%)=%{y}\\u003cextra\\u003e\\u003c\\u002fextra\\u003e\",\"hovertext\":[\"ALB\",\"ALB\",\"ALB\",\"ARG\",\"ARG\",\"ARG\",\"ARM\",\"ARM\",\"ARM\",\"AZE\",\"AZE\",\"AZE\",\"BGR\",\"BGR\",\"BGR\",\"BIH\",\"BIH\",\"BIH\",\"BLR\",\"BLR\",\"BLR\",\"BLZ\",\"BLZ\",\"BLZ\",\"BRA\",\"BRA\",\"BRA\",\"BWA\",\"BWA\",\"BWA\",\"CHN\",\"CHN\",\"CHN\",\"COL\",\"COL\",\"COL\",\"CRI\",\"CRI\",\"CRI\",\"DMA\",\"DMA\",\"DMA\",\"DOM\",\"DOM\",\"DOM\",\"ECU\",\"ECU\",\"ECU\",\"FJI\",\"FJI\",\"FJI\",\"GAB\",\"GAB\",\"GAB\",\"GEO\",\"GEO\",\"GEO\",\"GNQ\",\"GNQ\",\"GNQ\",\"GRD\",\"GRD\",\"GRD\",\"GTM\",\"GTM\",\"GTM\",\"IDN\",\"IDN\",\"IDN\",\"IRQ\",\"IRQ\",\"IRQ\",\"JAM\",\"JAM\",\"JAM\",\"KAZ\",\"KAZ\",\"KAZ\",\"LBY\",\"LBY\",\"LBY\",\"LCA\",\"LCA\",\"LCA\",\"MDA\",\"MDA\",\"MDA\",\"MDV\",\"MDV\",\"MDV\",\"MEX\",\"MEX\",\"MEX\",\"MHL\",\"MHL\",\"MHL\",\"MKD\",\"MKD\",\"MKD\",\"MUS\",\"MUS\",\"MUS\",\"MYS\",\"MYS\",\"MYS\",\"NAM\",\"NAM\",\"NAM\",\"PER\",\"PER\",\"PER\",\"PLW\",\"PLW\",\"PLW\",\"PRY\",\"PRY\",\"PRY\",\"RUS\",\"RUS\",\"RUS\",\"SLV\",\"SLV\",\"SLV\",\"SUR\",\"SUR\",\"SUR\",\"THA\",\"THA\",\"THA\",\"TKM\",\"TKM\",\"TKM\",\"TON\",\"TON\",\"TON\",\"TUR\",\"TUR\",\"TUR\",\"TUV\",\"TUV\",\"TUV\",\"VCT\",\"VCT\",\"VCT\",\"ZAF\",\"ZAF\",\"ZAF\"],\"legendgroup\":\"Upper middle income\",\"marker\":{\"color\":\"#ab63fa\",\"symbol\":\"circle\",\"size\":10},\"mode\":\"markers\",\"name\":\"Upper middle income\",\"orientation\":\"v\",\"showlegend\":true,\"x\":[4097.83,3953.61,5286.68,10412.97,14895.32,8554.64,3121.78,3529.03,4155.27,5880.81,5300.14,4218.0,6713.33,7079.78,9919.3,4633.86,4727.26,5912.98,6023.15,5941.24,6398.87,4265.62,4681.77,3944.94,11333.02,8846.48,6783.05,6374.99,6811.43,6780.72,4499.79,8084.8,10483.88,6295.29,6088.67,5335.59,8268.86,11635.2,11982.28,6980.94,7666.36,6903.76,5688.75,7139.51,7530.19,4633.25,6099.35,5520.36,4004.67,5385.52,4797.32,8933.31,7453.11,7421.18,3222.07,4017.62,4247.94,17153.17,11217.99,6772.73,7258.18,9096.54,9185.56,2836.01,3825.88,4288.75,3178.13,3367.69,3921.62,4473.71,5044.62,4288.77,4894.37,5204.83,5095.64,9005.04,10435.17,8732.64,11417.42,2723.37,3280.83,8968.8,10375.92,9351.36,2428.11,2715.78,4365.85,8086.7,11781.03,9934.09,9299.46,9657.12,8421.19,3030.39,3406.48,4240.1,4576.23,4860.42,5918.11,8000.38,9258.56,8993.48,9046.99,9663.11,10269.86,5410.98,5020.47,4175.18,5055.04,6141.43,6083.87,10044.33,15787.6,14411.66,4326.22,5353.06,4946.46,11431.15,9257.94,10037.24,2983.23,3705.58,3794.31,8224.07,8439.04,3988.45,5073.71,5837.81,7190.37,4439.2,6432.67,7967.3,3569.1,4298.22,5125.12,10533.45,10973.59,8548.18,3034.68,3238.99,4372.4,6224.22,6867.52,7121.64,7311.74,5731.73,5067.15],\"xaxis\":\"x\",\"y\":[20.023,15.804,13.255,17.323,14.328,17.798,15.797,18.506,12.661,44.139,27.348,15.845,20.925,21.169,19.52,9.914,12.844,18.449,26.186,25.784,27.61,9.617,11.873,6.83,18.224,14.385,14.536,37.536,39.538,25.775,50.909,45.77,45.669,18.81,17.197,15.488,16.61,15.45,13.257,2.462,11.451,-6.668,18.918,21.645,22.376,25.762,24.633,21.278,null,null,null,41.009,29.246,24.591,10.758,14.502,14.923,17.812,8.266,5.382,null,5.226,6.335,12.632,13.584,17.63,33.582,32.028,31.92,23.736,18.568,1.899,13.418,18.112,18.64,26.309,24.648,26.833,null,null,null,null,18.136,7.589,16.7,17.604,20.301,12.678,12.513,-4.42,22.336,20.663,21.799,null,null,null,22.443,28.45,26.164,14.723,16.807,12.571,33.597,28.411,24.068,20.691,17.087,16.428,22.028,18.704,19.292,null,null,null,23.982,20.447,24.038,24.79,27.144,25.625,13.783,12.801,15.661,52.436,54.004,32.116,28.724,29.274,27.151,null,null,null,null,null,null,21.771,25.218,26.665,null,null,null,null,9.997,12.724,18.012,16.3,14.602],\"yaxis\":\"y\",\"type\":\"scatter\"},{\"hovertemplate\":\"\\u003cb\\u003e%{hovertext}\\u003c\\u002fb\\u003e\\u003cbr\\u003e\\u003cbr\\u003eincome_group=Not classified\\u003cbr\\u003eGDP Per Capita=%{x}\\u003cbr\\u003eGross Savings (%)=%{y}\\u003cextra\\u003e\\u003c\\u002fextra\\u003e\",\"hovertext\":[\"VEN\",\"VEN\",\"VEN\"],\"legendgroup\":\"Not classified\",\"marker\":{\"color\":\"#FFA15A\",\"symbol\":\"circle\",\"size\":10},\"mode\":\"markers\",\"name\":\"Not classified\",\"orientation\":\"v\",\"showlegend\":true,\"x\":[11158.18,10568.1,1690.66],\"xaxis\":\"x\",\"y\":[31.591,2.352,null],\"yaxis\":\"y\",\"type\":\"scatter\"}],                        {\"template\":{\"data\":{\"histogram2dcontour\":[{\"type\":\"histogram2dcontour\",\"colorbar\":{\"outlinewidth\":0,\"ticks\":\"\"},\"colorscale\":[[0.0,\"#0d0887\"],[0.1111111111111111,\"#46039f\"],[0.2222222222222222,\"#7201a8\"],[0.3333333333333333,\"#9c179e\"],[0.4444444444444444,\"#bd3786\"],[0.5555555555555556,\"#d8576b\"],[0.6666666666666666,\"#ed7953\"],[0.7777777777777778,\"#fb9f3a\"],[0.8888888888888888,\"#fdca26\"],[1.0,\"#f0f921\"]]}],\"choropleth\":[{\"type\":\"choropleth\",\"colorbar\":{\"outlinewidth\":0,\"ticks\":\"\"}}],\"histogram2d\":[{\"type\":\"histogram2d\",\"colorbar\":{\"outlinewidth\":0,\"ticks\":\"\"},\"colorscale\":[[0.0,\"#0d0887\"],[0.1111111111111111,\"#46039f\"],[0.2222222222222222,\"#7201a8\"],[0.3333333333333333,\"#9c179e\"],[0.4444444444444444,\"#bd3786\"],[0.5555555555555556,\"#d8576b\"],[0.6666666666666666,\"#ed7953\"],[0.7777777777777778,\"#fb9f3a\"],[0.8888888888888888,\"#fdca26\"],[1.0,\"#f0f921\"]]}],\"heatmap\":[{\"type\":\"heatmap\",\"colorbar\":{\"outlinewidth\":0,\"ticks\":\"\"},\"colorscale\":[[0.0,\"#0d0887\"],[0.1111111111111111,\"#46039f\"],[0.2222222222222222,\"#7201a8\"],[0.3333333333333333,\"#9c179e\"],[0.4444444444444444,\"#bd3786\"],[0.5555555555555556,\"#d8576b\"],[0.6666666666666666,\"#ed7953\"],[0.7777777777777778,\"#fb9f3a\"],[0.8888888888888888,\"#fdca26\"],[1.0,\"#f0f921\"]]}],\"heatmapgl\":[{\"type\":\"heatmapgl\",\"colorbar\":{\"outlinewidth\":0,\"ticks\":\"\"},\"colorscale\":[[0.0,\"#0d0887\"],[0.1111111111111111,\"#46039f\"],[0.2222222222222222,\"#7201a8\"],[0.3333333333333333,\"#9c179e\"],[0.4444444444444444,\"#bd3786\"],[0.5555555555555556,\"#d8576b\"],[0.6666666666666666,\"#ed7953\"],[0.7777777777777778,\"#fb9f3a\"],[0.8888888888888888,\"#fdca26\"],[1.0,\"#f0f921\"]]}],\"contourcarpet\":[{\"type\":\"contourcarpet\",\"colorbar\":{\"outlinewidth\":0,\"ticks\":\"\"}}],\"contour\":[{\"type\":\"contour\",\"colorbar\":{\"outlinewidth\":0,\"ticks\":\"\"},\"colorscale\":[[0.0,\"#0d0887\"],[0.1111111111111111,\"#46039f\"],[0.2222222222222222,\"#7201a8\"],[0.3333333333333333,\"#9c179e\"],[0.4444444444444444,\"#bd3786\"],[0.5555555555555556,\"#d8576b\"],[0.6666666666666666,\"#ed7953\"],[0.7777777777777778,\"#fb9f3a\"],[0.8888888888888888,\"#fdca26\"],[1.0,\"#f0f921\"]]}],\"surface\":[{\"type\":\"surface\",\"colorbar\":{\"outlinewidth\":0,\"ticks\":\"\"},\"colorscale\":[[0.0,\"#0d0887\"],[0.1111111111111111,\"#46039f\"],[0.2222222222222222,\"#7201a8\"],[0.3333333333333333,\"#9c179e\"],[0.4444444444444444,\"#bd3786\"],[0.5555555555555556,\"#d8576b\"],[0.6666666666666666,\"#ed7953\"],[0.7777777777777778,\"#fb9f3a\"],[0.8888888888888888,\"#fdca26\"],[1.0,\"#f0f921\"]]}],\"mesh3d\":[{\"type\":\"mesh3d\",\"colorbar\":{\"outlinewidth\":0,\"ticks\":\"\"}}],\"scatter\":[{\"fillpattern\":{\"fillmode\":\"overlay\",\"size\":10,\"solidity\":0.2},\"type\":\"scatter\"}],\"parcoords\":[{\"type\":\"parcoords\",\"line\":{\"colorbar\":{\"outlinewidth\":0,\"ticks\":\"\"}}}],\"scatterpolargl\":[{\"type\":\"scatterpolargl\",\"marker\":{\"colorbar\":{\"outlinewidth\":0,\"ticks\":\"\"}}}],\"bar\":[{\"error_x\":{\"color\":\"#2a3f5f\"},\"error_y\":{\"color\":\"#2a3f5f\"},\"marker\":{\"line\":{\"color\":\"#E5ECF6\",\"width\":0.5},\"pattern\":{\"fillmode\":\"overlay\",\"size\":10,\"solidity\":0.2}},\"type\":\"bar\"}],\"scattergeo\":[{\"type\":\"scattergeo\",\"marker\":{\"colorbar\":{\"outlinewidth\":0,\"ticks\":\"\"}}}],\"scatterpolar\":[{\"type\":\"scatterpolar\",\"marker\":{\"colorbar\":{\"outlinewidth\":0,\"ticks\":\"\"}}}],\"histogram\":[{\"marker\":{\"pattern\":{\"fillmode\":\"overlay\",\"size\":10,\"solidity\":0.2}},\"type\":\"histogram\"}],\"scattergl\":[{\"type\":\"scattergl\",\"marker\":{\"colorbar\":{\"outlinewidth\":0,\"ticks\":\"\"}}}],\"scatter3d\":[{\"type\":\"scatter3d\",\"line\":{\"colorbar\":{\"outlinewidth\":0,\"ticks\":\"\"}},\"marker\":{\"colorbar\":{\"outlinewidth\":0,\"ticks\":\"\"}}}],\"scattermapbox\":[{\"type\":\"scattermapbox\",\"marker\":{\"colorbar\":{\"outlinewidth\":0,\"ticks\":\"\"}}}],\"scatterternary\":[{\"type\":\"scatterternary\",\"marker\":{\"colorbar\":{\"outlinewidth\":0,\"ticks\":\"\"}}}],\"scattercarpet\":[{\"type\":\"scattercarpet\",\"marker\":{\"colorbar\":{\"outlinewidth\":0,\"ticks\":\"\"}}}],\"carpet\":[{\"aaxis\":{\"endlinecolor\":\"#2a3f5f\",\"gridcolor\":\"white\",\"linecolor\":\"white\",\"minorgridcolor\":\"white\",\"startlinecolor\":\"#2a3f5f\"},\"baxis\":{\"endlinecolor\":\"#2a3f5f\",\"gridcolor\":\"white\",\"linecolor\":\"white\",\"minorgridcolor\":\"white\",\"startlinecolor\":\"#2a3f5f\"},\"type\":\"carpet\"}],\"table\":[{\"cells\":{\"fill\":{\"color\":\"#EBF0F8\"},\"line\":{\"color\":\"white\"}},\"header\":{\"fill\":{\"color\":\"#C8D4E3\"},\"line\":{\"color\":\"white\"}},\"type\":\"table\"}],\"barpolar\":[{\"marker\":{\"line\":{\"color\":\"#E5ECF6\",\"width\":0.5},\"pattern\":{\"fillmode\":\"overlay\",\"size\":10,\"solidity\":0.2}},\"type\":\"barpolar\"}],\"pie\":[{\"automargin\":true,\"type\":\"pie\"}]},\"layout\":{\"autotypenumbers\":\"strict\",\"colorway\":[\"#636efa\",\"#EF553B\",\"#00cc96\",\"#ab63fa\",\"#FFA15A\",\"#19d3f3\",\"#FF6692\",\"#B6E880\",\"#FF97FF\",\"#FECB52\"],\"font\":{\"color\":\"#2a3f5f\"},\"hovermode\":\"closest\",\"hoverlabel\":{\"align\":\"left\"},\"paper_bgcolor\":\"white\",\"plot_bgcolor\":\"#E5ECF6\",\"polar\":{\"bgcolor\":\"#E5ECF6\",\"angularaxis\":{\"gridcolor\":\"white\",\"linecolor\":\"white\",\"ticks\":\"\"},\"radialaxis\":{\"gridcolor\":\"white\",\"linecolor\":\"white\",\"ticks\":\"\"}},\"ternary\":{\"bgcolor\":\"#E5ECF6\",\"aaxis\":{\"gridcolor\":\"white\",\"linecolor\":\"white\",\"ticks\":\"\"},\"baxis\":{\"gridcolor\":\"white\",\"linecolor\":\"white\",\"ticks\":\"\"},\"caxis\":{\"gridcolor\":\"white\",\"linecolor\":\"white\",\"ticks\":\"\"}},\"coloraxis\":{\"colorbar\":{\"outlinewidth\":0,\"ticks\":\"\"}},\"colorscale\":{\"sequential\":[[0.0,\"#0d0887\"],[0.1111111111111111,\"#46039f\"],[0.2222222222222222,\"#7201a8\"],[0.3333333333333333,\"#9c179e\"],[0.4444444444444444,\"#bd3786\"],[0.5555555555555556,\"#d8576b\"],[0.6666666666666666,\"#ed7953\"],[0.7777777777777778,\"#fb9f3a\"],[0.8888888888888888,\"#fdca26\"],[1.0,\"#f0f921\"]],\"sequentialminus\":[[0.0,\"#0d0887\"],[0.1111111111111111,\"#46039f\"],[0.2222222222222222,\"#7201a8\"],[0.3333333333333333,\"#9c179e\"],[0.4444444444444444,\"#bd3786\"],[0.5555555555555556,\"#d8576b\"],[0.6666666666666666,\"#ed7953\"],[0.7777777777777778,\"#fb9f3a\"],[0.8888888888888888,\"#fdca26\"],[1.0,\"#f0f921\"]],\"diverging\":[[0,\"#8e0152\"],[0.1,\"#c51b7d\"],[0.2,\"#de77ae\"],[0.3,\"#f1b6da\"],[0.4,\"#fde0ef\"],[0.5,\"#f7f7f7\"],[0.6,\"#e6f5d0\"],[0.7,\"#b8e186\"],[0.8,\"#7fbc41\"],[0.9,\"#4d9221\"],[1,\"#276419\"]]},\"xaxis\":{\"gridcolor\":\"white\",\"linecolor\":\"white\",\"ticks\":\"\",\"title\":{\"standoff\":15},\"zerolinecolor\":\"white\",\"automargin\":true,\"zerolinewidth\":2},\"yaxis\":{\"gridcolor\":\"white\",\"linecolor\":\"white\",\"ticks\":\"\",\"title\":{\"standoff\":15},\"zerolinecolor\":\"white\",\"automargin\":true,\"zerolinewidth\":2},\"scene\":{\"xaxis\":{\"backgroundcolor\":\"#E5ECF6\",\"gridcolor\":\"white\",\"linecolor\":\"white\",\"showbackground\":true,\"ticks\":\"\",\"zerolinecolor\":\"white\",\"gridwidth\":2},\"yaxis\":{\"backgroundcolor\":\"#E5ECF6\",\"gridcolor\":\"white\",\"linecolor\":\"white\",\"showbackground\":true,\"ticks\":\"\",\"zerolinecolor\":\"white\",\"gridwidth\":2},\"zaxis\":{\"backgroundcolor\":\"#E5ECF6\",\"gridcolor\":\"white\",\"linecolor\":\"white\",\"showbackground\":true,\"ticks\":\"\",\"zerolinecolor\":\"white\",\"gridwidth\":2}},\"shapedefaults\":{\"line\":{\"color\":\"#2a3f5f\"}},\"annotationdefaults\":{\"arrowcolor\":\"#2a3f5f\",\"arrowhead\":0,\"arrowwidth\":1},\"geo\":{\"bgcolor\":\"white\",\"landcolor\":\"#E5ECF6\",\"subunitcolor\":\"white\",\"showland\":true,\"showlakes\":true,\"lakecolor\":\"white\"},\"title\":{\"x\":0.05},\"mapbox\":{\"style\":\"light\"}}},\"xaxis\":{\"anchor\":\"y\",\"domain\":[0.0,1.0],\"title\":{\"text\":\"GDP Per Capita\"}},\"yaxis\":{\"anchor\":\"x\",\"domain\":[0.0,1.0],\"title\":{\"text\":\"Gross Savings (%)\"}},\"legend\":{\"title\":{\"text\":\"income_group\"},\"tracegroupgap\":0},\"title\":{\"text\":\"GDP Per Capita vs. Gross Savings\"},\"hovermode\":\"closest\"},                        {\"responsive\": true}                    ).then(function(){\n",
       "                            \n",
       "var gd = document.getElementById('2e36f71b-e3fb-4b17-860f-28ff8ef81511');\n",
       "var x = new MutationObserver(function (mutations, observer) {{\n",
       "        var display = window.getComputedStyle(gd).display;\n",
       "        if (!display || display === 'none') {{\n",
       "            console.log([gd, 'removed!']);\n",
       "            Plotly.purge(gd);\n",
       "            observer.disconnect();\n",
       "        }}\n",
       "}});\n",
       "\n",
       "// Listen for the removal of the full notebook cells\n",
       "var notebookContainer = gd.closest('#notebook-container');\n",
       "if (notebookContainer) {{\n",
       "    x.observe(notebookContainer, {childList: true});\n",
       "}}\n",
       "\n",
       "// Listen for the clearing of the current output cell\n",
       "var outputEl = gd.closest('.output');\n",
       "if (outputEl) {{\n",
       "    x.observe(outputEl, {childList: true});\n",
       "}}\n",
       "\n",
       "                        })                };                });            </script>        </div>"
      ]
     },
     "metadata": {},
     "output_type": "display_data"
    }
   ],
   "source": [
    "# Create an interactive scatter plot\n",
    "fig = px.scatter(economies, x='gdp_percapita', y='gross_savings',\n",
    "                 color='income_group', \n",
    "                 hover_name='code',\n",
    "                 title=\"GDP Per Capita vs. Gross Savings\",\n",
    "                 labels={'gdp_percapita': 'GDP Per Capita',\n",
    "                         'gross_savings': 'Gross Savings (%)'})\n",
    "\n",
    "# Add hover, zoom, and selection tools\n",
    "fig.update_traces(marker=dict(size=10), selector=dict(mode='markers'))\n",
    "fig.update_layout(hovermode='closest')\n",
    "fig.show()"
   ]
  },
  {
   "cell_type": "markdown",
   "metadata": {},
   "source": [
    "### Designing a simple dashboard"
   ]
  },
  {
   "cell_type": "code",
   "execution_count": 64,
   "metadata": {},
   "outputs": [
    {
     "data": {
      "application/vnd.plotly.v1+json": {
       "config": {
        "plotlyServerURL": "https://plot.ly"
       },
       "data": [
        {
         "mode": "lines+markers",
         "name": "Jamaica",
         "type": "scatter",
         "x": [
          2010,
          2015,
          2020
         ],
         "xaxis": "x",
         "y": [
          4894.37,
          5204.83,
          5095.64
         ],
         "yaxis": "y"
        },
        {
         "name": "2020",
         "type": "bar",
         "x": [
          "ABW",
          "AFG",
          "AGO",
          "ALB",
          "ARE",
          "ARG",
          "ARM",
          "ATG",
          "AUS",
          "AUT",
          "AZE",
          "BDI",
          "BEL",
          "BEN",
          "BFA",
          "BGD",
          "BGR",
          "BHR",
          "BHS",
          "BIH",
          "BLR",
          "BLZ",
          "BOL",
          "BRA",
          "BRB",
          "BRN",
          "BTN",
          "BWA",
          "CAF",
          "CAN",
          "CHE",
          "CHL",
          "CHN",
          "CIV",
          "CMR",
          "COD",
          "COG",
          "COL",
          "COM",
          "CPV",
          "CRI",
          "CYP",
          "CZE",
          "DEU",
          "DJI",
          "DMA",
          "DNK",
          "DOM",
          "DZA",
          "ECU",
          "EGY",
          "ERI",
          "ESP",
          "EST",
          "ETH",
          "FIN",
          "FJI",
          "FRA",
          "FSM",
          "GAB",
          "GBR",
          "GEO",
          "GHA",
          "GIN",
          "GMB",
          "GNB",
          "GNQ",
          "GRC",
          "GRD",
          "GTM",
          "GUY",
          "HKG",
          "HND",
          "HRV",
          "HTI",
          "HUN",
          "IDN",
          "IND",
          "IRL",
          "IRN",
          "IRQ",
          "ISL",
          "ISR",
          "ITA",
          "JAM",
          "JOR",
          "JPN",
          "KAZ",
          "KEN",
          "KGZ",
          "KHM",
          "KIR",
          "KNA",
          "KOR",
          "KWT",
          "LAO",
          "LBN",
          "LBR",
          "LBY",
          "LCA",
          "LKA",
          "LSO",
          "LTU",
          "LUX",
          "LVA",
          "MAC",
          "MAR",
          "MDA",
          "MDG",
          "MDV",
          "MEX",
          "MHL",
          "MKD",
          "MLI",
          "MLT",
          "MMR",
          "MNG",
          "MOZ",
          "MRT",
          "MUS",
          "MWI",
          "MYS",
          "NAM",
          "NER",
          "NGA",
          "NIC",
          "NLD",
          "NOR",
          "NPL",
          "NRU",
          "NZL",
          "OMN",
          "PAK",
          "PAN",
          "PER",
          "PHL",
          "PLW",
          "PNG",
          "POL",
          "PRI",
          "PRT",
          "PRY",
          "QAT",
          "RUS",
          "RWA",
          "SAU",
          "SDN",
          "SEN",
          "SGP",
          "SLB",
          "SLE",
          "SLV",
          "SMR",
          "SOM",
          "STP",
          "SUR",
          "SVK",
          "SVN",
          "SWE",
          "SWZ",
          "SYC",
          "SYR",
          "TCD",
          "TGO",
          "THA",
          "TJK",
          "TKM",
          "TON",
          "TTO",
          "TUN",
          "TUR",
          "TUV",
          "TZA",
          "UGA",
          "UKR",
          "URY",
          "USA",
          "UZB",
          "VCT",
          "VEN",
          "VNM",
          "VUT",
          "WSM",
          "YEM",
          "ZAF",
          "ZMB",
          "ZWE"
         ],
         "xaxis": "x2",
         "y": [
          21832.92,
          580.817,
          2012.15,
          5286.68,
          31982.23,
          8554.64,
          4155.27,
          14168.26,
          52824.82,
          48154.38,
          4218,
          253.593,
          44529.39,
          1250.87,
          790.968,
          1998.43,
          9919.3,
          22402,
          29220.54,
          5912.98,
          6398.87,
          3944.94,
          3359.73,
          6783.05,
          15162.57,
          26089.28,
          3358.96,
          6780.72,
          489.869,
          43278.22,
          86849.47,
          12989.6,
          10483.88,
          2277.72,
          1469.91,
          540.534,
          2185.58,
          5335.59,
          1361.86,
          3147.69,
          11982.28,
          27053.8,
          22578.83,
          45732.8,
          3074.39,
          6903.76,
          60494.2,
          7530.19,
          3262.58,
          5520.36,
          3586.97,
          588.253,
          27132.32,
          23330.09,
          994.197,
          48981.44,
          4797.32,
          39907.14,
          3899.48,
          7421.18,
          40406.28,
          4247.94,
          2222.91,
          1106.47,
          790.829,
          789.877,
          6772.73,
          17670.29,
          9185.56,
          4288.75,
          7327.17,
          46753.46,
          2382.88,
          14072.08,
          1252.87,
          15820.1,
          3921.62,
          1964.88,
          83849.81,
          7554.77,
          4288.77,
          59633.72,
          43688.58,
          31288.02,
          5095.64,
          4259.26,
          40146.07,
          8732.64,
          2039.05,
          1146.39,
          1655.39,
          1687.51,
          14918.75,
          31496.77,
          22105.09,
          2625.53,
          2802.14,
          646.27,
          3280.83,
          9351.36,
          3678.73,
          1002.98,
          19916.5,
          116921.11,
          17559.86,
          36350.16,
          3158.32,
          4365.85,
          501.756,
          9934.09,
          8421.19,
          4240.1,
          5918.11,
          897.287,
          28293.63,
          1527.44,
          3916.09,
          449.63,
          1971.45,
          8993.48,
          406.65,
          10269.86,
          4175.18,
          565.867,
          2083.16,
          1869.71,
          52247.54,
          67176.43,
          1195.59,
          8866.87,
          41127.16,
          14215.58,
          1260.01,
          12373.05,
          6083.87,
          3330.36,
          14411.66,
          2684.77,
          15653.56,
          30317.39,
          22488.62,
          4946.46,
          52144.16,
          10037.24,
          818.99,
          20178.23,
          775.043,
          1459.51,
          58902.22,
          2392.24,
          526.514,
          3794.31,
          44818.19,
          326.982,
          1918.01,
          3988.45,
          19071.2,
          25210.72,
          51796.38,
          3504.45,
          11638.72,
          null,
          653.98,
          904.675,
          7190.37,
          843.974,
          7967.3,
          5125.12,
          15384.13,
          3322.93,
          8548.18,
          4372.4,
          1090.39,
          912.442,
          3653.11,
          15777.96,
          63415.99,
          1701.94,
          7121.64,
          1690.66,
          3498.98,
          2875.95,
          3960.61,
          620.24,
          5067.15,
          981.311,
          1385.04
         ],
         "yaxis": "y2"
        }
       ],
       "layout": {
        "annotations": [
         {
          "font": {
           "size": 16
          },
          "showarrow": false,
          "text": "GDP Per Capita Over Years for Jamaica",
          "x": 0.225,
          "xanchor": "center",
          "xref": "paper",
          "y": 1,
          "yanchor": "bottom",
          "yref": "paper"
         },
         {
          "font": {
           "size": 16
          },
          "showarrow": false,
          "text": "GDP Per Capita for Different Countries in 2020",
          "x": 0.775,
          "xanchor": "center",
          "xref": "paper",
          "y": 1,
          "yanchor": "bottom",
          "yref": "paper"
         }
        ],
        "showlegend": false,
        "template": {
         "data": {
          "bar": [
           {
            "error_x": {
             "color": "#2a3f5f"
            },
            "error_y": {
             "color": "#2a3f5f"
            },
            "marker": {
             "line": {
              "color": "#E5ECF6",
              "width": 0.5
             },
             "pattern": {
              "fillmode": "overlay",
              "size": 10,
              "solidity": 0.2
             }
            },
            "type": "bar"
           }
          ],
          "barpolar": [
           {
            "marker": {
             "line": {
              "color": "#E5ECF6",
              "width": 0.5
             },
             "pattern": {
              "fillmode": "overlay",
              "size": 10,
              "solidity": 0.2
             }
            },
            "type": "barpolar"
           }
          ],
          "carpet": [
           {
            "aaxis": {
             "endlinecolor": "#2a3f5f",
             "gridcolor": "white",
             "linecolor": "white",
             "minorgridcolor": "white",
             "startlinecolor": "#2a3f5f"
            },
            "baxis": {
             "endlinecolor": "#2a3f5f",
             "gridcolor": "white",
             "linecolor": "white",
             "minorgridcolor": "white",
             "startlinecolor": "#2a3f5f"
            },
            "type": "carpet"
           }
          ],
          "choropleth": [
           {
            "colorbar": {
             "outlinewidth": 0,
             "ticks": ""
            },
            "type": "choropleth"
           }
          ],
          "contour": [
           {
            "colorbar": {
             "outlinewidth": 0,
             "ticks": ""
            },
            "colorscale": [
             [
              0,
              "#0d0887"
             ],
             [
              0.1111111111111111,
              "#46039f"
             ],
             [
              0.2222222222222222,
              "#7201a8"
             ],
             [
              0.3333333333333333,
              "#9c179e"
             ],
             [
              0.4444444444444444,
              "#bd3786"
             ],
             [
              0.5555555555555556,
              "#d8576b"
             ],
             [
              0.6666666666666666,
              "#ed7953"
             ],
             [
              0.7777777777777778,
              "#fb9f3a"
             ],
             [
              0.8888888888888888,
              "#fdca26"
             ],
             [
              1,
              "#f0f921"
             ]
            ],
            "type": "contour"
           }
          ],
          "contourcarpet": [
           {
            "colorbar": {
             "outlinewidth": 0,
             "ticks": ""
            },
            "type": "contourcarpet"
           }
          ],
          "heatmap": [
           {
            "colorbar": {
             "outlinewidth": 0,
             "ticks": ""
            },
            "colorscale": [
             [
              0,
              "#0d0887"
             ],
             [
              0.1111111111111111,
              "#46039f"
             ],
             [
              0.2222222222222222,
              "#7201a8"
             ],
             [
              0.3333333333333333,
              "#9c179e"
             ],
             [
              0.4444444444444444,
              "#bd3786"
             ],
             [
              0.5555555555555556,
              "#d8576b"
             ],
             [
              0.6666666666666666,
              "#ed7953"
             ],
             [
              0.7777777777777778,
              "#fb9f3a"
             ],
             [
              0.8888888888888888,
              "#fdca26"
             ],
             [
              1,
              "#f0f921"
             ]
            ],
            "type": "heatmap"
           }
          ],
          "heatmapgl": [
           {
            "colorbar": {
             "outlinewidth": 0,
             "ticks": ""
            },
            "colorscale": [
             [
              0,
              "#0d0887"
             ],
             [
              0.1111111111111111,
              "#46039f"
             ],
             [
              0.2222222222222222,
              "#7201a8"
             ],
             [
              0.3333333333333333,
              "#9c179e"
             ],
             [
              0.4444444444444444,
              "#bd3786"
             ],
             [
              0.5555555555555556,
              "#d8576b"
             ],
             [
              0.6666666666666666,
              "#ed7953"
             ],
             [
              0.7777777777777778,
              "#fb9f3a"
             ],
             [
              0.8888888888888888,
              "#fdca26"
             ],
             [
              1,
              "#f0f921"
             ]
            ],
            "type": "heatmapgl"
           }
          ],
          "histogram": [
           {
            "marker": {
             "pattern": {
              "fillmode": "overlay",
              "size": 10,
              "solidity": 0.2
             }
            },
            "type": "histogram"
           }
          ],
          "histogram2d": [
           {
            "colorbar": {
             "outlinewidth": 0,
             "ticks": ""
            },
            "colorscale": [
             [
              0,
              "#0d0887"
             ],
             [
              0.1111111111111111,
              "#46039f"
             ],
             [
              0.2222222222222222,
              "#7201a8"
             ],
             [
              0.3333333333333333,
              "#9c179e"
             ],
             [
              0.4444444444444444,
              "#bd3786"
             ],
             [
              0.5555555555555556,
              "#d8576b"
             ],
             [
              0.6666666666666666,
              "#ed7953"
             ],
             [
              0.7777777777777778,
              "#fb9f3a"
             ],
             [
              0.8888888888888888,
              "#fdca26"
             ],
             [
              1,
              "#f0f921"
             ]
            ],
            "type": "histogram2d"
           }
          ],
          "histogram2dcontour": [
           {
            "colorbar": {
             "outlinewidth": 0,
             "ticks": ""
            },
            "colorscale": [
             [
              0,
              "#0d0887"
             ],
             [
              0.1111111111111111,
              "#46039f"
             ],
             [
              0.2222222222222222,
              "#7201a8"
             ],
             [
              0.3333333333333333,
              "#9c179e"
             ],
             [
              0.4444444444444444,
              "#bd3786"
             ],
             [
              0.5555555555555556,
              "#d8576b"
             ],
             [
              0.6666666666666666,
              "#ed7953"
             ],
             [
              0.7777777777777778,
              "#fb9f3a"
             ],
             [
              0.8888888888888888,
              "#fdca26"
             ],
             [
              1,
              "#f0f921"
             ]
            ],
            "type": "histogram2dcontour"
           }
          ],
          "mesh3d": [
           {
            "colorbar": {
             "outlinewidth": 0,
             "ticks": ""
            },
            "type": "mesh3d"
           }
          ],
          "parcoords": [
           {
            "line": {
             "colorbar": {
              "outlinewidth": 0,
              "ticks": ""
             }
            },
            "type": "parcoords"
           }
          ],
          "pie": [
           {
            "automargin": true,
            "type": "pie"
           }
          ],
          "scatter": [
           {
            "fillpattern": {
             "fillmode": "overlay",
             "size": 10,
             "solidity": 0.2
            },
            "type": "scatter"
           }
          ],
          "scatter3d": [
           {
            "line": {
             "colorbar": {
              "outlinewidth": 0,
              "ticks": ""
             }
            },
            "marker": {
             "colorbar": {
              "outlinewidth": 0,
              "ticks": ""
             }
            },
            "type": "scatter3d"
           }
          ],
          "scattercarpet": [
           {
            "marker": {
             "colorbar": {
              "outlinewidth": 0,
              "ticks": ""
             }
            },
            "type": "scattercarpet"
           }
          ],
          "scattergeo": [
           {
            "marker": {
             "colorbar": {
              "outlinewidth": 0,
              "ticks": ""
             }
            },
            "type": "scattergeo"
           }
          ],
          "scattergl": [
           {
            "marker": {
             "colorbar": {
              "outlinewidth": 0,
              "ticks": ""
             }
            },
            "type": "scattergl"
           }
          ],
          "scattermapbox": [
           {
            "marker": {
             "colorbar": {
              "outlinewidth": 0,
              "ticks": ""
             }
            },
            "type": "scattermapbox"
           }
          ],
          "scatterpolar": [
           {
            "marker": {
             "colorbar": {
              "outlinewidth": 0,
              "ticks": ""
             }
            },
            "type": "scatterpolar"
           }
          ],
          "scatterpolargl": [
           {
            "marker": {
             "colorbar": {
              "outlinewidth": 0,
              "ticks": ""
             }
            },
            "type": "scatterpolargl"
           }
          ],
          "scatterternary": [
           {
            "marker": {
             "colorbar": {
              "outlinewidth": 0,
              "ticks": ""
             }
            },
            "type": "scatterternary"
           }
          ],
          "surface": [
           {
            "colorbar": {
             "outlinewidth": 0,
             "ticks": ""
            },
            "colorscale": [
             [
              0,
              "#0d0887"
             ],
             [
              0.1111111111111111,
              "#46039f"
             ],
             [
              0.2222222222222222,
              "#7201a8"
             ],
             [
              0.3333333333333333,
              "#9c179e"
             ],
             [
              0.4444444444444444,
              "#bd3786"
             ],
             [
              0.5555555555555556,
              "#d8576b"
             ],
             [
              0.6666666666666666,
              "#ed7953"
             ],
             [
              0.7777777777777778,
              "#fb9f3a"
             ],
             [
              0.8888888888888888,
              "#fdca26"
             ],
             [
              1,
              "#f0f921"
             ]
            ],
            "type": "surface"
           }
          ],
          "table": [
           {
            "cells": {
             "fill": {
              "color": "#EBF0F8"
             },
             "line": {
              "color": "white"
             }
            },
            "header": {
             "fill": {
              "color": "#C8D4E3"
             },
             "line": {
              "color": "white"
             }
            },
            "type": "table"
           }
          ]
         },
         "layout": {
          "annotationdefaults": {
           "arrowcolor": "#2a3f5f",
           "arrowhead": 0,
           "arrowwidth": 1
          },
          "autotypenumbers": "strict",
          "coloraxis": {
           "colorbar": {
            "outlinewidth": 0,
            "ticks": ""
           }
          },
          "colorscale": {
           "diverging": [
            [
             0,
             "#8e0152"
            ],
            [
             0.1,
             "#c51b7d"
            ],
            [
             0.2,
             "#de77ae"
            ],
            [
             0.3,
             "#f1b6da"
            ],
            [
             0.4,
             "#fde0ef"
            ],
            [
             0.5,
             "#f7f7f7"
            ],
            [
             0.6,
             "#e6f5d0"
            ],
            [
             0.7,
             "#b8e186"
            ],
            [
             0.8,
             "#7fbc41"
            ],
            [
             0.9,
             "#4d9221"
            ],
            [
             1,
             "#276419"
            ]
           ],
           "sequential": [
            [
             0,
             "#0d0887"
            ],
            [
             0.1111111111111111,
             "#46039f"
            ],
            [
             0.2222222222222222,
             "#7201a8"
            ],
            [
             0.3333333333333333,
             "#9c179e"
            ],
            [
             0.4444444444444444,
             "#bd3786"
            ],
            [
             0.5555555555555556,
             "#d8576b"
            ],
            [
             0.6666666666666666,
             "#ed7953"
            ],
            [
             0.7777777777777778,
             "#fb9f3a"
            ],
            [
             0.8888888888888888,
             "#fdca26"
            ],
            [
             1,
             "#f0f921"
            ]
           ],
           "sequentialminus": [
            [
             0,
             "#0d0887"
            ],
            [
             0.1111111111111111,
             "#46039f"
            ],
            [
             0.2222222222222222,
             "#7201a8"
            ],
            [
             0.3333333333333333,
             "#9c179e"
            ],
            [
             0.4444444444444444,
             "#bd3786"
            ],
            [
             0.5555555555555556,
             "#d8576b"
            ],
            [
             0.6666666666666666,
             "#ed7953"
            ],
            [
             0.7777777777777778,
             "#fb9f3a"
            ],
            [
             0.8888888888888888,
             "#fdca26"
            ],
            [
             1,
             "#f0f921"
            ]
           ]
          },
          "colorway": [
           "#636efa",
           "#EF553B",
           "#00cc96",
           "#ab63fa",
           "#FFA15A",
           "#19d3f3",
           "#FF6692",
           "#B6E880",
           "#FF97FF",
           "#FECB52"
          ],
          "font": {
           "color": "#2a3f5f"
          },
          "geo": {
           "bgcolor": "white",
           "lakecolor": "white",
           "landcolor": "#E5ECF6",
           "showlakes": true,
           "showland": true,
           "subunitcolor": "white"
          },
          "hoverlabel": {
           "align": "left"
          },
          "hovermode": "closest",
          "mapbox": {
           "style": "light"
          },
          "paper_bgcolor": "white",
          "plot_bgcolor": "#E5ECF6",
          "polar": {
           "angularaxis": {
            "gridcolor": "white",
            "linecolor": "white",
            "ticks": ""
           },
           "bgcolor": "#E5ECF6",
           "radialaxis": {
            "gridcolor": "white",
            "linecolor": "white",
            "ticks": ""
           }
          },
          "scene": {
           "xaxis": {
            "backgroundcolor": "#E5ECF6",
            "gridcolor": "white",
            "gridwidth": 2,
            "linecolor": "white",
            "showbackground": true,
            "ticks": "",
            "zerolinecolor": "white"
           },
           "yaxis": {
            "backgroundcolor": "#E5ECF6",
            "gridcolor": "white",
            "gridwidth": 2,
            "linecolor": "white",
            "showbackground": true,
            "ticks": "",
            "zerolinecolor": "white"
           },
           "zaxis": {
            "backgroundcolor": "#E5ECF6",
            "gridcolor": "white",
            "gridwidth": 2,
            "linecolor": "white",
            "showbackground": true,
            "ticks": "",
            "zerolinecolor": "white"
           }
          },
          "shapedefaults": {
           "line": {
            "color": "#2a3f5f"
           }
          },
          "ternary": {
           "aaxis": {
            "gridcolor": "white",
            "linecolor": "white",
            "ticks": ""
           },
           "baxis": {
            "gridcolor": "white",
            "linecolor": "white",
            "ticks": ""
           },
           "bgcolor": "#E5ECF6",
           "caxis": {
            "gridcolor": "white",
            "linecolor": "white",
            "ticks": ""
           }
          },
          "title": {
           "x": 0.05
          },
          "xaxis": {
           "automargin": true,
           "gridcolor": "white",
           "linecolor": "white",
           "ticks": "",
           "title": {
            "standoff": 15
           },
           "zerolinecolor": "white",
           "zerolinewidth": 2
          },
          "yaxis": {
           "automargin": true,
           "gridcolor": "white",
           "linecolor": "white",
           "ticks": "",
           "title": {
            "standoff": 15
           },
           "zerolinecolor": "white",
           "zerolinewidth": 2
          }
         }
        },
        "title": {
         "text": "Simple Dashboard with Multiple Charts"
        },
        "xaxis": {
         "anchor": "y",
         "domain": [
          0,
          0.45
         ]
        },
        "xaxis2": {
         "anchor": "y2",
         "domain": [
          0.55,
          1
         ]
        },
        "yaxis": {
         "anchor": "x",
         "domain": [
          0,
          1
         ]
        },
        "yaxis2": {
         "anchor": "x2",
         "domain": [
          0,
          1
         ]
        }
       }
      },
      "text/html": [
       "<div>                            <div id=\"3b931831-fe35-4e55-b4c4-52350bbf58e3\" class=\"plotly-graph-div\" style=\"height:525px; width:100%;\"></div>            <script type=\"text/javascript\">                require([\"plotly\"], function(Plotly) {                    window.PLOTLYENV=window.PLOTLYENV || {};                                    if (document.getElementById(\"3b931831-fe35-4e55-b4c4-52350bbf58e3\")) {                    Plotly.newPlot(                        \"3b931831-fe35-4e55-b4c4-52350bbf58e3\",                        [{\"mode\":\"lines+markers\",\"name\":\"Jamaica\",\"x\":[2010,2015,2020],\"y\":[4894.37,5204.83,5095.64],\"type\":\"scatter\",\"xaxis\":\"x\",\"yaxis\":\"y\"},{\"name\":\"2020\",\"x\":[\"ABW\",\"AFG\",\"AGO\",\"ALB\",\"ARE\",\"ARG\",\"ARM\",\"ATG\",\"AUS\",\"AUT\",\"AZE\",\"BDI\",\"BEL\",\"BEN\",\"BFA\",\"BGD\",\"BGR\",\"BHR\",\"BHS\",\"BIH\",\"BLR\",\"BLZ\",\"BOL\",\"BRA\",\"BRB\",\"BRN\",\"BTN\",\"BWA\",\"CAF\",\"CAN\",\"CHE\",\"CHL\",\"CHN\",\"CIV\",\"CMR\",\"COD\",\"COG\",\"COL\",\"COM\",\"CPV\",\"CRI\",\"CYP\",\"CZE\",\"DEU\",\"DJI\",\"DMA\",\"DNK\",\"DOM\",\"DZA\",\"ECU\",\"EGY\",\"ERI\",\"ESP\",\"EST\",\"ETH\",\"FIN\",\"FJI\",\"FRA\",\"FSM\",\"GAB\",\"GBR\",\"GEO\",\"GHA\",\"GIN\",\"GMB\",\"GNB\",\"GNQ\",\"GRC\",\"GRD\",\"GTM\",\"GUY\",\"HKG\",\"HND\",\"HRV\",\"HTI\",\"HUN\",\"IDN\",\"IND\",\"IRL\",\"IRN\",\"IRQ\",\"ISL\",\"ISR\",\"ITA\",\"JAM\",\"JOR\",\"JPN\",\"KAZ\",\"KEN\",\"KGZ\",\"KHM\",\"KIR\",\"KNA\",\"KOR\",\"KWT\",\"LAO\",\"LBN\",\"LBR\",\"LBY\",\"LCA\",\"LKA\",\"LSO\",\"LTU\",\"LUX\",\"LVA\",\"MAC\",\"MAR\",\"MDA\",\"MDG\",\"MDV\",\"MEX\",\"MHL\",\"MKD\",\"MLI\",\"MLT\",\"MMR\",\"MNG\",\"MOZ\",\"MRT\",\"MUS\",\"MWI\",\"MYS\",\"NAM\",\"NER\",\"NGA\",\"NIC\",\"NLD\",\"NOR\",\"NPL\",\"NRU\",\"NZL\",\"OMN\",\"PAK\",\"PAN\",\"PER\",\"PHL\",\"PLW\",\"PNG\",\"POL\",\"PRI\",\"PRT\",\"PRY\",\"QAT\",\"RUS\",\"RWA\",\"SAU\",\"SDN\",\"SEN\",\"SGP\",\"SLB\",\"SLE\",\"SLV\",\"SMR\",\"SOM\",\"STP\",\"SUR\",\"SVK\",\"SVN\",\"SWE\",\"SWZ\",\"SYC\",\"SYR\",\"TCD\",\"TGO\",\"THA\",\"TJK\",\"TKM\",\"TON\",\"TTO\",\"TUN\",\"TUR\",\"TUV\",\"TZA\",\"UGA\",\"UKR\",\"URY\",\"USA\",\"UZB\",\"VCT\",\"VEN\",\"VNM\",\"VUT\",\"WSM\",\"YEM\",\"ZAF\",\"ZMB\",\"ZWE\"],\"y\":[21832.92,580.817,2012.15,5286.68,31982.23,8554.64,4155.27,14168.26,52824.82,48154.38,4218.0,253.593,44529.39,1250.87,790.968,1998.43,9919.3,22402.0,29220.54,5912.98,6398.87,3944.94,3359.73,6783.05,15162.57,26089.28,3358.96,6780.72,489.869,43278.22,86849.47,12989.6,10483.88,2277.72,1469.91,540.534,2185.58,5335.59,1361.86,3147.69,11982.28,27053.8,22578.83,45732.8,3074.39,6903.76,60494.2,7530.19,3262.58,5520.36,3586.97,588.253,27132.32,23330.09,994.197,48981.44,4797.32,39907.14,3899.48,7421.18,40406.28,4247.94,2222.91,1106.47,790.829,789.877,6772.73,17670.29,9185.56,4288.75,7327.17,46753.46,2382.88,14072.08,1252.87,15820.1,3921.62,1964.88,83849.81,7554.77,4288.77,59633.72,43688.58,31288.02,5095.64,4259.26,40146.07,8732.64,2039.05,1146.39,1655.39,1687.51,14918.75,31496.77,22105.09,2625.53,2802.14,646.27,3280.83,9351.36,3678.73,1002.98,19916.5,116921.11,17559.86,36350.16,3158.32,4365.85,501.756,9934.09,8421.19,4240.1,5918.11,897.287,28293.63,1527.44,3916.09,449.63,1971.45,8993.48,406.65,10269.86,4175.18,565.867,2083.16,1869.71,52247.54,67176.43,1195.59,8866.87,41127.16,14215.58,1260.01,12373.05,6083.87,3330.36,14411.66,2684.77,15653.56,30317.39,22488.62,4946.46,52144.16,10037.24,818.99,20178.23,775.043,1459.51,58902.22,2392.24,526.514,3794.31,44818.19,326.982,1918.01,3988.45,19071.2,25210.72,51796.38,3504.45,11638.72,null,653.98,904.675,7190.37,843.974,7967.3,5125.12,15384.13,3322.93,8548.18,4372.4,1090.39,912.442,3653.11,15777.96,63415.99,1701.94,7121.64,1690.66,3498.98,2875.95,3960.61,620.24,5067.15,981.311,1385.04],\"type\":\"bar\",\"xaxis\":\"x2\",\"yaxis\":\"y2\"}],                        {\"template\":{\"data\":{\"histogram2dcontour\":[{\"type\":\"histogram2dcontour\",\"colorbar\":{\"outlinewidth\":0,\"ticks\":\"\"},\"colorscale\":[[0.0,\"#0d0887\"],[0.1111111111111111,\"#46039f\"],[0.2222222222222222,\"#7201a8\"],[0.3333333333333333,\"#9c179e\"],[0.4444444444444444,\"#bd3786\"],[0.5555555555555556,\"#d8576b\"],[0.6666666666666666,\"#ed7953\"],[0.7777777777777778,\"#fb9f3a\"],[0.8888888888888888,\"#fdca26\"],[1.0,\"#f0f921\"]]}],\"choropleth\":[{\"type\":\"choropleth\",\"colorbar\":{\"outlinewidth\":0,\"ticks\":\"\"}}],\"histogram2d\":[{\"type\":\"histogram2d\",\"colorbar\":{\"outlinewidth\":0,\"ticks\":\"\"},\"colorscale\":[[0.0,\"#0d0887\"],[0.1111111111111111,\"#46039f\"],[0.2222222222222222,\"#7201a8\"],[0.3333333333333333,\"#9c179e\"],[0.4444444444444444,\"#bd3786\"],[0.5555555555555556,\"#d8576b\"],[0.6666666666666666,\"#ed7953\"],[0.7777777777777778,\"#fb9f3a\"],[0.8888888888888888,\"#fdca26\"],[1.0,\"#f0f921\"]]}],\"heatmap\":[{\"type\":\"heatmap\",\"colorbar\":{\"outlinewidth\":0,\"ticks\":\"\"},\"colorscale\":[[0.0,\"#0d0887\"],[0.1111111111111111,\"#46039f\"],[0.2222222222222222,\"#7201a8\"],[0.3333333333333333,\"#9c179e\"],[0.4444444444444444,\"#bd3786\"],[0.5555555555555556,\"#d8576b\"],[0.6666666666666666,\"#ed7953\"],[0.7777777777777778,\"#fb9f3a\"],[0.8888888888888888,\"#fdca26\"],[1.0,\"#f0f921\"]]}],\"heatmapgl\":[{\"type\":\"heatmapgl\",\"colorbar\":{\"outlinewidth\":0,\"ticks\":\"\"},\"colorscale\":[[0.0,\"#0d0887\"],[0.1111111111111111,\"#46039f\"],[0.2222222222222222,\"#7201a8\"],[0.3333333333333333,\"#9c179e\"],[0.4444444444444444,\"#bd3786\"],[0.5555555555555556,\"#d8576b\"],[0.6666666666666666,\"#ed7953\"],[0.7777777777777778,\"#fb9f3a\"],[0.8888888888888888,\"#fdca26\"],[1.0,\"#f0f921\"]]}],\"contourcarpet\":[{\"type\":\"contourcarpet\",\"colorbar\":{\"outlinewidth\":0,\"ticks\":\"\"}}],\"contour\":[{\"type\":\"contour\",\"colorbar\":{\"outlinewidth\":0,\"ticks\":\"\"},\"colorscale\":[[0.0,\"#0d0887\"],[0.1111111111111111,\"#46039f\"],[0.2222222222222222,\"#7201a8\"],[0.3333333333333333,\"#9c179e\"],[0.4444444444444444,\"#bd3786\"],[0.5555555555555556,\"#d8576b\"],[0.6666666666666666,\"#ed7953\"],[0.7777777777777778,\"#fb9f3a\"],[0.8888888888888888,\"#fdca26\"],[1.0,\"#f0f921\"]]}],\"surface\":[{\"type\":\"surface\",\"colorbar\":{\"outlinewidth\":0,\"ticks\":\"\"},\"colorscale\":[[0.0,\"#0d0887\"],[0.1111111111111111,\"#46039f\"],[0.2222222222222222,\"#7201a8\"],[0.3333333333333333,\"#9c179e\"],[0.4444444444444444,\"#bd3786\"],[0.5555555555555556,\"#d8576b\"],[0.6666666666666666,\"#ed7953\"],[0.7777777777777778,\"#fb9f3a\"],[0.8888888888888888,\"#fdca26\"],[1.0,\"#f0f921\"]]}],\"mesh3d\":[{\"type\":\"mesh3d\",\"colorbar\":{\"outlinewidth\":0,\"ticks\":\"\"}}],\"scatter\":[{\"fillpattern\":{\"fillmode\":\"overlay\",\"size\":10,\"solidity\":0.2},\"type\":\"scatter\"}],\"parcoords\":[{\"type\":\"parcoords\",\"line\":{\"colorbar\":{\"outlinewidth\":0,\"ticks\":\"\"}}}],\"scatterpolargl\":[{\"type\":\"scatterpolargl\",\"marker\":{\"colorbar\":{\"outlinewidth\":0,\"ticks\":\"\"}}}],\"bar\":[{\"error_x\":{\"color\":\"#2a3f5f\"},\"error_y\":{\"color\":\"#2a3f5f\"},\"marker\":{\"line\":{\"color\":\"#E5ECF6\",\"width\":0.5},\"pattern\":{\"fillmode\":\"overlay\",\"size\":10,\"solidity\":0.2}},\"type\":\"bar\"}],\"scattergeo\":[{\"type\":\"scattergeo\",\"marker\":{\"colorbar\":{\"outlinewidth\":0,\"ticks\":\"\"}}}],\"scatterpolar\":[{\"type\":\"scatterpolar\",\"marker\":{\"colorbar\":{\"outlinewidth\":0,\"ticks\":\"\"}}}],\"histogram\":[{\"marker\":{\"pattern\":{\"fillmode\":\"overlay\",\"size\":10,\"solidity\":0.2}},\"type\":\"histogram\"}],\"scattergl\":[{\"type\":\"scattergl\",\"marker\":{\"colorbar\":{\"outlinewidth\":0,\"ticks\":\"\"}}}],\"scatter3d\":[{\"type\":\"scatter3d\",\"line\":{\"colorbar\":{\"outlinewidth\":0,\"ticks\":\"\"}},\"marker\":{\"colorbar\":{\"outlinewidth\":0,\"ticks\":\"\"}}}],\"scattermapbox\":[{\"type\":\"scattermapbox\",\"marker\":{\"colorbar\":{\"outlinewidth\":0,\"ticks\":\"\"}}}],\"scatterternary\":[{\"type\":\"scatterternary\",\"marker\":{\"colorbar\":{\"outlinewidth\":0,\"ticks\":\"\"}}}],\"scattercarpet\":[{\"type\":\"scattercarpet\",\"marker\":{\"colorbar\":{\"outlinewidth\":0,\"ticks\":\"\"}}}],\"carpet\":[{\"aaxis\":{\"endlinecolor\":\"#2a3f5f\",\"gridcolor\":\"white\",\"linecolor\":\"white\",\"minorgridcolor\":\"white\",\"startlinecolor\":\"#2a3f5f\"},\"baxis\":{\"endlinecolor\":\"#2a3f5f\",\"gridcolor\":\"white\",\"linecolor\":\"white\",\"minorgridcolor\":\"white\",\"startlinecolor\":\"#2a3f5f\"},\"type\":\"carpet\"}],\"table\":[{\"cells\":{\"fill\":{\"color\":\"#EBF0F8\"},\"line\":{\"color\":\"white\"}},\"header\":{\"fill\":{\"color\":\"#C8D4E3\"},\"line\":{\"color\":\"white\"}},\"type\":\"table\"}],\"barpolar\":[{\"marker\":{\"line\":{\"color\":\"#E5ECF6\",\"width\":0.5},\"pattern\":{\"fillmode\":\"overlay\",\"size\":10,\"solidity\":0.2}},\"type\":\"barpolar\"}],\"pie\":[{\"automargin\":true,\"type\":\"pie\"}]},\"layout\":{\"autotypenumbers\":\"strict\",\"colorway\":[\"#636efa\",\"#EF553B\",\"#00cc96\",\"#ab63fa\",\"#FFA15A\",\"#19d3f3\",\"#FF6692\",\"#B6E880\",\"#FF97FF\",\"#FECB52\"],\"font\":{\"color\":\"#2a3f5f\"},\"hovermode\":\"closest\",\"hoverlabel\":{\"align\":\"left\"},\"paper_bgcolor\":\"white\",\"plot_bgcolor\":\"#E5ECF6\",\"polar\":{\"bgcolor\":\"#E5ECF6\",\"angularaxis\":{\"gridcolor\":\"white\",\"linecolor\":\"white\",\"ticks\":\"\"},\"radialaxis\":{\"gridcolor\":\"white\",\"linecolor\":\"white\",\"ticks\":\"\"}},\"ternary\":{\"bgcolor\":\"#E5ECF6\",\"aaxis\":{\"gridcolor\":\"white\",\"linecolor\":\"white\",\"ticks\":\"\"},\"baxis\":{\"gridcolor\":\"white\",\"linecolor\":\"white\",\"ticks\":\"\"},\"caxis\":{\"gridcolor\":\"white\",\"linecolor\":\"white\",\"ticks\":\"\"}},\"coloraxis\":{\"colorbar\":{\"outlinewidth\":0,\"ticks\":\"\"}},\"colorscale\":{\"sequential\":[[0.0,\"#0d0887\"],[0.1111111111111111,\"#46039f\"],[0.2222222222222222,\"#7201a8\"],[0.3333333333333333,\"#9c179e\"],[0.4444444444444444,\"#bd3786\"],[0.5555555555555556,\"#d8576b\"],[0.6666666666666666,\"#ed7953\"],[0.7777777777777778,\"#fb9f3a\"],[0.8888888888888888,\"#fdca26\"],[1.0,\"#f0f921\"]],\"sequentialminus\":[[0.0,\"#0d0887\"],[0.1111111111111111,\"#46039f\"],[0.2222222222222222,\"#7201a8\"],[0.3333333333333333,\"#9c179e\"],[0.4444444444444444,\"#bd3786\"],[0.5555555555555556,\"#d8576b\"],[0.6666666666666666,\"#ed7953\"],[0.7777777777777778,\"#fb9f3a\"],[0.8888888888888888,\"#fdca26\"],[1.0,\"#f0f921\"]],\"diverging\":[[0,\"#8e0152\"],[0.1,\"#c51b7d\"],[0.2,\"#de77ae\"],[0.3,\"#f1b6da\"],[0.4,\"#fde0ef\"],[0.5,\"#f7f7f7\"],[0.6,\"#e6f5d0\"],[0.7,\"#b8e186\"],[0.8,\"#7fbc41\"],[0.9,\"#4d9221\"],[1,\"#276419\"]]},\"xaxis\":{\"gridcolor\":\"white\",\"linecolor\":\"white\",\"ticks\":\"\",\"title\":{\"standoff\":15},\"zerolinecolor\":\"white\",\"automargin\":true,\"zerolinewidth\":2},\"yaxis\":{\"gridcolor\":\"white\",\"linecolor\":\"white\",\"ticks\":\"\",\"title\":{\"standoff\":15},\"zerolinecolor\":\"white\",\"automargin\":true,\"zerolinewidth\":2},\"scene\":{\"xaxis\":{\"backgroundcolor\":\"#E5ECF6\",\"gridcolor\":\"white\",\"linecolor\":\"white\",\"showbackground\":true,\"ticks\":\"\",\"zerolinecolor\":\"white\",\"gridwidth\":2},\"yaxis\":{\"backgroundcolor\":\"#E5ECF6\",\"gridcolor\":\"white\",\"linecolor\":\"white\",\"showbackground\":true,\"ticks\":\"\",\"zerolinecolor\":\"white\",\"gridwidth\":2},\"zaxis\":{\"backgroundcolor\":\"#E5ECF6\",\"gridcolor\":\"white\",\"linecolor\":\"white\",\"showbackground\":true,\"ticks\":\"\",\"zerolinecolor\":\"white\",\"gridwidth\":2}},\"shapedefaults\":{\"line\":{\"color\":\"#2a3f5f\"}},\"annotationdefaults\":{\"arrowcolor\":\"#2a3f5f\",\"arrowhead\":0,\"arrowwidth\":1},\"geo\":{\"bgcolor\":\"white\",\"landcolor\":\"#E5ECF6\",\"subunitcolor\":\"white\",\"showland\":true,\"showlakes\":true,\"lakecolor\":\"white\"},\"title\":{\"x\":0.05},\"mapbox\":{\"style\":\"light\"}}},\"xaxis\":{\"anchor\":\"y\",\"domain\":[0.0,0.45]},\"yaxis\":{\"anchor\":\"x\",\"domain\":[0.0,1.0]},\"xaxis2\":{\"anchor\":\"y2\",\"domain\":[0.55,1.0]},\"yaxis2\":{\"anchor\":\"x2\",\"domain\":[0.0,1.0]},\"annotations\":[{\"font\":{\"size\":16},\"showarrow\":false,\"text\":\"GDP Per Capita Over Years for Jamaica\",\"x\":0.225,\"xanchor\":\"center\",\"xref\":\"paper\",\"y\":1.0,\"yanchor\":\"bottom\",\"yref\":\"paper\"},{\"font\":{\"size\":16},\"showarrow\":false,\"text\":\"GDP Per Capita for Different Countries in 2020\",\"x\":0.775,\"xanchor\":\"center\",\"xref\":\"paper\",\"y\":1.0,\"yanchor\":\"bottom\",\"yref\":\"paper\"}],\"title\":{\"text\":\"Simple Dashboard with Multiple Charts\"},\"showlegend\":false},                        {\"responsive\": true}                    ).then(function(){\n",
       "                            \n",
       "var gd = document.getElementById('3b931831-fe35-4e55-b4c4-52350bbf58e3');\n",
       "var x = new MutationObserver(function (mutations, observer) {{\n",
       "        var display = window.getComputedStyle(gd).display;\n",
       "        if (!display || display === 'none') {{\n",
       "            console.log([gd, 'removed!']);\n",
       "            Plotly.purge(gd);\n",
       "            observer.disconnect();\n",
       "        }}\n",
       "}});\n",
       "\n",
       "// Listen for the removal of the full notebook cells\n",
       "var notebookContainer = gd.closest('#notebook-container');\n",
       "if (notebookContainer) {{\n",
       "    x.observe(notebookContainer, {childList: true});\n",
       "}}\n",
       "\n",
       "// Listen for the clearing of the current output cell\n",
       "var outputEl = gd.closest('.output');\n",
       "if (outputEl) {{\n",
       "    x.observe(outputEl, {childList: true});\n",
       "}}\n",
       "\n",
       "                        })                };                });            </script>        </div>"
      ]
     },
     "metadata": {},
     "output_type": "display_data"
    }
   ],
   "source": [
    "# Filter data for the year 2020\n",
    "data_2020 = economies[economies['year'] == 2020]\n",
    "\n",
    "# Create a subplot figure with 1 row and 2 columns\n",
    "fig = make_subplots(rows=1, cols=2,\n",
    "                    subplot_titles=('GDP Per Capita Over Years for Jamaica',\n",
    "                                    'GDP Per Capita for Different Countries in 2020'))\n",
    "\n",
    "# Line chart of GDP Per Capita for Jamaica\n",
    "jam_data = economies[economies['code'] == 'JAM']\n",
    "line_chart = go.Scatter(x=jam_data['year'], y=jam_data['gdp_percapita'],\n",
    "                        mode='lines+markers', name = \"Jamaica\")\n",
    "fig.add_trace(line_chart, row=1, col=1)\n",
    "\n",
    "# Bar chart of GDP Per Capita for different countries in 2020\n",
    "bar_chart = go.Bar(x=data_2020['code'], y=data_2020['gdp_percapita'],\n",
    "                   name='2020')\n",
    "fig.add_trace(bar_chart, row=1, col=2)\n",
    "\n",
    "# Update layout\n",
    "fig.update_layout(title_text=\"Simple Dashboard with Multiple Charts\", showlegend=False)\n",
    "fig.show()"
   ]
  },
  {
   "cell_type": "markdown",
   "metadata": {},
   "source": [
    "## Exercise #7: Interactive Charts and Dashboards with Plotly\n",
    "\n",
    "By completing this exercise, you will be able to use `plotly` to  \n",
    "- Create a basic interactive chart  \n",
    "- Add interactive elements: hover, zoom, and selection tools  \n",
    "- Design a simple dashboard with multiple charts  \n",
    "\n",
    "### Basic Interactive Chart"
   ]
  },
  {
   "cell_type": "code",
   "execution_count": null,
   "metadata": {},
   "outputs": [],
   "source": [
    "# Filter data for a specific country (Brazil)\n",
    "\n",
    "# Create an interactive line chart (Fertility Rate Over Years)\n"
   ]
  },
  {
   "cell_type": "markdown",
   "metadata": {},
   "source": [
    "### Adding Interactive Elements"
   ]
  },
  {
   "cell_type": "code",
   "execution_count": null,
   "metadata": {},
   "outputs": [],
   "source": [
    "# Create an interactive scatter plot\n",
    "\n",
    "\n",
    "\n",
    "\n",
    "# Add hover, zoom, and selection tools\n"
   ]
  },
  {
   "cell_type": "markdown",
   "metadata": {},
   "source": [
    "### Designing a Simple Dashboard"
   ]
  },
  {
   "cell_type": "code",
   "execution_count": null,
   "metadata": {},
   "outputs": [],
   "source": [
    "# Filter data for the year 2020\n",
    "\n",
    "# Create a subplot figure with 1 row and 2 columns\n",
    "\n",
    "\n",
    "\n",
    "# Line chart of Life Expectancy for Brazil\n",
    "\n",
    "\n",
    "\n",
    "\n",
    "# Bar chart of Life Expectancy for South American countries in 2020\n",
    "\n",
    "\n",
    "\n",
    "\n",
    "# Update layout to add a title and hide the legend\n"
   ]
  },
  {
   "cell_type": "markdown",
   "metadata": {},
   "source": [
    "## Walkthrough #8: Creating a Dynamic Data Report\n",
    "\n",
    "### Selecting relevant data"
   ]
  },
  {
   "cell_type": "code",
   "execution_count": null,
   "metadata": {},
   "outputs": [],
   "source": [
    "# Select relevant data for the year 2020 and specific columns\n",
    "selected_data = economies[economies['year'] == 2020][['code', 'gdp_percapita', 'gross_savings', 'inflation_rate', 'income_group']]\n",
    "selected_data.head()"
   ]
  },
  {
   "cell_type": "markdown",
   "metadata": {},
   "source": [
    "### Building a dynamic report"
   ]
  },
  {
   "cell_type": "code",
   "execution_count": null,
   "metadata": {},
   "outputs": [],
   "source": [
    "# Create a subplot figure with 3 rows\n",
    "fig = make_subplots(rows=3, cols=1, \n",
    "                    subplot_titles=('GDP Per Capita vs. Gross Savings', \n",
    "                                    'GDP Per Capita by Country and Income Group', \n",
    "                                    'Gross Savings by Country and Income Group'))\n",
    "\n",
    "# Add scatter plot\n",
    "fig.add_trace(go.Scatter(x=selected_data['gdp_percapita'], y=selected_data['gross_savings'], \n",
    "                         mode='markers', \n",
    "                         marker=dict(color=selected_data['income_group'].astype('category').cat.codes), \n",
    "                         text=selected_data['code'], name='Scatter'), \n",
    "              row=1, col=1)\n",
    "\n",
    "# Add bar chart\n",
    "fig.add_trace(go.Bar(x=selected_data['code'], y=selected_data['gdp_percapita'], \n",
    "                     marker=dict(color=selected_data['income_group'].astype('category').cat.codes), name='Bar'), \n",
    "              row=2, col=1)\n",
    "\n",
    "# Add another scatter plot\n",
    "fig.add_trace(go.Scatter(x=selected_data['code'], y=selected_data['gross_savings'], \n",
    "                         mode='markers', \n",
    "                         marker=dict(color=selected_data['income_group'].astype('category').cat.codes), text=selected_data['code'], name='Scatter'), \n",
    "              row=3, col=1)\n",
    "\n",
    "# Update layout\n",
    "fig.update_layout(title_text='Dynamic Data Report for Economic Indicators (2020)', showlegend=False, height=900)\n",
    "\n",
    "fig.show()"
   ]
  },
  {
   "cell_type": "markdown",
   "metadata": {},
   "source": [
    "### Adding contextual text and summaries"
   ]
  },
  {
   "cell_type": "code",
   "execution_count": null,
   "metadata": {},
   "outputs": [],
   "source": [
    "import plotly.io as pio\n",
    "import plotly.graph_objects as go\n",
    "\n",
    "# Create a subplot figure with 3 rows\n",
    "fig = make_subplots(rows=3, cols=1, \n",
    "                    subplot_titles=('GDP Per Capita vs. Gross Savings', \n",
    "                                    'GDP Per Capita by Country and Income Group', \n",
    "                                    'Gross Savings by Country and Income Group'))\n",
    "\n",
    "# Add scatter plot\n",
    "fig.add_trace(go.Scatter(x=selected_data['gdp_percapita'], y=selected_data['gross_savings'], \n",
    "                         mode='markers', \n",
    "                         marker=dict(color=selected_data['income_group'].astype('category').cat.codes), \n",
    "                         text=selected_data['code'], name='Scatter'), \n",
    "              row=1, col=1)\n",
    "\n",
    "# Add bar chart\n",
    "fig.add_trace(go.Bar(x=selected_data['code'], y=selected_data['gdp_percapita'], \n",
    "                     marker=dict(color=selected_data['income_group'].astype('category').cat.codes), name='Bar'), \n",
    "              row=2, col=1)\n",
    "\n",
    "# Add another scatter plot\n",
    "fig.add_trace(go.Scatter(x=selected_data['code'], y=selected_data['gross_savings'], \n",
    "                         mode='markers', \n",
    "                         marker=dict(color=selected_data['income_group'].astype('category').cat.codes), \n",
    "                         text=selected_data['code'], name='Scatter'), \n",
    "              row=3, col=1)\n",
    "\n",
    "# Update layout\n",
    "fig.update_layout(\n",
    "    title_text='Dynamic Data Report for Economic Indicators (2020)', \n",
    "    showlegend=False, \n",
    "    height=900,\n",
    "    annotations=[\n",
    "        go.layout.Annotation(\n",
    "            text='''This report presents key economic indicators for various countries in 2020, categorized by income group. ''', \n",
    "            xref='paper', yref='paper', x=0.5, y=1, showarrow=False, font=dict(size=14)\n",
    "        )\n",
    "    ]\n",
    ")\n",
    "\n",
    "# Add summaries below each subplot\n",
    "fig.add_annotation(text='The scatter plot reveals a positive correlation between GDP per Capita and Gross Savings, especially for high-income countries.', xref='paper', yref='paper', x=0, y=0.75, showarrow=False, font=dict(size=12))\n",
    "fig.add_annotation(text='The bar chart shows that high-income countries generally have higher GDP per Capita compared to low-income countries.', xref='paper', yref='paper', x=0, y=0.30, showarrow=False, font=dict(size=12))\n",
    "fig.add_annotation(text='The scatter plot indicates no clear relationship between income group and gross savings.', xref='paper', yref='paper', x=0, y=-0.1, showarrow=False, font=dict(size=12))\n",
    "\n",
    "fig.show()"
   ]
  },
  {
   "cell_type": "markdown",
   "metadata": {},
   "source": [
    "## Exercise #8: Creating a Dynamic Data Report\n",
    "\n",
    "By completing this exercise, you will be able to use `pandas` and `plotly` to  \n",
    "- Select relevant data  \n",
    "- Build a dynamic report  \n",
    "- Add contextual text and summaries  \n",
    "\n",
    "### Selecting Relevant Data"
   ]
  },
  {
   "cell_type": "code",
   "execution_count": null,
   "metadata": {},
   "outputs": [],
   "source": [
    "# Select relevant data for the year 2020 and specific columns (country_code, fertility_rate, life_expectancy, continent)\n"
   ]
  },
  {
   "cell_type": "markdown",
   "metadata": {},
   "source": [
    "### Building a Dynamic Report"
   ]
  },
  {
   "cell_type": "code",
   "execution_count": null,
   "metadata": {},
   "outputs": [],
   "source": [
    "import plotly.express as px\n",
    "import plotly.graph_objects as go\n",
    "from plotly.subplots import make_subplots\n",
    "\n",
    "# Create a subplot figure with 3 rows and subplot titles\n",
    "\n",
    "\n",
    "\n",
    "\n",
    "\n",
    "# Adding a scatter plot trace to the figure\n",
    "# - x-axis: 'fertility_rate' from the selected population data\n",
    "# - y-axis: 'life_expectancy' from the selected population data\n",
    "# - mode: 'markers' to display points\n",
    "# - marker color: based on the 'continent' category codes, to differentiate points by continent\n",
    "# - text: 'country_code' to show country codes on hover\n",
    "# - name: 'Scatter' to label this trace\n",
    "# The trace is added to the first row and first column of the subplot grid\n",
    "\n",
    "\n",
    "\n",
    "\n",
    "\n",
    "# Adding a bar chart trace to the figure\n",
    "# - x-axis: 'country_code' from the selected population data\n",
    "# - y-axis: 'fertility_rate' from the selected population data\n",
    "# - marker color: based on the 'continent' category codes, to differentiate bars by continent\n",
    "# - name: 'Bar' to label this trace\n",
    "# The trace is added to the second row and first column of the subplot grid\n",
    "\n",
    "\n",
    "\n",
    "\n",
    "\n",
    "# Adding a scatter plot trace to the figure\n",
    "# - x-axis: 'country_code' from the selected population data\n",
    "# - y-axis: 'life_expectancy' from the selected population data\n",
    "# - mode: 'markers' to display points\n",
    "# - marker color: based on the 'continent' category codes, to differentiate points by continent\n",
    "# - name: 'Scatter' to label this trace\n",
    "# The trace is added to the third row and first column of the subplot grid\n",
    "\n",
    "\n",
    "\n",
    "\n",
    "\n",
    "# Update layout to include title, hide legend, and set height to 900\n"
   ]
  },
  {
   "cell_type": "markdown",
   "metadata": {},
   "source": [
    "### Adding Contextual Text and Summaries"
   ]
  },
  {
   "cell_type": "code",
   "execution_count": null,
   "metadata": {},
   "outputs": [],
   "source": [
    "# Copy over plot creation code from previous\n",
    "\n",
    "# Updating the layout of the figure\n",
    "# - Setting the title text of the entire figure\n",
    "# - Disabling the legend display\n",
    "# - Setting the height of the figure to 900 pixels\n",
    "# - Adding an annotation to provide additional information about the report\n",
    "#   - Annotation text: A brief description of the report content\n",
    "#   - xref and yref: Setting the reference frame to 'paper' coordinates (relative to the entire figure)\n",
    "#   - x and y: Positioning the annotation at the center top of the figure\n",
    "#   - showarrow: Disabling the arrow for the annotation\n",
    "#   - font: Setting the font size of the annotation text\n",
    "\n",
    "\n",
    "\n",
    "\n",
    "# Add summaries below each subplot\n",
    "# Add summaries below each subplot\n",
    "fig.add_annotation(text='A negative correlation between Fertility Rate and Life Expectancy.', xref='paper', yref='paper', x=0, y=0.75, showarrow=False, font=dict(size=12))\n",
    "fig.add_annotation(text='Fertility rates vary significantly across countries, with African countries generally exhibiting higher fertility rates.', xref='paper', yref='paper', x=0, y=0.30, showarrow=False, font=dict(size=12))\n",
    "fig.add_annotation(text='Life expectancy varies across countries and continents, with European tending to have higher life expectancies.', xref='paper', yref='paper', x=0, y=-0.1, showarrow=False, font=dict(size=12))\n",
    "\n",
    "fig.show()"
   ]
  },
  {
   "cell_type": "raw",
   "metadata": {},
   "source": [
    "---"
   ]
  },
  {
   "cell_type": "markdown",
   "metadata": {},
   "source": [
    "# Module 4: Real-World Data Analysis Project\n",
    "\n",
    "## Walkthrough #9: Interactive Charts and Dashboards with Plotly\n",
    "\n",
    "### Selecting a Dataset\n",
    "\n",
    "#### Questions to Ask:\n",
    "1. **What industry problem or area of interest does the dataset align with?**\n",
    "   - Is the dataset relevant to economic analysis, market research, policy planning, or another industry?\n",
    "2. **Does the dataset provide sufficient complexity and scope for a thorough analysis?**\n",
    "   - Does it include multiple variables and data points across different time periods and categories (e.g., income groups, countries)?\n",
    "3. **What specific questions or hypotheses do we want to explore with this dataset?**\n",
    "   - Are we interested in comparing economic indicators across countries, understanding the impact of GDP per capita on other variables, or identifying trends over time?\n",
    "\n",
    "#### Example:\n",
    "- **Dataset**: The `economies` dataset.\n",
    "- **Industry Problem**: Understanding economic disparities between countries and the impact of economic indicators on overall economic health.\n",
    "- **Specific Questions**:\n",
    "  - How do GDP per capita and gross savings vary across different income groups?\n",
    "  - How has the inflation rate changed over time for specified income groups?\n",
    "\n",
    "### Applying Cleaning, Transforming, and Analysis Techniques\n",
    "\n",
    "#### Questions to Ask:\n",
    "1. **What cleaning steps are necessary to prepare the data for analysis?**\n",
    "   - Are there any missing values that need to be handled? Are there any inconsistencies in data types?\n",
    "2. **What transformations are required to make the data analysis-ready?**\n",
    "   - Do we need to create new columns, filter specific rows, or aggregate data by certain categories?\n",
    "3. **How can we analyze the data to uncover patterns, trends, or anomalies?**\n",
    "   - What statistical methods or visualizations can we use to explore relationships between variables?\n",
    "\n",
    "#### Example:\n",
    "- **Cleaning**:"
   ]
  },
  {
   "cell_type": "code",
   "execution_count": null,
   "metadata": {},
   "outputs": [],
   "source": [
    "  # Handle missing values\n",
    "  economies_cleaned = economies.fillna({\n",
    "      'gdp_percapita': economies['gdp_percapita'].mean(),\n",
    "      'gross_savings': economies['gross_savings'].mean(),\n",
    "      'inflation_rate': economies['inflation_rate'].mean(),\n",
    "      'total_investment': economies['total_investment'].mean(),\n",
    "      'unemployment_rate': economies['unemployment_rate'].mean(),\n",
    "      'exports': economies['exports'].mean(),\n",
    "      'imports': economies['imports'].mean()\n",
    "  })\n",
    "\n",
    "  # Convert categorical variables to category type\n",
    "  economies_cleaned['income_group'] = economies_cleaned['income_group'].astype('category')\n",
    "  economies_cleaned"
   ]
  },
  {
   "cell_type": "markdown",
   "metadata": {},
   "source": [
    "- **Transforming**:\n"
   ]
  },
  {
   "cell_type": "code",
   "execution_count": null,
   "metadata": {},
   "outputs": [],
   "source": [
    "  # Create new columns for analysis\n",
    "  economies_cleaned['gdp_growth'] = economies_cleaned.groupby('code')['gdp_percapita'].pct_change()\n",
    "  economies_cleaned"
   ]
  },
  {
   "cell_type": "markdown",
   "metadata": {},
   "source": [
    "- **Analyzing**:"
   ]
  },
  {
   "cell_type": "code",
   "execution_count": null,
   "metadata": {},
   "outputs": [],
   "source": [
    "  import seaborn as sns\n",
    "  import matplotlib.pyplot as plt\n",
    "\n",
    "  plt.clf()\n",
    "\n",
    "  # Analyze the relationship between GDP per capita and gross savings\n",
    "  sns.scatterplot(data=economies_cleaned, x='gdp_percapita', y='gross_savings', hue='income_group')\n",
    "  plt.title('GDP Per Capita vs. Gross Savings by Income Group')\n",
    "  plt.show()\n",
    "  plt.clf()\n",
    "\n",
    "  # Analyze the trend of inflation rate over time for all classified income groups\n",
    "  classified_data = economies_cleaned[economies_cleaned['income_group'] != 'Not classified']\n",
    "  sns.lineplot(data=classified_data, x='year', y='inflation_rate', \n",
    "               hue='income_group', errorbar=None)\n",
    "  plt.title('Inflation Rate Over Time by Specified Income Group')\n",
    "  plt.legend(title='Income Group', labels=classified_data['income_group'].unique())\n",
    "  plt.show()"
   ]
  },
  {
   "cell_type": "markdown",
   "metadata": {},
   "source": [
    "### Initial Findings and Interpretation\n",
    "\n",
    "#### Questions to Ask:\n",
    "1. **What do the initial findings tell us about the data?**\n",
    "   - Are there any notable patterns or trends in the data? Are there any unexpected results?\n",
    "2. **How do these insights relate to the problem defined earlier?**\n",
    "   - Do the findings help us understand economic disparities between countries? Do they provide insights into the impact of certain economic indicators?\n",
    "3. **What hypotheses can we test based on the initial results?**\n",
    "   - Can we test hypotheses about the relationship between GDP per capita and other economic indicators? Can we refine our analysis to explore these hypotheses further?\n",
    "\n",
    "#### Example:\n",
    "- **Initial Findings**:\n",
    "  - **GDP per Capita vs. Gross Savings**: The scatter plot shows that high-income countries generally have higher GDP per capita and gross savings. There seems to be a slight positive correlation between these two indicators.\n",
    "  - **Inflation Rate Over Time**: The line plot indicates that inflation rates vary significantly over time and across different income groups. Low and lower middle income countries tend to experience higher volatility in inflation rates.\n",
    "\n",
    "- **Interpretation**:\n",
    "  - These findings suggest that economic health, as measured by GDP per capita and gross savings, is strongly influenced by the income group of a country. High-income countries appear to have more stable and higher economic performance.\n",
    "  - The volatility in inflation rates among low-income countries may indicate economic instability, which could be a key area for policy intervention.\n",
    "\n",
    "- **Hypotheses**:\n",
    "  - **Hypothesis 1**: High-income countries have a higher average GDP per capita and gross savings compared to low-income countries.\n",
    "  - **Hypothesis 2**: Low-income countries experience greater volatility in inflation rates compared to high-income countries.\n",
    "\n",
    "- **Next Steps**:\n",
    "  - Conduct further analysis to test these hypotheses, using statistical methods to confirm the observed patterns.\n",
    "  - Explore other economic indicators to gain a more comprehensive understanding of economic disparities and trends.\n",
    "\n",
    "By following these steps, you can effectively select, clean, transform, and analyze the `economies` dataset to gain valuable insights and address common industry problems or research questions.\n",
    "\n",
    "\n",
    "## Walkthrough #10: Finalizing and Presenting Your Data Analysis Project\n",
    "\n",
    "### Integrate Feedback to Refine the Analysis\n",
    "\n",
    "#### Questions to Ask:\n",
    "1. **What feedback have you received from peers, stakeholders, or mentors?**\n",
    "   - Is there feedback on the clarity of the analysis, choice of visualizations, or the comprehensiveness of the analysis?\n",
    "2. **How can you incorporate this feedback into your analysis?**\n",
    "   - Are there additional variables that need to be analyzed? Do you need to clean the data further or adjust the visualizations?\n",
    "3. **What new questions or hypotheses have emerged from the feedback?**\n",
    "   - Does the feedback suggest new directions for the analysis or areas that need more focus?\n",
    "\n",
    "#### Example:\n",
    "- **Feedback**:\n",
    "  - Peers suggested that the analysis should also consider the impact of unemployment rates.\n",
    "  - Stakeholders requested more clarity on the relationship between GDP per capita and inflation rates across different income groups.\n",
    "\n",
    "- **Refining the Analysis**:\n",
    "  - Additional data needs to be found to meet the request for more clarity. Or maybe a further drilldown on specific countries would be helpful?\n",
    "  \n",
    "### Finalize the Presentation with Impactful Visuals and Narrative\n",
    "\n",
    "#### Questions to Ask:\n",
    "1. **What are the key insights from the analysis that need to be highlighted?**\n",
    "   - What are the most important findings that should be communicated to the audience?\n",
    "2. **How can you create impactful visuals that clearly convey these insights?**\n",
    "   - What types of charts or visualizations best represent the data and findings?\n",
    "3. **What narrative will you use to guide the audience through the presentation?**\n",
    "   - How will you structure the presentation to tell a compelling story with the data?\n",
    "\n",
    "#### Example:\n",
    "- **Key Insights**:\n",
    "  - High-income countries have higher GDP per capita and gross savings.\n",
    "  - There is a positive correlation between GDP per capita and gross savings.\n",
    "  - Low-income countries experience greater volatility in inflation rates.\n",
    "  - Unemployment rates vary significantly across income groups.\n",
    "\n",
    "- **Impactful Visuals**:"
   ]
  },
  {
   "cell_type": "code",
   "execution_count": null,
   "metadata": {},
   "outputs": [],
   "source": [
    "  import plotly.express as px\n",
    "\n",
    "  # Bar chart of GDP per Capita by Country and Income Group\n",
    "  bar_fig = px.bar(economies_cleaned, x='code', y='gdp_percapita', color='income_group',\n",
    "                   title='GDP Per Capita by Country and Income Group (2020)',\n",
    "                   labels={'gdp_percapita': 'GDP Per Capita', 'code': 'Country Code'})\n",
    "  bar_fig.show()\n",
    "\n",
    "  # Scatter plot of GDP per Capita vs. Gross Savings by Income Group\n",
    "  scatter_fig = px.scatter(economies_cleaned, x='gdp_percapita', y='gross_savings', color='income_group',\n",
    "                           hover_name='code', title='GDP Per Capita vs. Gross Savings (2020)',\n",
    "                           labels={'gdp_percapita': 'GDP Per Capita', 'gross_savings': 'Gross Savings (%)'})\n",
    "  scatter_fig.show()\n",
    "\n",
    "  # Scatter plot of GDP per Capita vs. Unemployment Rate by Income Group\n",
    "  scatter_fig_2 = px.scatter(economies_cleaned, x='gdp_percapita', y='unemployment_rate', color='income_group',\n",
    "                             hover_name='code', title='GDP Per Capita vs. Unemployment Rate (2020)',\n",
    "                             labels={'gdp_percapita': 'GDP Per Capita', 'unemployment_rate': 'Unemployment Rate (%)'})\n",
    "  scatter_fig_2.show()"
   ]
  },
  {
   "cell_type": "markdown",
   "metadata": {},
   "source": [
    "- **Narrative**:\n",
    "  - **Introduction**: Introduce the dataset and the industry problem. Explain why understanding economic indicators across different income groups is important.\n",
    "  - **Key Findings**: Present the key findings using the visualizations created. Highlight the relationship between GDP per capita, gross savings, inflation rates, and unemployment rates.\n",
    "  - **Detailed Analysis**: Dive deeper into each key finding, providing more context and interpretation. Explain the significance of the trends and patterns observed in the data.\n",
    "  - **Conclusion**: Summarize the insights and discuss potential implications for policy or business decisions. Suggest areas for further research or analysis based on the findings.\n",
    "\n",
    "### Rehearse the Presentation\n",
    "\n",
    "#### Questions to Ask:\n",
    "1. **How will you structure your presentation to ensure a smooth flow?**\n",
    "   - What order will you present the visualizations and insights? How will you transition between different sections?\n",
    "2. **How will you engage your audience and ensure they understand the key points?**\n",
    "   - What techniques will you use to highlight important information and keep the audience's attention?\n",
    "3. **What potential questions or feedback might you receive, and how will you address them?**\n",
    "   - How will you prepare for questions about the data, analysis methods, or findings?\n",
    "\n",
    "#### Example:\n",
    "- **Structuring the Presentation**:\n",
    "  - Start with an overview of the dataset and the industry problem.\n",
    "  - Move on to the key findings, using the most impactful visualizations to illustrate each point.\n",
    "  - Provide a detailed analysis of each finding, explaining the significance and implications.\n",
    "  - Conclude with a summary of insights and suggestions for further research.\n",
    "\n",
    "- **Engaging the Audience**:\n",
    "  - Use clear and concise language to explain complex concepts.\n",
    "  - Highlight key points using annotations or callouts on the visualizations.\n",
    "  - Encourage questions and interaction to keep the audience engaged.\n",
    "\n",
    "- **Preparing for Questions**:\n",
    "  - Anticipate common questions about the data sources, cleaning methods, and analysis techniques.\n",
    "  - Prepare explanations for any limitations of the data or analysis.\n",
    "  - Be ready to discuss potential next steps and areas for further research based on the findings.\n",
    "\n",
    "By following these steps, you can effectively integrate feedback, finalize your presentation with impactful visuals and narrative, and rehearse to ensure a smooth and engaging delivery.\n"
   ]
  }
 ],
 "metadata": {
  "kernelspec": {
   "display_name": "my-python3-kernel",
   "language": "python",
   "name": "my-python3-kernel"
  },
  "language_info": {
   "codemirror_mode": {
    "name": "ipython",
    "version": 3
   },
   "file_extension": ".py",
   "mimetype": "text/x-python",
   "name": "python",
   "nbconvert_exporter": "python",
   "pygments_lexer": "ipython3",
   "version": "3.12.3"
  }
 },
 "nbformat": 4,
 "nbformat_minor": 4
}
